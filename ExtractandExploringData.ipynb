{
 "cells": [
  {
   "cell_type": "markdown",
   "metadata": {},
   "source": [
    "# Trending YouTubes Statistics"
   ]
  },
  {
   "cell_type": "markdown",
   "metadata": {},
   "source": [
    "## Extracting Data"
   ]
  },
  {
   "cell_type": "markdown",
   "metadata": {},
   "source": [
    "### Set up dependecies"
   ]
  },
  {
   "cell_type": "markdown",
   "metadata": {},
   "source": [
    "#### Using command for Kaggle using terminal"
   ]
  },
  {
   "cell_type": "markdown",
   "metadata": {},
   "source": [
    "For more information check documentation of Public API for How to Use Kaggle in this [link](https://www.kaggle.com/docs/api)"
   ]
  },
  {
   "cell_type": "code",
   "execution_count": 1,
   "metadata": {},
   "outputs": [
    {
     "name": "stdout",
     "output_type": "stream",
     "text": [
      "Requirement already satisfied: kaggle in /Users/luzvazgal/opt/anaconda3/lib/python3.8/site-packages (1.5.10)\n",
      "Requirement already satisfied: python-dateutil in /Users/luzvazgal/opt/anaconda3/lib/python3.8/site-packages (from kaggle) (2.8.1)\n",
      "Requirement already satisfied: python-slugify in /Users/luzvazgal/opt/anaconda3/lib/python3.8/site-packages (from kaggle) (4.0.1)\n",
      "Requirement already satisfied: requests in /Users/luzvazgal/opt/anaconda3/lib/python3.8/site-packages (from kaggle) (2.24.0)\n",
      "Requirement already satisfied: urllib3 in /Users/luzvazgal/opt/anaconda3/lib/python3.8/site-packages (from kaggle) (1.25.9)\n",
      "Requirement already satisfied: tqdm in /Users/luzvazgal/opt/anaconda3/lib/python3.8/site-packages (from kaggle) (4.47.0)\n",
      "Requirement already satisfied: certifi in /Users/luzvazgal/opt/anaconda3/lib/python3.8/site-packages (from kaggle) (2020.6.20)\n",
      "Requirement already satisfied: six>=1.10 in /Users/luzvazgal/opt/anaconda3/lib/python3.8/site-packages (from kaggle) (1.15.0)\n",
      "Requirement already satisfied: text-unidecode>=1.3 in /Users/luzvazgal/opt/anaconda3/lib/python3.8/site-packages (from python-slugify->kaggle) (1.3)\n",
      "Requirement already satisfied: chardet<4,>=3.0.2 in /Users/luzvazgal/opt/anaconda3/lib/python3.8/site-packages (from requests->kaggle) (3.0.4)\n",
      "Requirement already satisfied: idna<3,>=2.5 in /Users/luzvazgal/opt/anaconda3/lib/python3.8/site-packages (from requests->kaggle) (2.10)\n"
     ]
    }
   ],
   "source": [
    "#Set up command lines with terminal tool\n",
    "# This project need data set in Kaggle for this is necesary to install kaggle\n",
    "!pip install kaggle\n",
    "#Also refrence in:\n",
    "#https://github.com/Kaggle/kaggle-api documents and\n",
    "#and https://www.youtube.com/watch?v=gkEbaMgvLs8\n"
   ]
  },
  {
   "cell_type": "code",
   "execution_count": 2,
   "metadata": {},
   "outputs": [
    {
     "name": "stdout",
     "output_type": "stream",
     "text": [
      "cp: illegal option -- y\r\n",
      "usage: cp [-R [-H | -L | -P]] [-fi | -n] [-apvXc] source_file target_file\r\n",
      "       cp [-R [-H | -L | -P]] [-fi | -n] [-apvXc] source_file ... target_directory\r\n"
     ]
    }
   ],
   "source": [
    "# Kaggle requaries to ensure kaggle.json (API token file) is in the location ~./kaggle/kaggle.json to use the API\n",
    "#You have to create an account or and API token in your account. This will download a fresh authentication token onto you machine (kaggle.json)\n",
    "#Copy you token to downloads to the folder of kaggle (~./kaggle)\n",
    "!cp -'your path downald file kaggle.json' -'new path ~./kaggle'"
   ]
  },
  {
   "cell_type": "code",
   "execution_count": 3,
   "metadata": {},
   "outputs": [
    {
     "name": "stdout",
     "output_type": "stream",
     "text": [
      "/bin/bash: line 0: cd: new: No such file or directory\r\n"
     ]
    }
   ],
   "source": [
    "#Check file kaggle is the ~./kaggle path\n",
    "!cd {'new path ~./kaggle'} && ls"
   ]
  },
  {
   "cell_type": "markdown",
   "metadata": {},
   "source": [
    "#### Dependecies"
   ]
  },
  {
   "cell_type": "code",
   "execution_count": 4,
   "metadata": {},
   "outputs": [],
   "source": [
    "#Other dependecies\n",
    "import pandas as pd\n",
    "import os\n",
    "from os import walk\n",
    "\n"
   ]
  },
  {
   "cell_type": "code",
   "execution_count": 5,
   "metadata": {},
   "outputs": [],
   "source": [
    "#path to  download\n",
    "path_download=os.path.join('Resources')"
   ]
  },
  {
   "cell_type": "markdown",
   "metadata": {},
   "source": [
    "### Import dataset from Kaggle.com"
   ]
  },
  {
   "cell_type": "code",
   "execution_count": 6,
   "metadata": {},
   "outputs": [],
   "source": [
    "#this line use the kaggle.json of your account and aunthenticate\n",
    "from kaggle.api.kaggle_api_extended import KaggleApi\n",
    "api=KaggleApi()\n",
    "api.authenticate()"
   ]
  },
  {
   "cell_type": "code",
   "execution_count": 7,
   "metadata": {},
   "outputs": [],
   "source": [
    "# Download all files of a dataset\n",
    "# Signature: dataset_download_files(dataset, path=None, force=False, quiet=True, unzip=False)\n",
    "api.dataset_download_files('datasnaek/youtube-new', path=path_download, force=False, quiet=True, unzip=True)\n",
    "#A simple file:#Signature: dataset_download_file(dataset, file_name, path=None, force=False, quiet=True) "
   ]
  },
  {
   "cell_type": "markdown",
   "metadata": {},
   "source": [
    "### Forming Data Frames in Pandas"
   ]
  },
  {
   "cell_type": "code",
   "execution_count": 8,
   "metadata": {
    "scrolled": false
   },
   "outputs": [
    {
     "name": "stdout",
     "output_type": "stream",
     "text": [
      "['IN_category_id.json', 'MXvideos.csv', 'RU_category_id.json', 'JP_category_id.json', 'FR_category_id.json', 'INvideos.csv', 'GB_category_id.json', 'DEvideos.csv', 'JPvideos.csv', 'KR_category_id.json', 'KRvideos.csv', 'CAvideos.csv', 'MX_category_id.json', 'RUvideos.csv', 'FRvideos.csv', 'CA_category_id.json', 'US_category_id.json', 'DE_category_id.json', 'USvideos.csv', 'GBvideos.csv']\n"
     ]
    }
   ],
   "source": [
    "#files in the data set:\n",
    "files=[]\n",
    "for (dirpath, dirnames, filenames) in walk(path_download):\n",
    "    files.append(filenames)\n",
    "    print(filenames)\n",
    "\n"
   ]
  },
  {
   "cell_type": "code",
   "execution_count": 9,
   "metadata": {
    "scrolled": true
   },
   "outputs": [
    {
     "data": {
      "text/plain": [
       "20"
      ]
     },
     "execution_count": 9,
     "metadata": {},
     "output_type": "execute_result"
    }
   ],
   "source": [
    "#Number of files of data base in kaggle\n",
    "len(files[0])"
   ]
  },
  {
   "cell_type": "code",
   "execution_count": 10,
   "metadata": {
    "scrolled": false
   },
   "outputs": [
    {
     "data": {
      "text/plain": [
       "'IN_category_id.json'"
      ]
     },
     "execution_count": 10,
     "metadata": {},
     "output_type": "execute_result"
    }
   ],
   "source": [
    "#Show the first file\n",
    "files[0][0]"
   ]
  },
  {
   "cell_type": "code",
   "execution_count": 11,
   "metadata": {},
   "outputs": [
    {
     "name": "stdout",
     "output_type": "stream",
     "text": [
      "IN_category_id.json\n",
      "MXvideos.csv\n",
      "RU_category_id.json\n",
      "JP_category_id.json\n",
      "FR_category_id.json\n",
      "INvideos.csv\n",
      "GB_category_id.json\n",
      "DEvideos.csv\n",
      "JPvideos.csv\n",
      "KR_category_id.json\n",
      "KRvideos.csv\n",
      "CAvideos.csv\n",
      "MX_category_id.json\n",
      "RUvideos.csv\n",
      "FRvideos.csv\n",
      "CA_category_id.json\n",
      "US_category_id.json\n",
      "DE_category_id.json\n",
      "USvideos.csv\n",
      "GBvideos.csv\n"
     ]
    }
   ],
   "source": [
    "#Print all name files\n",
    "for file in range(len(files[0])):\n",
    "    print(files[0][file])"
   ]
  },
  {
   "cell_type": "code",
   "execution_count": 38,
   "metadata": {},
   "outputs": [
    {
     "name": "stdout",
     "output_type": "stream",
     "text": [
      "IN_category_id.json with json\n",
      "MXvideos.csv with encoding latin\n",
      "RU_category_id.json with json\n",
      "JP_category_id.json with json\n",
      "FR_category_id.json with json\n",
      "INvideos.csv with encoding utf-8\n",
      "GB_category_id.json with json\n",
      "DEvideos.csv with encoding utf-8\n",
      "JPvideos.csv with encoding latin\n",
      "KR_category_id.json with json\n",
      "KRvideos.csv with encoding latin\n",
      "CAvideos.csv with encoding utf-8\n",
      "MX_category_id.json with json\n",
      "RUvideos.csv with encoding latin\n",
      "FRvideos.csv with encoding utf-8\n",
      "CA_category_id.json with json\n",
      "US_category_id.json with json\n",
      "DE_category_id.json with json\n",
      "USvideos.csv with encoding utf-8\n",
      "GBvideos.csv with encoding utf-8\n"
     ]
    }
   ],
   "source": [
    "# read files in pandas\n",
    "files_csv=[] #Create frame for csv files\n",
    "files_json=[] #Create frame fo json files\n",
    "\n",
    "for file in range(len(files[0])):\n",
    "    file_path=f'{path_download}/{files[0][file]}'\n",
    "    try:\n",
    "        files_json.append(pd.read_json(file_path))\n",
    "        print(f'{files[0][file]} with json')\n",
    "    except:\n",
    "        try:\n",
    "            files_csv.append(pd.read_csv(file_path, encoding='utf-8-sig'))\n",
    "            print(f'{files[0][file]} with encoding utf-8')\n",
    "        except:\n",
    "            files_csv.append(pd.read_csv(file_path, encoding='latin1'))\n",
    "            print(f'{files[0][file]} with encoding latin')\n"
   ]
  },
  {
   "cell_type": "code",
   "execution_count": 39,
   "metadata": {
    "scrolled": true
   },
   "outputs": [
    {
     "name": "stdout",
     "output_type": "stream",
     "text": [
      "10\n"
     ]
    }
   ],
   "source": [
    "print(len(files_json))"
   ]
  },
  {
   "cell_type": "code",
   "execution_count": 40,
   "metadata": {
    "scrolled": false
   },
   "outputs": [
    {
     "data": {
      "text/html": [
       "<div>\n",
       "<style scoped>\n",
       "    .dataframe tbody tr th:only-of-type {\n",
       "        vertical-align: middle;\n",
       "    }\n",
       "\n",
       "    .dataframe tbody tr th {\n",
       "        vertical-align: top;\n",
       "    }\n",
       "\n",
       "    .dataframe thead th {\n",
       "        text-align: right;\n",
       "    }\n",
       "</style>\n",
       "<table border=\"1\" class=\"dataframe\">\n",
       "  <thead>\n",
       "    <tr style=\"text-align: right;\">\n",
       "      <th></th>\n",
       "      <th>kind</th>\n",
       "      <th>etag</th>\n",
       "      <th>items</th>\n",
       "    </tr>\n",
       "  </thead>\n",
       "  <tbody>\n",
       "    <tr>\n",
       "      <th>0</th>\n",
       "      <td>youtube#videoCategoryListResponse</td>\n",
       "      <td>\"XI7nbFXulYBIpL0ayR_gDh3eu1k/1v2mrzYSYG6onNLt2...</td>\n",
       "      <td>{'kind': 'youtube#videoCategory', 'etag': '\"XI...</td>\n",
       "    </tr>\n",
       "  </tbody>\n",
       "</table>\n",
       "</div>"
      ],
      "text/plain": [
       "                                kind  \\\n",
       "0  youtube#videoCategoryListResponse   \n",
       "\n",
       "                                                etag  \\\n",
       "0  \"XI7nbFXulYBIpL0ayR_gDh3eu1k/1v2mrzYSYG6onNLt2...   \n",
       "\n",
       "                                               items  \n",
       "0  {'kind': 'youtube#videoCategory', 'etag': '\"XI...  "
      ]
     },
     "execution_count": 40,
     "metadata": {},
     "output_type": "execute_result"
    }
   ],
   "source": [
    "files_json[0].head(1)"
   ]
  },
  {
   "cell_type": "code",
   "execution_count": 41,
   "metadata": {},
   "outputs": [
    {
     "name": "stdout",
     "output_type": "stream",
     "text": [
      "10\n"
     ]
    }
   ],
   "source": [
    "print(len(files_csv))"
   ]
  },
  {
   "cell_type": "code",
   "execution_count": 42,
   "metadata": {
    "scrolled": true
   },
   "outputs": [
    {
     "data": {
      "text/html": [
       "<div>\n",
       "<style scoped>\n",
       "    .dataframe tbody tr th:only-of-type {\n",
       "        vertical-align: middle;\n",
       "    }\n",
       "\n",
       "    .dataframe tbody tr th {\n",
       "        vertical-align: top;\n",
       "    }\n",
       "\n",
       "    .dataframe thead th {\n",
       "        text-align: right;\n",
       "    }\n",
       "</style>\n",
       "<table border=\"1\" class=\"dataframe\">\n",
       "  <thead>\n",
       "    <tr style=\"text-align: right;\">\n",
       "      <th></th>\n",
       "      <th>video_id</th>\n",
       "      <th>trending_date</th>\n",
       "      <th>title</th>\n",
       "      <th>channel_title</th>\n",
       "      <th>category_id</th>\n",
       "      <th>publish_time</th>\n",
       "      <th>tags</th>\n",
       "      <th>views</th>\n",
       "      <th>likes</th>\n",
       "      <th>dislikes</th>\n",
       "      <th>comment_count</th>\n",
       "      <th>thumbnail_link</th>\n",
       "      <th>comments_disabled</th>\n",
       "      <th>ratings_disabled</th>\n",
       "      <th>video_error_or_removed</th>\n",
       "      <th>description</th>\n",
       "    </tr>\n",
       "  </thead>\n",
       "  <tbody>\n",
       "    <tr>\n",
       "      <th>0</th>\n",
       "      <td>SbOwzAl9ZfQ</td>\n",
       "      <td>17.14.11</td>\n",
       "      <td>CapÃ­tulo 12 | MasterChef 2017</td>\n",
       "      <td>MasterChef 2017</td>\n",
       "      <td>24</td>\n",
       "      <td>2017-11-13T06:06:22.000Z</td>\n",
       "      <td>MasterChef Junior 2017|\"TV Azteca\"|\"recetas\"|\"...</td>\n",
       "      <td>310130</td>\n",
       "      <td>4182</td>\n",
       "      <td>361</td>\n",
       "      <td>1836</td>\n",
       "      <td>https://i.ytimg.com/vi/SbOwzAl9ZfQ/default.jpg</td>\n",
       "      <td>False</td>\n",
       "      <td>False</td>\n",
       "      <td>False</td>\n",
       "      <td>Disfruta la presencia del Chef Torreblanca en ...</td>\n",
       "    </tr>\n",
       "  </tbody>\n",
       "</table>\n",
       "</div>"
      ],
      "text/plain": [
       "      video_id trending_date                           title    channel_title  \\\n",
       "0  SbOwzAl9ZfQ      17.14.11  CapÃ­tulo 12 | MasterChef 2017  MasterChef 2017   \n",
       "\n",
       "   category_id              publish_time  \\\n",
       "0           24  2017-11-13T06:06:22.000Z   \n",
       "\n",
       "                                                tags   views  likes  dislikes  \\\n",
       "0  MasterChef Junior 2017|\"TV Azteca\"|\"recetas\"|\"...  310130   4182       361   \n",
       "\n",
       "   comment_count                                  thumbnail_link  \\\n",
       "0           1836  https://i.ytimg.com/vi/SbOwzAl9ZfQ/default.jpg   \n",
       "\n",
       "   comments_disabled  ratings_disabled  video_error_or_removed  \\\n",
       "0              False             False                   False   \n",
       "\n",
       "                                         description  \n",
       "0  Disfruta la presencia del Chef Torreblanca en ...  "
      ]
     },
     "execution_count": 42,
     "metadata": {},
     "output_type": "execute_result"
    }
   ],
   "source": [
    "files_csv[0].head(1)"
   ]
  },
  {
   "cell_type": "code",
   "execution_count": 43,
   "metadata": {
    "scrolled": false
   },
   "outputs": [
    {
     "data": {
      "text/html": [
       "<div>\n",
       "<style scoped>\n",
       "    .dataframe tbody tr th:only-of-type {\n",
       "        vertical-align: middle;\n",
       "    }\n",
       "\n",
       "    .dataframe tbody tr th {\n",
       "        vertical-align: top;\n",
       "    }\n",
       "\n",
       "    .dataframe thead th {\n",
       "        text-align: right;\n",
       "    }\n",
       "</style>\n",
       "<table border=\"1\" class=\"dataframe\">\n",
       "  <thead>\n",
       "    <tr style=\"text-align: right;\">\n",
       "      <th></th>\n",
       "      <th>video_id</th>\n",
       "      <th>trending_date</th>\n",
       "      <th>title</th>\n",
       "      <th>channel_title</th>\n",
       "      <th>category_id</th>\n",
       "      <th>publish_time</th>\n",
       "      <th>tags</th>\n",
       "      <th>views</th>\n",
       "      <th>likes</th>\n",
       "      <th>dislikes</th>\n",
       "      <th>comment_count</th>\n",
       "      <th>thumbnail_link</th>\n",
       "      <th>comments_disabled</th>\n",
       "      <th>ratings_disabled</th>\n",
       "      <th>video_error_or_removed</th>\n",
       "      <th>description</th>\n",
       "    </tr>\n",
       "  </thead>\n",
       "  <tbody>\n",
       "    <tr>\n",
       "      <th>0</th>\n",
       "      <td>Ro6eob0LrCY</td>\n",
       "      <td>17.14.11</td>\n",
       "      <td>Malika LePen : Femme de Gauche - Trailer</td>\n",
       "      <td>Le Raptor Dissident</td>\n",
       "      <td>24</td>\n",
       "      <td>2017-11-13T17:32:55.000Z</td>\n",
       "      <td>Raptor\"|\"Dissident\"|\"Expliquez\"|\"moi\"|\"cette\"|...</td>\n",
       "      <td>212702</td>\n",
       "      <td>29282</td>\n",
       "      <td>1108</td>\n",
       "      <td>3817</td>\n",
       "      <td>https://i.ytimg.com/vi/Ro6eob0LrCY/default.jpg</td>\n",
       "      <td>False</td>\n",
       "      <td>False</td>\n",
       "      <td>False</td>\n",
       "      <td>Dimanche.\\n18h30.\\nSoyez présents pour la vidé...</td>\n",
       "    </tr>\n",
       "  </tbody>\n",
       "</table>\n",
       "</div>"
      ],
      "text/plain": [
       "      video_id trending_date                                     title  \\\n",
       "0  Ro6eob0LrCY      17.14.11  Malika LePen : Femme de Gauche - Trailer   \n",
       "\n",
       "         channel_title  category_id              publish_time  \\\n",
       "0  Le Raptor Dissident           24  2017-11-13T17:32:55.000Z   \n",
       "\n",
       "                                                tags   views  likes  dislikes  \\\n",
       "0  Raptor\"|\"Dissident\"|\"Expliquez\"|\"moi\"|\"cette\"|...  212702  29282      1108   \n",
       "\n",
       "   comment_count                                  thumbnail_link  \\\n",
       "0           3817  https://i.ytimg.com/vi/Ro6eob0LrCY/default.jpg   \n",
       "\n",
       "   comments_disabled  ratings_disabled  video_error_or_removed  \\\n",
       "0              False             False                   False   \n",
       "\n",
       "                                         description  \n",
       "0  Dimanche.\\n18h30.\\nSoyez présents pour la vidé...  "
      ]
     },
     "execution_count": 43,
     "metadata": {},
     "output_type": "execute_result"
    }
   ],
   "source": [
    "#Data frame for Mexico\n",
    "files_csv[7].head(1)"
   ]
  },
  {
   "cell_type": "code",
   "execution_count": 44,
   "metadata": {},
   "outputs": [
    {
     "data": {
      "text/html": [
       "<div>\n",
       "<style scoped>\n",
       "    .dataframe tbody tr th:only-of-type {\n",
       "        vertical-align: middle;\n",
       "    }\n",
       "\n",
       "    .dataframe tbody tr th {\n",
       "        vertical-align: top;\n",
       "    }\n",
       "\n",
       "    .dataframe thead th {\n",
       "        text-align: right;\n",
       "    }\n",
       "</style>\n",
       "<table border=\"1\" class=\"dataframe\">\n",
       "  <thead>\n",
       "    <tr style=\"text-align: right;\">\n",
       "      <th></th>\n",
       "      <th>video_id</th>\n",
       "      <th>trending_date</th>\n",
       "      <th>title</th>\n",
       "      <th>channel_title</th>\n",
       "      <th>category_id</th>\n",
       "      <th>publish_time</th>\n",
       "      <th>tags</th>\n",
       "      <th>views</th>\n",
       "      <th>likes</th>\n",
       "      <th>dislikes</th>\n",
       "      <th>comment_count</th>\n",
       "      <th>thumbnail_link</th>\n",
       "      <th>comments_disabled</th>\n",
       "      <th>ratings_disabled</th>\n",
       "      <th>video_error_or_removed</th>\n",
       "      <th>description</th>\n",
       "    </tr>\n",
       "  </thead>\n",
       "  <tbody>\n",
       "    <tr>\n",
       "      <th>0</th>\n",
       "      <td>n1WpP7iowLc</td>\n",
       "      <td>17.14.11</td>\n",
       "      <td>Eminem - Walk On Water (Audio) ft. Beyoncé</td>\n",
       "      <td>EminemVEVO</td>\n",
       "      <td>10</td>\n",
       "      <td>2017-11-10T17:00:03.000Z</td>\n",
       "      <td>Eminem|\"Walk\"|\"On\"|\"Water\"|\"Aftermath/Shady/In...</td>\n",
       "      <td>17158579</td>\n",
       "      <td>787425</td>\n",
       "      <td>43420</td>\n",
       "      <td>125882</td>\n",
       "      <td>https://i.ytimg.com/vi/n1WpP7iowLc/default.jpg</td>\n",
       "      <td>False</td>\n",
       "      <td>False</td>\n",
       "      <td>False</td>\n",
       "      <td>Eminem's new track Walk on Water ft. Beyoncé i...</td>\n",
       "    </tr>\n",
       "  </tbody>\n",
       "</table>\n",
       "</div>"
      ],
      "text/plain": [
       "      video_id trending_date                                       title  \\\n",
       "0  n1WpP7iowLc      17.14.11  Eminem - Walk On Water (Audio) ft. Beyoncé   \n",
       "\n",
       "  channel_title  category_id              publish_time  \\\n",
       "0    EminemVEVO           10  2017-11-10T17:00:03.000Z   \n",
       "\n",
       "                                                tags     views   likes  \\\n",
       "0  Eminem|\"Walk\"|\"On\"|\"Water\"|\"Aftermath/Shady/In...  17158579  787425   \n",
       "\n",
       "   dislikes  comment_count                                  thumbnail_link  \\\n",
       "0     43420         125882  https://i.ytimg.com/vi/n1WpP7iowLc/default.jpg   \n",
       "\n",
       "   comments_disabled  ratings_disabled  video_error_or_removed  \\\n",
       "0              False             False                   False   \n",
       "\n",
       "                                         description  \n",
       "0  Eminem's new track Walk on Water ft. Beyoncé i...  "
      ]
     },
     "execution_count": 44,
     "metadata": {},
     "output_type": "execute_result"
    }
   ],
   "source": [
    "#Data frame for Japan\n",
    "files_csv[5].head(1)"
   ]
  },
  {
   "cell_type": "code",
   "execution_count": 45,
   "metadata": {},
   "outputs": [
    {
     "data": {
      "text/html": [
       "<div>\n",
       "<style scoped>\n",
       "    .dataframe tbody tr th:only-of-type {\n",
       "        vertical-align: middle;\n",
       "    }\n",
       "\n",
       "    .dataframe tbody tr th {\n",
       "        vertical-align: top;\n",
       "    }\n",
       "\n",
       "    .dataframe thead th {\n",
       "        text-align: right;\n",
       "    }\n",
       "</style>\n",
       "<table border=\"1\" class=\"dataframe\">\n",
       "  <thead>\n",
       "    <tr style=\"text-align: right;\">\n",
       "      <th></th>\n",
       "      <th>video_id</th>\n",
       "      <th>trending_date</th>\n",
       "      <th>title</th>\n",
       "      <th>channel_title</th>\n",
       "      <th>category_id</th>\n",
       "      <th>publish_time</th>\n",
       "      <th>tags</th>\n",
       "      <th>views</th>\n",
       "      <th>likes</th>\n",
       "      <th>dislikes</th>\n",
       "      <th>comment_count</th>\n",
       "      <th>thumbnail_link</th>\n",
       "      <th>comments_disabled</th>\n",
       "      <th>ratings_disabled</th>\n",
       "      <th>video_error_or_removed</th>\n",
       "      <th>description</th>\n",
       "    </tr>\n",
       "  </thead>\n",
       "  <tbody>\n",
       "    <tr>\n",
       "      <th>0</th>\n",
       "      <td>Jw1Y-zhQURU</td>\n",
       "      <td>17.14.11</td>\n",
       "      <td>John Lewis Christmas Ad 2017 - #MozTheMonster</td>\n",
       "      <td>John Lewis</td>\n",
       "      <td>26</td>\n",
       "      <td>2017-11-10T07:38:29.000Z</td>\n",
       "      <td>christmas|\"john lewis christmas\"|\"john lewis\"|...</td>\n",
       "      <td>7224515</td>\n",
       "      <td>55681</td>\n",
       "      <td>10247</td>\n",
       "      <td>9479</td>\n",
       "      <td>https://i.ytimg.com/vi/Jw1Y-zhQURU/default.jpg</td>\n",
       "      <td>False</td>\n",
       "      <td>False</td>\n",
       "      <td>False</td>\n",
       "      <td>Click here to continue the story and make your...</td>\n",
       "    </tr>\n",
       "  </tbody>\n",
       "</table>\n",
       "</div>"
      ],
      "text/plain": [
       "      video_id trending_date                                          title  \\\n",
       "0  Jw1Y-zhQURU      17.14.11  John Lewis Christmas Ad 2017 - #MozTheMonster   \n",
       "\n",
       "  channel_title  category_id              publish_time  \\\n",
       "0    John Lewis           26  2017-11-10T07:38:29.000Z   \n",
       "\n",
       "                                                tags    views  likes  \\\n",
       "0  christmas|\"john lewis christmas\"|\"john lewis\"|...  7224515  55681   \n",
       "\n",
       "   dislikes  comment_count                                  thumbnail_link  \\\n",
       "0     10247           9479  https://i.ytimg.com/vi/Jw1Y-zhQURU/default.jpg   \n",
       "\n",
       "   comments_disabled  ratings_disabled  video_error_or_removed  \\\n",
       "0              False             False                   False   \n",
       "\n",
       "                                         description  \n",
       "0  Click here to continue the story and make your...  "
      ]
     },
     "execution_count": 45,
     "metadata": {},
     "output_type": "execute_result"
    }
   ],
   "source": [
    "#Data frame for Great Britain\n",
    "files_csv[9].head(1)"
   ]
  },
  {
   "cell_type": "markdown",
   "metadata": {},
   "source": [
    "## Exploring Data"
   ]
  },
  {
   "cell_type": "markdown",
   "metadata": {},
   "source": [
    "### Kind of info in json files"
   ]
  },
  {
   "cell_type": "code",
   "execution_count": 65,
   "metadata": {},
   "outputs": [],
   "source": [
    "#Country work with\n",
    "Country=9 #Working with Data of Great Great Britain"
   ]
  },
  {
   "cell_type": "code",
   "execution_count": 66,
   "metadata": {
    "scrolled": true
   },
   "outputs": [
    {
     "data": {
      "text/html": [
       "<div>\n",
       "<style scoped>\n",
       "    .dataframe tbody tr th:only-of-type {\n",
       "        vertical-align: middle;\n",
       "    }\n",
       "\n",
       "    .dataframe tbody tr th {\n",
       "        vertical-align: top;\n",
       "    }\n",
       "\n",
       "    .dataframe thead th {\n",
       "        text-align: right;\n",
       "    }\n",
       "</style>\n",
       "<table border=\"1\" class=\"dataframe\">\n",
       "  <thead>\n",
       "    <tr style=\"text-align: right;\">\n",
       "      <th></th>\n",
       "      <th>kind</th>\n",
       "      <th>etag</th>\n",
       "      <th>items</th>\n",
       "    </tr>\n",
       "  </thead>\n",
       "  <tbody>\n",
       "    <tr>\n",
       "      <th>count</th>\n",
       "      <td>31</td>\n",
       "      <td>31</td>\n",
       "      <td>31</td>\n",
       "    </tr>\n",
       "    <tr>\n",
       "      <th>unique</th>\n",
       "      <td>1</td>\n",
       "      <td>1</td>\n",
       "      <td>31</td>\n",
       "    </tr>\n",
       "    <tr>\n",
       "      <th>top</th>\n",
       "      <td>youtube#videoCategoryListResponse</td>\n",
       "      <td>\"ld9biNPKjAjgjV7EZ4EKeEGrhao/1v2mrzYSYG6onNLt2...</td>\n",
       "      <td>{'kind': 'youtube#videoCategory', 'etag': '\"ld...</td>\n",
       "    </tr>\n",
       "    <tr>\n",
       "      <th>freq</th>\n",
       "      <td>31</td>\n",
       "      <td>31</td>\n",
       "      <td>1</td>\n",
       "    </tr>\n",
       "  </tbody>\n",
       "</table>\n",
       "</div>"
      ],
      "text/plain": [
       "                                     kind  \\\n",
       "count                                  31   \n",
       "unique                                  1   \n",
       "top     youtube#videoCategoryListResponse   \n",
       "freq                                   31   \n",
       "\n",
       "                                                     etag  \\\n",
       "count                                                  31   \n",
       "unique                                                  1   \n",
       "top     \"ld9biNPKjAjgjV7EZ4EKeEGrhao/1v2mrzYSYG6onNLt2...   \n",
       "freq                                                   31   \n",
       "\n",
       "                                                    items  \n",
       "count                                                  31  \n",
       "unique                                                 31  \n",
       "top     {'kind': 'youtube#videoCategory', 'etag': '\"ld...  \n",
       "freq                                                    1  "
      ]
     },
     "execution_count": 66,
     "metadata": {},
     "output_type": "execute_result"
    }
   ],
   "source": [
    "\n",
    "# Kind of info in json files\n",
    "files_json[Country].describe()\n"
   ]
  },
  {
   "cell_type": "code",
   "execution_count": 67,
   "metadata": {},
   "outputs": [
    {
     "data": {
      "text/html": [
       "<div>\n",
       "<style scoped>\n",
       "    .dataframe tbody tr th:only-of-type {\n",
       "        vertical-align: middle;\n",
       "    }\n",
       "\n",
       "    .dataframe tbody tr th {\n",
       "        vertical-align: top;\n",
       "    }\n",
       "\n",
       "    .dataframe thead th {\n",
       "        text-align: right;\n",
       "    }\n",
       "</style>\n",
       "<table border=\"1\" class=\"dataframe\">\n",
       "  <thead>\n",
       "    <tr style=\"text-align: right;\">\n",
       "      <th></th>\n",
       "      <th>kind</th>\n",
       "      <th>etag</th>\n",
       "      <th>items</th>\n",
       "    </tr>\n",
       "  </thead>\n",
       "  <tbody>\n",
       "    <tr>\n",
       "      <th>0</th>\n",
       "      <td>youtube#videoCategoryListResponse</td>\n",
       "      <td>\"ld9biNPKjAjgjV7EZ4EKeEGrhao/1v2mrzYSYG6onNLt2...</td>\n",
       "      <td>{'kind': 'youtube#videoCategory', 'etag': '\"ld...</td>\n",
       "    </tr>\n",
       "    <tr>\n",
       "      <th>1</th>\n",
       "      <td>youtube#videoCategoryListResponse</td>\n",
       "      <td>\"ld9biNPKjAjgjV7EZ4EKeEGrhao/1v2mrzYSYG6onNLt2...</td>\n",
       "      <td>{'kind': 'youtube#videoCategory', 'etag': '\"ld...</td>\n",
       "    </tr>\n",
       "    <tr>\n",
       "      <th>2</th>\n",
       "      <td>youtube#videoCategoryListResponse</td>\n",
       "      <td>\"ld9biNPKjAjgjV7EZ4EKeEGrhao/1v2mrzYSYG6onNLt2...</td>\n",
       "      <td>{'kind': 'youtube#videoCategory', 'etag': '\"ld...</td>\n",
       "    </tr>\n",
       "    <tr>\n",
       "      <th>3</th>\n",
       "      <td>youtube#videoCategoryListResponse</td>\n",
       "      <td>\"ld9biNPKjAjgjV7EZ4EKeEGrhao/1v2mrzYSYG6onNLt2...</td>\n",
       "      <td>{'kind': 'youtube#videoCategory', 'etag': '\"ld...</td>\n",
       "    </tr>\n",
       "    <tr>\n",
       "      <th>4</th>\n",
       "      <td>youtube#videoCategoryListResponse</td>\n",
       "      <td>\"ld9biNPKjAjgjV7EZ4EKeEGrhao/1v2mrzYSYG6onNLt2...</td>\n",
       "      <td>{'kind': 'youtube#videoCategory', 'etag': '\"ld...</td>\n",
       "    </tr>\n",
       "    <tr>\n",
       "      <th>5</th>\n",
       "      <td>youtube#videoCategoryListResponse</td>\n",
       "      <td>\"ld9biNPKjAjgjV7EZ4EKeEGrhao/1v2mrzYSYG6onNLt2...</td>\n",
       "      <td>{'kind': 'youtube#videoCategory', 'etag': '\"ld...</td>\n",
       "    </tr>\n",
       "    <tr>\n",
       "      <th>6</th>\n",
       "      <td>youtube#videoCategoryListResponse</td>\n",
       "      <td>\"ld9biNPKjAjgjV7EZ4EKeEGrhao/1v2mrzYSYG6onNLt2...</td>\n",
       "      <td>{'kind': 'youtube#videoCategory', 'etag': '\"ld...</td>\n",
       "    </tr>\n",
       "    <tr>\n",
       "      <th>7</th>\n",
       "      <td>youtube#videoCategoryListResponse</td>\n",
       "      <td>\"ld9biNPKjAjgjV7EZ4EKeEGrhao/1v2mrzYSYG6onNLt2...</td>\n",
       "      <td>{'kind': 'youtube#videoCategory', 'etag': '\"ld...</td>\n",
       "    </tr>\n",
       "    <tr>\n",
       "      <th>8</th>\n",
       "      <td>youtube#videoCategoryListResponse</td>\n",
       "      <td>\"ld9biNPKjAjgjV7EZ4EKeEGrhao/1v2mrzYSYG6onNLt2...</td>\n",
       "      <td>{'kind': 'youtube#videoCategory', 'etag': '\"ld...</td>\n",
       "    </tr>\n",
       "    <tr>\n",
       "      <th>9</th>\n",
       "      <td>youtube#videoCategoryListResponse</td>\n",
       "      <td>\"ld9biNPKjAjgjV7EZ4EKeEGrhao/1v2mrzYSYG6onNLt2...</td>\n",
       "      <td>{'kind': 'youtube#videoCategory', 'etag': '\"ld...</td>\n",
       "    </tr>\n",
       "    <tr>\n",
       "      <th>10</th>\n",
       "      <td>youtube#videoCategoryListResponse</td>\n",
       "      <td>\"ld9biNPKjAjgjV7EZ4EKeEGrhao/1v2mrzYSYG6onNLt2...</td>\n",
       "      <td>{'kind': 'youtube#videoCategory', 'etag': '\"ld...</td>\n",
       "    </tr>\n",
       "    <tr>\n",
       "      <th>11</th>\n",
       "      <td>youtube#videoCategoryListResponse</td>\n",
       "      <td>\"ld9biNPKjAjgjV7EZ4EKeEGrhao/1v2mrzYSYG6onNLt2...</td>\n",
       "      <td>{'kind': 'youtube#videoCategory', 'etag': '\"ld...</td>\n",
       "    </tr>\n",
       "    <tr>\n",
       "      <th>12</th>\n",
       "      <td>youtube#videoCategoryListResponse</td>\n",
       "      <td>\"ld9biNPKjAjgjV7EZ4EKeEGrhao/1v2mrzYSYG6onNLt2...</td>\n",
       "      <td>{'kind': 'youtube#videoCategory', 'etag': '\"ld...</td>\n",
       "    </tr>\n",
       "    <tr>\n",
       "      <th>13</th>\n",
       "      <td>youtube#videoCategoryListResponse</td>\n",
       "      <td>\"ld9biNPKjAjgjV7EZ4EKeEGrhao/1v2mrzYSYG6onNLt2...</td>\n",
       "      <td>{'kind': 'youtube#videoCategory', 'etag': '\"ld...</td>\n",
       "    </tr>\n",
       "    <tr>\n",
       "      <th>14</th>\n",
       "      <td>youtube#videoCategoryListResponse</td>\n",
       "      <td>\"ld9biNPKjAjgjV7EZ4EKeEGrhao/1v2mrzYSYG6onNLt2...</td>\n",
       "      <td>{'kind': 'youtube#videoCategory', 'etag': '\"ld...</td>\n",
       "    </tr>\n",
       "    <tr>\n",
       "      <th>15</th>\n",
       "      <td>youtube#videoCategoryListResponse</td>\n",
       "      <td>\"ld9biNPKjAjgjV7EZ4EKeEGrhao/1v2mrzYSYG6onNLt2...</td>\n",
       "      <td>{'kind': 'youtube#videoCategory', 'etag': '\"ld...</td>\n",
       "    </tr>\n",
       "    <tr>\n",
       "      <th>16</th>\n",
       "      <td>youtube#videoCategoryListResponse</td>\n",
       "      <td>\"ld9biNPKjAjgjV7EZ4EKeEGrhao/1v2mrzYSYG6onNLt2...</td>\n",
       "      <td>{'kind': 'youtube#videoCategory', 'etag': '\"ld...</td>\n",
       "    </tr>\n",
       "    <tr>\n",
       "      <th>17</th>\n",
       "      <td>youtube#videoCategoryListResponse</td>\n",
       "      <td>\"ld9biNPKjAjgjV7EZ4EKeEGrhao/1v2mrzYSYG6onNLt2...</td>\n",
       "      <td>{'kind': 'youtube#videoCategory', 'etag': '\"ld...</td>\n",
       "    </tr>\n",
       "    <tr>\n",
       "      <th>18</th>\n",
       "      <td>youtube#videoCategoryListResponse</td>\n",
       "      <td>\"ld9biNPKjAjgjV7EZ4EKeEGrhao/1v2mrzYSYG6onNLt2...</td>\n",
       "      <td>{'kind': 'youtube#videoCategory', 'etag': '\"ld...</td>\n",
       "    </tr>\n",
       "    <tr>\n",
       "      <th>19</th>\n",
       "      <td>youtube#videoCategoryListResponse</td>\n",
       "      <td>\"ld9biNPKjAjgjV7EZ4EKeEGrhao/1v2mrzYSYG6onNLt2...</td>\n",
       "      <td>{'kind': 'youtube#videoCategory', 'etag': '\"ld...</td>\n",
       "    </tr>\n",
       "    <tr>\n",
       "      <th>20</th>\n",
       "      <td>youtube#videoCategoryListResponse</td>\n",
       "      <td>\"ld9biNPKjAjgjV7EZ4EKeEGrhao/1v2mrzYSYG6onNLt2...</td>\n",
       "      <td>{'kind': 'youtube#videoCategory', 'etag': '\"ld...</td>\n",
       "    </tr>\n",
       "    <tr>\n",
       "      <th>21</th>\n",
       "      <td>youtube#videoCategoryListResponse</td>\n",
       "      <td>\"ld9biNPKjAjgjV7EZ4EKeEGrhao/1v2mrzYSYG6onNLt2...</td>\n",
       "      <td>{'kind': 'youtube#videoCategory', 'etag': '\"ld...</td>\n",
       "    </tr>\n",
       "    <tr>\n",
       "      <th>22</th>\n",
       "      <td>youtube#videoCategoryListResponse</td>\n",
       "      <td>\"ld9biNPKjAjgjV7EZ4EKeEGrhao/1v2mrzYSYG6onNLt2...</td>\n",
       "      <td>{'kind': 'youtube#videoCategory', 'etag': '\"ld...</td>\n",
       "    </tr>\n",
       "    <tr>\n",
       "      <th>23</th>\n",
       "      <td>youtube#videoCategoryListResponse</td>\n",
       "      <td>\"ld9biNPKjAjgjV7EZ4EKeEGrhao/1v2mrzYSYG6onNLt2...</td>\n",
       "      <td>{'kind': 'youtube#videoCategory', 'etag': '\"ld...</td>\n",
       "    </tr>\n",
       "    <tr>\n",
       "      <th>24</th>\n",
       "      <td>youtube#videoCategoryListResponse</td>\n",
       "      <td>\"ld9biNPKjAjgjV7EZ4EKeEGrhao/1v2mrzYSYG6onNLt2...</td>\n",
       "      <td>{'kind': 'youtube#videoCategory', 'etag': '\"ld...</td>\n",
       "    </tr>\n",
       "    <tr>\n",
       "      <th>25</th>\n",
       "      <td>youtube#videoCategoryListResponse</td>\n",
       "      <td>\"ld9biNPKjAjgjV7EZ4EKeEGrhao/1v2mrzYSYG6onNLt2...</td>\n",
       "      <td>{'kind': 'youtube#videoCategory', 'etag': '\"ld...</td>\n",
       "    </tr>\n",
       "    <tr>\n",
       "      <th>26</th>\n",
       "      <td>youtube#videoCategoryListResponse</td>\n",
       "      <td>\"ld9biNPKjAjgjV7EZ4EKeEGrhao/1v2mrzYSYG6onNLt2...</td>\n",
       "      <td>{'kind': 'youtube#videoCategory', 'etag': '\"ld...</td>\n",
       "    </tr>\n",
       "    <tr>\n",
       "      <th>27</th>\n",
       "      <td>youtube#videoCategoryListResponse</td>\n",
       "      <td>\"ld9biNPKjAjgjV7EZ4EKeEGrhao/1v2mrzYSYG6onNLt2...</td>\n",
       "      <td>{'kind': 'youtube#videoCategory', 'etag': '\"ld...</td>\n",
       "    </tr>\n",
       "    <tr>\n",
       "      <th>28</th>\n",
       "      <td>youtube#videoCategoryListResponse</td>\n",
       "      <td>\"ld9biNPKjAjgjV7EZ4EKeEGrhao/1v2mrzYSYG6onNLt2...</td>\n",
       "      <td>{'kind': 'youtube#videoCategory', 'etag': '\"ld...</td>\n",
       "    </tr>\n",
       "    <tr>\n",
       "      <th>29</th>\n",
       "      <td>youtube#videoCategoryListResponse</td>\n",
       "      <td>\"ld9biNPKjAjgjV7EZ4EKeEGrhao/1v2mrzYSYG6onNLt2...</td>\n",
       "      <td>{'kind': 'youtube#videoCategory', 'etag': '\"ld...</td>\n",
       "    </tr>\n",
       "    <tr>\n",
       "      <th>30</th>\n",
       "      <td>youtube#videoCategoryListResponse</td>\n",
       "      <td>\"ld9biNPKjAjgjV7EZ4EKeEGrhao/1v2mrzYSYG6onNLt2...</td>\n",
       "      <td>{'kind': 'youtube#videoCategory', 'etag': '\"ld...</td>\n",
       "    </tr>\n",
       "  </tbody>\n",
       "</table>\n",
       "</div>"
      ],
      "text/plain": [
       "                                 kind  \\\n",
       "0   youtube#videoCategoryListResponse   \n",
       "1   youtube#videoCategoryListResponse   \n",
       "2   youtube#videoCategoryListResponse   \n",
       "3   youtube#videoCategoryListResponse   \n",
       "4   youtube#videoCategoryListResponse   \n",
       "5   youtube#videoCategoryListResponse   \n",
       "6   youtube#videoCategoryListResponse   \n",
       "7   youtube#videoCategoryListResponse   \n",
       "8   youtube#videoCategoryListResponse   \n",
       "9   youtube#videoCategoryListResponse   \n",
       "10  youtube#videoCategoryListResponse   \n",
       "11  youtube#videoCategoryListResponse   \n",
       "12  youtube#videoCategoryListResponse   \n",
       "13  youtube#videoCategoryListResponse   \n",
       "14  youtube#videoCategoryListResponse   \n",
       "15  youtube#videoCategoryListResponse   \n",
       "16  youtube#videoCategoryListResponse   \n",
       "17  youtube#videoCategoryListResponse   \n",
       "18  youtube#videoCategoryListResponse   \n",
       "19  youtube#videoCategoryListResponse   \n",
       "20  youtube#videoCategoryListResponse   \n",
       "21  youtube#videoCategoryListResponse   \n",
       "22  youtube#videoCategoryListResponse   \n",
       "23  youtube#videoCategoryListResponse   \n",
       "24  youtube#videoCategoryListResponse   \n",
       "25  youtube#videoCategoryListResponse   \n",
       "26  youtube#videoCategoryListResponse   \n",
       "27  youtube#videoCategoryListResponse   \n",
       "28  youtube#videoCategoryListResponse   \n",
       "29  youtube#videoCategoryListResponse   \n",
       "30  youtube#videoCategoryListResponse   \n",
       "\n",
       "                                                 etag  \\\n",
       "0   \"ld9biNPKjAjgjV7EZ4EKeEGrhao/1v2mrzYSYG6onNLt2...   \n",
       "1   \"ld9biNPKjAjgjV7EZ4EKeEGrhao/1v2mrzYSYG6onNLt2...   \n",
       "2   \"ld9biNPKjAjgjV7EZ4EKeEGrhao/1v2mrzYSYG6onNLt2...   \n",
       "3   \"ld9biNPKjAjgjV7EZ4EKeEGrhao/1v2mrzYSYG6onNLt2...   \n",
       "4   \"ld9biNPKjAjgjV7EZ4EKeEGrhao/1v2mrzYSYG6onNLt2...   \n",
       "5   \"ld9biNPKjAjgjV7EZ4EKeEGrhao/1v2mrzYSYG6onNLt2...   \n",
       "6   \"ld9biNPKjAjgjV7EZ4EKeEGrhao/1v2mrzYSYG6onNLt2...   \n",
       "7   \"ld9biNPKjAjgjV7EZ4EKeEGrhao/1v2mrzYSYG6onNLt2...   \n",
       "8   \"ld9biNPKjAjgjV7EZ4EKeEGrhao/1v2mrzYSYG6onNLt2...   \n",
       "9   \"ld9biNPKjAjgjV7EZ4EKeEGrhao/1v2mrzYSYG6onNLt2...   \n",
       "10  \"ld9biNPKjAjgjV7EZ4EKeEGrhao/1v2mrzYSYG6onNLt2...   \n",
       "11  \"ld9biNPKjAjgjV7EZ4EKeEGrhao/1v2mrzYSYG6onNLt2...   \n",
       "12  \"ld9biNPKjAjgjV7EZ4EKeEGrhao/1v2mrzYSYG6onNLt2...   \n",
       "13  \"ld9biNPKjAjgjV7EZ4EKeEGrhao/1v2mrzYSYG6onNLt2...   \n",
       "14  \"ld9biNPKjAjgjV7EZ4EKeEGrhao/1v2mrzYSYG6onNLt2...   \n",
       "15  \"ld9biNPKjAjgjV7EZ4EKeEGrhao/1v2mrzYSYG6onNLt2...   \n",
       "16  \"ld9biNPKjAjgjV7EZ4EKeEGrhao/1v2mrzYSYG6onNLt2...   \n",
       "17  \"ld9biNPKjAjgjV7EZ4EKeEGrhao/1v2mrzYSYG6onNLt2...   \n",
       "18  \"ld9biNPKjAjgjV7EZ4EKeEGrhao/1v2mrzYSYG6onNLt2...   \n",
       "19  \"ld9biNPKjAjgjV7EZ4EKeEGrhao/1v2mrzYSYG6onNLt2...   \n",
       "20  \"ld9biNPKjAjgjV7EZ4EKeEGrhao/1v2mrzYSYG6onNLt2...   \n",
       "21  \"ld9biNPKjAjgjV7EZ4EKeEGrhao/1v2mrzYSYG6onNLt2...   \n",
       "22  \"ld9biNPKjAjgjV7EZ4EKeEGrhao/1v2mrzYSYG6onNLt2...   \n",
       "23  \"ld9biNPKjAjgjV7EZ4EKeEGrhao/1v2mrzYSYG6onNLt2...   \n",
       "24  \"ld9biNPKjAjgjV7EZ4EKeEGrhao/1v2mrzYSYG6onNLt2...   \n",
       "25  \"ld9biNPKjAjgjV7EZ4EKeEGrhao/1v2mrzYSYG6onNLt2...   \n",
       "26  \"ld9biNPKjAjgjV7EZ4EKeEGrhao/1v2mrzYSYG6onNLt2...   \n",
       "27  \"ld9biNPKjAjgjV7EZ4EKeEGrhao/1v2mrzYSYG6onNLt2...   \n",
       "28  \"ld9biNPKjAjgjV7EZ4EKeEGrhao/1v2mrzYSYG6onNLt2...   \n",
       "29  \"ld9biNPKjAjgjV7EZ4EKeEGrhao/1v2mrzYSYG6onNLt2...   \n",
       "30  \"ld9biNPKjAjgjV7EZ4EKeEGrhao/1v2mrzYSYG6onNLt2...   \n",
       "\n",
       "                                                items  \n",
       "0   {'kind': 'youtube#videoCategory', 'etag': '\"ld...  \n",
       "1   {'kind': 'youtube#videoCategory', 'etag': '\"ld...  \n",
       "2   {'kind': 'youtube#videoCategory', 'etag': '\"ld...  \n",
       "3   {'kind': 'youtube#videoCategory', 'etag': '\"ld...  \n",
       "4   {'kind': 'youtube#videoCategory', 'etag': '\"ld...  \n",
       "5   {'kind': 'youtube#videoCategory', 'etag': '\"ld...  \n",
       "6   {'kind': 'youtube#videoCategory', 'etag': '\"ld...  \n",
       "7   {'kind': 'youtube#videoCategory', 'etag': '\"ld...  \n",
       "8   {'kind': 'youtube#videoCategory', 'etag': '\"ld...  \n",
       "9   {'kind': 'youtube#videoCategory', 'etag': '\"ld...  \n",
       "10  {'kind': 'youtube#videoCategory', 'etag': '\"ld...  \n",
       "11  {'kind': 'youtube#videoCategory', 'etag': '\"ld...  \n",
       "12  {'kind': 'youtube#videoCategory', 'etag': '\"ld...  \n",
       "13  {'kind': 'youtube#videoCategory', 'etag': '\"ld...  \n",
       "14  {'kind': 'youtube#videoCategory', 'etag': '\"ld...  \n",
       "15  {'kind': 'youtube#videoCategory', 'etag': '\"ld...  \n",
       "16  {'kind': 'youtube#videoCategory', 'etag': '\"ld...  \n",
       "17  {'kind': 'youtube#videoCategory', 'etag': '\"ld...  \n",
       "18  {'kind': 'youtube#videoCategory', 'etag': '\"ld...  \n",
       "19  {'kind': 'youtube#videoCategory', 'etag': '\"ld...  \n",
       "20  {'kind': 'youtube#videoCategory', 'etag': '\"ld...  \n",
       "21  {'kind': 'youtube#videoCategory', 'etag': '\"ld...  \n",
       "22  {'kind': 'youtube#videoCategory', 'etag': '\"ld...  \n",
       "23  {'kind': 'youtube#videoCategory', 'etag': '\"ld...  \n",
       "24  {'kind': 'youtube#videoCategory', 'etag': '\"ld...  \n",
       "25  {'kind': 'youtube#videoCategory', 'etag': '\"ld...  \n",
       "26  {'kind': 'youtube#videoCategory', 'etag': '\"ld...  \n",
       "27  {'kind': 'youtube#videoCategory', 'etag': '\"ld...  \n",
       "28  {'kind': 'youtube#videoCategory', 'etag': '\"ld...  \n",
       "29  {'kind': 'youtube#videoCategory', 'etag': '\"ld...  \n",
       "30  {'kind': 'youtube#videoCategory', 'etag': '\"ld...  "
      ]
     },
     "execution_count": 67,
     "metadata": {},
     "output_type": "execute_result"
    }
   ],
   "source": [
    "files_json[Country]"
   ]
  },
  {
   "cell_type": "code",
   "execution_count": 68,
   "metadata": {},
   "outputs": [
    {
     "data": {
      "text/plain": [
       "Index(['kind', 'etag', 'items'], dtype='object')"
      ]
     },
     "execution_count": 68,
     "metadata": {},
     "output_type": "execute_result"
    }
   ],
   "source": [
    "files_json[Country].columns"
   ]
  },
  {
   "cell_type": "code",
   "execution_count": 69,
   "metadata": {},
   "outputs": [
    {
     "data": {
      "text/plain": [
       "'etag'"
      ]
     },
     "execution_count": 69,
     "metadata": {},
     "output_type": "execute_result"
    }
   ],
   "source": [
    "files_json[Country].columns[1]"
   ]
  },
  {
   "cell_type": "code",
   "execution_count": 70,
   "metadata": {
    "scrolled": true
   },
   "outputs": [
    {
     "data": {
      "text/plain": [
       "array(['\"ld9biNPKjAjgjV7EZ4EKeEGrhao/1v2mrzYSYG6onNLt2qTj13hkQZk\"'],\n",
       "      dtype=object)"
      ]
     },
     "execution_count": 70,
     "metadata": {},
     "output_type": "execute_result"
    }
   ],
   "source": [
    "files_json[Country]['etag'].unique()"
   ]
  },
  {
   "cell_type": "code",
   "execution_count": 71,
   "metadata": {
    "scrolled": true
   },
   "outputs": [
    {
     "data": {
      "text/plain": [
       "array(['youtube#videoCategoryListResponse'], dtype=object)"
      ]
     },
     "execution_count": 71,
     "metadata": {},
     "output_type": "execute_result"
    }
   ],
   "source": [
    "files_json[Country]['kind'].unique()"
   ]
  },
  {
   "cell_type": "code",
   "execution_count": 72,
   "metadata": {
    "scrolled": true
   },
   "outputs": [
    {
     "data": {
      "text/plain": [
       "{'kind': 'youtube#videoCategory',\n",
       " 'etag': '\"ld9biNPKjAjgjV7EZ4EKeEGrhao/Xy1mB4_yLrHy_BmKmPBggty2mZQ\"',\n",
       " 'id': '1',\n",
       " 'snippet': {'channelId': 'UCBR8-60-B28hp2BmDPdntcQ',\n",
       "  'title': 'Film & Animation',\n",
       "  'assignable': True}}"
      ]
     },
     "execution_count": 72,
     "metadata": {},
     "output_type": "execute_result"
    }
   ],
   "source": [
    "files_json[Country]['items'][0]"
   ]
  },
  {
   "cell_type": "code",
   "execution_count": 73,
   "metadata": {},
   "outputs": [
    {
     "data": {
      "text/plain": [
       "'youtube#videoCategory'"
      ]
     },
     "execution_count": 73,
     "metadata": {},
     "output_type": "execute_result"
    }
   ],
   "source": [
    "files_json[Country]['items'][0]['kind']"
   ]
  },
  {
   "cell_type": "code",
   "execution_count": 74,
   "metadata": {
    "scrolled": true
   },
   "outputs": [
    {
     "data": {
      "text/plain": [
       "'\"ld9biNPKjAjgjV7EZ4EKeEGrhao/Xy1mB4_yLrHy_BmKmPBggty2mZQ\"'"
      ]
     },
     "execution_count": 74,
     "metadata": {},
     "output_type": "execute_result"
    }
   ],
   "source": [
    "files_json[Country]['items'][0]['etag']"
   ]
  },
  {
   "cell_type": "code",
   "execution_count": 75,
   "metadata": {},
   "outputs": [
    {
     "data": {
      "text/plain": [
       "'1'"
      ]
     },
     "execution_count": 75,
     "metadata": {},
     "output_type": "execute_result"
    }
   ],
   "source": [
    "files_json[Country]['items'][0]['id']"
   ]
  },
  {
   "cell_type": "code",
   "execution_count": 76,
   "metadata": {
    "scrolled": true
   },
   "outputs": [
    {
     "data": {
      "text/plain": [
       "{'channelId': 'UCBR8-60-B28hp2BmDPdntcQ',\n",
       " 'title': 'Film & Animation',\n",
       " 'assignable': True}"
      ]
     },
     "execution_count": 76,
     "metadata": {},
     "output_type": "execute_result"
    }
   ],
   "source": [
    "files_json[Country]['items'][0]['snippet']"
   ]
  },
  {
   "cell_type": "code",
   "execution_count": 77,
   "metadata": {},
   "outputs": [
    {
     "data": {
      "text/plain": [
       "'UCBR8-60-B28hp2BmDPdntcQ'"
      ]
     },
     "execution_count": 77,
     "metadata": {},
     "output_type": "execute_result"
    }
   ],
   "source": [
    "files_json[Country]['items'][0]['snippet']['channelId']"
   ]
  },
  {
   "cell_type": "code",
   "execution_count": 78,
   "metadata": {},
   "outputs": [
    {
     "data": {
      "text/plain": [
       "'Film & Animation'"
      ]
     },
     "execution_count": 78,
     "metadata": {},
     "output_type": "execute_result"
    }
   ],
   "source": [
    "files_json[Country]['items'][0]['snippet']['title']"
   ]
  },
  {
   "cell_type": "code",
   "execution_count": 79,
   "metadata": {},
   "outputs": [
    {
     "data": {
      "text/plain": [
       "True"
      ]
     },
     "execution_count": 79,
     "metadata": {},
     "output_type": "execute_result"
    }
   ],
   "source": [
    "files_json[Country]['items'][0]['snippet']['assignable']"
   ]
  },
  {
   "cell_type": "markdown",
   "metadata": {},
   "source": [
    "### Kind of info in csv files"
   ]
  },
  {
   "cell_type": "code",
   "execution_count": 80,
   "metadata": {},
   "outputs": [],
   "source": [
    "#Kind of info in csv files"
   ]
  },
  {
   "cell_type": "code",
   "execution_count": 81,
   "metadata": {},
   "outputs": [
    {
     "data": {
      "text/html": [
       "<div>\n",
       "<style scoped>\n",
       "    .dataframe tbody tr th:only-of-type {\n",
       "        vertical-align: middle;\n",
       "    }\n",
       "\n",
       "    .dataframe tbody tr th {\n",
       "        vertical-align: top;\n",
       "    }\n",
       "\n",
       "    .dataframe thead th {\n",
       "        text-align: right;\n",
       "    }\n",
       "</style>\n",
       "<table border=\"1\" class=\"dataframe\">\n",
       "  <thead>\n",
       "    <tr style=\"text-align: right;\">\n",
       "      <th></th>\n",
       "      <th>category_id</th>\n",
       "      <th>views</th>\n",
       "      <th>likes</th>\n",
       "      <th>dislikes</th>\n",
       "      <th>comment_count</th>\n",
       "    </tr>\n",
       "  </thead>\n",
       "  <tbody>\n",
       "    <tr>\n",
       "      <th>count</th>\n",
       "      <td>38916.000000</td>\n",
       "      <td>3.891600e+04</td>\n",
       "      <td>3.891600e+04</td>\n",
       "      <td>3.891600e+04</td>\n",
       "      <td>3.891600e+04</td>\n",
       "    </tr>\n",
       "    <tr>\n",
       "      <th>mean</th>\n",
       "      <td>16.827937</td>\n",
       "      <td>5.911944e+06</td>\n",
       "      <td>1.345196e+05</td>\n",
       "      <td>7.612560e+03</td>\n",
       "      <td>1.308835e+04</td>\n",
       "    </tr>\n",
       "    <tr>\n",
       "      <th>std</th>\n",
       "      <td>7.752728</td>\n",
       "      <td>1.900121e+07</td>\n",
       "      <td>3.499893e+05</td>\n",
       "      <td>5.095683e+04</td>\n",
       "      <td>5.066740e+04</td>\n",
       "    </tr>\n",
       "    <tr>\n",
       "      <th>min</th>\n",
       "      <td>1.000000</td>\n",
       "      <td>8.510000e+02</td>\n",
       "      <td>0.000000e+00</td>\n",
       "      <td>0.000000e+00</td>\n",
       "      <td>0.000000e+00</td>\n",
       "    </tr>\n",
       "    <tr>\n",
       "      <th>25%</th>\n",
       "      <td>10.000000</td>\n",
       "      <td>2.515272e+05</td>\n",
       "      <td>5.897000e+03</td>\n",
       "      <td>2.000000e+02</td>\n",
       "      <td>6.790000e+02</td>\n",
       "    </tr>\n",
       "    <tr>\n",
       "      <th>50%</th>\n",
       "      <td>20.000000</td>\n",
       "      <td>9.818890e+05</td>\n",
       "      <td>2.518250e+04</td>\n",
       "      <td>8.210000e+02</td>\n",
       "      <td>2.478000e+03</td>\n",
       "    </tr>\n",
       "    <tr>\n",
       "      <th>75%</th>\n",
       "      <td>24.000000</td>\n",
       "      <td>3.683628e+06</td>\n",
       "      <td>1.140892e+05</td>\n",
       "      <td>3.357500e+03</td>\n",
       "      <td>9.241500e+03</td>\n",
       "    </tr>\n",
       "    <tr>\n",
       "      <th>max</th>\n",
       "      <td>43.000000</td>\n",
       "      <td>4.245389e+08</td>\n",
       "      <td>5.613827e+06</td>\n",
       "      <td>1.944971e+06</td>\n",
       "      <td>1.626501e+06</td>\n",
       "    </tr>\n",
       "  </tbody>\n",
       "</table>\n",
       "</div>"
      ],
      "text/plain": [
       "        category_id         views         likes      dislikes  comment_count\n",
       "count  38916.000000  3.891600e+04  3.891600e+04  3.891600e+04   3.891600e+04\n",
       "mean      16.827937  5.911944e+06  1.345196e+05  7.612560e+03   1.308835e+04\n",
       "std        7.752728  1.900121e+07  3.499893e+05  5.095683e+04   5.066740e+04\n",
       "min        1.000000  8.510000e+02  0.000000e+00  0.000000e+00   0.000000e+00\n",
       "25%       10.000000  2.515272e+05  5.897000e+03  2.000000e+02   6.790000e+02\n",
       "50%       20.000000  9.818890e+05  2.518250e+04  8.210000e+02   2.478000e+03\n",
       "75%       24.000000  3.683628e+06  1.140892e+05  3.357500e+03   9.241500e+03\n",
       "max       43.000000  4.245389e+08  5.613827e+06  1.944971e+06   1.626501e+06"
      ]
     },
     "execution_count": 81,
     "metadata": {},
     "output_type": "execute_result"
    }
   ],
   "source": [
    "files_csv[Country].describe()"
   ]
  },
  {
   "cell_type": "code",
   "execution_count": 82,
   "metadata": {},
   "outputs": [
    {
     "data": {
      "text/html": [
       "<div>\n",
       "<style scoped>\n",
       "    .dataframe tbody tr th:only-of-type {\n",
       "        vertical-align: middle;\n",
       "    }\n",
       "\n",
       "    .dataframe tbody tr th {\n",
       "        vertical-align: top;\n",
       "    }\n",
       "\n",
       "    .dataframe thead th {\n",
       "        text-align: right;\n",
       "    }\n",
       "</style>\n",
       "<table border=\"1\" class=\"dataframe\">\n",
       "  <thead>\n",
       "    <tr style=\"text-align: right;\">\n",
       "      <th></th>\n",
       "      <th>video_id</th>\n",
       "      <th>trending_date</th>\n",
       "      <th>title</th>\n",
       "      <th>channel_title</th>\n",
       "      <th>category_id</th>\n",
       "      <th>publish_time</th>\n",
       "      <th>tags</th>\n",
       "      <th>views</th>\n",
       "      <th>likes</th>\n",
       "      <th>dislikes</th>\n",
       "      <th>comment_count</th>\n",
       "      <th>thumbnail_link</th>\n",
       "      <th>comments_disabled</th>\n",
       "      <th>ratings_disabled</th>\n",
       "      <th>video_error_or_removed</th>\n",
       "      <th>description</th>\n",
       "    </tr>\n",
       "  </thead>\n",
       "  <tbody>\n",
       "    <tr>\n",
       "      <th>0</th>\n",
       "      <td>Jw1Y-zhQURU</td>\n",
       "      <td>17.14.11</td>\n",
       "      <td>John Lewis Christmas Ad 2017 - #MozTheMonster</td>\n",
       "      <td>John Lewis</td>\n",
       "      <td>26</td>\n",
       "      <td>2017-11-10T07:38:29.000Z</td>\n",
       "      <td>christmas|\"john lewis christmas\"|\"john lewis\"|...</td>\n",
       "      <td>7224515</td>\n",
       "      <td>55681</td>\n",
       "      <td>10247</td>\n",
       "      <td>9479</td>\n",
       "      <td>https://i.ytimg.com/vi/Jw1Y-zhQURU/default.jpg</td>\n",
       "      <td>False</td>\n",
       "      <td>False</td>\n",
       "      <td>False</td>\n",
       "      <td>Click here to continue the story and make your...</td>\n",
       "    </tr>\n",
       "    <tr>\n",
       "      <th>1</th>\n",
       "      <td>3s1rvMFUweQ</td>\n",
       "      <td>17.14.11</td>\n",
       "      <td>Taylor Swift: …Ready for It? (Live) - SNL</td>\n",
       "      <td>Saturday Night Live</td>\n",
       "      <td>24</td>\n",
       "      <td>2017-11-12T06:24:44.000Z</td>\n",
       "      <td>SNL|\"Saturday Night Live\"|\"SNL Season 43\"|\"Epi...</td>\n",
       "      <td>1053632</td>\n",
       "      <td>25561</td>\n",
       "      <td>2294</td>\n",
       "      <td>2757</td>\n",
       "      <td>https://i.ytimg.com/vi/3s1rvMFUweQ/default.jpg</td>\n",
       "      <td>False</td>\n",
       "      <td>False</td>\n",
       "      <td>False</td>\n",
       "      <td>Musical guest Taylor Swift performs …Ready for...</td>\n",
       "    </tr>\n",
       "    <tr>\n",
       "      <th>2</th>\n",
       "      <td>n1WpP7iowLc</td>\n",
       "      <td>17.14.11</td>\n",
       "      <td>Eminem - Walk On Water (Audio) ft. Beyoncé</td>\n",
       "      <td>EminemVEVO</td>\n",
       "      <td>10</td>\n",
       "      <td>2017-11-10T17:00:03.000Z</td>\n",
       "      <td>Eminem|\"Walk\"|\"On\"|\"Water\"|\"Aftermath/Shady/In...</td>\n",
       "      <td>17158579</td>\n",
       "      <td>787420</td>\n",
       "      <td>43420</td>\n",
       "      <td>125882</td>\n",
       "      <td>https://i.ytimg.com/vi/n1WpP7iowLc/default.jpg</td>\n",
       "      <td>False</td>\n",
       "      <td>False</td>\n",
       "      <td>False</td>\n",
       "      <td>Eminem's new track Walk on Water ft. Beyoncé i...</td>\n",
       "    </tr>\n",
       "    <tr>\n",
       "      <th>3</th>\n",
       "      <td>PUTEiSjKwJU</td>\n",
       "      <td>17.14.11</td>\n",
       "      <td>Goals from Salford City vs Class of 92 and Fri...</td>\n",
       "      <td>Salford City Football Club</td>\n",
       "      <td>17</td>\n",
       "      <td>2017-11-13T02:30:38.000Z</td>\n",
       "      <td>Salford City FC|\"Salford City\"|\"Salford\"|\"Clas...</td>\n",
       "      <td>27833</td>\n",
       "      <td>193</td>\n",
       "      <td>12</td>\n",
       "      <td>37</td>\n",
       "      <td>https://i.ytimg.com/vi/PUTEiSjKwJU/default.jpg</td>\n",
       "      <td>False</td>\n",
       "      <td>False</td>\n",
       "      <td>False</td>\n",
       "      <td>Salford drew 4-4 against the Class of 92 and F...</td>\n",
       "    </tr>\n",
       "    <tr>\n",
       "      <th>4</th>\n",
       "      <td>rHwDegptbI4</td>\n",
       "      <td>17.14.11</td>\n",
       "      <td>Dashcam captures truck's near miss with child ...</td>\n",
       "      <td>Cute Girl Videos</td>\n",
       "      <td>25</td>\n",
       "      <td>2017-11-13T01:45:13.000Z</td>\n",
       "      <td>[none]</td>\n",
       "      <td>9815</td>\n",
       "      <td>30</td>\n",
       "      <td>2</td>\n",
       "      <td>30</td>\n",
       "      <td>https://i.ytimg.com/vi/rHwDegptbI4/default.jpg</td>\n",
       "      <td>False</td>\n",
       "      <td>False</td>\n",
       "      <td>False</td>\n",
       "      <td>Dashcam captures truck's near miss with child ...</td>\n",
       "    </tr>\n",
       "  </tbody>\n",
       "</table>\n",
       "</div>"
      ],
      "text/plain": [
       "      video_id trending_date  \\\n",
       "0  Jw1Y-zhQURU      17.14.11   \n",
       "1  3s1rvMFUweQ      17.14.11   \n",
       "2  n1WpP7iowLc      17.14.11   \n",
       "3  PUTEiSjKwJU      17.14.11   \n",
       "4  rHwDegptbI4      17.14.11   \n",
       "\n",
       "                                               title  \\\n",
       "0      John Lewis Christmas Ad 2017 - #MozTheMonster   \n",
       "1          Taylor Swift: …Ready for It? (Live) - SNL   \n",
       "2         Eminem - Walk On Water (Audio) ft. Beyoncé   \n",
       "3  Goals from Salford City vs Class of 92 and Fri...   \n",
       "4  Dashcam captures truck's near miss with child ...   \n",
       "\n",
       "                channel_title  category_id              publish_time  \\\n",
       "0                  John Lewis           26  2017-11-10T07:38:29.000Z   \n",
       "1         Saturday Night Live           24  2017-11-12T06:24:44.000Z   \n",
       "2                  EminemVEVO           10  2017-11-10T17:00:03.000Z   \n",
       "3  Salford City Football Club           17  2017-11-13T02:30:38.000Z   \n",
       "4            Cute Girl Videos           25  2017-11-13T01:45:13.000Z   \n",
       "\n",
       "                                                tags     views   likes  \\\n",
       "0  christmas|\"john lewis christmas\"|\"john lewis\"|...   7224515   55681   \n",
       "1  SNL|\"Saturday Night Live\"|\"SNL Season 43\"|\"Epi...   1053632   25561   \n",
       "2  Eminem|\"Walk\"|\"On\"|\"Water\"|\"Aftermath/Shady/In...  17158579  787420   \n",
       "3  Salford City FC|\"Salford City\"|\"Salford\"|\"Clas...     27833     193   \n",
       "4                                             [none]      9815      30   \n",
       "\n",
       "   dislikes  comment_count                                  thumbnail_link  \\\n",
       "0     10247           9479  https://i.ytimg.com/vi/Jw1Y-zhQURU/default.jpg   \n",
       "1      2294           2757  https://i.ytimg.com/vi/3s1rvMFUweQ/default.jpg   \n",
       "2     43420         125882  https://i.ytimg.com/vi/n1WpP7iowLc/default.jpg   \n",
       "3        12             37  https://i.ytimg.com/vi/PUTEiSjKwJU/default.jpg   \n",
       "4         2             30  https://i.ytimg.com/vi/rHwDegptbI4/default.jpg   \n",
       "\n",
       "   comments_disabled  ratings_disabled  video_error_or_removed  \\\n",
       "0              False             False                   False   \n",
       "1              False             False                   False   \n",
       "2              False             False                   False   \n",
       "3              False             False                   False   \n",
       "4              False             False                   False   \n",
       "\n",
       "                                         description  \n",
       "0  Click here to continue the story and make your...  \n",
       "1  Musical guest Taylor Swift performs …Ready for...  \n",
       "2  Eminem's new track Walk on Water ft. Beyoncé i...  \n",
       "3  Salford drew 4-4 against the Class of 92 and F...  \n",
       "4  Dashcam captures truck's near miss with child ...  "
      ]
     },
     "execution_count": 82,
     "metadata": {},
     "output_type": "execute_result"
    }
   ],
   "source": [
    "files_csv[Country].head()"
   ]
  },
  {
   "cell_type": "code",
   "execution_count": 83,
   "metadata": {},
   "outputs": [
    {
     "data": {
      "text/plain": [
       "Index(['video_id', 'trending_date', 'title', 'channel_title', 'category_id',\n",
       "       'publish_time', 'tags', 'views', 'likes', 'dislikes', 'comment_count',\n",
       "       'thumbnail_link', 'comments_disabled', 'ratings_disabled',\n",
       "       'video_error_or_removed', 'description'],\n",
       "      dtype='object')"
      ]
     },
     "execution_count": 83,
     "metadata": {},
     "output_type": "execute_result"
    }
   ],
   "source": [
    "files_csv[Country].columns"
   ]
  },
  {
   "cell_type": "code",
   "execution_count": 84,
   "metadata": {},
   "outputs": [
    {
     "data": {
      "text/plain": [
       "array(['Jw1Y-zhQURU', '3s1rvMFUweQ', 'n1WpP7iowLc', ..., 'V15BYnSr0P8',\n",
       "       'BOhylL90UVQ', '14G7Qw5DC9M'], dtype=object)"
      ]
     },
     "execution_count": 84,
     "metadata": {},
     "output_type": "execute_result"
    }
   ],
   "source": [
    "files_csv[Country]['video_id'].unique()"
   ]
  },
  {
   "cell_type": "code",
   "execution_count": 85,
   "metadata": {},
   "outputs": [
    {
     "data": {
      "text/plain": [
       "array(['17.14.11', '17.15.11', '17.16.11', '17.17.11', '17.18.11',\n",
       "       '17.19.11', '17.20.11', '17.21.11', '17.22.11', '17.23.11',\n",
       "       '17.24.11', '17.25.11', '17.26.11', '17.27.11', '17.28.11',\n",
       "       '17.29.11', '17.30.11', '17.01.12', '17.02.12', '17.03.12',\n",
       "       '17.04.12', '17.05.12', '17.06.12', '17.07.12', '17.08.12',\n",
       "       '17.09.12', '17.10.12', '17.11.12', '17.12.12', '17.13.12',\n",
       "       '17.14.12', '17.15.12', '17.16.12', '17.17.12', '17.18.12',\n",
       "       '17.19.12', '17.20.12', '17.21.12', '17.22.12', '17.23.12',\n",
       "       '17.24.12', '17.25.12', '17.26.12', '17.27.12', '17.28.12',\n",
       "       '17.29.12', '17.30.12', '17.31.12', '18.01.01', '18.02.01',\n",
       "       '18.03.01', '18.04.01', '18.05.01', '18.06.01', '18.07.01',\n",
       "       '18.08.01', '18.09.01', '18.12.01', '18.13.01', '18.14.01',\n",
       "       '18.15.01', '18.16.01', '18.17.01', '18.18.01', '18.19.01',\n",
       "       '18.20.01', '18.21.01', '18.22.01', '18.23.01', '18.24.01',\n",
       "       '18.25.01', '18.26.01', '18.27.01', '18.28.01', '18.29.01',\n",
       "       '18.30.01', '18.31.01', '18.01.02', '18.02.02', '18.03.02',\n",
       "       '18.04.02', '18.05.02', '18.06.02', '18.07.02', '18.08.02',\n",
       "       '18.09.02', '18.10.02', '18.11.02', '18.12.02', '18.13.02',\n",
       "       '18.14.02', '18.15.02', '18.16.02', '18.17.02', '18.18.02',\n",
       "       '18.19.02', '18.20.02', '18.21.02', '18.22.02', '18.23.02',\n",
       "       '18.24.02', '18.25.02', '18.26.02', '18.27.02', '18.28.02',\n",
       "       '18.01.03', '18.02.03', '18.03.03', '18.04.03', '18.05.03',\n",
       "       '18.06.03', '18.07.03', '18.08.03', '18.09.03', '18.10.03',\n",
       "       '18.11.03', '18.12.03', '18.13.03', '18.14.03', '18.15.03',\n",
       "       '18.16.03', '18.17.03', '18.18.03', '18.19.03', '18.20.03',\n",
       "       '18.21.03', '18.22.03', '18.23.03', '18.24.03', '18.25.03',\n",
       "       '18.26.03', '18.27.03', '18.28.03', '18.29.03', '18.30.03',\n",
       "       '18.31.03', '18.01.04', '18.02.04', '18.03.04', '18.04.04',\n",
       "       '18.05.04', '18.06.04', '18.07.04', '18.14.04', '18.15.04',\n",
       "       '18.16.04', '18.17.04', '18.18.04', '18.19.04', '18.20.04',\n",
       "       '18.21.04', '18.22.04', '18.23.04', '18.24.04', '18.25.04',\n",
       "       '18.26.04', '18.27.04', '18.28.04', '18.29.04', '18.30.04',\n",
       "       '18.01.05', '18.02.05', '18.03.05', '18.04.05', '18.05.05',\n",
       "       '18.06.05', '18.07.05', '18.08.05', '18.09.05', '18.10.05',\n",
       "       '18.11.05', '18.12.05', '18.13.05', '18.14.05', '18.15.05',\n",
       "       '18.16.05', '18.17.05', '18.18.05', '18.19.05', '18.20.05',\n",
       "       '18.21.05', '18.22.05', '18.23.05', '18.24.05', '18.25.05',\n",
       "       '18.26.05', '18.27.05', '18.28.05', '18.29.05', '18.30.05',\n",
       "       '18.31.05', '18.01.06', '18.02.06', '18.03.06', '18.04.06',\n",
       "       '18.05.06', '18.06.06', '18.07.06', '18.08.06', '18.09.06',\n",
       "       '18.10.06', '18.11.06', '18.12.06', '18.13.06', '18.14.06'],\n",
       "      dtype=object)"
      ]
     },
     "execution_count": 85,
     "metadata": {},
     "output_type": "execute_result"
    }
   ],
   "source": [
    "files_csv[Country]['trending_date'].unique()"
   ]
  },
  {
   "cell_type": "code",
   "execution_count": 86,
   "metadata": {},
   "outputs": [
    {
     "data": {
      "text/plain": [
       "array(['John Lewis Christmas Ad 2017 - #MozTheMonster',\n",
       "       'Taylor Swift: …Ready for It? (Live) - SNL',\n",
       "       'Eminem - Walk On Water (Audio) ft. Beyoncé', ...,\n",
       "       'Live It Up (Official Video) - Nicky Jam feat. Will Smith & Era Istrefi (2018 FIFA World Cup Russia)',\n",
       "       'The Chainsmokers - Somebody ft. Drew Love (Rory Kramer Vision)',\n",
       "       '17 FUN LIFE HACKS YOU WILL WANT TO TRY YOURSELF'], dtype=object)"
      ]
     },
     "execution_count": 86,
     "metadata": {},
     "output_type": "execute_result"
    }
   ],
   "source": [
    "files_csv[Country]['title'].unique()"
   ]
  },
  {
   "cell_type": "code",
   "execution_count": 87,
   "metadata": {},
   "outputs": [
    {
     "data": {
      "text/plain": [
       "array(['John Lewis', 'Saturday Night Live', 'EminemVEVO', ...,\n",
       "       'Семен Слепаков', 'The Chainsmokers', '5-Minute Crafts'],\n",
       "      dtype=object)"
      ]
     },
     "execution_count": 87,
     "metadata": {},
     "output_type": "execute_result"
    }
   ],
   "source": [
    "files_csv[Country]['channel_title'].unique()"
   ]
  },
  {
   "cell_type": "code",
   "execution_count": 88,
   "metadata": {},
   "outputs": [
    {
     "data": {
      "text/plain": [
       "array(['2017-11-10T07:38:29.000Z', '2017-11-12T06:24:44.000Z',\n",
       "       '2017-11-10T17:00:03.000Z', ..., '2018-06-08T11:58:38.000Z',\n",
       "       '2018-06-09T16:00:00.000Z', '2018-05-18T07:30:00.000Z'],\n",
       "      dtype=object)"
      ]
     },
     "execution_count": 88,
     "metadata": {},
     "output_type": "execute_result"
    }
   ],
   "source": [
    "files_csv[Country]['publish_time'].unique()"
   ]
  },
  {
   "cell_type": "code",
   "execution_count": 89,
   "metadata": {},
   "outputs": [
    {
     "data": {
      "text/plain": [
       "array(['christmas|\"john lewis christmas\"|\"john lewis\"|\"christmas ad\"|\"mozthemonster\"|\"christmas 2017\"|\"christmas ad 2017\"|\"john lewis christmas advert\"|\"moz\"',\n",
       "       'SNL|\"Saturday Night Live\"|\"SNL Season 43\"|\"Episode 1730\"|\"Tiffany Haddish\"|\"Taylor Swift\"|\"Taylor Swift Ready for It\"|\"s43\"|\"s43e5\"|\"episode 5\"|\"live\"|\"new york\"|\"comedy\"|\"sketch\"|\"funny\"|\"hilarious\"|\"late night\"|\"host\"|\"music\"|\"guest\"|\"laugh\"|\"impersonation\"|\"actor\"|\"improv\"|\"musician\"|\"comedian\"|\"actress\"|\"If Loving You Is Wrong\"|\"Oprah Winfrey\"|\"OWN\"|\"Girls Trip\"|\"The Carmichael Show\"|\"Keanu\"|\"Reputation\"|\"Look What You Made Me Do\"|\"ready for it?\"',\n",
       "       'Eminem|\"Walk\"|\"On\"|\"Water\"|\"Aftermath/Shady/Interscope\"|\"Rap\"',\n",
       "       ...,\n",
       "       'capitalfmofficial|\"capital\"|\"capital fm\"|\"capital radio\"|\"radio\"|\"official\"|\"remix\"|\"lyrics\"|\"official video\"|\"live\"|\"capital tv\"|\"interview\"|\"summertime ball\"|\"stb\"|\"capital summertime ball 2018\"|\"capital stb\"|\"camila cabello live\"|\"camila summertime ball\"|\"camila cabello summertime ball\"|\"fifth harmony\"|\"fifth harmony live\"|\"camila fifth harmony\"|\"harmonisers\"|\"harmonizers\"',\n",
       "       'The Chainsmokers Somebody|\"Chainsmokers Somebody\"|\"Somedy Drew Love\"|\"The Chainsmokers Somebody Drew Love\"|\"The Chainsmokers\"|\"Rory Kramer\"|\"Rory Kramer Vision\"|\"Somebody Rory Kramer\"|\"Rory Kramer Somebody\"|\"The Chainsmokers Rory Kramer\"|\"Somebody Chainsmokers Rory\"|\"The Chainsmokers Somebody official video\"|\"official video\"|\"Lil Dicky\"|\"G-Eazy\"|\"Halsey\"|\"Andrew Watt\"',\n",
       "       '5-Minute Crafts|\"DIY\"|\"Do it yourself\"|\"crafts\"|\"trucos\"|\"trucos de belliza\"|\"proyectos faciles\"|\"useful things\"|\"lifehacks\"|\"tricks\"|\"tips\"|\"DIY projects\"|\"DIY activities\"|\"Handcraft\"|\"Tutorial\"|\"balloon\"|\"balloons\"|\"confettis\"|\"how to\"|\"make\"|\"create\"|\"design\"|\"invent\"|\"festive event\"|\"birthday party\"|\"gifts\"|\"presents\"|\"gift\"|\"present\"|\"gift wrapping\"|\"toothy pictures\"|\"drawing\"|\"painting\"|\"pull tab\"|\"rubber band\"|\"straw hand\"'],\n",
       "      dtype=object)"
      ]
     },
     "execution_count": 89,
     "metadata": {},
     "output_type": "execute_result"
    }
   ],
   "source": [
    "files_csv[Country]['tags'].unique()"
   ]
  },
  {
   "cell_type": "code",
   "execution_count": 90,
   "metadata": {},
   "outputs": [
    {
     "data": {
      "text/html": [
       "<div>\n",
       "<style scoped>\n",
       "    .dataframe tbody tr th:only-of-type {\n",
       "        vertical-align: middle;\n",
       "    }\n",
       "\n",
       "    .dataframe tbody tr th {\n",
       "        vertical-align: top;\n",
       "    }\n",
       "\n",
       "    .dataframe thead th {\n",
       "        text-align: right;\n",
       "    }\n",
       "</style>\n",
       "<table border=\"1\" class=\"dataframe\">\n",
       "  <thead>\n",
       "    <tr style=\"text-align: right;\">\n",
       "      <th></th>\n",
       "      <th>tags</th>\n",
       "    </tr>\n",
       "  </thead>\n",
       "  <tbody>\n",
       "    <tr>\n",
       "      <th>[none]</th>\n",
       "      <td>2010</td>\n",
       "    </tr>\n",
       "    <tr>\n",
       "      <th>James Corden|\"The Late Late Show\"|\"Colbert\"|\"late night\"|\"late night show\"|\"Stephen Colbert\"|\"Comedy\"|\"monologue\"|\"comedian\"|\"impressions\"|\"celebrities\"|\"carpool\"|\"karaoke\"|\"CBS\"|\"Late Late Show\"|\"Corden\"|\"joke\"|\"jokes\"|\"funny\"|\"funny video\"|\"funny videos\"|\"humor\"|\"celebrity\"|\"celeb\"|\"hollywood\"|\"famous\"</th>\n",
       "      <td>100</td>\n",
       "    </tr>\n",
       "    <tr>\n",
       "      <th>BIGHIT|\"빅히트\"|\"방탄소년단\"|\"BTS\"|\"BANGTAN\"|\"방탄\"</th>\n",
       "      <td>94</td>\n",
       "    </tr>\n",
       "    <tr>\n",
       "      <th>ABC|\"americanidol\"|\"idol\"|\"american idol\"|\"ryan\"|\"seacrest\"|\"ryan seacrest\"|\"katy\"|\"perry\"|\"katy perry\"|\"luke\"|\"bryan\"|\"luke bryan\"|\"lionel\"|\"richie\"|\"lionel richie\"|\"season 16\"|\"american idol XVI\"|\"television\"|\"ad\"|\"spring\"|\"2018\"|\"music\"|\"reality\"|\"competition\"|\"song\"|\"sing\"|\"audition\"|\"auditions\"|\"performance\"|\"live\"|\"fox\"|\"AI\"|\"hollywood\"|\"contestant\"|\"official\"|\"american\"|\"official american idol\"|\"hollywood week\"|\"hometown audition\"</th>\n",
       "      <td>89</td>\n",
       "    </tr>\n",
       "    <tr>\n",
       "      <th>The Late Show|\"Stephen Colbert\"|\"Colbert\"|\"Late Show\"|\"celebrities\"|\"late night\"|\"talk show\"|\"skits\"|\"bit\"|\"monologue\"|\"The Late Late Show\"|\"Late Late Show\"|\"letterman\"|\"david letterman\"|\"comedian\"|\"impressions\"|\"CBS\"|\"joke\"|\"jokes\"|\"funny\"|\"funny video\"|\"funny videos\"|\"humor\"|\"celebrity\"|\"celeb\"|\"hollywood\"|\"famous\"|\"James Corden\"|\"Corden\"|\"Comedy\"</th>\n",
       "      <td>77</td>\n",
       "    </tr>\n",
       "    <tr>\n",
       "      <th>...</th>\n",
       "      <td>...</td>\n",
       "    </tr>\n",
       "    <tr>\n",
       "      <th>Star Wars|\"Rey\"|\"Luke Skywalker\"|\"A New Hope\"</th>\n",
       "      <td>1</td>\n",
       "    </tr>\n",
       "    <tr>\n",
       "      <th>Dua Lipa|\"Arctic Monkeys\"|\"Dua Lipa do i wanna know\"|\"do i wanna know\"|\"live lounge\"|\"New rules\"|\"Idgaf\"|\"Arctic monkeys cover\"</th>\n",
       "      <td>1</td>\n",
       "    </tr>\n",
       "    <tr>\n",
       "      <th>Cardi B|\"Be Careful\"|\"Bodak Yellow\"|\"Invasion of Privacy\"|\"Love and Hip Hop\"|\"Audio\"|\"Official Audio\"|\"New Cardi B\"|\"No Limit\"|\"No Limit Cardi B\"|\"Cardi B Bodak Yellow\"|\"Bartier Cardi\"|\"Bronx\"|\"New York\"|\"Official\"</th>\n",
       "      <td>1</td>\n",
       "    </tr>\n",
       "    <tr>\n",
       "      <th>carrie hope fletcher|\"youtube\"|\"vlogger\"|\"travel\"|\"singapore\"|\"the addams family\"|\"backstage\"|\"behind the scenes\"|\"friends\"|\"cast\"|\"acting\"|\"theatre\"|\"west end\"|\"uk tour\"|\"singing\"|\"songs\"|\"andrew lippa\"|\"cameron blakely\"|\"oliver ormson\"|\"scott paige\"</th>\n",
       "      <td>1</td>\n",
       "    </tr>\n",
       "    <tr>\n",
       "      <th>slave trade|\"libya slave trade\"|\"cnn freedom project\"|\"nima elbagir\"|\"slaves\"|\"slaves trade\"|\"slaves sold\"|\"tripoli\"</th>\n",
       "      <td>1</td>\n",
       "    </tr>\n",
       "  </tbody>\n",
       "</table>\n",
       "<p>3122 rows × 1 columns</p>\n",
       "</div>"
      ],
      "text/plain": [
       "                                                    tags\n",
       "[none]                                              2010\n",
       "James Corden|\"The Late Late Show\"|\"Colbert\"|\"la...   100\n",
       "BIGHIT|\"빅히트\"|\"방탄소년단\"|\"BTS\"|\"BANGTAN\"|\"방탄\"             94\n",
       "ABC|\"americanidol\"|\"idol\"|\"american idol\"|\"ryan...    89\n",
       "The Late Show|\"Stephen Colbert\"|\"Colbert\"|\"Late...    77\n",
       "...                                                  ...\n",
       "Star Wars|\"Rey\"|\"Luke Skywalker\"|\"A New Hope\"          1\n",
       "Dua Lipa|\"Arctic Monkeys\"|\"Dua Lipa do i wanna ...     1\n",
       "Cardi B|\"Be Careful\"|\"Bodak Yellow\"|\"Invasion o...     1\n",
       "carrie hope fletcher|\"youtube\"|\"vlogger\"|\"trave...     1\n",
       "slave trade|\"libya slave trade\"|\"cnn freedom pr...     1\n",
       "\n",
       "[3122 rows x 1 columns]"
      ]
     },
     "execution_count": 90,
     "metadata": {},
     "output_type": "execute_result"
    }
   ],
   "source": [
    "pd.DataFrame(files_csv[Country]['tags'].value_counts())"
   ]
  },
  {
   "cell_type": "code",
   "execution_count": 91,
   "metadata": {},
   "outputs": [
    {
     "data": {
      "text/plain": [
       "array([ 7224515,  1053632, 17158579, ..., 29641412, 14317515,   607552])"
      ]
     },
     "execution_count": 91,
     "metadata": {},
     "output_type": "execute_result"
    }
   ],
   "source": [
    "files_csv[Country]['views'].unique()"
   ]
  },
  {
   "cell_type": "code",
   "execution_count": 92,
   "metadata": {},
   "outputs": [
    {
     "data": {
      "text/plain": [
       "array([ 55681,  25561, 787420, ...,  61998, 394830, 151870])"
      ]
     },
     "execution_count": 92,
     "metadata": {},
     "output_type": "execute_result"
    }
   ],
   "source": [
    "files_csv[Country]['likes'].unique()"
   ]
  },
  {
   "cell_type": "code",
   "execution_count": 93,
   "metadata": {},
   "outputs": [
    {
     "data": {
      "text/plain": [
       "array([10247,  2294, 43420, ..., 13781,  8892, 45875])"
      ]
     },
     "execution_count": 93,
     "metadata": {},
     "output_type": "execute_result"
    }
   ],
   "source": [
    "files_csv[Country]['dislikes'].unique()"
   ]
  },
  {
   "cell_type": "code",
   "execution_count": 94,
   "metadata": {},
   "outputs": [
    {
     "data": {
      "text/plain": [
       "array([  9479,   2757, 125882, ...,  24330,  19988,  26766])"
      ]
     },
     "execution_count": 94,
     "metadata": {},
     "output_type": "execute_result"
    }
   ],
   "source": [
    "files_csv[Country]['comment_count'].unique()"
   ]
  },
  {
   "cell_type": "code",
   "execution_count": 95,
   "metadata": {},
   "outputs": [
    {
     "data": {
      "text/plain": [
       "array(['https://i.ytimg.com/vi/Jw1Y-zhQURU/default.jpg',\n",
       "       'https://i.ytimg.com/vi/3s1rvMFUweQ/default.jpg',\n",
       "       'https://i.ytimg.com/vi/n1WpP7iowLc/default.jpg', ...,\n",
       "       'https://i.ytimg.com/vi/V15BYnSr0P8/default.jpg',\n",
       "       'https://i.ytimg.com/vi/BOhylL90UVQ/default.jpg',\n",
       "       'https://i.ytimg.com/vi/14G7Qw5DC9M/default.jpg'], dtype=object)"
      ]
     },
     "execution_count": 95,
     "metadata": {},
     "output_type": "execute_result"
    }
   ],
   "source": [
    "files_csv[Country]['thumbnail_link'].unique()"
   ]
  },
  {
   "cell_type": "code",
   "execution_count": 96,
   "metadata": {},
   "outputs": [
    {
     "data": {
      "text/plain": [
       "https://i.ytimg.com/vi/u_C4onVrr8U/default.jpg    38\n",
       "https://i.ytimg.com/vi/2z3EUY1aXdY/default.jpg    38\n",
       "https://i.ytimg.com/vi/NooW_RbfdWI/default.jpg    38\n",
       "https://i.ytimg.com/vi/BhIEIO0vaBE/default.jpg    38\n",
       "https://i.ytimg.com/vi/Il-an3K9pjg/default.jpg    38\n",
       "                                                  ..\n",
       "https://i.ytimg.com/vi/aydY1eiGjgs/default.jpg     1\n",
       "https://i.ytimg.com/vi/L424fq8RICQ/default.jpg     1\n",
       "https://i.ytimg.com/vi/RQpGCAkpEtY/default.jpg     1\n",
       "https://i.ytimg.com/vi/Zqh2DS7oIbU/default.jpg     1\n",
       "https://i.ytimg.com/vi/iDXlWTRyxgE/default.jpg     1\n",
       "Name: thumbnail_link, Length: 3272, dtype: int64"
      ]
     },
     "execution_count": 96,
     "metadata": {},
     "output_type": "execute_result"
    }
   ],
   "source": [
    "files_csv[Country]['thumbnail_link'].value_counts()"
   ]
  },
  {
   "cell_type": "code",
   "execution_count": 97,
   "metadata": {},
   "outputs": [
    {
     "data": {
      "text/plain": [
       "array([False,  True])"
      ]
     },
     "execution_count": 97,
     "metadata": {},
     "output_type": "execute_result"
    }
   ],
   "source": [
    "files_csv[Country]['ratings_disabled'].unique()"
   ]
  },
  {
   "cell_type": "code",
   "execution_count": 98,
   "metadata": {},
   "outputs": [
    {
     "data": {
      "text/plain": [
       "array([False,  True])"
      ]
     },
     "execution_count": 98,
     "metadata": {},
     "output_type": "execute_result"
    }
   ],
   "source": [
    "files_csv[Country]['video_error_or_removed'].unique()"
   ]
  },
  {
   "cell_type": "code",
   "execution_count": 99,
   "metadata": {},
   "outputs": [
    {
     "data": {
      "text/plain": [
       "array([\"Click here to continue the story and make your own monster:\\\\nhttp://bit.ly/2mboXgj\\\\n\\\\nJoe befriends a noisy Monster under his bed but the two have so much fun together that he can't get to sleep, leaving him tired by day. For Christmas Joe receives a gift to help him finally get a good night’s sleep.\\\\n\\\\nShop the ad\\\\nhttp://bit.ly/2hg04Lc\\\\n\\\\nThe music is Golden Slumbers performed by elbow, the original song was by The Beatles. \\\\nFind the track:\\\\nhttps://Elbow.lnk.to/GoldenSlumbersXS\\\\n\\\\nSubscribe to this channel for regular video updates\\\\nhttp://bit.ly/2eU8MvW\\\\n\\\\nIf you want to hear more from John Lewis:\\\\n\\\\nLike John Lewis on Facebook\\\\nhttp://www.facebook.com/johnlewisretail\\\\n\\\\nFollow John Lewis on Twitter\\\\nhttp://twitter.com/johnlewisretail\\\\n\\\\nFollow John Lewis on Instagram\\\\nhttp://instagram.com/johnlewisretail\",\n",
       "       'Musical guest Taylor Swift performs …Ready for It? on Saturday Night Live.\\\\n\\\\n#SNL #SNL43\\\\n\\\\nGet more SNL: http://www.nbc.com/saturday-night-live\\\\nFull Episodes: http://www.nbc.com/saturday-night-liv...\\\\n\\\\nLike SNL: https://www.facebook.com/snl\\\\nFollow SNL: https://twitter.com/nbcsnl\\\\nSNL Tumblr: http://nbcsnl.tumblr.com/\\\\nSNL Instagram: http://instagram.com/nbcsnl \\\\nSNL Pinterest: http://www.pinterest.com/nbcsnl/',\n",
       "       \"Eminem's new track Walk on Water ft. Beyoncé is available everywhere: http://shady.sr/WOWEminem \\\\nPlaylist Best of Eminem: https://goo.gl/AquNpo\\\\nSubscribe for more: https://goo.gl/DxCrDV\\\\n\\\\nFor more visit: \\\\nhttp://eminem.com\\\\nhttp://facebook.com/eminem\\\\nhttp://twitter.com/eminem\\\\nhttp://instagram.com/eminem\\\\nhttp://eminem.tumblr.com\\\\nhttp://shadyrecords.com\\\\nhttp://facebook.com/shadyrecords\\\\nhttp://twitter.com/shadyrecords\\\\nhttp://instagram.com/shadyrecords\\\\nhttp://trustshady.tumblr.com\\\\n\\\\nMusic video by Eminem performing Walk On Water. (C) 2017 Aftermath Records\\\\nhttp://vevo.ly/gA7xKt\",\n",
       "       ...,\n",
       "       'The Chainsmokers - Somebody ft. Drew Love (A Rory Kramer Vision)Somebody ft. Drew Love Out Now: http://smarturl.it/TCSsomebody Video by Rory KramerFollow The Chainsmokers: http://www.youtube.com/thechainsmokers http://www.twitter.com/thechainsmokers http://www.facebook.com/thechainsmokers http://www.instagram.com/thechainsmokers http://www.soundcloud.com/thechainsmokers',\n",
       "       \"So here are some incredibly fun life hacks you will want to try yourself!You should totally check out these great ideas for the best party ever!Learn 7 sick dance moves for beginners, find out how to make incredible confetti balloons, floral numbers and letters for room decoration, phone speakers and your own disco ball!It's a perfect chance to spend some quality time with your friends or family and have fun together! Learn how to make soda machine right at home and inflate balloons correctly in a very creative way!Let the fun begin! :)----------------------------------------------------------------------------------------Our Social Media:Facebook: https://www.facebook.com/5min.crafts/Instagram: https://www.instagram.com/5.min.crafts/Twitter: https://twitter.com/5m_craftsSubscribe to 5-Minute Crafts GIRLY: https://goo.gl/fWbJqzSubscribe to 5-Minute Workouts: https://goo.gl/67owiQSubscribe 5-Minute Crafts KIDS: https://goo.gl/PEuLVtThe Bright Side of Youtube: https://goo.gl/rQTJZz----------------------------------------------------------------------------------------For more videos and articles visit:http://www.brightside.me/\",\n",
       "       \"Debut album 'Light of Mine' out now: http://kyle.lnk.to/LightofMineIDFollow SuperDuperKyle:Facebook: https://facebook.com/superduperkylemusicTwitter: https://twitter.com/superduperkyleInstagram: https://instagram.com/superduperkyleSoundCloud: https://soundcloud.com/superduperkylemusicWebsite: http://superduperkyle.comFollow the SuperDuperCrew:https://twitter.com/SuperDuperCrew_https://instagram.com/superdupercrew/https://youtube.com/user/SuperDuperCrewTVKYLE - Ikuyo feat. 2 Chainz & Sophia Black\"],\n",
       "      dtype=object)"
      ]
     },
     "execution_count": 99,
     "metadata": {},
     "output_type": "execute_result"
    }
   ],
   "source": [
    "files_csv[Country]['description'].unique()"
   ]
  },
  {
   "cell_type": "code",
   "execution_count": null,
   "metadata": {},
   "outputs": [],
   "source": []
  },
  {
   "cell_type": "markdown",
   "metadata": {},
   "source": [
    "#  Transform activities"
   ]
  },
  {
   "cell_type": "markdown",
   "metadata": {},
   "source": [
    "Transforming extracted data to get the following DataFrames:\n",
    "\n",
    "* Tag catalog\n",
    "* YouTube Video category catalog\n",
    "* YouTube Video description (video id, category id, video name, link)\n",
    "* YouTube Video insights (likes, dislikes, # of views, category id)\n",
    "* Tag - video id normalization relationship table: containing all video ids and their corresponding tag ids"
   ]
  },
  {
   "cell_type": "markdown",
   "metadata": {},
   "source": [
    "## Tag catalog & Tag normalization table"
   ]
  },
  {
   "cell_type": "markdown",
   "metadata": {},
   "source": [
    "## Tag Normalization table"
   ]
  },
  {
   "cell_type": "code",
   "execution_count": 140,
   "metadata": {},
   "outputs": [
    {
     "data": {
      "text/html": [
       "<div>\n",
       "<style scoped>\n",
       "    .dataframe tbody tr th:only-of-type {\n",
       "        vertical-align: middle;\n",
       "    }\n",
       "\n",
       "    .dataframe tbody tr th {\n",
       "        vertical-align: top;\n",
       "    }\n",
       "\n",
       "    .dataframe thead th {\n",
       "        text-align: right;\n",
       "    }\n",
       "</style>\n",
       "<table border=\"1\" class=\"dataframe\">\n",
       "  <thead>\n",
       "    <tr style=\"text-align: right;\">\n",
       "      <th></th>\n",
       "      <th>video_id</th>\n",
       "      <th>tags</th>\n",
       "    </tr>\n",
       "  </thead>\n",
       "  <tbody>\n",
       "    <tr>\n",
       "      <th>0</th>\n",
       "      <td>Jw1Y-zhQURU</td>\n",
       "      <td>christmas|\"john lewis christmas\"|\"john lewis\"|...</td>\n",
       "    </tr>\n",
       "    <tr>\n",
       "      <th>1</th>\n",
       "      <td>3s1rvMFUweQ</td>\n",
       "      <td>SNL|\"Saturday Night Live\"|\"SNL Season 43\"|\"Epi...</td>\n",
       "    </tr>\n",
       "    <tr>\n",
       "      <th>2</th>\n",
       "      <td>n1WpP7iowLc</td>\n",
       "      <td>Eminem|\"Walk\"|\"On\"|\"Water\"|\"Aftermath/Shady/In...</td>\n",
       "    </tr>\n",
       "    <tr>\n",
       "      <th>3</th>\n",
       "      <td>PUTEiSjKwJU</td>\n",
       "      <td>Salford City FC|\"Salford City\"|\"Salford\"|\"Clas...</td>\n",
       "    </tr>\n",
       "    <tr>\n",
       "      <th>4</th>\n",
       "      <td>rHwDegptbI4</td>\n",
       "      <td>[none]</td>\n",
       "    </tr>\n",
       "    <tr>\n",
       "      <th>...</th>\n",
       "      <td>...</td>\n",
       "      <td>...</td>\n",
       "    </tr>\n",
       "    <tr>\n",
       "      <th>38911</th>\n",
       "      <td>l884wKofd54</td>\n",
       "      <td>Enrique Iglesias feat. Pitbull|\"MOVE TO MIAMI\"...</td>\n",
       "    </tr>\n",
       "    <tr>\n",
       "      <th>38912</th>\n",
       "      <td>IP8k2xkhOdI</td>\n",
       "      <td>jacob sartorius|\"jacob\"|\"up with it\"|\"jacob sa...</td>\n",
       "    </tr>\n",
       "    <tr>\n",
       "      <th>38913</th>\n",
       "      <td>Il-an3K9pjg</td>\n",
       "      <td>anne|\"marie\"|\"anne-marie\"|\"2002\"|\"two thousand...</td>\n",
       "    </tr>\n",
       "    <tr>\n",
       "      <th>38914</th>\n",
       "      <td>-DRsfNObKIQ</td>\n",
       "      <td>Eurovision Song Contest|\"2018\"|\"Lisbon\"|\"Cypru...</td>\n",
       "    </tr>\n",
       "    <tr>\n",
       "      <th>38915</th>\n",
       "      <td>4YFo4bdMO8Q</td>\n",
       "      <td>Kyle|\"SuperDuperKyle\"|\"Ikuyo\"|\"2 Chainz\"|\"Soph...</td>\n",
       "    </tr>\n",
       "  </tbody>\n",
       "</table>\n",
       "<p>38916 rows × 2 columns</p>\n",
       "</div>"
      ],
      "text/plain": [
       "          video_id                                               tags\n",
       "0      Jw1Y-zhQURU  christmas|\"john lewis christmas\"|\"john lewis\"|...\n",
       "1      3s1rvMFUweQ  SNL|\"Saturday Night Live\"|\"SNL Season 43\"|\"Epi...\n",
       "2      n1WpP7iowLc  Eminem|\"Walk\"|\"On\"|\"Water\"|\"Aftermath/Shady/In...\n",
       "3      PUTEiSjKwJU  Salford City FC|\"Salford City\"|\"Salford\"|\"Clas...\n",
       "4      rHwDegptbI4                                             [none]\n",
       "...            ...                                                ...\n",
       "38911  l884wKofd54  Enrique Iglesias feat. Pitbull|\"MOVE TO MIAMI\"...\n",
       "38912  IP8k2xkhOdI  jacob sartorius|\"jacob\"|\"up with it\"|\"jacob sa...\n",
       "38913  Il-an3K9pjg  anne|\"marie\"|\"anne-marie\"|\"2002\"|\"two thousand...\n",
       "38914  -DRsfNObKIQ  Eurovision Song Contest|\"2018\"|\"Lisbon\"|\"Cypru...\n",
       "38915  4YFo4bdMO8Q  Kyle|\"SuperDuperKyle\"|\"Ikuyo\"|\"2 Chainz\"|\"Soph...\n",
       "\n",
       "[38916 rows x 2 columns]"
      ]
     },
     "execution_count": 140,
     "metadata": {},
     "output_type": "execute_result"
    }
   ],
   "source": [
    "#We create a df with video ID and tag reference\n",
    "video_tag_df = files_csv[Country][['video_id','tags']]\n",
    "video_tag_df.head()\n",
    "\n",
    "\n",
    "#Removing rows with NaN in tags \n",
    "video_tag_df.dropna()\n",
    "video_tag_df\n",
    "\n"
   ]
  },
  {
   "cell_type": "code",
   "execution_count": 141,
   "metadata": {},
   "outputs": [
    {
     "data": {
      "text/html": [
       "<div>\n",
       "<style scoped>\n",
       "    .dataframe tbody tr th:only-of-type {\n",
       "        vertical-align: middle;\n",
       "    }\n",
       "\n",
       "    .dataframe tbody tr th {\n",
       "        vertical-align: top;\n",
       "    }\n",
       "\n",
       "    .dataframe thead th {\n",
       "        text-align: right;\n",
       "    }\n",
       "</style>\n",
       "<table border=\"1\" class=\"dataframe\">\n",
       "  <thead>\n",
       "    <tr style=\"text-align: right;\">\n",
       "      <th></th>\n",
       "      <th>video_id</th>\n",
       "      <th>tags</th>\n",
       "    </tr>\n",
       "  </thead>\n",
       "  <tbody>\n",
       "    <tr>\n",
       "      <th>0</th>\n",
       "      <td>Jw1Y-zhQURU</td>\n",
       "      <td>christmas|\"john lewis christmas\"|\"john lewis\"|...</td>\n",
       "    </tr>\n",
       "    <tr>\n",
       "      <th>1</th>\n",
       "      <td>3s1rvMFUweQ</td>\n",
       "      <td>SNL|\"Saturday Night Live\"|\"SNL Season 43\"|\"Epi...</td>\n",
       "    </tr>\n",
       "    <tr>\n",
       "      <th>2</th>\n",
       "      <td>n1WpP7iowLc</td>\n",
       "      <td>Eminem|\"Walk\"|\"On\"|\"Water\"|\"Aftermath/Shady/In...</td>\n",
       "    </tr>\n",
       "    <tr>\n",
       "      <th>3</th>\n",
       "      <td>PUTEiSjKwJU</td>\n",
       "      <td>Salford City FC|\"Salford City\"|\"Salford\"|\"Clas...</td>\n",
       "    </tr>\n",
       "    <tr>\n",
       "      <th>5</th>\n",
       "      <td>AumaWl0TNBo</td>\n",
       "      <td>pointlessblog|\"pointlessblogtv\"|\"pointlessblog...</td>\n",
       "    </tr>\n",
       "    <tr>\n",
       "      <th>...</th>\n",
       "      <td>...</td>\n",
       "      <td>...</td>\n",
       "    </tr>\n",
       "    <tr>\n",
       "      <th>38911</th>\n",
       "      <td>l884wKofd54</td>\n",
       "      <td>Enrique Iglesias feat. Pitbull|\"MOVE TO MIAMI\"...</td>\n",
       "    </tr>\n",
       "    <tr>\n",
       "      <th>38912</th>\n",
       "      <td>IP8k2xkhOdI</td>\n",
       "      <td>jacob sartorius|\"jacob\"|\"up with it\"|\"jacob sa...</td>\n",
       "    </tr>\n",
       "    <tr>\n",
       "      <th>38913</th>\n",
       "      <td>Il-an3K9pjg</td>\n",
       "      <td>anne|\"marie\"|\"anne-marie\"|\"2002\"|\"two thousand...</td>\n",
       "    </tr>\n",
       "    <tr>\n",
       "      <th>38914</th>\n",
       "      <td>-DRsfNObKIQ</td>\n",
       "      <td>Eurovision Song Contest|\"2018\"|\"Lisbon\"|\"Cypru...</td>\n",
       "    </tr>\n",
       "    <tr>\n",
       "      <th>38915</th>\n",
       "      <td>4YFo4bdMO8Q</td>\n",
       "      <td>Kyle|\"SuperDuperKyle\"|\"Ikuyo\"|\"2 Chainz\"|\"Soph...</td>\n",
       "    </tr>\n",
       "  </tbody>\n",
       "</table>\n",
       "<p>36906 rows × 2 columns</p>\n",
       "</div>"
      ],
      "text/plain": [
       "          video_id                                               tags\n",
       "0      Jw1Y-zhQURU  christmas|\"john lewis christmas\"|\"john lewis\"|...\n",
       "1      3s1rvMFUweQ  SNL|\"Saturday Night Live\"|\"SNL Season 43\"|\"Epi...\n",
       "2      n1WpP7iowLc  Eminem|\"Walk\"|\"On\"|\"Water\"|\"Aftermath/Shady/In...\n",
       "3      PUTEiSjKwJU  Salford City FC|\"Salford City\"|\"Salford\"|\"Clas...\n",
       "5      AumaWl0TNBo  pointlessblog|\"pointlessblogtv\"|\"pointlessblog...\n",
       "...            ...                                                ...\n",
       "38911  l884wKofd54  Enrique Iglesias feat. Pitbull|\"MOVE TO MIAMI\"...\n",
       "38912  IP8k2xkhOdI  jacob sartorius|\"jacob\"|\"up with it\"|\"jacob sa...\n",
       "38913  Il-an3K9pjg  anne|\"marie\"|\"anne-marie\"|\"2002\"|\"two thousand...\n",
       "38914  -DRsfNObKIQ  Eurovision Song Contest|\"2018\"|\"Lisbon\"|\"Cypru...\n",
       "38915  4YFo4bdMO8Q  Kyle|\"SuperDuperKyle\"|\"Ikuyo\"|\"2 Chainz\"|\"Soph...\n",
       "\n",
       "[36906 rows x 2 columns]"
      ]
     },
     "execution_count": 141,
     "metadata": {},
     "output_type": "execute_result"
    }
   ],
   "source": [
    "#Removing association from videos not being tagged\n",
    "video_tag_df = video_tag_df[video_tag_df['tags'] != '[none]']\n",
    "video_tag_df"
   ]
  },
  {
   "cell_type": "markdown",
   "metadata": {},
   "source": [
    "## Tag catalog"
   ]
  },
  {
   "cell_type": "code",
   "execution_count": 142,
   "metadata": {},
   "outputs": [
    {
     "data": {
      "text/plain": [
       "0    christmas|\"john lewis christmas\"|\"john lewis\"|...\n",
       "1    SNL|\"Saturday Night Live\"|\"SNL Season 43\"|\"Epi...\n",
       "2    Eminem|\"Walk\"|\"On\"|\"Water\"|\"Aftermath/Shady/In...\n",
       "3    Salford City FC|\"Salford City\"|\"Salford\"|\"Clas...\n",
       "5    pointlessblog|\"pointlessblogtv\"|\"pointlessblog...\n",
       "Name: tags, dtype: object"
      ]
     },
     "execution_count": 142,
     "metadata": {},
     "output_type": "execute_result"
    }
   ],
   "source": [
    "df_i = video_tag_df['tags']\n",
    "df_i.head()"
   ]
  },
  {
   "cell_type": "code",
   "execution_count": 143,
   "metadata": {},
   "outputs": [
    {
     "data": {
      "text/html": [
       "<div>\n",
       "<style scoped>\n",
       "    .dataframe tbody tr th:only-of-type {\n",
       "        vertical-align: middle;\n",
       "    }\n",
       "\n",
       "    .dataframe tbody tr th {\n",
       "        vertical-align: top;\n",
       "    }\n",
       "\n",
       "    .dataframe thead th {\n",
       "        text-align: right;\n",
       "    }\n",
       "</style>\n",
       "<table border=\"1\" class=\"dataframe\">\n",
       "  <thead>\n",
       "    <tr style=\"text-align: right;\">\n",
       "      <th></th>\n",
       "      <th>tag_name</th>\n",
       "    </tr>\n",
       "  </thead>\n",
       "  <tbody>\n",
       "    <tr>\n",
       "      <th>0</th>\n",
       "      <td>christmas</td>\n",
       "    </tr>\n",
       "    <tr>\n",
       "      <th>1</th>\n",
       "      <td>john lewis christmas</td>\n",
       "    </tr>\n",
       "    <tr>\n",
       "      <th>2</th>\n",
       "      <td>john lewis</td>\n",
       "    </tr>\n",
       "    <tr>\n",
       "      <th>3</th>\n",
       "      <td>christmas ad</td>\n",
       "    </tr>\n",
       "    <tr>\n",
       "      <th>4</th>\n",
       "      <td>mozthemonster</td>\n",
       "    </tr>\n",
       "    <tr>\n",
       "      <th>...</th>\n",
       "      <td>...</td>\n",
       "    </tr>\n",
       "    <tr>\n",
       "      <th>697915</th>\n",
       "      <td>gift wrapping</td>\n",
       "    </tr>\n",
       "    <tr>\n",
       "      <th>697916</th>\n",
       "      <td>toothy pictures</td>\n",
       "    </tr>\n",
       "    <tr>\n",
       "      <th>697919</th>\n",
       "      <td>pull tab</td>\n",
       "    </tr>\n",
       "    <tr>\n",
       "      <th>697920</th>\n",
       "      <td>rubber band</td>\n",
       "    </tr>\n",
       "    <tr>\n",
       "      <th>697921</th>\n",
       "      <td>straw hand</td>\n",
       "    </tr>\n",
       "  </tbody>\n",
       "</table>\n",
       "<p>31881 rows × 1 columns</p>\n",
       "</div>"
      ],
      "text/plain": [
       "                    tag_name\n",
       "0                  christmas\n",
       "1       john lewis christmas\n",
       "2                 john lewis\n",
       "3               christmas ad\n",
       "4              mozthemonster\n",
       "...                      ...\n",
       "697915         gift wrapping\n",
       "697916       toothy pictures\n",
       "697919              pull tab\n",
       "697920           rubber band\n",
       "697921            straw hand\n",
       "\n",
       "[31881 rows x 1 columns]"
      ]
     },
     "execution_count": 143,
     "metadata": {},
     "output_type": "execute_result"
    }
   ],
   "source": [
    "#Splitting tags to create catalog using tags list. It will give a list of lists\n",
    "tags_list = df_i.str.split('|', expand = False)\n",
    "\n",
    "#Empty DataFrame where tags will be allocated\n",
    "tags = []\n",
    "\n",
    "#Iterating on list of lists to get a unique tag\n",
    "for tag_group in tags_list:\n",
    "    for tag in tag_group:\n",
    "     #Removing '\"' from tags \n",
    "        tags.append(tag.replace('\"', ''))\n",
    "        \n",
    "tags_df = pd.DataFrame({\n",
    "    'tag_name': tags\n",
    "})\n",
    "\n",
    "tags_df.drop_duplicates(keep='first', inplace=True)\n",
    "tags_df"
   ]
  },
  {
   "cell_type": "markdown",
   "metadata": {},
   "source": [
    "## YouTube video category catalog"
   ]
  },
  {
   "cell_type": "code",
   "execution_count": 144,
   "metadata": {},
   "outputs": [
    {
     "data": {
      "text/html": [
       "<div>\n",
       "<style scoped>\n",
       "    .dataframe tbody tr th:only-of-type {\n",
       "        vertical-align: middle;\n",
       "    }\n",
       "\n",
       "    .dataframe tbody tr th {\n",
       "        vertical-align: top;\n",
       "    }\n",
       "\n",
       "    .dataframe thead th {\n",
       "        text-align: right;\n",
       "    }\n",
       "</style>\n",
       "<table border=\"1\" class=\"dataframe\">\n",
       "  <thead>\n",
       "    <tr style=\"text-align: right;\">\n",
       "      <th></th>\n",
       "      <th>category_id</th>\n",
       "      <th>category_name</th>\n",
       "    </tr>\n",
       "  </thead>\n",
       "  <tbody>\n",
       "    <tr>\n",
       "      <th>0</th>\n",
       "      <td>1</td>\n",
       "      <td>Film &amp; Animation</td>\n",
       "    </tr>\n",
       "    <tr>\n",
       "      <th>1</th>\n",
       "      <td>2</td>\n",
       "      <td>Autos &amp; Vehicles</td>\n",
       "    </tr>\n",
       "    <tr>\n",
       "      <th>2</th>\n",
       "      <td>10</td>\n",
       "      <td>Music</td>\n",
       "    </tr>\n",
       "    <tr>\n",
       "      <th>3</th>\n",
       "      <td>15</td>\n",
       "      <td>Pets &amp; Animals</td>\n",
       "    </tr>\n",
       "    <tr>\n",
       "      <th>4</th>\n",
       "      <td>17</td>\n",
       "      <td>Sports</td>\n",
       "    </tr>\n",
       "    <tr>\n",
       "      <th>5</th>\n",
       "      <td>18</td>\n",
       "      <td>Short Movies</td>\n",
       "    </tr>\n",
       "    <tr>\n",
       "      <th>6</th>\n",
       "      <td>19</td>\n",
       "      <td>Travel &amp; Events</td>\n",
       "    </tr>\n",
       "    <tr>\n",
       "      <th>7</th>\n",
       "      <td>20</td>\n",
       "      <td>Gaming</td>\n",
       "    </tr>\n",
       "    <tr>\n",
       "      <th>8</th>\n",
       "      <td>21</td>\n",
       "      <td>Videoblogging</td>\n",
       "    </tr>\n",
       "    <tr>\n",
       "      <th>9</th>\n",
       "      <td>22</td>\n",
       "      <td>People &amp; Blogs</td>\n",
       "    </tr>\n",
       "    <tr>\n",
       "      <th>10</th>\n",
       "      <td>23</td>\n",
       "      <td>Comedy</td>\n",
       "    </tr>\n",
       "    <tr>\n",
       "      <th>11</th>\n",
       "      <td>24</td>\n",
       "      <td>Entertainment</td>\n",
       "    </tr>\n",
       "    <tr>\n",
       "      <th>12</th>\n",
       "      <td>25</td>\n",
       "      <td>News &amp; Politics</td>\n",
       "    </tr>\n",
       "    <tr>\n",
       "      <th>13</th>\n",
       "      <td>26</td>\n",
       "      <td>Howto &amp; Style</td>\n",
       "    </tr>\n",
       "    <tr>\n",
       "      <th>14</th>\n",
       "      <td>27</td>\n",
       "      <td>Education</td>\n",
       "    </tr>\n",
       "    <tr>\n",
       "      <th>15</th>\n",
       "      <td>28</td>\n",
       "      <td>Science &amp; Technology</td>\n",
       "    </tr>\n",
       "    <tr>\n",
       "      <th>16</th>\n",
       "      <td>30</td>\n",
       "      <td>Movies</td>\n",
       "    </tr>\n",
       "    <tr>\n",
       "      <th>17</th>\n",
       "      <td>31</td>\n",
       "      <td>Anime/Animation</td>\n",
       "    </tr>\n",
       "    <tr>\n",
       "      <th>18</th>\n",
       "      <td>32</td>\n",
       "      <td>Action/Adventure</td>\n",
       "    </tr>\n",
       "    <tr>\n",
       "      <th>19</th>\n",
       "      <td>33</td>\n",
       "      <td>Classics</td>\n",
       "    </tr>\n",
       "    <tr>\n",
       "      <th>20</th>\n",
       "      <td>34</td>\n",
       "      <td>Comedy</td>\n",
       "    </tr>\n",
       "    <tr>\n",
       "      <th>21</th>\n",
       "      <td>35</td>\n",
       "      <td>Documentary</td>\n",
       "    </tr>\n",
       "    <tr>\n",
       "      <th>22</th>\n",
       "      <td>36</td>\n",
       "      <td>Drama</td>\n",
       "    </tr>\n",
       "    <tr>\n",
       "      <th>23</th>\n",
       "      <td>37</td>\n",
       "      <td>Family</td>\n",
       "    </tr>\n",
       "    <tr>\n",
       "      <th>24</th>\n",
       "      <td>38</td>\n",
       "      <td>Foreign</td>\n",
       "    </tr>\n",
       "    <tr>\n",
       "      <th>25</th>\n",
       "      <td>39</td>\n",
       "      <td>Horror</td>\n",
       "    </tr>\n",
       "    <tr>\n",
       "      <th>26</th>\n",
       "      <td>40</td>\n",
       "      <td>Sci-Fi/Fantasy</td>\n",
       "    </tr>\n",
       "    <tr>\n",
       "      <th>27</th>\n",
       "      <td>41</td>\n",
       "      <td>Thriller</td>\n",
       "    </tr>\n",
       "    <tr>\n",
       "      <th>28</th>\n",
       "      <td>42</td>\n",
       "      <td>Shorts</td>\n",
       "    </tr>\n",
       "    <tr>\n",
       "      <th>29</th>\n",
       "      <td>43</td>\n",
       "      <td>Shows</td>\n",
       "    </tr>\n",
       "    <tr>\n",
       "      <th>30</th>\n",
       "      <td>44</td>\n",
       "      <td>Trailers</td>\n",
       "    </tr>\n",
       "  </tbody>\n",
       "</table>\n",
       "</div>"
      ],
      "text/plain": [
       "   category_id         category_name\n",
       "0            1      Film & Animation\n",
       "1            2      Autos & Vehicles\n",
       "2           10                 Music\n",
       "3           15        Pets & Animals\n",
       "4           17                Sports\n",
       "5           18          Short Movies\n",
       "6           19       Travel & Events\n",
       "7           20                Gaming\n",
       "8           21         Videoblogging\n",
       "9           22        People & Blogs\n",
       "10          23                Comedy\n",
       "11          24         Entertainment\n",
       "12          25       News & Politics\n",
       "13          26         Howto & Style\n",
       "14          27             Education\n",
       "15          28  Science & Technology\n",
       "16          30                Movies\n",
       "17          31       Anime/Animation\n",
       "18          32      Action/Adventure\n",
       "19          33              Classics\n",
       "20          34                Comedy\n",
       "21          35           Documentary\n",
       "22          36                 Drama\n",
       "23          37                Family\n",
       "24          38               Foreign\n",
       "25          39                Horror\n",
       "26          40        Sci-Fi/Fantasy\n",
       "27          41              Thriller\n",
       "28          42                Shorts\n",
       "29          43                 Shows\n",
       "30          44              Trailers"
      ]
     },
     "execution_count": 144,
     "metadata": {},
     "output_type": "execute_result"
    }
   ],
   "source": [
    "#To create YouTube video category, we need to iterate on items value from JSON file\n",
    "#Categories are stored in array, which will be used to create YouTube video category DataFrame\n",
    "categories_ids = []\n",
    "categories = []\n",
    "\n",
    "\n",
    "for category in files_json[Country]['items']:\n",
    "    #print(category['snippet']['title'])\n",
    "    categories_ids.append(category['id'])\n",
    "    categories.append(category['snippet']['title'])\n",
    "\n",
    "categories_df = pd.DataFrame( {\n",
    "    'category_id': categories_ids,\n",
    "    'category_name': categories\n",
    "})\n",
    "\n",
    "categories_df"
   ]
  },
  {
   "cell_type": "markdown",
   "metadata": {},
   "source": [
    "## YouTube video description table"
   ]
  },
  {
   "cell_type": "code",
   "execution_count": 145,
   "metadata": {},
   "outputs": [
    {
     "data": {
      "text/html": [
       "<div>\n",
       "<style scoped>\n",
       "    .dataframe tbody tr th:only-of-type {\n",
       "        vertical-align: middle;\n",
       "    }\n",
       "\n",
       "    .dataframe tbody tr th {\n",
       "        vertical-align: top;\n",
       "    }\n",
       "\n",
       "    .dataframe thead th {\n",
       "        text-align: right;\n",
       "    }\n",
       "</style>\n",
       "<table border=\"1\" class=\"dataframe\">\n",
       "  <thead>\n",
       "    <tr style=\"text-align: right;\">\n",
       "      <th></th>\n",
       "      <th>video_id</th>\n",
       "      <th>category_id</th>\n",
       "      <th>title</th>\n",
       "    </tr>\n",
       "  </thead>\n",
       "  <tbody>\n",
       "    <tr>\n",
       "      <th>0</th>\n",
       "      <td>Jw1Y-zhQURU</td>\n",
       "      <td>26</td>\n",
       "      <td>John Lewis Christmas Ad 2017 - #MozTheMonster</td>\n",
       "    </tr>\n",
       "    <tr>\n",
       "      <th>1</th>\n",
       "      <td>3s1rvMFUweQ</td>\n",
       "      <td>24</td>\n",
       "      <td>Taylor Swift: …Ready for It? (Live) - SNL</td>\n",
       "    </tr>\n",
       "    <tr>\n",
       "      <th>2</th>\n",
       "      <td>n1WpP7iowLc</td>\n",
       "      <td>10</td>\n",
       "      <td>Eminem - Walk On Water (Audio) ft. Beyoncé</td>\n",
       "    </tr>\n",
       "    <tr>\n",
       "      <th>3</th>\n",
       "      <td>PUTEiSjKwJU</td>\n",
       "      <td>17</td>\n",
       "      <td>Goals from Salford City vs Class of 92 and Fri...</td>\n",
       "    </tr>\n",
       "    <tr>\n",
       "      <th>4</th>\n",
       "      <td>rHwDegptbI4</td>\n",
       "      <td>25</td>\n",
       "      <td>Dashcam captures truck's near miss with child ...</td>\n",
       "    </tr>\n",
       "    <tr>\n",
       "      <th>...</th>\n",
       "      <td>...</td>\n",
       "      <td>...</td>\n",
       "      <td>...</td>\n",
       "    </tr>\n",
       "    <tr>\n",
       "      <th>38911</th>\n",
       "      <td>l884wKofd54</td>\n",
       "      <td>10</td>\n",
       "      <td>Enrique Iglesias - MOVE TO MIAMI (Official Vid...</td>\n",
       "    </tr>\n",
       "    <tr>\n",
       "      <th>38912</th>\n",
       "      <td>IP8k2xkhOdI</td>\n",
       "      <td>10</td>\n",
       "      <td>Jacob Sartorius - Up With It (Official Music V...</td>\n",
       "    </tr>\n",
       "    <tr>\n",
       "      <th>38913</th>\n",
       "      <td>Il-an3K9pjg</td>\n",
       "      <td>10</td>\n",
       "      <td>Anne-Marie - 2002 [Official Video]</td>\n",
       "    </tr>\n",
       "    <tr>\n",
       "      <th>38914</th>\n",
       "      <td>-DRsfNObKIQ</td>\n",
       "      <td>24</td>\n",
       "      <td>Eleni Foureira - Fuego - Cyprus - LIVE - First...</td>\n",
       "    </tr>\n",
       "    <tr>\n",
       "      <th>38915</th>\n",
       "      <td>4YFo4bdMO8Q</td>\n",
       "      <td>10</td>\n",
       "      <td>KYLE - Ikuyo feat.  2 Chainz &amp; Sophia Black [A...</td>\n",
       "    </tr>\n",
       "  </tbody>\n",
       "</table>\n",
       "<p>38916 rows × 3 columns</p>\n",
       "</div>"
      ],
      "text/plain": [
       "          video_id  category_id  \\\n",
       "0      Jw1Y-zhQURU           26   \n",
       "1      3s1rvMFUweQ           24   \n",
       "2      n1WpP7iowLc           10   \n",
       "3      PUTEiSjKwJU           17   \n",
       "4      rHwDegptbI4           25   \n",
       "...            ...          ...   \n",
       "38911  l884wKofd54           10   \n",
       "38912  IP8k2xkhOdI           10   \n",
       "38913  Il-an3K9pjg           10   \n",
       "38914  -DRsfNObKIQ           24   \n",
       "38915  4YFo4bdMO8Q           10   \n",
       "\n",
       "                                                   title  \n",
       "0          John Lewis Christmas Ad 2017 - #MozTheMonster  \n",
       "1              Taylor Swift: …Ready for It? (Live) - SNL  \n",
       "2             Eminem - Walk On Water (Audio) ft. Beyoncé  \n",
       "3      Goals from Salford City vs Class of 92 and Fri...  \n",
       "4      Dashcam captures truck's near miss with child ...  \n",
       "...                                                  ...  \n",
       "38911  Enrique Iglesias - MOVE TO MIAMI (Official Vid...  \n",
       "38912  Jacob Sartorius - Up With It (Official Music V...  \n",
       "38913                 Anne-Marie - 2002 [Official Video]  \n",
       "38914  Eleni Foureira - Fuego - Cyprus - LIVE - First...  \n",
       "38915  KYLE - Ikuyo feat.  2 Chainz & Sophia Black [A...  \n",
       "\n",
       "[38916 rows x 3 columns]"
      ]
     },
     "execution_count": 145,
     "metadata": {},
     "output_type": "execute_result"
    }
   ],
   "source": [
    "#YouTube Video description (video id, category id, video name, link)\n",
    "#files_csv[3] = UK videos\n",
    "video_description_df = files_csv[Country][['video_id','category_id','title']]\n",
    "video_description_df.dropna()\n",
    "video_description_df"
   ]
  },
  {
   "cell_type": "markdown",
   "metadata": {},
   "source": [
    "## YouTube video Insights"
   ]
  },
  {
   "cell_type": "code",
   "execution_count": 146,
   "metadata": {},
   "outputs": [
    {
     "data": {
      "text/html": [
       "<div>\n",
       "<style scoped>\n",
       "    .dataframe tbody tr th:only-of-type {\n",
       "        vertical-align: middle;\n",
       "    }\n",
       "\n",
       "    .dataframe tbody tr th {\n",
       "        vertical-align: top;\n",
       "    }\n",
       "\n",
       "    .dataframe thead th {\n",
       "        text-align: right;\n",
       "    }\n",
       "</style>\n",
       "<table border=\"1\" class=\"dataframe\">\n",
       "  <thead>\n",
       "    <tr style=\"text-align: right;\">\n",
       "      <th></th>\n",
       "      <th>video_id</th>\n",
       "      <th>views</th>\n",
       "      <th>likes</th>\n",
       "      <th>dislikes</th>\n",
       "      <th>comment_count</th>\n",
       "    </tr>\n",
       "  </thead>\n",
       "  <tbody>\n",
       "    <tr>\n",
       "      <th>0</th>\n",
       "      <td>Jw1Y-zhQURU</td>\n",
       "      <td>7224515</td>\n",
       "      <td>55681</td>\n",
       "      <td>10247</td>\n",
       "      <td>9479</td>\n",
       "    </tr>\n",
       "    <tr>\n",
       "      <th>1</th>\n",
       "      <td>3s1rvMFUweQ</td>\n",
       "      <td>1053632</td>\n",
       "      <td>25561</td>\n",
       "      <td>2294</td>\n",
       "      <td>2757</td>\n",
       "    </tr>\n",
       "    <tr>\n",
       "      <th>2</th>\n",
       "      <td>n1WpP7iowLc</td>\n",
       "      <td>17158579</td>\n",
       "      <td>787420</td>\n",
       "      <td>43420</td>\n",
       "      <td>125882</td>\n",
       "    </tr>\n",
       "    <tr>\n",
       "      <th>3</th>\n",
       "      <td>PUTEiSjKwJU</td>\n",
       "      <td>27833</td>\n",
       "      <td>193</td>\n",
       "      <td>12</td>\n",
       "      <td>37</td>\n",
       "    </tr>\n",
       "    <tr>\n",
       "      <th>4</th>\n",
       "      <td>rHwDegptbI4</td>\n",
       "      <td>9815</td>\n",
       "      <td>30</td>\n",
       "      <td>2</td>\n",
       "      <td>30</td>\n",
       "    </tr>\n",
       "    <tr>\n",
       "      <th>...</th>\n",
       "      <td>...</td>\n",
       "      <td>...</td>\n",
       "      <td>...</td>\n",
       "      <td>...</td>\n",
       "      <td>...</td>\n",
       "    </tr>\n",
       "    <tr>\n",
       "      <th>38911</th>\n",
       "      <td>l884wKofd54</td>\n",
       "      <td>25066952</td>\n",
       "      <td>268088</td>\n",
       "      <td>12783</td>\n",
       "      <td>9933</td>\n",
       "    </tr>\n",
       "    <tr>\n",
       "      <th>38912</th>\n",
       "      <td>IP8k2xkhOdI</td>\n",
       "      <td>1492219</td>\n",
       "      <td>61998</td>\n",
       "      <td>13781</td>\n",
       "      <td>24330</td>\n",
       "    </tr>\n",
       "    <tr>\n",
       "      <th>38913</th>\n",
       "      <td>Il-an3K9pjg</td>\n",
       "      <td>29641412</td>\n",
       "      <td>394830</td>\n",
       "      <td>8892</td>\n",
       "      <td>19988</td>\n",
       "    </tr>\n",
       "    <tr>\n",
       "      <th>38914</th>\n",
       "      <td>-DRsfNObKIQ</td>\n",
       "      <td>14317515</td>\n",
       "      <td>151870</td>\n",
       "      <td>45875</td>\n",
       "      <td>26766</td>\n",
       "    </tr>\n",
       "    <tr>\n",
       "      <th>38915</th>\n",
       "      <td>4YFo4bdMO8Q</td>\n",
       "      <td>607552</td>\n",
       "      <td>18271</td>\n",
       "      <td>274</td>\n",
       "      <td>1423</td>\n",
       "    </tr>\n",
       "  </tbody>\n",
       "</table>\n",
       "<p>38916 rows × 5 columns</p>\n",
       "</div>"
      ],
      "text/plain": [
       "          video_id     views   likes  dislikes  comment_count\n",
       "0      Jw1Y-zhQURU   7224515   55681     10247           9479\n",
       "1      3s1rvMFUweQ   1053632   25561      2294           2757\n",
       "2      n1WpP7iowLc  17158579  787420     43420         125882\n",
       "3      PUTEiSjKwJU     27833     193        12             37\n",
       "4      rHwDegptbI4      9815      30         2             30\n",
       "...            ...       ...     ...       ...            ...\n",
       "38911  l884wKofd54  25066952  268088     12783           9933\n",
       "38912  IP8k2xkhOdI   1492219   61998     13781          24330\n",
       "38913  Il-an3K9pjg  29641412  394830      8892          19988\n",
       "38914  -DRsfNObKIQ  14317515  151870     45875          26766\n",
       "38915  4YFo4bdMO8Q    607552   18271       274           1423\n",
       "\n",
       "[38916 rows x 5 columns]"
      ]
     },
     "execution_count": 146,
     "metadata": {},
     "output_type": "execute_result"
    }
   ],
   "source": [
    "#YouTube Insights (video_id','views','likes', 'dislikes', 'comment_count')\n",
    "video_insights_df = files_csv[Country][['video_id','views','likes', 'dislikes', 'comment_count']]\n",
    "video_insights_df.dropna()\n",
    "video_insights_df"
   ]
  },
  {
   "cell_type": "code",
   "execution_count": null,
   "metadata": {},
   "outputs": [],
   "source": []
  }
 ],
 "metadata": {
  "kernelspec": {
   "display_name": "Python 3",
   "language": "python",
   "name": "python3"
  },
  "language_info": {
   "codemirror_mode": {
    "name": "ipython",
    "version": 3
   },
   "file_extension": ".py",
   "mimetype": "text/x-python",
   "name": "python",
   "nbconvert_exporter": "python",
   "pygments_lexer": "ipython3",
   "version": "3.8.3"
  }
 },
 "nbformat": 4,
 "nbformat_minor": 4
}
