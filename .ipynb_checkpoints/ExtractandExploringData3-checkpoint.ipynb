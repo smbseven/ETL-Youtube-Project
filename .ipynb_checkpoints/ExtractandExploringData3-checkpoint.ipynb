{
 "cells": [
  {
   "cell_type": "markdown",
   "metadata": {},
   "source": [
    "# Trending YouTubes Statistics"
   ]
  },
  {
   "cell_type": "markdown",
   "metadata": {},
   "source": [
    "## Extracting Data"
   ]
  },
  {
   "cell_type": "markdown",
   "metadata": {},
   "source": [
    "### Set up dependecies"
   ]
  },
  {
   "cell_type": "markdown",
   "metadata": {},
   "source": [
    "#### Using command for Kaggle using terminal"
   ]
  },
  {
   "cell_type": "markdown",
   "metadata": {},
   "source": [
    "For more information check documentation of Public API for How to Use Kaggle in this [link](https://www.kaggle.com/docs/api)"
   ]
  },
  {
   "cell_type": "code",
   "execution_count": 1,
   "metadata": {},
   "outputs": [
    {
     "name": "stdout",
     "output_type": "stream",
     "text": [
      "Requirement already satisfied: kaggle in /Users/luzvazgal/opt/anaconda3/lib/python3.8/site-packages (1.5.10)\n",
      "Requirement already satisfied: tqdm in /Users/luzvazgal/opt/anaconda3/lib/python3.8/site-packages (from kaggle) (4.47.0)\n",
      "Requirement already satisfied: requests in /Users/luzvazgal/opt/anaconda3/lib/python3.8/site-packages (from kaggle) (2.24.0)\n",
      "Requirement already satisfied: urllib3 in /Users/luzvazgal/opt/anaconda3/lib/python3.8/site-packages (from kaggle) (1.25.9)\n",
      "Requirement already satisfied: six>=1.10 in /Users/luzvazgal/opt/anaconda3/lib/python3.8/site-packages (from kaggle) (1.15.0)\n",
      "Requirement already satisfied: certifi in /Users/luzvazgal/opt/anaconda3/lib/python3.8/site-packages (from kaggle) (2020.6.20)\n",
      "Requirement already satisfied: python-slugify in /Users/luzvazgal/opt/anaconda3/lib/python3.8/site-packages (from kaggle) (4.0.1)\n",
      "Requirement already satisfied: python-dateutil in /Users/luzvazgal/opt/anaconda3/lib/python3.8/site-packages (from kaggle) (2.8.1)\n",
      "Requirement already satisfied: chardet<4,>=3.0.2 in /Users/luzvazgal/opt/anaconda3/lib/python3.8/site-packages (from requests->kaggle) (3.0.4)\n",
      "Requirement already satisfied: idna<3,>=2.5 in /Users/luzvazgal/opt/anaconda3/lib/python3.8/site-packages (from requests->kaggle) (2.10)\n",
      "Requirement already satisfied: text-unidecode>=1.3 in /Users/luzvazgal/opt/anaconda3/lib/python3.8/site-packages (from python-slugify->kaggle) (1.3)\n"
     ]
    }
   ],
   "source": [
    "#Set up command lines with terminal tool\n",
    "# This project need data set in Kaggle for this is necesary to install kaggle\n",
    "!pip install kaggle\n",
    "#Also refrence in:\n",
    "#https://github.com/Kaggle/kaggle-api documents and\n",
    "#and https://www.youtube.com/watch?v=gkEbaMgvLs8\n"
   ]
  },
  {
   "cell_type": "code",
   "execution_count": 2,
   "metadata": {},
   "outputs": [
    {
     "name": "stdout",
     "output_type": "stream",
     "text": [
      "cp: illegal option -- y\r\n",
      "usage: cp [-R [-H | -L | -P]] [-fi | -n] [-apvXc] source_file target_file\r\n",
      "       cp [-R [-H | -L | -P]] [-fi | -n] [-apvXc] source_file ... target_directory\r\n"
     ]
    }
   ],
   "source": [
    "# Kaggle requaries to ensure kaggle.json (API token file) is in the location ~./kaggle/kaggle.json to use the API\n",
    "#You have to create an account or and API token in your account. This will download a fresh authentication token onto you machine (kaggle.json)\n",
    "#Copy you token to downloads to the folder of kaggle (~./kaggle)\n",
    "!cp -'your path downald file kaggle.json' -'new path ~./kaggle'"
   ]
  },
  {
   "cell_type": "code",
   "execution_count": 3,
   "metadata": {},
   "outputs": [
    {
     "name": "stdout",
     "output_type": "stream",
     "text": [
      "/bin/bash: line 0: cd: new: No such file or directory\r\n"
     ]
    }
   ],
   "source": [
    "#Check file kaggle is the ~./kaggle path\n",
    "!cd {'new path ~./kaggle'} && ls"
   ]
  },
  {
   "cell_type": "markdown",
   "metadata": {},
   "source": [
    "#### Dependecies"
   ]
  },
  {
   "cell_type": "code",
   "execution_count": 4,
   "metadata": {},
   "outputs": [],
   "source": [
    "#Other dependecies\n",
    "import pandas as pd\n",
    "import os\n",
    "from os import walk\n",
    "from sqlalchemy import create_engine\n"
   ]
  },
  {
   "cell_type": "code",
   "execution_count": 5,
   "metadata": {},
   "outputs": [],
   "source": [
    "#path to  download\n",
    "path_download=os.path.join('Resources')"
   ]
  },
  {
   "cell_type": "markdown",
   "metadata": {},
   "source": [
    "### Import dataset from Kaggle.com"
   ]
  },
  {
   "cell_type": "code",
   "execution_count": 6,
   "metadata": {},
   "outputs": [],
   "source": [
    "#this line use the kaggle.json of your account and aunthenticate\n",
    "from kaggle.api.kaggle_api_extended import KaggleApi\n",
    "api=KaggleApi()\n",
    "api.authenticate()"
   ]
  },
  {
   "cell_type": "code",
   "execution_count": 7,
   "metadata": {},
   "outputs": [],
   "source": [
    "# Download all files of a dataset\n",
    "# Signature: dataset_download_files(dataset, path=None, force=False, quiet=True, unzip=False)\n",
    "api.dataset_download_files('datasnaek/youtube-new', path=path_download, force=False, quiet=True, unzip=True)\n",
    "#A simple file:#Signature: dataset_download_file(dataset, file_name, path=None, force=False, quiet=True) "
   ]
  },
  {
   "cell_type": "markdown",
   "metadata": {},
   "source": [
    "### Forming Data Frames in Pandas"
   ]
  },
  {
   "cell_type": "code",
   "execution_count": 123,
   "metadata": {
    "scrolled": false
   },
   "outputs": [
    {
     "name": "stdout",
     "output_type": "stream",
     "text": [
      "['IN_category_id.json', 'MXvideos.csv', 'RU_category_id.json', 'JP_category_id.json', 'FR_category_id.json', 'INvideos.csv', 'GB_category_id.json', 'DEvideos.csv', 'JPvideos.csv', 'KR_category_id.json', 'KRvideos.csv', 'CAvideos.csv', 'MX_category_id.json', 'RUvideos.csv', 'FRvideos.csv', 'CA_category_id.json', 'US_category_id.json', 'DE_category_id.json', 'USvideos.csv', 'GBvideos.csv']\n"
     ]
    }
   ],
   "source": [
    "#files in the data set:\n",
    "files=[]\n",
    "for (dirpath, dirnames, filenames) in walk(path_download):\n",
    "    files.append(filenames)\n",
    "    print(filenames)\n",
    "\n"
   ]
  },
  {
   "cell_type": "code",
   "execution_count": 124,
   "metadata": {
    "scrolled": true
   },
   "outputs": [
    {
     "data": {
      "text/plain": [
       "20"
      ]
     },
     "execution_count": 124,
     "metadata": {},
     "output_type": "execute_result"
    }
   ],
   "source": [
    "#Number of files of data base in kaggle\n",
    "len(files[0])"
   ]
  },
  {
   "cell_type": "code",
   "execution_count": 125,
   "metadata": {
    "scrolled": false
   },
   "outputs": [
    {
     "data": {
      "text/plain": [
       "'IN_category_id.json'"
      ]
     },
     "execution_count": 125,
     "metadata": {},
     "output_type": "execute_result"
    }
   ],
   "source": [
    "#Show the first file\n",
    "files[0][0]"
   ]
  },
  {
   "cell_type": "code",
   "execution_count": 126,
   "metadata": {},
   "outputs": [
    {
     "name": "stdout",
     "output_type": "stream",
     "text": [
      "[['IN_category_id.json', 'MXvideos.csv', 'RU_category_id.json', 'JP_category_id.json', 'FR_category_id.json', 'INvideos.csv', 'GB_category_id.json', 'DEvideos.csv', 'JPvideos.csv', 'KR_category_id.json', 'KRvideos.csv', 'CAvideos.csv', 'MX_category_id.json', 'RUvideos.csv', 'FRvideos.csv', 'CA_category_id.json', 'US_category_id.json', 'DE_category_id.json', 'USvideos.csv', 'GBvideos.csv']]\n",
      "[['IN_category_id.json', 'MXvideos.csv', 'RU_category_id.json', 'JP_category_id.json', 'FR_category_id.json', 'INvideos.csv', 'GB_category_id.json', 'DEvideos.csv', 'JPvideos.csv', 'KR_category_id.json', 'KRvideos.csv', 'CAvideos.csv', 'MX_category_id.json', 'RUvideos.csv', 'FRvideos.csv', 'CA_category_id.json', 'US_category_id.json', 'DE_category_id.json', 'USvideos.csv', 'GBvideos.csv']]\n",
      "[['IN_category_id.json', 'MXvideos.csv', 'RU_category_id.json', 'JP_category_id.json', 'FR_category_id.json', 'INvideos.csv', 'GB_category_id.json', 'DEvideos.csv', 'JPvideos.csv', 'KR_category_id.json', 'KRvideos.csv', 'CAvideos.csv', 'MX_category_id.json', 'RUvideos.csv', 'FRvideos.csv', 'CA_category_id.json', 'US_category_id.json', 'DE_category_id.json', 'USvideos.csv', 'GBvideos.csv']]\n",
      "[['IN_category_id.json', 'MXvideos.csv', 'RU_category_id.json', 'JP_category_id.json', 'FR_category_id.json', 'INvideos.csv', 'GB_category_id.json', 'DEvideos.csv', 'JPvideos.csv', 'KR_category_id.json', 'KRvideos.csv', 'CAvideos.csv', 'MX_category_id.json', 'RUvideos.csv', 'FRvideos.csv', 'CA_category_id.json', 'US_category_id.json', 'DE_category_id.json', 'USvideos.csv', 'GBvideos.csv']]\n",
      "[['IN_category_id.json', 'MXvideos.csv', 'RU_category_id.json', 'JP_category_id.json', 'FR_category_id.json', 'INvideos.csv', 'GB_category_id.json', 'DEvideos.csv', 'JPvideos.csv', 'KR_category_id.json', 'KRvideos.csv', 'CAvideos.csv', 'MX_category_id.json', 'RUvideos.csv', 'FRvideos.csv', 'CA_category_id.json', 'US_category_id.json', 'DE_category_id.json', 'USvideos.csv', 'GBvideos.csv']]\n",
      "[['IN_category_id.json', 'MXvideos.csv', 'RU_category_id.json', 'JP_category_id.json', 'FR_category_id.json', 'INvideos.csv', 'GB_category_id.json', 'DEvideos.csv', 'JPvideos.csv', 'KR_category_id.json', 'KRvideos.csv', 'CAvideos.csv', 'MX_category_id.json', 'RUvideos.csv', 'FRvideos.csv', 'CA_category_id.json', 'US_category_id.json', 'DE_category_id.json', 'USvideos.csv', 'GBvideos.csv']]\n",
      "[['IN_category_id.json', 'MXvideos.csv', 'RU_category_id.json', 'JP_category_id.json', 'FR_category_id.json', 'INvideos.csv', 'GB_category_id.json', 'DEvideos.csv', 'JPvideos.csv', 'KR_category_id.json', 'KRvideos.csv', 'CAvideos.csv', 'MX_category_id.json', 'RUvideos.csv', 'FRvideos.csv', 'CA_category_id.json', 'US_category_id.json', 'DE_category_id.json', 'USvideos.csv', 'GBvideos.csv']]\n",
      "[['IN_category_id.json', 'MXvideos.csv', 'RU_category_id.json', 'JP_category_id.json', 'FR_category_id.json', 'INvideos.csv', 'GB_category_id.json', 'DEvideos.csv', 'JPvideos.csv', 'KR_category_id.json', 'KRvideos.csv', 'CAvideos.csv', 'MX_category_id.json', 'RUvideos.csv', 'FRvideos.csv', 'CA_category_id.json', 'US_category_id.json', 'DE_category_id.json', 'USvideos.csv', 'GBvideos.csv']]\n",
      "[['IN_category_id.json', 'MXvideos.csv', 'RU_category_id.json', 'JP_category_id.json', 'FR_category_id.json', 'INvideos.csv', 'GB_category_id.json', 'DEvideos.csv', 'JPvideos.csv', 'KR_category_id.json', 'KRvideos.csv', 'CAvideos.csv', 'MX_category_id.json', 'RUvideos.csv', 'FRvideos.csv', 'CA_category_id.json', 'US_category_id.json', 'DE_category_id.json', 'USvideos.csv', 'GBvideos.csv']]\n",
      "[['IN_category_id.json', 'MXvideos.csv', 'RU_category_id.json', 'JP_category_id.json', 'FR_category_id.json', 'INvideos.csv', 'GB_category_id.json', 'DEvideos.csv', 'JPvideos.csv', 'KR_category_id.json', 'KRvideos.csv', 'CAvideos.csv', 'MX_category_id.json', 'RUvideos.csv', 'FRvideos.csv', 'CA_category_id.json', 'US_category_id.json', 'DE_category_id.json', 'USvideos.csv', 'GBvideos.csv']]\n",
      "[['IN_category_id.json', 'MXvideos.csv', 'RU_category_id.json', 'JP_category_id.json', 'FR_category_id.json', 'INvideos.csv', 'GB_category_id.json', 'DEvideos.csv', 'JPvideos.csv', 'KR_category_id.json', 'KRvideos.csv', 'CAvideos.csv', 'MX_category_id.json', 'RUvideos.csv', 'FRvideos.csv', 'CA_category_id.json', 'US_category_id.json', 'DE_category_id.json', 'USvideos.csv', 'GBvideos.csv']]\n",
      "[['IN_category_id.json', 'MXvideos.csv', 'RU_category_id.json', 'JP_category_id.json', 'FR_category_id.json', 'INvideos.csv', 'GB_category_id.json', 'DEvideos.csv', 'JPvideos.csv', 'KR_category_id.json', 'KRvideos.csv', 'CAvideos.csv', 'MX_category_id.json', 'RUvideos.csv', 'FRvideos.csv', 'CA_category_id.json', 'US_category_id.json', 'DE_category_id.json', 'USvideos.csv', 'GBvideos.csv']]\n",
      "[['IN_category_id.json', 'MXvideos.csv', 'RU_category_id.json', 'JP_category_id.json', 'FR_category_id.json', 'INvideos.csv', 'GB_category_id.json', 'DEvideos.csv', 'JPvideos.csv', 'KR_category_id.json', 'KRvideos.csv', 'CAvideos.csv', 'MX_category_id.json', 'RUvideos.csv', 'FRvideos.csv', 'CA_category_id.json', 'US_category_id.json', 'DE_category_id.json', 'USvideos.csv', 'GBvideos.csv']]\n",
      "[['IN_category_id.json', 'MXvideos.csv', 'RU_category_id.json', 'JP_category_id.json', 'FR_category_id.json', 'INvideos.csv', 'GB_category_id.json', 'DEvideos.csv', 'JPvideos.csv', 'KR_category_id.json', 'KRvideos.csv', 'CAvideos.csv', 'MX_category_id.json', 'RUvideos.csv', 'FRvideos.csv', 'CA_category_id.json', 'US_category_id.json', 'DE_category_id.json', 'USvideos.csv', 'GBvideos.csv']]\n",
      "[['IN_category_id.json', 'MXvideos.csv', 'RU_category_id.json', 'JP_category_id.json', 'FR_category_id.json', 'INvideos.csv', 'GB_category_id.json', 'DEvideos.csv', 'JPvideos.csv', 'KR_category_id.json', 'KRvideos.csv', 'CAvideos.csv', 'MX_category_id.json', 'RUvideos.csv', 'FRvideos.csv', 'CA_category_id.json', 'US_category_id.json', 'DE_category_id.json', 'USvideos.csv', 'GBvideos.csv']]\n",
      "[['IN_category_id.json', 'MXvideos.csv', 'RU_category_id.json', 'JP_category_id.json', 'FR_category_id.json', 'INvideos.csv', 'GB_category_id.json', 'DEvideos.csv', 'JPvideos.csv', 'KR_category_id.json', 'KRvideos.csv', 'CAvideos.csv', 'MX_category_id.json', 'RUvideos.csv', 'FRvideos.csv', 'CA_category_id.json', 'US_category_id.json', 'DE_category_id.json', 'USvideos.csv', 'GBvideos.csv']]\n",
      "[['IN_category_id.json', 'MXvideos.csv', 'RU_category_id.json', 'JP_category_id.json', 'FR_category_id.json', 'INvideos.csv', 'GB_category_id.json', 'DEvideos.csv', 'JPvideos.csv', 'KR_category_id.json', 'KRvideos.csv', 'CAvideos.csv', 'MX_category_id.json', 'RUvideos.csv', 'FRvideos.csv', 'CA_category_id.json', 'US_category_id.json', 'DE_category_id.json', 'USvideos.csv', 'GBvideos.csv']]\n",
      "[['IN_category_id.json', 'MXvideos.csv', 'RU_category_id.json', 'JP_category_id.json', 'FR_category_id.json', 'INvideos.csv', 'GB_category_id.json', 'DEvideos.csv', 'JPvideos.csv', 'KR_category_id.json', 'KRvideos.csv', 'CAvideos.csv', 'MX_category_id.json', 'RUvideos.csv', 'FRvideos.csv', 'CA_category_id.json', 'US_category_id.json', 'DE_category_id.json', 'USvideos.csv', 'GBvideos.csv']]\n",
      "[['IN_category_id.json', 'MXvideos.csv', 'RU_category_id.json', 'JP_category_id.json', 'FR_category_id.json', 'INvideos.csv', 'GB_category_id.json', 'DEvideos.csv', 'JPvideos.csv', 'KR_category_id.json', 'KRvideos.csv', 'CAvideos.csv', 'MX_category_id.json', 'RUvideos.csv', 'FRvideos.csv', 'CA_category_id.json', 'US_category_id.json', 'DE_category_id.json', 'USvideos.csv', 'GBvideos.csv']]\n",
      "[['IN_category_id.json', 'MXvideos.csv', 'RU_category_id.json', 'JP_category_id.json', 'FR_category_id.json', 'INvideos.csv', 'GB_category_id.json', 'DEvideos.csv', 'JPvideos.csv', 'KR_category_id.json', 'KRvideos.csv', 'CAvideos.csv', 'MX_category_id.json', 'RUvideos.csv', 'FRvideos.csv', 'CA_category_id.json', 'US_category_id.json', 'DE_category_id.json', 'USvideos.csv', 'GBvideos.csv']]\n"
     ]
    }
   ],
   "source": [
    "#Print all name files\n",
    "for file in range(len(files[0])):\n",
    "    print(files)\n",
    "    \n"
   ]
  },
  {
   "cell_type": "code",
   "execution_count": 127,
   "metadata": {},
   "outputs": [],
   "source": [
    "#Creating Country value, to know the position of GB videos csv file in array result from Kaggle results\n",
    "#Setting Country as zero by default\n",
    "Country = 0"
   ]
  },
  {
   "cell_type": "code",
   "execution_count": 129,
   "metadata": {},
   "outputs": [
    {
     "name": "stdout",
     "output_type": "stream",
     "text": [
      "IN_category_id.json with json\n",
      "MXvideos.csv with encoding latin\n",
      "RU_category_id.json with json\n",
      "JP_category_id.json with json\n",
      "FR_category_id.json with json\n",
      "INvideos.csv with encoding utf-8\n",
      "GB_category_id.json with json\n",
      "DEvideos.csv with encoding utf-8\n",
      "JPvideos.csv with encoding latin\n",
      "KR_category_id.json with json\n",
      "KRvideos.csv with encoding latin\n",
      "CAvideos.csv with encoding utf-8\n",
      "MX_category_id.json with json\n",
      "RUvideos.csv with encoding latin\n",
      "FRvideos.csv with encoding utf-8\n",
      "CA_category_id.json with json\n",
      "US_category_id.json with json\n",
      "DE_category_id.json with json\n",
      "USvideos.csv with encoding utf-8\n",
      "GBvideos.csv with encoding utf-8\n"
     ]
    }
   ],
   "source": [
    "# read files in pandas\n",
    "files_csv=[] #Create frame for csv files\n",
    "files_json=[] #Create frame fo json files\n",
    "\n",
    "\n",
    "\n",
    "for file in range(len(files[0])):\n",
    "    file_path=f'{path_download}/{files[0][file]}'\n",
    "    try:\n",
    "        files_json.append(pd.read_json(file_path))\n",
    "        print(f'{files[0][file]} with json')\n",
    "    except:\n",
    "        try:\n",
    "            files_csv.append(pd.read_csv(file_path, encoding='utf-8-sig'))\n",
    "            print(f'{files[0][file]} with encoding utf-8')\n",
    "            \n",
    "        except:\n",
    "            files_csv.append(pd.read_csv(file_path, encoding='latin1'))\n",
    "            print(f'{files[0][file]} with encoding latin')\n",
    "       \n",
    "    #Assigning length of files_csv if GB csv file found\n",
    "        if files[0][file].find('GBvideos.csv')>-1:\n",
    "            Country = len(files_csv)-1"
   ]
  },
  {
   "cell_type": "code",
   "execution_count": 130,
   "metadata": {
    "scrolled": true
   },
   "outputs": [
    {
     "name": "stdout",
     "output_type": "stream",
     "text": [
      "10\n"
     ]
    }
   ],
   "source": [
    "print(len(files_json))"
   ]
  },
  {
   "cell_type": "code",
   "execution_count": 131,
   "metadata": {
    "scrolled": false
   },
   "outputs": [
    {
     "data": {
      "text/html": [
       "<div>\n",
       "<style scoped>\n",
       "    .dataframe tbody tr th:only-of-type {\n",
       "        vertical-align: middle;\n",
       "    }\n",
       "\n",
       "    .dataframe tbody tr th {\n",
       "        vertical-align: top;\n",
       "    }\n",
       "\n",
       "    .dataframe thead th {\n",
       "        text-align: right;\n",
       "    }\n",
       "</style>\n",
       "<table border=\"1\" class=\"dataframe\">\n",
       "  <thead>\n",
       "    <tr style=\"text-align: right;\">\n",
       "      <th></th>\n",
       "      <th>kind</th>\n",
       "      <th>etag</th>\n",
       "      <th>items</th>\n",
       "    </tr>\n",
       "  </thead>\n",
       "  <tbody>\n",
       "    <tr>\n",
       "      <th>0</th>\n",
       "      <td>youtube#videoCategoryListResponse</td>\n",
       "      <td>\"XI7nbFXulYBIpL0ayR_gDh3eu1k/1v2mrzYSYG6onNLt2...</td>\n",
       "      <td>{'kind': 'youtube#videoCategory', 'etag': '\"XI...</td>\n",
       "    </tr>\n",
       "  </tbody>\n",
       "</table>\n",
       "</div>"
      ],
      "text/plain": [
       "                                kind  \\\n",
       "0  youtube#videoCategoryListResponse   \n",
       "\n",
       "                                                etag  \\\n",
       "0  \"XI7nbFXulYBIpL0ayR_gDh3eu1k/1v2mrzYSYG6onNLt2...   \n",
       "\n",
       "                                               items  \n",
       "0  {'kind': 'youtube#videoCategory', 'etag': '\"XI...  "
      ]
     },
     "execution_count": 131,
     "metadata": {},
     "output_type": "execute_result"
    }
   ],
   "source": [
    "files_json[0].head(1)"
   ]
  },
  {
   "cell_type": "code",
   "execution_count": 132,
   "metadata": {},
   "outputs": [
    {
     "name": "stdout",
     "output_type": "stream",
     "text": [
      "10\n"
     ]
    }
   ],
   "source": [
    "print(len(files_csv))"
   ]
  },
  {
   "cell_type": "code",
   "execution_count": 133,
   "metadata": {
    "scrolled": true
   },
   "outputs": [
    {
     "data": {
      "text/html": [
       "<div>\n",
       "<style scoped>\n",
       "    .dataframe tbody tr th:only-of-type {\n",
       "        vertical-align: middle;\n",
       "    }\n",
       "\n",
       "    .dataframe tbody tr th {\n",
       "        vertical-align: top;\n",
       "    }\n",
       "\n",
       "    .dataframe thead th {\n",
       "        text-align: right;\n",
       "    }\n",
       "</style>\n",
       "<table border=\"1\" class=\"dataframe\">\n",
       "  <thead>\n",
       "    <tr style=\"text-align: right;\">\n",
       "      <th></th>\n",
       "      <th>video_id</th>\n",
       "      <th>trending_date</th>\n",
       "      <th>title</th>\n",
       "      <th>channel_title</th>\n",
       "      <th>category_id</th>\n",
       "      <th>publish_time</th>\n",
       "      <th>tags</th>\n",
       "      <th>views</th>\n",
       "      <th>likes</th>\n",
       "      <th>dislikes</th>\n",
       "      <th>comment_count</th>\n",
       "      <th>thumbnail_link</th>\n",
       "      <th>comments_disabled</th>\n",
       "      <th>ratings_disabled</th>\n",
       "      <th>video_error_or_removed</th>\n",
       "      <th>description</th>\n",
       "    </tr>\n",
       "  </thead>\n",
       "  <tbody>\n",
       "    <tr>\n",
       "      <th>0</th>\n",
       "      <td>SbOwzAl9ZfQ</td>\n",
       "      <td>17.14.11</td>\n",
       "      <td>CapÃ­tulo 12 | MasterChef 2017</td>\n",
       "      <td>MasterChef 2017</td>\n",
       "      <td>24</td>\n",
       "      <td>2017-11-13T06:06:22.000Z</td>\n",
       "      <td>MasterChef Junior 2017|\"TV Azteca\"|\"recetas\"|\"...</td>\n",
       "      <td>310130</td>\n",
       "      <td>4182</td>\n",
       "      <td>361</td>\n",
       "      <td>1836</td>\n",
       "      <td>https://i.ytimg.com/vi/SbOwzAl9ZfQ/default.jpg</td>\n",
       "      <td>False</td>\n",
       "      <td>False</td>\n",
       "      <td>False</td>\n",
       "      <td>Disfruta la presencia del Chef Torreblanca en ...</td>\n",
       "    </tr>\n",
       "  </tbody>\n",
       "</table>\n",
       "</div>"
      ],
      "text/plain": [
       "      video_id trending_date                           title    channel_title  \\\n",
       "0  SbOwzAl9ZfQ      17.14.11  CapÃ­tulo 12 | MasterChef 2017  MasterChef 2017   \n",
       "\n",
       "   category_id              publish_time  \\\n",
       "0           24  2017-11-13T06:06:22.000Z   \n",
       "\n",
       "                                                tags   views  likes  dislikes  \\\n",
       "0  MasterChef Junior 2017|\"TV Azteca\"|\"recetas\"|\"...  310130   4182       361   \n",
       "\n",
       "   comment_count                                  thumbnail_link  \\\n",
       "0           1836  https://i.ytimg.com/vi/SbOwzAl9ZfQ/default.jpg   \n",
       "\n",
       "   comments_disabled  ratings_disabled  video_error_or_removed  \\\n",
       "0              False             False                   False   \n",
       "\n",
       "                                         description  \n",
       "0  Disfruta la presencia del Chef Torreblanca en ...  "
      ]
     },
     "execution_count": 133,
     "metadata": {},
     "output_type": "execute_result"
    }
   ],
   "source": [
    "files_csv[0].head(1)"
   ]
  },
  {
   "cell_type": "code",
   "execution_count": 134,
   "metadata": {
    "scrolled": false
   },
   "outputs": [
    {
     "data": {
      "text/html": [
       "<div>\n",
       "<style scoped>\n",
       "    .dataframe tbody tr th:only-of-type {\n",
       "        vertical-align: middle;\n",
       "    }\n",
       "\n",
       "    .dataframe tbody tr th {\n",
       "        vertical-align: top;\n",
       "    }\n",
       "\n",
       "    .dataframe thead th {\n",
       "        text-align: right;\n",
       "    }\n",
       "</style>\n",
       "<table border=\"1\" class=\"dataframe\">\n",
       "  <thead>\n",
       "    <tr style=\"text-align: right;\">\n",
       "      <th></th>\n",
       "      <th>video_id</th>\n",
       "      <th>trending_date</th>\n",
       "      <th>title</th>\n",
       "      <th>channel_title</th>\n",
       "      <th>category_id</th>\n",
       "      <th>publish_time</th>\n",
       "      <th>tags</th>\n",
       "      <th>views</th>\n",
       "      <th>likes</th>\n",
       "      <th>dislikes</th>\n",
       "      <th>comment_count</th>\n",
       "      <th>thumbnail_link</th>\n",
       "      <th>comments_disabled</th>\n",
       "      <th>ratings_disabled</th>\n",
       "      <th>video_error_or_removed</th>\n",
       "      <th>description</th>\n",
       "    </tr>\n",
       "  </thead>\n",
       "  <tbody>\n",
       "    <tr>\n",
       "      <th>0</th>\n",
       "      <td>Ro6eob0LrCY</td>\n",
       "      <td>17.14.11</td>\n",
       "      <td>Malika LePen : Femme de Gauche - Trailer</td>\n",
       "      <td>Le Raptor Dissident</td>\n",
       "      <td>24</td>\n",
       "      <td>2017-11-13T17:32:55.000Z</td>\n",
       "      <td>Raptor\"|\"Dissident\"|\"Expliquez\"|\"moi\"|\"cette\"|...</td>\n",
       "      <td>212702</td>\n",
       "      <td>29282</td>\n",
       "      <td>1108</td>\n",
       "      <td>3817</td>\n",
       "      <td>https://i.ytimg.com/vi/Ro6eob0LrCY/default.jpg</td>\n",
       "      <td>False</td>\n",
       "      <td>False</td>\n",
       "      <td>False</td>\n",
       "      <td>Dimanche.\\n18h30.\\nSoyez présents pour la vidé...</td>\n",
       "    </tr>\n",
       "  </tbody>\n",
       "</table>\n",
       "</div>"
      ],
      "text/plain": [
       "      video_id trending_date                                     title  \\\n",
       "0  Ro6eob0LrCY      17.14.11  Malika LePen : Femme de Gauche - Trailer   \n",
       "\n",
       "         channel_title  category_id              publish_time  \\\n",
       "0  Le Raptor Dissident           24  2017-11-13T17:32:55.000Z   \n",
       "\n",
       "                                                tags   views  likes  dislikes  \\\n",
       "0  Raptor\"|\"Dissident\"|\"Expliquez\"|\"moi\"|\"cette\"|...  212702  29282      1108   \n",
       "\n",
       "   comment_count                                  thumbnail_link  \\\n",
       "0           3817  https://i.ytimg.com/vi/Ro6eob0LrCY/default.jpg   \n",
       "\n",
       "   comments_disabled  ratings_disabled  video_error_or_removed  \\\n",
       "0              False             False                   False   \n",
       "\n",
       "                                         description  \n",
       "0  Dimanche.\\n18h30.\\nSoyez présents pour la vidé...  "
      ]
     },
     "execution_count": 134,
     "metadata": {},
     "output_type": "execute_result"
    }
   ],
   "source": [
    "#Data frame for Mexico\n",
    "files_csv[7].head(1)"
   ]
  },
  {
   "cell_type": "code",
   "execution_count": 135,
   "metadata": {},
   "outputs": [
    {
     "data": {
      "text/html": [
       "<div>\n",
       "<style scoped>\n",
       "    .dataframe tbody tr th:only-of-type {\n",
       "        vertical-align: middle;\n",
       "    }\n",
       "\n",
       "    .dataframe tbody tr th {\n",
       "        vertical-align: top;\n",
       "    }\n",
       "\n",
       "    .dataframe thead th {\n",
       "        text-align: right;\n",
       "    }\n",
       "</style>\n",
       "<table border=\"1\" class=\"dataframe\">\n",
       "  <thead>\n",
       "    <tr style=\"text-align: right;\">\n",
       "      <th></th>\n",
       "      <th>video_id</th>\n",
       "      <th>trending_date</th>\n",
       "      <th>title</th>\n",
       "      <th>channel_title</th>\n",
       "      <th>category_id</th>\n",
       "      <th>publish_time</th>\n",
       "      <th>tags</th>\n",
       "      <th>views</th>\n",
       "      <th>likes</th>\n",
       "      <th>dislikes</th>\n",
       "      <th>comment_count</th>\n",
       "      <th>thumbnail_link</th>\n",
       "      <th>comments_disabled</th>\n",
       "      <th>ratings_disabled</th>\n",
       "      <th>video_error_or_removed</th>\n",
       "      <th>description</th>\n",
       "    </tr>\n",
       "  </thead>\n",
       "  <tbody>\n",
       "    <tr>\n",
       "      <th>0</th>\n",
       "      <td>n1WpP7iowLc</td>\n",
       "      <td>17.14.11</td>\n",
       "      <td>Eminem - Walk On Water (Audio) ft. Beyoncé</td>\n",
       "      <td>EminemVEVO</td>\n",
       "      <td>10</td>\n",
       "      <td>2017-11-10T17:00:03.000Z</td>\n",
       "      <td>Eminem|\"Walk\"|\"On\"|\"Water\"|\"Aftermath/Shady/In...</td>\n",
       "      <td>17158579</td>\n",
       "      <td>787425</td>\n",
       "      <td>43420</td>\n",
       "      <td>125882</td>\n",
       "      <td>https://i.ytimg.com/vi/n1WpP7iowLc/default.jpg</td>\n",
       "      <td>False</td>\n",
       "      <td>False</td>\n",
       "      <td>False</td>\n",
       "      <td>Eminem's new track Walk on Water ft. Beyoncé i...</td>\n",
       "    </tr>\n",
       "  </tbody>\n",
       "</table>\n",
       "</div>"
      ],
      "text/plain": [
       "      video_id trending_date                                       title  \\\n",
       "0  n1WpP7iowLc      17.14.11  Eminem - Walk On Water (Audio) ft. Beyoncé   \n",
       "\n",
       "  channel_title  category_id              publish_time  \\\n",
       "0    EminemVEVO           10  2017-11-10T17:00:03.000Z   \n",
       "\n",
       "                                                tags     views   likes  \\\n",
       "0  Eminem|\"Walk\"|\"On\"|\"Water\"|\"Aftermath/Shady/In...  17158579  787425   \n",
       "\n",
       "   dislikes  comment_count                                  thumbnail_link  \\\n",
       "0     43420         125882  https://i.ytimg.com/vi/n1WpP7iowLc/default.jpg   \n",
       "\n",
       "   comments_disabled  ratings_disabled  video_error_or_removed  \\\n",
       "0              False             False                   False   \n",
       "\n",
       "                                         description  \n",
       "0  Eminem's new track Walk on Water ft. Beyoncé i...  "
      ]
     },
     "execution_count": 135,
     "metadata": {},
     "output_type": "execute_result"
    }
   ],
   "source": [
    "#Data frame for Japan\n",
    "files_csv[5].head(1)"
   ]
  },
  {
   "cell_type": "code",
   "execution_count": 136,
   "metadata": {},
   "outputs": [
    {
     "data": {
      "text/html": [
       "<div>\n",
       "<style scoped>\n",
       "    .dataframe tbody tr th:only-of-type {\n",
       "        vertical-align: middle;\n",
       "    }\n",
       "\n",
       "    .dataframe tbody tr th {\n",
       "        vertical-align: top;\n",
       "    }\n",
       "\n",
       "    .dataframe thead th {\n",
       "        text-align: right;\n",
       "    }\n",
       "</style>\n",
       "<table border=\"1\" class=\"dataframe\">\n",
       "  <thead>\n",
       "    <tr style=\"text-align: right;\">\n",
       "      <th></th>\n",
       "      <th>video_id</th>\n",
       "      <th>trending_date</th>\n",
       "      <th>title</th>\n",
       "      <th>channel_title</th>\n",
       "      <th>category_id</th>\n",
       "      <th>publish_time</th>\n",
       "      <th>tags</th>\n",
       "      <th>views</th>\n",
       "      <th>likes</th>\n",
       "      <th>dislikes</th>\n",
       "      <th>comment_count</th>\n",
       "      <th>thumbnail_link</th>\n",
       "      <th>comments_disabled</th>\n",
       "      <th>ratings_disabled</th>\n",
       "      <th>video_error_or_removed</th>\n",
       "      <th>description</th>\n",
       "    </tr>\n",
       "  </thead>\n",
       "  <tbody>\n",
       "    <tr>\n",
       "      <th>0</th>\n",
       "      <td>5ugKfHgsmYw</td>\n",
       "      <td>18.07.02</td>\n",
       "      <td>é¸èªããªãåç´ã«è½ä¸ï¼è·¯ä¸ã®è»ã...</td>\n",
       "      <td>æäºéä¿¡æ åã»ã³ã¿ã¼</td>\n",
       "      <td>25</td>\n",
       "      <td>2018-02-06T03:04:37.000Z</td>\n",
       "      <td>äºæ",
       "|\"ä½è³\"|\"ä½è³ç\"|\"ããªã³ãã¿ã...</td>\n",
       "      <td>188085</td>\n",
       "      <td>591</td>\n",
       "      <td>189</td>\n",
       "      <td>0</td>\n",
       "      <td>https://i.ytimg.com/vi/5ugKfHgsmYw/default.jpg</td>\n",
       "      <td>True</td>\n",
       "      <td>False</td>\n",
       "      <td>False</td>\n",
       "      <td>ä½è³çç¥å¼å¸ã®æ°å®¶ã«å¢è½ããé¸ä...</td>\n",
       "    </tr>\n",
       "  </tbody>\n",
       "</table>\n",
       "</div>"
      ],
      "text/plain": [
       "      video_id trending_date  \\\n",
       "0  5ugKfHgsmYw      18.07.02   \n",
       "\n",
       "                                               title  \\\n",
       "0  é¸èªããªãåç´ã«è½ä¸ï¼è·¯ä¸ã®è»ã...   \n",
       "\n",
       "                    channel_title  category_id              publish_time  \\\n",
       "0  æäºéä¿¡æ åã»ã³ã¿ã¼           25  2018-02-06T03:04:37.000Z   \n",
       "\n",
       "                                                tags   views  likes  dislikes  \\\n",
       "0  äºæ\n",
       "|\"ä½è³\"|\"ä½è³ç\"|\"ããªã³ãã¿ã...  188085    591       189   \n",
       "\n",
       "   comment_count                                  thumbnail_link  \\\n",
       "0              0  https://i.ytimg.com/vi/5ugKfHgsmYw/default.jpg   \n",
       "\n",
       "   comments_disabled  ratings_disabled  video_error_or_removed  \\\n",
       "0               True             False                   False   \n",
       "\n",
       "                                         description  \n",
       "0  ä½è³çç¥å¼å¸ã®æ°å®¶ã«å¢è½ããé¸ä...  "
      ]
     },
     "execution_count": 136,
     "metadata": {},
     "output_type": "execute_result"
    }
   ],
   "source": [
    "#Data frame for Great Britain\n",
    "files_csv[3].head(1)"
   ]
  },
  {
   "cell_type": "markdown",
   "metadata": {},
   "source": [
    "## Exploring Data"
   ]
  },
  {
   "cell_type": "markdown",
   "metadata": {},
   "source": [
    "### Kind of info in json files"
   ]
  },
  {
   "cell_type": "code",
   "execution_count": 137,
   "metadata": {},
   "outputs": [
    {
     "name": "stdout",
     "output_type": "stream",
     "text": [
      "9\n"
     ]
    }
   ],
   "source": [
    "#Country work with\n",
    "#Country=3 #Working with Data of Great Great Britain\n",
    "print(Country)"
   ]
  },
  {
   "cell_type": "code",
   "execution_count": 138,
   "metadata": {
    "scrolled": true
   },
   "outputs": [
    {
     "data": {
      "text/html": [
       "<div>\n",
       "<style scoped>\n",
       "    .dataframe tbody tr th:only-of-type {\n",
       "        vertical-align: middle;\n",
       "    }\n",
       "\n",
       "    .dataframe tbody tr th {\n",
       "        vertical-align: top;\n",
       "    }\n",
       "\n",
       "    .dataframe thead th {\n",
       "        text-align: right;\n",
       "    }\n",
       "</style>\n",
       "<table border=\"1\" class=\"dataframe\">\n",
       "  <thead>\n",
       "    <tr style=\"text-align: right;\">\n",
       "      <th></th>\n",
       "      <th>kind</th>\n",
       "      <th>etag</th>\n",
       "      <th>items</th>\n",
       "    </tr>\n",
       "  </thead>\n",
       "  <tbody>\n",
       "    <tr>\n",
       "      <th>count</th>\n",
       "      <td>31</td>\n",
       "      <td>31</td>\n",
       "      <td>31</td>\n",
       "    </tr>\n",
       "    <tr>\n",
       "      <th>unique</th>\n",
       "      <td>1</td>\n",
       "      <td>1</td>\n",
       "      <td>31</td>\n",
       "    </tr>\n",
       "    <tr>\n",
       "      <th>top</th>\n",
       "      <td>youtube#videoCategoryListResponse</td>\n",
       "      <td>\"ld9biNPKjAjgjV7EZ4EKeEGrhao/1v2mrzYSYG6onNLt2...</td>\n",
       "      <td>{'kind': 'youtube#videoCategory', 'etag': '\"ld...</td>\n",
       "    </tr>\n",
       "    <tr>\n",
       "      <th>freq</th>\n",
       "      <td>31</td>\n",
       "      <td>31</td>\n",
       "      <td>1</td>\n",
       "    </tr>\n",
       "  </tbody>\n",
       "</table>\n",
       "</div>"
      ],
      "text/plain": [
       "                                     kind  \\\n",
       "count                                  31   \n",
       "unique                                  1   \n",
       "top     youtube#videoCategoryListResponse   \n",
       "freq                                   31   \n",
       "\n",
       "                                                     etag  \\\n",
       "count                                                  31   \n",
       "unique                                                  1   \n",
       "top     \"ld9biNPKjAjgjV7EZ4EKeEGrhao/1v2mrzYSYG6onNLt2...   \n",
       "freq                                                   31   \n",
       "\n",
       "                                                    items  \n",
       "count                                                  31  \n",
       "unique                                                 31  \n",
       "top     {'kind': 'youtube#videoCategory', 'etag': '\"ld...  \n",
       "freq                                                    1  "
      ]
     },
     "execution_count": 138,
     "metadata": {},
     "output_type": "execute_result"
    }
   ],
   "source": [
    "# Kind of info in json files\n",
    "files_json[Country].describe()\n"
   ]
  },
  {
   "cell_type": "code",
   "execution_count": 139,
   "metadata": {},
   "outputs": [
    {
     "data": {
      "text/html": [
       "<div>\n",
       "<style scoped>\n",
       "    .dataframe tbody tr th:only-of-type {\n",
       "        vertical-align: middle;\n",
       "    }\n",
       "\n",
       "    .dataframe tbody tr th {\n",
       "        vertical-align: top;\n",
       "    }\n",
       "\n",
       "    .dataframe thead th {\n",
       "        text-align: right;\n",
       "    }\n",
       "</style>\n",
       "<table border=\"1\" class=\"dataframe\">\n",
       "  <thead>\n",
       "    <tr style=\"text-align: right;\">\n",
       "      <th></th>\n",
       "      <th>kind</th>\n",
       "      <th>etag</th>\n",
       "      <th>items</th>\n",
       "    </tr>\n",
       "  </thead>\n",
       "  <tbody>\n",
       "    <tr>\n",
       "      <th>0</th>\n",
       "      <td>youtube#videoCategoryListResponse</td>\n",
       "      <td>\"ld9biNPKjAjgjV7EZ4EKeEGrhao/1v2mrzYSYG6onNLt2...</td>\n",
       "      <td>{'kind': 'youtube#videoCategory', 'etag': '\"ld...</td>\n",
       "    </tr>\n",
       "    <tr>\n",
       "      <th>1</th>\n",
       "      <td>youtube#videoCategoryListResponse</td>\n",
       "      <td>\"ld9biNPKjAjgjV7EZ4EKeEGrhao/1v2mrzYSYG6onNLt2...</td>\n",
       "      <td>{'kind': 'youtube#videoCategory', 'etag': '\"ld...</td>\n",
       "    </tr>\n",
       "    <tr>\n",
       "      <th>2</th>\n",
       "      <td>youtube#videoCategoryListResponse</td>\n",
       "      <td>\"ld9biNPKjAjgjV7EZ4EKeEGrhao/1v2mrzYSYG6onNLt2...</td>\n",
       "      <td>{'kind': 'youtube#videoCategory', 'etag': '\"ld...</td>\n",
       "    </tr>\n",
       "    <tr>\n",
       "      <th>3</th>\n",
       "      <td>youtube#videoCategoryListResponse</td>\n",
       "      <td>\"ld9biNPKjAjgjV7EZ4EKeEGrhao/1v2mrzYSYG6onNLt2...</td>\n",
       "      <td>{'kind': 'youtube#videoCategory', 'etag': '\"ld...</td>\n",
       "    </tr>\n",
       "    <tr>\n",
       "      <th>4</th>\n",
       "      <td>youtube#videoCategoryListResponse</td>\n",
       "      <td>\"ld9biNPKjAjgjV7EZ4EKeEGrhao/1v2mrzYSYG6onNLt2...</td>\n",
       "      <td>{'kind': 'youtube#videoCategory', 'etag': '\"ld...</td>\n",
       "    </tr>\n",
       "    <tr>\n",
       "      <th>5</th>\n",
       "      <td>youtube#videoCategoryListResponse</td>\n",
       "      <td>\"ld9biNPKjAjgjV7EZ4EKeEGrhao/1v2mrzYSYG6onNLt2...</td>\n",
       "      <td>{'kind': 'youtube#videoCategory', 'etag': '\"ld...</td>\n",
       "    </tr>\n",
       "    <tr>\n",
       "      <th>6</th>\n",
       "      <td>youtube#videoCategoryListResponse</td>\n",
       "      <td>\"ld9biNPKjAjgjV7EZ4EKeEGrhao/1v2mrzYSYG6onNLt2...</td>\n",
       "      <td>{'kind': 'youtube#videoCategory', 'etag': '\"ld...</td>\n",
       "    </tr>\n",
       "    <tr>\n",
       "      <th>7</th>\n",
       "      <td>youtube#videoCategoryListResponse</td>\n",
       "      <td>\"ld9biNPKjAjgjV7EZ4EKeEGrhao/1v2mrzYSYG6onNLt2...</td>\n",
       "      <td>{'kind': 'youtube#videoCategory', 'etag': '\"ld...</td>\n",
       "    </tr>\n",
       "    <tr>\n",
       "      <th>8</th>\n",
       "      <td>youtube#videoCategoryListResponse</td>\n",
       "      <td>\"ld9biNPKjAjgjV7EZ4EKeEGrhao/1v2mrzYSYG6onNLt2...</td>\n",
       "      <td>{'kind': 'youtube#videoCategory', 'etag': '\"ld...</td>\n",
       "    </tr>\n",
       "    <tr>\n",
       "      <th>9</th>\n",
       "      <td>youtube#videoCategoryListResponse</td>\n",
       "      <td>\"ld9biNPKjAjgjV7EZ4EKeEGrhao/1v2mrzYSYG6onNLt2...</td>\n",
       "      <td>{'kind': 'youtube#videoCategory', 'etag': '\"ld...</td>\n",
       "    </tr>\n",
       "    <tr>\n",
       "      <th>10</th>\n",
       "      <td>youtube#videoCategoryListResponse</td>\n",
       "      <td>\"ld9biNPKjAjgjV7EZ4EKeEGrhao/1v2mrzYSYG6onNLt2...</td>\n",
       "      <td>{'kind': 'youtube#videoCategory', 'etag': '\"ld...</td>\n",
       "    </tr>\n",
       "    <tr>\n",
       "      <th>11</th>\n",
       "      <td>youtube#videoCategoryListResponse</td>\n",
       "      <td>\"ld9biNPKjAjgjV7EZ4EKeEGrhao/1v2mrzYSYG6onNLt2...</td>\n",
       "      <td>{'kind': 'youtube#videoCategory', 'etag': '\"ld...</td>\n",
       "    </tr>\n",
       "    <tr>\n",
       "      <th>12</th>\n",
       "      <td>youtube#videoCategoryListResponse</td>\n",
       "      <td>\"ld9biNPKjAjgjV7EZ4EKeEGrhao/1v2mrzYSYG6onNLt2...</td>\n",
       "      <td>{'kind': 'youtube#videoCategory', 'etag': '\"ld...</td>\n",
       "    </tr>\n",
       "    <tr>\n",
       "      <th>13</th>\n",
       "      <td>youtube#videoCategoryListResponse</td>\n",
       "      <td>\"ld9biNPKjAjgjV7EZ4EKeEGrhao/1v2mrzYSYG6onNLt2...</td>\n",
       "      <td>{'kind': 'youtube#videoCategory', 'etag': '\"ld...</td>\n",
       "    </tr>\n",
       "    <tr>\n",
       "      <th>14</th>\n",
       "      <td>youtube#videoCategoryListResponse</td>\n",
       "      <td>\"ld9biNPKjAjgjV7EZ4EKeEGrhao/1v2mrzYSYG6onNLt2...</td>\n",
       "      <td>{'kind': 'youtube#videoCategory', 'etag': '\"ld...</td>\n",
       "    </tr>\n",
       "    <tr>\n",
       "      <th>15</th>\n",
       "      <td>youtube#videoCategoryListResponse</td>\n",
       "      <td>\"ld9biNPKjAjgjV7EZ4EKeEGrhao/1v2mrzYSYG6onNLt2...</td>\n",
       "      <td>{'kind': 'youtube#videoCategory', 'etag': '\"ld...</td>\n",
       "    </tr>\n",
       "    <tr>\n",
       "      <th>16</th>\n",
       "      <td>youtube#videoCategoryListResponse</td>\n",
       "      <td>\"ld9biNPKjAjgjV7EZ4EKeEGrhao/1v2mrzYSYG6onNLt2...</td>\n",
       "      <td>{'kind': 'youtube#videoCategory', 'etag': '\"ld...</td>\n",
       "    </tr>\n",
       "    <tr>\n",
       "      <th>17</th>\n",
       "      <td>youtube#videoCategoryListResponse</td>\n",
       "      <td>\"ld9biNPKjAjgjV7EZ4EKeEGrhao/1v2mrzYSYG6onNLt2...</td>\n",
       "      <td>{'kind': 'youtube#videoCategory', 'etag': '\"ld...</td>\n",
       "    </tr>\n",
       "    <tr>\n",
       "      <th>18</th>\n",
       "      <td>youtube#videoCategoryListResponse</td>\n",
       "      <td>\"ld9biNPKjAjgjV7EZ4EKeEGrhao/1v2mrzYSYG6onNLt2...</td>\n",
       "      <td>{'kind': 'youtube#videoCategory', 'etag': '\"ld...</td>\n",
       "    </tr>\n",
       "    <tr>\n",
       "      <th>19</th>\n",
       "      <td>youtube#videoCategoryListResponse</td>\n",
       "      <td>\"ld9biNPKjAjgjV7EZ4EKeEGrhao/1v2mrzYSYG6onNLt2...</td>\n",
       "      <td>{'kind': 'youtube#videoCategory', 'etag': '\"ld...</td>\n",
       "    </tr>\n",
       "    <tr>\n",
       "      <th>20</th>\n",
       "      <td>youtube#videoCategoryListResponse</td>\n",
       "      <td>\"ld9biNPKjAjgjV7EZ4EKeEGrhao/1v2mrzYSYG6onNLt2...</td>\n",
       "      <td>{'kind': 'youtube#videoCategory', 'etag': '\"ld...</td>\n",
       "    </tr>\n",
       "    <tr>\n",
       "      <th>21</th>\n",
       "      <td>youtube#videoCategoryListResponse</td>\n",
       "      <td>\"ld9biNPKjAjgjV7EZ4EKeEGrhao/1v2mrzYSYG6onNLt2...</td>\n",
       "      <td>{'kind': 'youtube#videoCategory', 'etag': '\"ld...</td>\n",
       "    </tr>\n",
       "    <tr>\n",
       "      <th>22</th>\n",
       "      <td>youtube#videoCategoryListResponse</td>\n",
       "      <td>\"ld9biNPKjAjgjV7EZ4EKeEGrhao/1v2mrzYSYG6onNLt2...</td>\n",
       "      <td>{'kind': 'youtube#videoCategory', 'etag': '\"ld...</td>\n",
       "    </tr>\n",
       "    <tr>\n",
       "      <th>23</th>\n",
       "      <td>youtube#videoCategoryListResponse</td>\n",
       "      <td>\"ld9biNPKjAjgjV7EZ4EKeEGrhao/1v2mrzYSYG6onNLt2...</td>\n",
       "      <td>{'kind': 'youtube#videoCategory', 'etag': '\"ld...</td>\n",
       "    </tr>\n",
       "    <tr>\n",
       "      <th>24</th>\n",
       "      <td>youtube#videoCategoryListResponse</td>\n",
       "      <td>\"ld9biNPKjAjgjV7EZ4EKeEGrhao/1v2mrzYSYG6onNLt2...</td>\n",
       "      <td>{'kind': 'youtube#videoCategory', 'etag': '\"ld...</td>\n",
       "    </tr>\n",
       "    <tr>\n",
       "      <th>25</th>\n",
       "      <td>youtube#videoCategoryListResponse</td>\n",
       "      <td>\"ld9biNPKjAjgjV7EZ4EKeEGrhao/1v2mrzYSYG6onNLt2...</td>\n",
       "      <td>{'kind': 'youtube#videoCategory', 'etag': '\"ld...</td>\n",
       "    </tr>\n",
       "    <tr>\n",
       "      <th>26</th>\n",
       "      <td>youtube#videoCategoryListResponse</td>\n",
       "      <td>\"ld9biNPKjAjgjV7EZ4EKeEGrhao/1v2mrzYSYG6onNLt2...</td>\n",
       "      <td>{'kind': 'youtube#videoCategory', 'etag': '\"ld...</td>\n",
       "    </tr>\n",
       "    <tr>\n",
       "      <th>27</th>\n",
       "      <td>youtube#videoCategoryListResponse</td>\n",
       "      <td>\"ld9biNPKjAjgjV7EZ4EKeEGrhao/1v2mrzYSYG6onNLt2...</td>\n",
       "      <td>{'kind': 'youtube#videoCategory', 'etag': '\"ld...</td>\n",
       "    </tr>\n",
       "    <tr>\n",
       "      <th>28</th>\n",
       "      <td>youtube#videoCategoryListResponse</td>\n",
       "      <td>\"ld9biNPKjAjgjV7EZ4EKeEGrhao/1v2mrzYSYG6onNLt2...</td>\n",
       "      <td>{'kind': 'youtube#videoCategory', 'etag': '\"ld...</td>\n",
       "    </tr>\n",
       "    <tr>\n",
       "      <th>29</th>\n",
       "      <td>youtube#videoCategoryListResponse</td>\n",
       "      <td>\"ld9biNPKjAjgjV7EZ4EKeEGrhao/1v2mrzYSYG6onNLt2...</td>\n",
       "      <td>{'kind': 'youtube#videoCategory', 'etag': '\"ld...</td>\n",
       "    </tr>\n",
       "    <tr>\n",
       "      <th>30</th>\n",
       "      <td>youtube#videoCategoryListResponse</td>\n",
       "      <td>\"ld9biNPKjAjgjV7EZ4EKeEGrhao/1v2mrzYSYG6onNLt2...</td>\n",
       "      <td>{'kind': 'youtube#videoCategory', 'etag': '\"ld...</td>\n",
       "    </tr>\n",
       "  </tbody>\n",
       "</table>\n",
       "</div>"
      ],
      "text/plain": [
       "                                 kind  \\\n",
       "0   youtube#videoCategoryListResponse   \n",
       "1   youtube#videoCategoryListResponse   \n",
       "2   youtube#videoCategoryListResponse   \n",
       "3   youtube#videoCategoryListResponse   \n",
       "4   youtube#videoCategoryListResponse   \n",
       "5   youtube#videoCategoryListResponse   \n",
       "6   youtube#videoCategoryListResponse   \n",
       "7   youtube#videoCategoryListResponse   \n",
       "8   youtube#videoCategoryListResponse   \n",
       "9   youtube#videoCategoryListResponse   \n",
       "10  youtube#videoCategoryListResponse   \n",
       "11  youtube#videoCategoryListResponse   \n",
       "12  youtube#videoCategoryListResponse   \n",
       "13  youtube#videoCategoryListResponse   \n",
       "14  youtube#videoCategoryListResponse   \n",
       "15  youtube#videoCategoryListResponse   \n",
       "16  youtube#videoCategoryListResponse   \n",
       "17  youtube#videoCategoryListResponse   \n",
       "18  youtube#videoCategoryListResponse   \n",
       "19  youtube#videoCategoryListResponse   \n",
       "20  youtube#videoCategoryListResponse   \n",
       "21  youtube#videoCategoryListResponse   \n",
       "22  youtube#videoCategoryListResponse   \n",
       "23  youtube#videoCategoryListResponse   \n",
       "24  youtube#videoCategoryListResponse   \n",
       "25  youtube#videoCategoryListResponse   \n",
       "26  youtube#videoCategoryListResponse   \n",
       "27  youtube#videoCategoryListResponse   \n",
       "28  youtube#videoCategoryListResponse   \n",
       "29  youtube#videoCategoryListResponse   \n",
       "30  youtube#videoCategoryListResponse   \n",
       "\n",
       "                                                 etag  \\\n",
       "0   \"ld9biNPKjAjgjV7EZ4EKeEGrhao/1v2mrzYSYG6onNLt2...   \n",
       "1   \"ld9biNPKjAjgjV7EZ4EKeEGrhao/1v2mrzYSYG6onNLt2...   \n",
       "2   \"ld9biNPKjAjgjV7EZ4EKeEGrhao/1v2mrzYSYG6onNLt2...   \n",
       "3   \"ld9biNPKjAjgjV7EZ4EKeEGrhao/1v2mrzYSYG6onNLt2...   \n",
       "4   \"ld9biNPKjAjgjV7EZ4EKeEGrhao/1v2mrzYSYG6onNLt2...   \n",
       "5   \"ld9biNPKjAjgjV7EZ4EKeEGrhao/1v2mrzYSYG6onNLt2...   \n",
       "6   \"ld9biNPKjAjgjV7EZ4EKeEGrhao/1v2mrzYSYG6onNLt2...   \n",
       "7   \"ld9biNPKjAjgjV7EZ4EKeEGrhao/1v2mrzYSYG6onNLt2...   \n",
       "8   \"ld9biNPKjAjgjV7EZ4EKeEGrhao/1v2mrzYSYG6onNLt2...   \n",
       "9   \"ld9biNPKjAjgjV7EZ4EKeEGrhao/1v2mrzYSYG6onNLt2...   \n",
       "10  \"ld9biNPKjAjgjV7EZ4EKeEGrhao/1v2mrzYSYG6onNLt2...   \n",
       "11  \"ld9biNPKjAjgjV7EZ4EKeEGrhao/1v2mrzYSYG6onNLt2...   \n",
       "12  \"ld9biNPKjAjgjV7EZ4EKeEGrhao/1v2mrzYSYG6onNLt2...   \n",
       "13  \"ld9biNPKjAjgjV7EZ4EKeEGrhao/1v2mrzYSYG6onNLt2...   \n",
       "14  \"ld9biNPKjAjgjV7EZ4EKeEGrhao/1v2mrzYSYG6onNLt2...   \n",
       "15  \"ld9biNPKjAjgjV7EZ4EKeEGrhao/1v2mrzYSYG6onNLt2...   \n",
       "16  \"ld9biNPKjAjgjV7EZ4EKeEGrhao/1v2mrzYSYG6onNLt2...   \n",
       "17  \"ld9biNPKjAjgjV7EZ4EKeEGrhao/1v2mrzYSYG6onNLt2...   \n",
       "18  \"ld9biNPKjAjgjV7EZ4EKeEGrhao/1v2mrzYSYG6onNLt2...   \n",
       "19  \"ld9biNPKjAjgjV7EZ4EKeEGrhao/1v2mrzYSYG6onNLt2...   \n",
       "20  \"ld9biNPKjAjgjV7EZ4EKeEGrhao/1v2mrzYSYG6onNLt2...   \n",
       "21  \"ld9biNPKjAjgjV7EZ4EKeEGrhao/1v2mrzYSYG6onNLt2...   \n",
       "22  \"ld9biNPKjAjgjV7EZ4EKeEGrhao/1v2mrzYSYG6onNLt2...   \n",
       "23  \"ld9biNPKjAjgjV7EZ4EKeEGrhao/1v2mrzYSYG6onNLt2...   \n",
       "24  \"ld9biNPKjAjgjV7EZ4EKeEGrhao/1v2mrzYSYG6onNLt2...   \n",
       "25  \"ld9biNPKjAjgjV7EZ4EKeEGrhao/1v2mrzYSYG6onNLt2...   \n",
       "26  \"ld9biNPKjAjgjV7EZ4EKeEGrhao/1v2mrzYSYG6onNLt2...   \n",
       "27  \"ld9biNPKjAjgjV7EZ4EKeEGrhao/1v2mrzYSYG6onNLt2...   \n",
       "28  \"ld9biNPKjAjgjV7EZ4EKeEGrhao/1v2mrzYSYG6onNLt2...   \n",
       "29  \"ld9biNPKjAjgjV7EZ4EKeEGrhao/1v2mrzYSYG6onNLt2...   \n",
       "30  \"ld9biNPKjAjgjV7EZ4EKeEGrhao/1v2mrzYSYG6onNLt2...   \n",
       "\n",
       "                                                items  \n",
       "0   {'kind': 'youtube#videoCategory', 'etag': '\"ld...  \n",
       "1   {'kind': 'youtube#videoCategory', 'etag': '\"ld...  \n",
       "2   {'kind': 'youtube#videoCategory', 'etag': '\"ld...  \n",
       "3   {'kind': 'youtube#videoCategory', 'etag': '\"ld...  \n",
       "4   {'kind': 'youtube#videoCategory', 'etag': '\"ld...  \n",
       "5   {'kind': 'youtube#videoCategory', 'etag': '\"ld...  \n",
       "6   {'kind': 'youtube#videoCategory', 'etag': '\"ld...  \n",
       "7   {'kind': 'youtube#videoCategory', 'etag': '\"ld...  \n",
       "8   {'kind': 'youtube#videoCategory', 'etag': '\"ld...  \n",
       "9   {'kind': 'youtube#videoCategory', 'etag': '\"ld...  \n",
       "10  {'kind': 'youtube#videoCategory', 'etag': '\"ld...  \n",
       "11  {'kind': 'youtube#videoCategory', 'etag': '\"ld...  \n",
       "12  {'kind': 'youtube#videoCategory', 'etag': '\"ld...  \n",
       "13  {'kind': 'youtube#videoCategory', 'etag': '\"ld...  \n",
       "14  {'kind': 'youtube#videoCategory', 'etag': '\"ld...  \n",
       "15  {'kind': 'youtube#videoCategory', 'etag': '\"ld...  \n",
       "16  {'kind': 'youtube#videoCategory', 'etag': '\"ld...  \n",
       "17  {'kind': 'youtube#videoCategory', 'etag': '\"ld...  \n",
       "18  {'kind': 'youtube#videoCategory', 'etag': '\"ld...  \n",
       "19  {'kind': 'youtube#videoCategory', 'etag': '\"ld...  \n",
       "20  {'kind': 'youtube#videoCategory', 'etag': '\"ld...  \n",
       "21  {'kind': 'youtube#videoCategory', 'etag': '\"ld...  \n",
       "22  {'kind': 'youtube#videoCategory', 'etag': '\"ld...  \n",
       "23  {'kind': 'youtube#videoCategory', 'etag': '\"ld...  \n",
       "24  {'kind': 'youtube#videoCategory', 'etag': '\"ld...  \n",
       "25  {'kind': 'youtube#videoCategory', 'etag': '\"ld...  \n",
       "26  {'kind': 'youtube#videoCategory', 'etag': '\"ld...  \n",
       "27  {'kind': 'youtube#videoCategory', 'etag': '\"ld...  \n",
       "28  {'kind': 'youtube#videoCategory', 'etag': '\"ld...  \n",
       "29  {'kind': 'youtube#videoCategory', 'etag': '\"ld...  \n",
       "30  {'kind': 'youtube#videoCategory', 'etag': '\"ld...  "
      ]
     },
     "execution_count": 139,
     "metadata": {},
     "output_type": "execute_result"
    }
   ],
   "source": [
    "files_json[Country]"
   ]
  },
  {
   "cell_type": "code",
   "execution_count": 140,
   "metadata": {},
   "outputs": [
    {
     "data": {
      "text/plain": [
       "Index(['kind', 'etag', 'items'], dtype='object')"
      ]
     },
     "execution_count": 140,
     "metadata": {},
     "output_type": "execute_result"
    }
   ],
   "source": [
    "files_json[Country].columns"
   ]
  },
  {
   "cell_type": "code",
   "execution_count": 141,
   "metadata": {},
   "outputs": [
    {
     "data": {
      "text/plain": [
       "'etag'"
      ]
     },
     "execution_count": 141,
     "metadata": {},
     "output_type": "execute_result"
    }
   ],
   "source": [
    "files_json[Country].columns[1]"
   ]
  },
  {
   "cell_type": "code",
   "execution_count": 142,
   "metadata": {
    "scrolled": true
   },
   "outputs": [
    {
     "data": {
      "text/plain": [
       "array(['\"ld9biNPKjAjgjV7EZ4EKeEGrhao/1v2mrzYSYG6onNLt2qTj13hkQZk\"'],\n",
       "      dtype=object)"
      ]
     },
     "execution_count": 142,
     "metadata": {},
     "output_type": "execute_result"
    }
   ],
   "source": [
    "files_json[Country]['etag'].unique()"
   ]
  },
  {
   "cell_type": "code",
   "execution_count": 143,
   "metadata": {
    "scrolled": true
   },
   "outputs": [
    {
     "data": {
      "text/plain": [
       "array(['youtube#videoCategoryListResponse'], dtype=object)"
      ]
     },
     "execution_count": 143,
     "metadata": {},
     "output_type": "execute_result"
    }
   ],
   "source": [
    "files_json[Country]['kind'].unique()"
   ]
  },
  {
   "cell_type": "code",
   "execution_count": 144,
   "metadata": {
    "scrolled": true
   },
   "outputs": [
    {
     "data": {
      "text/plain": [
       "{'kind': 'youtube#videoCategory',\n",
       " 'etag': '\"ld9biNPKjAjgjV7EZ4EKeEGrhao/Xy1mB4_yLrHy_BmKmPBggty2mZQ\"',\n",
       " 'id': '1',\n",
       " 'snippet': {'channelId': 'UCBR8-60-B28hp2BmDPdntcQ',\n",
       "  'title': 'Film & Animation',\n",
       "  'assignable': True}}"
      ]
     },
     "execution_count": 144,
     "metadata": {},
     "output_type": "execute_result"
    }
   ],
   "source": [
    "files_json[Country]['items'][0]"
   ]
  },
  {
   "cell_type": "code",
   "execution_count": 145,
   "metadata": {},
   "outputs": [
    {
     "data": {
      "text/plain": [
       "'youtube#videoCategory'"
      ]
     },
     "execution_count": 145,
     "metadata": {},
     "output_type": "execute_result"
    }
   ],
   "source": [
    "files_json[Country]['items'][0]['kind']"
   ]
  },
  {
   "cell_type": "code",
   "execution_count": 146,
   "metadata": {
    "scrolled": true
   },
   "outputs": [
    {
     "data": {
      "text/plain": [
       "'\"ld9biNPKjAjgjV7EZ4EKeEGrhao/Xy1mB4_yLrHy_BmKmPBggty2mZQ\"'"
      ]
     },
     "execution_count": 146,
     "metadata": {},
     "output_type": "execute_result"
    }
   ],
   "source": [
    "files_json[Country]['items'][0]['etag']"
   ]
  },
  {
   "cell_type": "code",
   "execution_count": 147,
   "metadata": {},
   "outputs": [
    {
     "data": {
      "text/plain": [
       "'1'"
      ]
     },
     "execution_count": 147,
     "metadata": {},
     "output_type": "execute_result"
    }
   ],
   "source": [
    "files_json[Country]['items'][0]['id']"
   ]
  },
  {
   "cell_type": "code",
   "execution_count": 148,
   "metadata": {
    "scrolled": true
   },
   "outputs": [
    {
     "data": {
      "text/plain": [
       "{'channelId': 'UCBR8-60-B28hp2BmDPdntcQ',\n",
       " 'title': 'Film & Animation',\n",
       " 'assignable': True}"
      ]
     },
     "execution_count": 148,
     "metadata": {},
     "output_type": "execute_result"
    }
   ],
   "source": [
    "files_json[Country]['items'][0]['snippet']"
   ]
  },
  {
   "cell_type": "code",
   "execution_count": 149,
   "metadata": {},
   "outputs": [
    {
     "data": {
      "text/plain": [
       "'UCBR8-60-B28hp2BmDPdntcQ'"
      ]
     },
     "execution_count": 149,
     "metadata": {},
     "output_type": "execute_result"
    }
   ],
   "source": [
    "files_json[Country]['items'][0]['snippet']['channelId']"
   ]
  },
  {
   "cell_type": "code",
   "execution_count": 150,
   "metadata": {},
   "outputs": [
    {
     "data": {
      "text/plain": [
       "'Film & Animation'"
      ]
     },
     "execution_count": 150,
     "metadata": {},
     "output_type": "execute_result"
    }
   ],
   "source": [
    "files_json[Country]['items'][0]['snippet']['title']"
   ]
  },
  {
   "cell_type": "code",
   "execution_count": 151,
   "metadata": {},
   "outputs": [
    {
     "data": {
      "text/plain": [
       "True"
      ]
     },
     "execution_count": 151,
     "metadata": {},
     "output_type": "execute_result"
    }
   ],
   "source": [
    "files_json[Country]['items'][0]['snippet']['assignable']"
   ]
  },
  {
   "cell_type": "markdown",
   "metadata": {},
   "source": [
    "### Kind of info in csv files"
   ]
  },
  {
   "cell_type": "code",
   "execution_count": 152,
   "metadata": {},
   "outputs": [],
   "source": [
    "#Kind of info in csv files"
   ]
  },
  {
   "cell_type": "code",
   "execution_count": 153,
   "metadata": {},
   "outputs": [
    {
     "data": {
      "text/html": [
       "<div>\n",
       "<style scoped>\n",
       "    .dataframe tbody tr th:only-of-type {\n",
       "        vertical-align: middle;\n",
       "    }\n",
       "\n",
       "    .dataframe tbody tr th {\n",
       "        vertical-align: top;\n",
       "    }\n",
       "\n",
       "    .dataframe thead th {\n",
       "        text-align: right;\n",
       "    }\n",
       "</style>\n",
       "<table border=\"1\" class=\"dataframe\">\n",
       "  <thead>\n",
       "    <tr style=\"text-align: right;\">\n",
       "      <th></th>\n",
       "      <th>category_id</th>\n",
       "      <th>views</th>\n",
       "      <th>likes</th>\n",
       "      <th>dislikes</th>\n",
       "      <th>comment_count</th>\n",
       "    </tr>\n",
       "  </thead>\n",
       "  <tbody>\n",
       "    <tr>\n",
       "      <th>count</th>\n",
       "      <td>38916.000000</td>\n",
       "      <td>3.891600e+04</td>\n",
       "      <td>3.891600e+04</td>\n",
       "      <td>3.891600e+04</td>\n",
       "      <td>3.891600e+04</td>\n",
       "    </tr>\n",
       "    <tr>\n",
       "      <th>mean</th>\n",
       "      <td>16.827937</td>\n",
       "      <td>5.911944e+06</td>\n",
       "      <td>1.345196e+05</td>\n",
       "      <td>7.612560e+03</td>\n",
       "      <td>1.308835e+04</td>\n",
       "    </tr>\n",
       "    <tr>\n",
       "      <th>std</th>\n",
       "      <td>7.752728</td>\n",
       "      <td>1.900121e+07</td>\n",
       "      <td>3.499893e+05</td>\n",
       "      <td>5.095683e+04</td>\n",
       "      <td>5.066740e+04</td>\n",
       "    </tr>\n",
       "    <tr>\n",
       "      <th>min</th>\n",
       "      <td>1.000000</td>\n",
       "      <td>8.510000e+02</td>\n",
       "      <td>0.000000e+00</td>\n",
       "      <td>0.000000e+00</td>\n",
       "      <td>0.000000e+00</td>\n",
       "    </tr>\n",
       "    <tr>\n",
       "      <th>25%</th>\n",
       "      <td>10.000000</td>\n",
       "      <td>2.515272e+05</td>\n",
       "      <td>5.897000e+03</td>\n",
       "      <td>2.000000e+02</td>\n",
       "      <td>6.790000e+02</td>\n",
       "    </tr>\n",
       "    <tr>\n",
       "      <th>50%</th>\n",
       "      <td>20.000000</td>\n",
       "      <td>9.818890e+05</td>\n",
       "      <td>2.518250e+04</td>\n",
       "      <td>8.210000e+02</td>\n",
       "      <td>2.478000e+03</td>\n",
       "    </tr>\n",
       "    <tr>\n",
       "      <th>75%</th>\n",
       "      <td>24.000000</td>\n",
       "      <td>3.683628e+06</td>\n",
       "      <td>1.140892e+05</td>\n",
       "      <td>3.357500e+03</td>\n",
       "      <td>9.241500e+03</td>\n",
       "    </tr>\n",
       "    <tr>\n",
       "      <th>max</th>\n",
       "      <td>43.000000</td>\n",
       "      <td>4.245389e+08</td>\n",
       "      <td>5.613827e+06</td>\n",
       "      <td>1.944971e+06</td>\n",
       "      <td>1.626501e+06</td>\n",
       "    </tr>\n",
       "  </tbody>\n",
       "</table>\n",
       "</div>"
      ],
      "text/plain": [
       "        category_id         views         likes      dislikes  comment_count\n",
       "count  38916.000000  3.891600e+04  3.891600e+04  3.891600e+04   3.891600e+04\n",
       "mean      16.827937  5.911944e+06  1.345196e+05  7.612560e+03   1.308835e+04\n",
       "std        7.752728  1.900121e+07  3.499893e+05  5.095683e+04   5.066740e+04\n",
       "min        1.000000  8.510000e+02  0.000000e+00  0.000000e+00   0.000000e+00\n",
       "25%       10.000000  2.515272e+05  5.897000e+03  2.000000e+02   6.790000e+02\n",
       "50%       20.000000  9.818890e+05  2.518250e+04  8.210000e+02   2.478000e+03\n",
       "75%       24.000000  3.683628e+06  1.140892e+05  3.357500e+03   9.241500e+03\n",
       "max       43.000000  4.245389e+08  5.613827e+06  1.944971e+06   1.626501e+06"
      ]
     },
     "execution_count": 153,
     "metadata": {},
     "output_type": "execute_result"
    }
   ],
   "source": [
    "files_csv[Country].describe()"
   ]
  },
  {
   "cell_type": "code",
   "execution_count": 200,
   "metadata": {},
   "outputs": [
    {
     "data": {
      "text/html": [
       "<div>\n",
       "<style scoped>\n",
       "    .dataframe tbody tr th:only-of-type {\n",
       "        vertical-align: middle;\n",
       "    }\n",
       "\n",
       "    .dataframe tbody tr th {\n",
       "        vertical-align: top;\n",
       "    }\n",
       "\n",
       "    .dataframe thead th {\n",
       "        text-align: right;\n",
       "    }\n",
       "</style>\n",
       "<table border=\"1\" class=\"dataframe\">\n",
       "  <thead>\n",
       "    <tr style=\"text-align: right;\">\n",
       "      <th></th>\n",
       "      <th>video_id</th>\n",
       "      <th>trending_date</th>\n",
       "      <th>title</th>\n",
       "      <th>channel_title</th>\n",
       "      <th>category_id</th>\n",
       "      <th>publish_time</th>\n",
       "      <th>tags</th>\n",
       "      <th>views</th>\n",
       "      <th>likes</th>\n",
       "      <th>dislikes</th>\n",
       "      <th>comment_count</th>\n",
       "      <th>thumbnail_link</th>\n",
       "      <th>comments_disabled</th>\n",
       "      <th>ratings_disabled</th>\n",
       "      <th>video_error_or_removed</th>\n",
       "      <th>description</th>\n",
       "    </tr>\n",
       "  </thead>\n",
       "  <tbody>\n",
       "    <tr>\n",
       "      <th>8522</th>\n",
       "      <td>--uXQQ0h-yQ</td>\n",
       "      <td>17.26.12</td>\n",
       "      <td>Paul McCartney - Pipes of Peace</td>\n",
       "      <td>PonteFractus</td>\n",
       "      <td>24</td>\n",
       "      <td>2008-11-24T17:59:52.000Z</td>\n",
       "      <td>ww1|\"great\"|\"war\"|\"trenches\"|\"tommies\"</td>\n",
       "      <td>26299</td>\n",
       "      <td>234</td>\n",
       "      <td>3</td>\n",
       "      <td>11</td>\n",
       "      <td>https://i.ytimg.com/vi/--uXQQ0h-yQ/default.jpg</td>\n",
       "      <td>False</td>\n",
       "      <td>False</td>\n",
       "      <td>False</td>\n",
       "      <td>Paul McCartney - Pipes of Peace</td>\n",
       "    </tr>\n",
       "    <tr>\n",
       "      <th>9984</th>\n",
       "      <td>--uXQQ0h-yQ</td>\n",
       "      <td>18.02.01</td>\n",
       "      <td>Paul McCartney - Pipes of Peace</td>\n",
       "      <td>PonteFractus</td>\n",
       "      <td>24</td>\n",
       "      <td>2008-11-24T17:59:52.000Z</td>\n",
       "      <td>ww1|\"great\"|\"war\"|\"trenches\"|\"tommies\"</td>\n",
       "      <td>28725</td>\n",
       "      <td>253</td>\n",
       "      <td>3</td>\n",
       "      <td>12</td>\n",
       "      <td>https://i.ytimg.com/vi/--uXQQ0h-yQ/default.jpg</td>\n",
       "      <td>False</td>\n",
       "      <td>False</td>\n",
       "      <td>False</td>\n",
       "      <td>Paul McCartney - Pipes of Peace</td>\n",
       "    </tr>\n",
       "    <tr>\n",
       "      <th>8327</th>\n",
       "      <td>--uXQQ0h-yQ</td>\n",
       "      <td>17.25.12</td>\n",
       "      <td>Paul McCartney - Pipes of Peace</td>\n",
       "      <td>PonteFractus</td>\n",
       "      <td>24</td>\n",
       "      <td>2008-11-24T17:59:52.000Z</td>\n",
       "      <td>ww1|\"great\"|\"war\"|\"trenches\"|\"tommies\"</td>\n",
       "      <td>24723</td>\n",
       "      <td>216</td>\n",
       "      <td>3</td>\n",
       "      <td>10</td>\n",
       "      <td>https://i.ytimg.com/vi/--uXQQ0h-yQ/default.jpg</td>\n",
       "      <td>False</td>\n",
       "      <td>False</td>\n",
       "      <td>False</td>\n",
       "      <td>Paul McCartney - Pipes of Peace</td>\n",
       "    </tr>\n",
       "    <tr>\n",
       "      <th>9145</th>\n",
       "      <td>--uXQQ0h-yQ</td>\n",
       "      <td>17.29.12</td>\n",
       "      <td>Paul McCartney - Pipes of Peace</td>\n",
       "      <td>PonteFractus</td>\n",
       "      <td>24</td>\n",
       "      <td>2008-11-24T17:59:52.000Z</td>\n",
       "      <td>ww1|\"great\"|\"war\"|\"trenches\"|\"tommies\"</td>\n",
       "      <td>27689</td>\n",
       "      <td>243</td>\n",
       "      <td>3</td>\n",
       "      <td>11</td>\n",
       "      <td>https://i.ytimg.com/vi/--uXQQ0h-yQ/default.jpg</td>\n",
       "      <td>False</td>\n",
       "      <td>False</td>\n",
       "      <td>False</td>\n",
       "      <td>Paul McCartney - Pipes of Peace</td>\n",
       "    </tr>\n",
       "    <tr>\n",
       "      <th>8938</th>\n",
       "      <td>--uXQQ0h-yQ</td>\n",
       "      <td>17.28.12</td>\n",
       "      <td>Paul McCartney - Pipes of Peace</td>\n",
       "      <td>PonteFractus</td>\n",
       "      <td>24</td>\n",
       "      <td>2008-11-24T17:59:52.000Z</td>\n",
       "      <td>ww1|\"great\"|\"war\"|\"trenches\"|\"tommies\"</td>\n",
       "      <td>27413</td>\n",
       "      <td>241</td>\n",
       "      <td>3</td>\n",
       "      <td>11</td>\n",
       "      <td>https://i.ytimg.com/vi/--uXQQ0h-yQ/default.jpg</td>\n",
       "      <td>False</td>\n",
       "      <td>False</td>\n",
       "      <td>False</td>\n",
       "      <td>Paul McCartney - Pipes of Peace</td>\n",
       "    </tr>\n",
       "    <tr>\n",
       "      <th>...</th>\n",
       "      <td>...</td>\n",
       "      <td>...</td>\n",
       "      <td>...</td>\n",
       "      <td>...</td>\n",
       "      <td>...</td>\n",
       "      <td>...</td>\n",
       "      <td>...</td>\n",
       "      <td>...</td>\n",
       "      <td>...</td>\n",
       "      <td>...</td>\n",
       "      <td>...</td>\n",
       "      <td>...</td>\n",
       "      <td>...</td>\n",
       "      <td>...</td>\n",
       "      <td>...</td>\n",
       "      <td>...</td>\n",
       "    </tr>\n",
       "    <tr>\n",
       "      <th>37050</th>\n",
       "      <td>zxwfDlhJIpw</td>\n",
       "      <td>18.03.06</td>\n",
       "      <td>kanye west / charlamagne interview</td>\n",
       "      <td>Kanye West</td>\n",
       "      <td>22</td>\n",
       "      <td>2018-05-01T15:57:06.000Z</td>\n",
       "      <td>Kanye West|\"YEEZY\"|\"Kanye\"|\"Charlamagne\"|\"The ...</td>\n",
       "      <td>8579665</td>\n",
       "      <td>167841</td>\n",
       "      <td>19615</td>\n",
       "      <td>48621</td>\n",
       "      <td>https://i.ytimg.com/vi/zxwfDlhJIpw/default.jpg</td>\n",
       "      <td>False</td>\n",
       "      <td>False</td>\n",
       "      <td>False</td>\n",
       "      <td>NaN</td>\n",
       "    </tr>\n",
       "    <tr>\n",
       "      <th>35864</th>\n",
       "      <td>zxwfDlhJIpw</td>\n",
       "      <td>18.27.05</td>\n",
       "      <td>kanye west / charlamagne interview</td>\n",
       "      <td>Kanye West</td>\n",
       "      <td>22</td>\n",
       "      <td>2018-05-01T15:57:06.000Z</td>\n",
       "      <td>Kanye West|\"YEEZY\"|\"Kanye\"|\"Charlamagne\"|\"The ...</td>\n",
       "      <td>8473031</td>\n",
       "      <td>166781</td>\n",
       "      <td>19493</td>\n",
       "      <td>48494</td>\n",
       "      <td>https://i.ytimg.com/vi/zxwfDlhJIpw/default.jpg</td>\n",
       "      <td>False</td>\n",
       "      <td>False</td>\n",
       "      <td>False</td>\n",
       "      <td>NaN</td>\n",
       "    </tr>\n",
       "    <tr>\n",
       "      <th>36035</th>\n",
       "      <td>zxwfDlhJIpw</td>\n",
       "      <td>18.28.05</td>\n",
       "      <td>kanye west / charlamagne interview</td>\n",
       "      <td>Kanye West</td>\n",
       "      <td>22</td>\n",
       "      <td>2018-05-01T15:57:06.000Z</td>\n",
       "      <td>Kanye West|\"YEEZY\"|\"Kanye\"|\"Charlamagne\"|\"The ...</td>\n",
       "      <td>8486581</td>\n",
       "      <td>166889</td>\n",
       "      <td>19506</td>\n",
       "      <td>48506</td>\n",
       "      <td>https://i.ytimg.com/vi/zxwfDlhJIpw/default.jpg</td>\n",
       "      <td>False</td>\n",
       "      <td>False</td>\n",
       "      <td>False</td>\n",
       "      <td>NaN</td>\n",
       "    </tr>\n",
       "    <tr>\n",
       "      <th>37215</th>\n",
       "      <td>zxwfDlhJIpw</td>\n",
       "      <td>18.04.06</td>\n",
       "      <td>kanye west / charlamagne interview</td>\n",
       "      <td>Kanye West</td>\n",
       "      <td>22</td>\n",
       "      <td>2018-05-01T15:57:06.000Z</td>\n",
       "      <td>Kanye West|\"YEEZY\"|\"Kanye\"|\"Charlamagne\"|\"The ...</td>\n",
       "      <td>8596449</td>\n",
       "      <td>168026</td>\n",
       "      <td>19640</td>\n",
       "      <td>48633</td>\n",
       "      <td>https://i.ytimg.com/vi/zxwfDlhJIpw/default.jpg</td>\n",
       "      <td>False</td>\n",
       "      <td>False</td>\n",
       "      <td>False</td>\n",
       "      <td>NaN</td>\n",
       "    </tr>\n",
       "    <tr>\n",
       "      <th>34034</th>\n",
       "      <td>zxwfDlhJIpw</td>\n",
       "      <td>18.16.05</td>\n",
       "      <td>kanye west / charlamagne interview</td>\n",
       "      <td>Kanye West</td>\n",
       "      <td>22</td>\n",
       "      <td>2018-05-01T15:57:06.000Z</td>\n",
       "      <td>Kanye West|\"YEEZY\"|\"Kanye\"|\"Charlamagne\"|\"The ...</td>\n",
       "      <td>8295147</td>\n",
       "      <td>165136</td>\n",
       "      <td>19295</td>\n",
       "      <td>48115</td>\n",
       "      <td>https://i.ytimg.com/vi/zxwfDlhJIpw/default.jpg</td>\n",
       "      <td>False</td>\n",
       "      <td>False</td>\n",
       "      <td>False</td>\n",
       "      <td>NaN</td>\n",
       "    </tr>\n",
       "  </tbody>\n",
       "</table>\n",
       "<p>38916 rows × 16 columns</p>\n",
       "</div>"
      ],
      "text/plain": [
       "          video_id trending_date                               title  \\\n",
       "8522   --uXQQ0h-yQ      17.26.12     Paul McCartney - Pipes of Peace   \n",
       "9984   --uXQQ0h-yQ      18.02.01     Paul McCartney - Pipes of Peace   \n",
       "8327   --uXQQ0h-yQ      17.25.12     Paul McCartney - Pipes of Peace   \n",
       "9145   --uXQQ0h-yQ      17.29.12     Paul McCartney - Pipes of Peace   \n",
       "8938   --uXQQ0h-yQ      17.28.12     Paul McCartney - Pipes of Peace   \n",
       "...            ...           ...                                 ...   \n",
       "37050  zxwfDlhJIpw      18.03.06  kanye west / charlamagne interview   \n",
       "35864  zxwfDlhJIpw      18.27.05  kanye west / charlamagne interview   \n",
       "36035  zxwfDlhJIpw      18.28.05  kanye west / charlamagne interview   \n",
       "37215  zxwfDlhJIpw      18.04.06  kanye west / charlamagne interview   \n",
       "34034  zxwfDlhJIpw      18.16.05  kanye west / charlamagne interview   \n",
       "\n",
       "      channel_title  category_id              publish_time  \\\n",
       "8522   PonteFractus           24  2008-11-24T17:59:52.000Z   \n",
       "9984   PonteFractus           24  2008-11-24T17:59:52.000Z   \n",
       "8327   PonteFractus           24  2008-11-24T17:59:52.000Z   \n",
       "9145   PonteFractus           24  2008-11-24T17:59:52.000Z   \n",
       "8938   PonteFractus           24  2008-11-24T17:59:52.000Z   \n",
       "...             ...          ...                       ...   \n",
       "37050    Kanye West           22  2018-05-01T15:57:06.000Z   \n",
       "35864    Kanye West           22  2018-05-01T15:57:06.000Z   \n",
       "36035    Kanye West           22  2018-05-01T15:57:06.000Z   \n",
       "37215    Kanye West           22  2018-05-01T15:57:06.000Z   \n",
       "34034    Kanye West           22  2018-05-01T15:57:06.000Z   \n",
       "\n",
       "                                                    tags    views   likes  \\\n",
       "8522              ww1|\"great\"|\"war\"|\"trenches\"|\"tommies\"    26299     234   \n",
       "9984              ww1|\"great\"|\"war\"|\"trenches\"|\"tommies\"    28725     253   \n",
       "8327              ww1|\"great\"|\"war\"|\"trenches\"|\"tommies\"    24723     216   \n",
       "9145              ww1|\"great\"|\"war\"|\"trenches\"|\"tommies\"    27689     243   \n",
       "8938              ww1|\"great\"|\"war\"|\"trenches\"|\"tommies\"    27413     241   \n",
       "...                                                  ...      ...     ...   \n",
       "37050  Kanye West|\"YEEZY\"|\"Kanye\"|\"Charlamagne\"|\"The ...  8579665  167841   \n",
       "35864  Kanye West|\"YEEZY\"|\"Kanye\"|\"Charlamagne\"|\"The ...  8473031  166781   \n",
       "36035  Kanye West|\"YEEZY\"|\"Kanye\"|\"Charlamagne\"|\"The ...  8486581  166889   \n",
       "37215  Kanye West|\"YEEZY\"|\"Kanye\"|\"Charlamagne\"|\"The ...  8596449  168026   \n",
       "34034  Kanye West|\"YEEZY\"|\"Kanye\"|\"Charlamagne\"|\"The ...  8295147  165136   \n",
       "\n",
       "       dislikes  comment_count  \\\n",
       "8522          3             11   \n",
       "9984          3             12   \n",
       "8327          3             10   \n",
       "9145          3             11   \n",
       "8938          3             11   \n",
       "...         ...            ...   \n",
       "37050     19615          48621   \n",
       "35864     19493          48494   \n",
       "36035     19506          48506   \n",
       "37215     19640          48633   \n",
       "34034     19295          48115   \n",
       "\n",
       "                                       thumbnail_link  comments_disabled  \\\n",
       "8522   https://i.ytimg.com/vi/--uXQQ0h-yQ/default.jpg              False   \n",
       "9984   https://i.ytimg.com/vi/--uXQQ0h-yQ/default.jpg              False   \n",
       "8327   https://i.ytimg.com/vi/--uXQQ0h-yQ/default.jpg              False   \n",
       "9145   https://i.ytimg.com/vi/--uXQQ0h-yQ/default.jpg              False   \n",
       "8938   https://i.ytimg.com/vi/--uXQQ0h-yQ/default.jpg              False   \n",
       "...                                               ...                ...   \n",
       "37050  https://i.ytimg.com/vi/zxwfDlhJIpw/default.jpg              False   \n",
       "35864  https://i.ytimg.com/vi/zxwfDlhJIpw/default.jpg              False   \n",
       "36035  https://i.ytimg.com/vi/zxwfDlhJIpw/default.jpg              False   \n",
       "37215  https://i.ytimg.com/vi/zxwfDlhJIpw/default.jpg              False   \n",
       "34034  https://i.ytimg.com/vi/zxwfDlhJIpw/default.jpg              False   \n",
       "\n",
       "       ratings_disabled  video_error_or_removed  \\\n",
       "8522              False                   False   \n",
       "9984              False                   False   \n",
       "8327              False                   False   \n",
       "9145              False                   False   \n",
       "8938              False                   False   \n",
       "...                 ...                     ...   \n",
       "37050             False                   False   \n",
       "35864             False                   False   \n",
       "36035             False                   False   \n",
       "37215             False                   False   \n",
       "34034             False                   False   \n",
       "\n",
       "                           description  \n",
       "8522   Paul McCartney - Pipes of Peace  \n",
       "9984   Paul McCartney - Pipes of Peace  \n",
       "8327   Paul McCartney - Pipes of Peace  \n",
       "9145   Paul McCartney - Pipes of Peace  \n",
       "8938   Paul McCartney - Pipes of Peace  \n",
       "...                                ...  \n",
       "37050                              NaN  \n",
       "35864                              NaN  \n",
       "36035                              NaN  \n",
       "37215                              NaN  \n",
       "34034                              NaN  \n",
       "\n",
       "[38916 rows x 16 columns]"
      ]
     },
     "execution_count": 200,
     "metadata": {},
     "output_type": "execute_result"
    }
   ],
   "source": [
    "files_csv[Country].sort_values(by='video_id')"
   ]
  },
  {
   "cell_type": "code",
   "execution_count": 155,
   "metadata": {},
   "outputs": [
    {
     "data": {
      "text/plain": [
       "Index(['video_id', 'trending_date', 'title', 'channel_title', 'category_id',\n",
       "       'publish_time', 'tags', 'views', 'likes', 'dislikes', 'comment_count',\n",
       "       'thumbnail_link', 'comments_disabled', 'ratings_disabled',\n",
       "       'video_error_or_removed', 'description'],\n",
       "      dtype='object')"
      ]
     },
     "execution_count": 155,
     "metadata": {},
     "output_type": "execute_result"
    }
   ],
   "source": [
    "files_csv[Country].columns"
   ]
  },
  {
   "cell_type": "code",
   "execution_count": 156,
   "metadata": {},
   "outputs": [
    {
     "data": {
      "text/plain": [
       "array(['Jw1Y-zhQURU', '3s1rvMFUweQ', 'n1WpP7iowLc', ..., 'V15BYnSr0P8',\n",
       "       'BOhylL90UVQ', '14G7Qw5DC9M'], dtype=object)"
      ]
     },
     "execution_count": 156,
     "metadata": {},
     "output_type": "execute_result"
    }
   ],
   "source": [
    "files_csv[Country]['video_id'].unique()"
   ]
  },
  {
   "cell_type": "code",
   "execution_count": 157,
   "metadata": {},
   "outputs": [
    {
     "data": {
      "text/plain": [
       "array(['17.14.11', '17.15.11', '17.16.11', '17.17.11', '17.18.11',\n",
       "       '17.19.11', '17.20.11', '17.21.11', '17.22.11', '17.23.11',\n",
       "       '17.24.11', '17.25.11', '17.26.11', '17.27.11', '17.28.11',\n",
       "       '17.29.11', '17.30.11', '17.01.12', '17.02.12', '17.03.12',\n",
       "       '17.04.12', '17.05.12', '17.06.12', '17.07.12', '17.08.12',\n",
       "       '17.09.12', '17.10.12', '17.11.12', '17.12.12', '17.13.12',\n",
       "       '17.14.12', '17.15.12', '17.16.12', '17.17.12', '17.18.12',\n",
       "       '17.19.12', '17.20.12', '17.21.12', '17.22.12', '17.23.12',\n",
       "       '17.24.12', '17.25.12', '17.26.12', '17.27.12', '17.28.12',\n",
       "       '17.29.12', '17.30.12', '17.31.12', '18.01.01', '18.02.01',\n",
       "       '18.03.01', '18.04.01', '18.05.01', '18.06.01', '18.07.01',\n",
       "       '18.08.01', '18.09.01', '18.12.01', '18.13.01', '18.14.01',\n",
       "       '18.15.01', '18.16.01', '18.17.01', '18.18.01', '18.19.01',\n",
       "       '18.20.01', '18.21.01', '18.22.01', '18.23.01', '18.24.01',\n",
       "       '18.25.01', '18.26.01', '18.27.01', '18.28.01', '18.29.01',\n",
       "       '18.30.01', '18.31.01', '18.01.02', '18.02.02', '18.03.02',\n",
       "       '18.04.02', '18.05.02', '18.06.02', '18.07.02', '18.08.02',\n",
       "       '18.09.02', '18.10.02', '18.11.02', '18.12.02', '18.13.02',\n",
       "       '18.14.02', '18.15.02', '18.16.02', '18.17.02', '18.18.02',\n",
       "       '18.19.02', '18.20.02', '18.21.02', '18.22.02', '18.23.02',\n",
       "       '18.24.02', '18.25.02', '18.26.02', '18.27.02', '18.28.02',\n",
       "       '18.01.03', '18.02.03', '18.03.03', '18.04.03', '18.05.03',\n",
       "       '18.06.03', '18.07.03', '18.08.03', '18.09.03', '18.10.03',\n",
       "       '18.11.03', '18.12.03', '18.13.03', '18.14.03', '18.15.03',\n",
       "       '18.16.03', '18.17.03', '18.18.03', '18.19.03', '18.20.03',\n",
       "       '18.21.03', '18.22.03', '18.23.03', '18.24.03', '18.25.03',\n",
       "       '18.26.03', '18.27.03', '18.28.03', '18.29.03', '18.30.03',\n",
       "       '18.31.03', '18.01.04', '18.02.04', '18.03.04', '18.04.04',\n",
       "       '18.05.04', '18.06.04', '18.07.04', '18.14.04', '18.15.04',\n",
       "       '18.16.04', '18.17.04', '18.18.04', '18.19.04', '18.20.04',\n",
       "       '18.21.04', '18.22.04', '18.23.04', '18.24.04', '18.25.04',\n",
       "       '18.26.04', '18.27.04', '18.28.04', '18.29.04', '18.30.04',\n",
       "       '18.01.05', '18.02.05', '18.03.05', '18.04.05', '18.05.05',\n",
       "       '18.06.05', '18.07.05', '18.08.05', '18.09.05', '18.10.05',\n",
       "       '18.11.05', '18.12.05', '18.13.05', '18.14.05', '18.15.05',\n",
       "       '18.16.05', '18.17.05', '18.18.05', '18.19.05', '18.20.05',\n",
       "       '18.21.05', '18.22.05', '18.23.05', '18.24.05', '18.25.05',\n",
       "       '18.26.05', '18.27.05', '18.28.05', '18.29.05', '18.30.05',\n",
       "       '18.31.05', '18.01.06', '18.02.06', '18.03.06', '18.04.06',\n",
       "       '18.05.06', '18.06.06', '18.07.06', '18.08.06', '18.09.06',\n",
       "       '18.10.06', '18.11.06', '18.12.06', '18.13.06', '18.14.06'],\n",
       "      dtype=object)"
      ]
     },
     "execution_count": 157,
     "metadata": {},
     "output_type": "execute_result"
    }
   ],
   "source": [
    "files_csv[Country]['trending_date'].unique()"
   ]
  },
  {
   "cell_type": "code",
   "execution_count": 158,
   "metadata": {},
   "outputs": [
    {
     "data": {
      "text/plain": [
       "array(['John Lewis Christmas Ad 2017 - #MozTheMonster',\n",
       "       'Taylor Swift: …Ready for It? (Live) - SNL',\n",
       "       'Eminem - Walk On Water (Audio) ft. Beyoncé', ...,\n",
       "       'Live It Up (Official Video) - Nicky Jam feat. Will Smith & Era Istrefi (2018 FIFA World Cup Russia)',\n",
       "       'The Chainsmokers - Somebody ft. Drew Love (Rory Kramer Vision)',\n",
       "       '17 FUN LIFE HACKS YOU WILL WANT TO TRY YOURSELF'], dtype=object)"
      ]
     },
     "execution_count": 158,
     "metadata": {},
     "output_type": "execute_result"
    }
   ],
   "source": [
    "files_csv[Country]['title'].unique()"
   ]
  },
  {
   "cell_type": "code",
   "execution_count": 159,
   "metadata": {},
   "outputs": [
    {
     "data": {
      "text/plain": [
       "array(['John Lewis', 'Saturday Night Live', 'EminemVEVO', ...,\n",
       "       'Семен Слепаков', 'The Chainsmokers', '5-Minute Crafts'],\n",
       "      dtype=object)"
      ]
     },
     "execution_count": 159,
     "metadata": {},
     "output_type": "execute_result"
    }
   ],
   "source": [
    "files_csv[Country]['channel_title'].unique()"
   ]
  },
  {
   "cell_type": "code",
   "execution_count": 160,
   "metadata": {},
   "outputs": [
    {
     "data": {
      "text/plain": [
       "array(['2017-11-10T07:38:29.000Z', '2017-11-12T06:24:44.000Z',\n",
       "       '2017-11-10T17:00:03.000Z', ..., '2018-06-08T11:58:38.000Z',\n",
       "       '2018-06-09T16:00:00.000Z', '2018-05-18T07:30:00.000Z'],\n",
       "      dtype=object)"
      ]
     },
     "execution_count": 160,
     "metadata": {},
     "output_type": "execute_result"
    }
   ],
   "source": [
    "files_csv[Country]['publish_time'].unique()"
   ]
  },
  {
   "cell_type": "code",
   "execution_count": 161,
   "metadata": {},
   "outputs": [
    {
     "data": {
      "text/plain": [
       "array(['christmas|\"john lewis christmas\"|\"john lewis\"|\"christmas ad\"|\"mozthemonster\"|\"christmas 2017\"|\"christmas ad 2017\"|\"john lewis christmas advert\"|\"moz\"',\n",
       "       'SNL|\"Saturday Night Live\"|\"SNL Season 43\"|\"Episode 1730\"|\"Tiffany Haddish\"|\"Taylor Swift\"|\"Taylor Swift Ready for It\"|\"s43\"|\"s43e5\"|\"episode 5\"|\"live\"|\"new york\"|\"comedy\"|\"sketch\"|\"funny\"|\"hilarious\"|\"late night\"|\"host\"|\"music\"|\"guest\"|\"laugh\"|\"impersonation\"|\"actor\"|\"improv\"|\"musician\"|\"comedian\"|\"actress\"|\"If Loving You Is Wrong\"|\"Oprah Winfrey\"|\"OWN\"|\"Girls Trip\"|\"The Carmichael Show\"|\"Keanu\"|\"Reputation\"|\"Look What You Made Me Do\"|\"ready for it?\"',\n",
       "       'Eminem|\"Walk\"|\"On\"|\"Water\"|\"Aftermath/Shady/Interscope\"|\"Rap\"',\n",
       "       ...,\n",
       "       'capitalfmofficial|\"capital\"|\"capital fm\"|\"capital radio\"|\"radio\"|\"official\"|\"remix\"|\"lyrics\"|\"official video\"|\"live\"|\"capital tv\"|\"interview\"|\"summertime ball\"|\"stb\"|\"capital summertime ball 2018\"|\"capital stb\"|\"camila cabello live\"|\"camila summertime ball\"|\"camila cabello summertime ball\"|\"fifth harmony\"|\"fifth harmony live\"|\"camila fifth harmony\"|\"harmonisers\"|\"harmonizers\"',\n",
       "       'The Chainsmokers Somebody|\"Chainsmokers Somebody\"|\"Somedy Drew Love\"|\"The Chainsmokers Somebody Drew Love\"|\"The Chainsmokers\"|\"Rory Kramer\"|\"Rory Kramer Vision\"|\"Somebody Rory Kramer\"|\"Rory Kramer Somebody\"|\"The Chainsmokers Rory Kramer\"|\"Somebody Chainsmokers Rory\"|\"The Chainsmokers Somebody official video\"|\"official video\"|\"Lil Dicky\"|\"G-Eazy\"|\"Halsey\"|\"Andrew Watt\"',\n",
       "       '5-Minute Crafts|\"DIY\"|\"Do it yourself\"|\"crafts\"|\"trucos\"|\"trucos de belliza\"|\"proyectos faciles\"|\"useful things\"|\"lifehacks\"|\"tricks\"|\"tips\"|\"DIY projects\"|\"DIY activities\"|\"Handcraft\"|\"Tutorial\"|\"balloon\"|\"balloons\"|\"confettis\"|\"how to\"|\"make\"|\"create\"|\"design\"|\"invent\"|\"festive event\"|\"birthday party\"|\"gifts\"|\"presents\"|\"gift\"|\"present\"|\"gift wrapping\"|\"toothy pictures\"|\"drawing\"|\"painting\"|\"pull tab\"|\"rubber band\"|\"straw hand\"'],\n",
       "      dtype=object)"
      ]
     },
     "execution_count": 161,
     "metadata": {},
     "output_type": "execute_result"
    }
   ],
   "source": [
    "files_csv[Country]['tags'].unique()"
   ]
  },
  {
   "cell_type": "code",
   "execution_count": 162,
   "metadata": {},
   "outputs": [
    {
     "data": {
      "text/html": [
       "<div>\n",
       "<style scoped>\n",
       "    .dataframe tbody tr th:only-of-type {\n",
       "        vertical-align: middle;\n",
       "    }\n",
       "\n",
       "    .dataframe tbody tr th {\n",
       "        vertical-align: top;\n",
       "    }\n",
       "\n",
       "    .dataframe thead th {\n",
       "        text-align: right;\n",
       "    }\n",
       "</style>\n",
       "<table border=\"1\" class=\"dataframe\">\n",
       "  <thead>\n",
       "    <tr style=\"text-align: right;\">\n",
       "      <th></th>\n",
       "      <th>tags</th>\n",
       "    </tr>\n",
       "  </thead>\n",
       "  <tbody>\n",
       "    <tr>\n",
       "      <th>[none]</th>\n",
       "      <td>2010</td>\n",
       "    </tr>\n",
       "    <tr>\n",
       "      <th>James Corden|\"The Late Late Show\"|\"Colbert\"|\"late night\"|\"late night show\"|\"Stephen Colbert\"|\"Comedy\"|\"monologue\"|\"comedian\"|\"impressions\"|\"celebrities\"|\"carpool\"|\"karaoke\"|\"CBS\"|\"Late Late Show\"|\"Corden\"|\"joke\"|\"jokes\"|\"funny\"|\"funny video\"|\"funny videos\"|\"humor\"|\"celebrity\"|\"celeb\"|\"hollywood\"|\"famous\"</th>\n",
       "      <td>100</td>\n",
       "    </tr>\n",
       "    <tr>\n",
       "      <th>BIGHIT|\"빅히트\"|\"방탄소년단\"|\"BTS\"|\"BANGTAN\"|\"방탄\"</th>\n",
       "      <td>94</td>\n",
       "    </tr>\n",
       "    <tr>\n",
       "      <th>ABC|\"americanidol\"|\"idol\"|\"american idol\"|\"ryan\"|\"seacrest\"|\"ryan seacrest\"|\"katy\"|\"perry\"|\"katy perry\"|\"luke\"|\"bryan\"|\"luke bryan\"|\"lionel\"|\"richie\"|\"lionel richie\"|\"season 16\"|\"american idol XVI\"|\"television\"|\"ad\"|\"spring\"|\"2018\"|\"music\"|\"reality\"|\"competition\"|\"song\"|\"sing\"|\"audition\"|\"auditions\"|\"performance\"|\"live\"|\"fox\"|\"AI\"|\"hollywood\"|\"contestant\"|\"official\"|\"american\"|\"official american idol\"|\"hollywood week\"|\"hometown audition\"</th>\n",
       "      <td>89</td>\n",
       "    </tr>\n",
       "    <tr>\n",
       "      <th>The Late Show|\"Stephen Colbert\"|\"Colbert\"|\"Late Show\"|\"celebrities\"|\"late night\"|\"talk show\"|\"skits\"|\"bit\"|\"monologue\"|\"The Late Late Show\"|\"Late Late Show\"|\"letterman\"|\"david letterman\"|\"comedian\"|\"impressions\"|\"CBS\"|\"joke\"|\"jokes\"|\"funny\"|\"funny video\"|\"funny videos\"|\"humor\"|\"celebrity\"|\"celeb\"|\"hollywood\"|\"famous\"|\"James Corden\"|\"Corden\"|\"Comedy\"</th>\n",
       "      <td>77</td>\n",
       "    </tr>\n",
       "    <tr>\n",
       "      <th>...</th>\n",
       "      <td>...</td>\n",
       "    </tr>\n",
       "    <tr>\n",
       "      <th>Camila Cabello|\"Camila\"|\"Cabello\"|\"music performance\"|\"havana lyrics\"|\"havana camila cabello\"|\"Ellen\"|\"degeneres\"|\"ellen degeneres\"|\"the ellen show\"|\"ellen fans\"|\"ellen tickets\"|\"ellentube\"|\"ellen audience\"|\"havana\"|\"performance\"|\"concert\"|\"nightclub\"|\"unforgettable\"|\"amazing\"|\"dressing room\"|\"backstage\"|\"bts\"|\"singing\"|\"fifth harmony\"|\"fifth\"|\"harmony\"|\"cuba\"|\"sing\"</th>\n",
       "      <td>1</td>\n",
       "    </tr>\n",
       "    <tr>\n",
       "      <th>NFL|\"Football\"|\"offense\"|\"defense\"|\"afc\"|\"nfc\"|\"American Football\"|\"highlight\"|\"highlights\"|\"sports\"|\"action\"|\"2017\"|\"2018\"|\"touchdown\"|\"td\"|\"AFC\"|\"NFC\"|\"champ\"|\"champion\"|\"championship\"|\"super bowl\"|\"super bowl 52\"|\"SB\"|\"new england\"|\"patriots\"|\"pats\"|\"eagles\"|\"philly\"|\"Justin Timberlake\"|\"halftime show\"|\"sexyback\"|\"sexy back\"|\"can’t stop the feeling\"|\"cry me a river\"|\"rock your body\"|\"filthy\"|\"singing\"|\"dancing\"|\"sp:dt=2018-02-04T18:30:00-05:00\"|\"sp:vl=en-US\"|\"sp:st=football\"|\"sp:li=nfl\"|\"sp:ti:home=NE\"|\"sp:ti:away=PHI\"|\"sp:ty=play\"|\"sp:or=9\"</th>\n",
       "      <td>1</td>\n",
       "    </tr>\n",
       "    <tr>\n",
       "      <th>jimmy|\"jimmy kimmel\"|\"jimmy kimmel live\"|\"late night\"|\"talk show\"|\"funny\"|\"comedic\"|\"comedy\"|\"clip\"|\"comedian\"|\"mean tweets\"|\"katy perry\"|\"blast from the past\"|\"boobs\"|\"singer\"|\"american idol\"|\"guillermo\"|\"hot dog cannon\"</th>\n",
       "      <td>1</td>\n",
       "    </tr>\n",
       "    <tr>\n",
       "      <th>capitalfmofficial|\"capital\"|\"capital fm\"|\"capital radio\"|\"radio\"|\"official\"|\"remix\"|\"lyrics\"|\"official video\"|\"live\"|\"capital tv\"|\"interview\"|\"summertime ball\"|\"stb\"|\"capital summertime ball 2018\"|\"capital stb\"|\"camila cabello live\"|\"camila summertime ball\"|\"camila cabello summertime ball\"|\"fifth harmony\"|\"fifth harmony live\"|\"camila fifth harmony\"|\"harmonisers\"|\"harmonizers\"</th>\n",
       "      <td>1</td>\n",
       "    </tr>\n",
       "    <tr>\n",
       "      <th>jacob sartorius|\"jacob\"|\"hit me back\"|\"sweatshirt\"|\"last text\"|\"all my friends\"|\"teen\"|\"influencer\"|\"blogger\"|\"music\"|\"wedding\"|\"pop\"|\"david dobrik\"|\"corinna\"|\"bieber\"|\"selena gomez\"|\"arianna grande\"|\"justin\"|\"sartorius\"|\"sartorians\"|\"jake paul\"|\"why dont we\"|\"prettymuch\"|\"shawn mendes\"|\"mendes\"|\"pop music\"|\"chapstick\"|\"millie\"|\"milliebobbybrown\"|\"stranger things\"|\"up with it\"|\"hit or miss\"|\"jenna ortega\"|\"musical.ly\"|\"millie bobby brown\"|\"jacob sartorius up with it\"|\"pop 2018\"|\"musically\"|\"muser\"|\"justin bieber\"</th>\n",
       "      <td>1</td>\n",
       "    </tr>\n",
       "  </tbody>\n",
       "</table>\n",
       "<p>3122 rows × 1 columns</p>\n",
       "</div>"
      ],
      "text/plain": [
       "                                                    tags\n",
       "[none]                                              2010\n",
       "James Corden|\"The Late Late Show\"|\"Colbert\"|\"la...   100\n",
       "BIGHIT|\"빅히트\"|\"방탄소년단\"|\"BTS\"|\"BANGTAN\"|\"방탄\"             94\n",
       "ABC|\"americanidol\"|\"idol\"|\"american idol\"|\"ryan...    89\n",
       "The Late Show|\"Stephen Colbert\"|\"Colbert\"|\"Late...    77\n",
       "...                                                  ...\n",
       "Camila Cabello|\"Camila\"|\"Cabello\"|\"music perfor...     1\n",
       "NFL|\"Football\"|\"offense\"|\"defense\"|\"afc\"|\"nfc\"|...     1\n",
       "jimmy|\"jimmy kimmel\"|\"jimmy kimmel live\"|\"late ...     1\n",
       "capitalfmofficial|\"capital\"|\"capital fm\"|\"capit...     1\n",
       "jacob sartorius|\"jacob\"|\"hit me back\"|\"sweatshi...     1\n",
       "\n",
       "[3122 rows x 1 columns]"
      ]
     },
     "execution_count": 162,
     "metadata": {},
     "output_type": "execute_result"
    }
   ],
   "source": [
    "pd.DataFrame(files_csv[Country]['tags'].value_counts())"
   ]
  },
  {
   "cell_type": "code",
   "execution_count": 163,
   "metadata": {},
   "outputs": [
    {
     "data": {
      "text/plain": [
       "array([ 7224515,  1053632, 17158579, ..., 29641412, 14317515,   607552])"
      ]
     },
     "execution_count": 163,
     "metadata": {},
     "output_type": "execute_result"
    }
   ],
   "source": [
    "files_csv[Country]['views'].unique()"
   ]
  },
  {
   "cell_type": "code",
   "execution_count": 164,
   "metadata": {},
   "outputs": [
    {
     "data": {
      "text/plain": [
       "array([ 55681,  25561, 787420, ...,  61998, 394830, 151870])"
      ]
     },
     "execution_count": 164,
     "metadata": {},
     "output_type": "execute_result"
    }
   ],
   "source": [
    "files_csv[Country]['likes'].unique()"
   ]
  },
  {
   "cell_type": "code",
   "execution_count": 165,
   "metadata": {},
   "outputs": [
    {
     "data": {
      "text/plain": [
       "array([10247,  2294, 43420, ..., 13781,  8892, 45875])"
      ]
     },
     "execution_count": 165,
     "metadata": {},
     "output_type": "execute_result"
    }
   ],
   "source": [
    "files_csv[Country]['dislikes'].unique()"
   ]
  },
  {
   "cell_type": "code",
   "execution_count": 166,
   "metadata": {},
   "outputs": [
    {
     "data": {
      "text/plain": [
       "array([  9479,   2757, 125882, ...,  24330,  19988,  26766])"
      ]
     },
     "execution_count": 166,
     "metadata": {},
     "output_type": "execute_result"
    }
   ],
   "source": [
    "files_csv[Country]['comment_count'].unique()"
   ]
  },
  {
   "cell_type": "code",
   "execution_count": 167,
   "metadata": {},
   "outputs": [
    {
     "data": {
      "text/plain": [
       "array(['https://i.ytimg.com/vi/Jw1Y-zhQURU/default.jpg',\n",
       "       'https://i.ytimg.com/vi/3s1rvMFUweQ/default.jpg',\n",
       "       'https://i.ytimg.com/vi/n1WpP7iowLc/default.jpg', ...,\n",
       "       'https://i.ytimg.com/vi/V15BYnSr0P8/default.jpg',\n",
       "       'https://i.ytimg.com/vi/BOhylL90UVQ/default.jpg',\n",
       "       'https://i.ytimg.com/vi/14G7Qw5DC9M/default.jpg'], dtype=object)"
      ]
     },
     "execution_count": 167,
     "metadata": {},
     "output_type": "execute_result"
    }
   ],
   "source": [
    "files_csv[Country]['thumbnail_link'].unique()"
   ]
  },
  {
   "cell_type": "code",
   "execution_count": 168,
   "metadata": {},
   "outputs": [
    {
     "data": {
      "text/plain": [
       "https://i.ytimg.com/vi/2z3EUY1aXdY/default.jpg    38\n",
       "https://i.ytimg.com/vi/u_C4onVrr8U/default.jpg    38\n",
       "https://i.ytimg.com/vi/BhIEIO0vaBE/default.jpg    38\n",
       "https://i.ytimg.com/vi/NooW_RbfdWI/default.jpg    38\n",
       "https://i.ytimg.com/vi/Il-an3K9pjg/default.jpg    38\n",
       "                                                  ..\n",
       "https://i.ytimg.com/vi/eYf1IKFNHgM/default.jpg     1\n",
       "https://i.ytimg.com/vi/Zt803kKQ41k/default.jpg     1\n",
       "https://i.ytimg.com/vi/g7IfZX91qV0/default.jpg     1\n",
       "https://i.ytimg.com/vi/FmYMq9EHhdE/default.jpg     1\n",
       "https://i.ytimg.com/vi/PmH948yZwhE/default.jpg     1\n",
       "Name: thumbnail_link, Length: 3272, dtype: int64"
      ]
     },
     "execution_count": 168,
     "metadata": {},
     "output_type": "execute_result"
    }
   ],
   "source": [
    "files_csv[Country]['thumbnail_link'].value_counts()"
   ]
  },
  {
   "cell_type": "code",
   "execution_count": 169,
   "metadata": {},
   "outputs": [
    {
     "data": {
      "text/plain": [
       "array([False,  True])"
      ]
     },
     "execution_count": 169,
     "metadata": {},
     "output_type": "execute_result"
    }
   ],
   "source": [
    "files_csv[Country]['ratings_disabled'].unique()"
   ]
  },
  {
   "cell_type": "code",
   "execution_count": 170,
   "metadata": {},
   "outputs": [
    {
     "data": {
      "text/plain": [
       "array([False,  True])"
      ]
     },
     "execution_count": 170,
     "metadata": {},
     "output_type": "execute_result"
    }
   ],
   "source": [
    "files_csv[Country]['video_error_or_removed'].unique()"
   ]
  },
  {
   "cell_type": "code",
   "execution_count": 171,
   "metadata": {},
   "outputs": [
    {
     "data": {
      "text/plain": [
       "array([\"Click here to continue the story and make your own monster:\\\\nhttp://bit.ly/2mboXgj\\\\n\\\\nJoe befriends a noisy Monster under his bed but the two have so much fun together that he can't get to sleep, leaving him tired by day. For Christmas Joe receives a gift to help him finally get a good night’s sleep.\\\\n\\\\nShop the ad\\\\nhttp://bit.ly/2hg04Lc\\\\n\\\\nThe music is Golden Slumbers performed by elbow, the original song was by The Beatles. \\\\nFind the track:\\\\nhttps://Elbow.lnk.to/GoldenSlumbersXS\\\\n\\\\nSubscribe to this channel for regular video updates\\\\nhttp://bit.ly/2eU8MvW\\\\n\\\\nIf you want to hear more from John Lewis:\\\\n\\\\nLike John Lewis on Facebook\\\\nhttp://www.facebook.com/johnlewisretail\\\\n\\\\nFollow John Lewis on Twitter\\\\nhttp://twitter.com/johnlewisretail\\\\n\\\\nFollow John Lewis on Instagram\\\\nhttp://instagram.com/johnlewisretail\",\n",
       "       'Musical guest Taylor Swift performs …Ready for It? on Saturday Night Live.\\\\n\\\\n#SNL #SNL43\\\\n\\\\nGet more SNL: http://www.nbc.com/saturday-night-live\\\\nFull Episodes: http://www.nbc.com/saturday-night-liv...\\\\n\\\\nLike SNL: https://www.facebook.com/snl\\\\nFollow SNL: https://twitter.com/nbcsnl\\\\nSNL Tumblr: http://nbcsnl.tumblr.com/\\\\nSNL Instagram: http://instagram.com/nbcsnl \\\\nSNL Pinterest: http://www.pinterest.com/nbcsnl/',\n",
       "       \"Eminem's new track Walk on Water ft. Beyoncé is available everywhere: http://shady.sr/WOWEminem \\\\nPlaylist Best of Eminem: https://goo.gl/AquNpo\\\\nSubscribe for more: https://goo.gl/DxCrDV\\\\n\\\\nFor more visit: \\\\nhttp://eminem.com\\\\nhttp://facebook.com/eminem\\\\nhttp://twitter.com/eminem\\\\nhttp://instagram.com/eminem\\\\nhttp://eminem.tumblr.com\\\\nhttp://shadyrecords.com\\\\nhttp://facebook.com/shadyrecords\\\\nhttp://twitter.com/shadyrecords\\\\nhttp://instagram.com/shadyrecords\\\\nhttp://trustshady.tumblr.com\\\\n\\\\nMusic video by Eminem performing Walk On Water. (C) 2017 Aftermath Records\\\\nhttp://vevo.ly/gA7xKt\",\n",
       "       ...,\n",
       "       'The Chainsmokers - Somebody ft. Drew Love (A Rory Kramer Vision)Somebody ft. Drew Love Out Now: http://smarturl.it/TCSsomebody Video by Rory KramerFollow The Chainsmokers: http://www.youtube.com/thechainsmokers http://www.twitter.com/thechainsmokers http://www.facebook.com/thechainsmokers http://www.instagram.com/thechainsmokers http://www.soundcloud.com/thechainsmokers',\n",
       "       \"So here are some incredibly fun life hacks you will want to try yourself!You should totally check out these great ideas for the best party ever!Learn 7 sick dance moves for beginners, find out how to make incredible confetti balloons, floral numbers and letters for room decoration, phone speakers and your own disco ball!It's a perfect chance to spend some quality time with your friends or family and have fun together! Learn how to make soda machine right at home and inflate balloons correctly in a very creative way!Let the fun begin! :)----------------------------------------------------------------------------------------Our Social Media:Facebook: https://www.facebook.com/5min.crafts/Instagram: https://www.instagram.com/5.min.crafts/Twitter: https://twitter.com/5m_craftsSubscribe to 5-Minute Crafts GIRLY: https://goo.gl/fWbJqzSubscribe to 5-Minute Workouts: https://goo.gl/67owiQSubscribe 5-Minute Crafts KIDS: https://goo.gl/PEuLVtThe Bright Side of Youtube: https://goo.gl/rQTJZz----------------------------------------------------------------------------------------For more videos and articles visit:http://www.brightside.me/\",\n",
       "       \"Debut album 'Light of Mine' out now: http://kyle.lnk.to/LightofMineIDFollow SuperDuperKyle:Facebook: https://facebook.com/superduperkylemusicTwitter: https://twitter.com/superduperkyleInstagram: https://instagram.com/superduperkyleSoundCloud: https://soundcloud.com/superduperkylemusicWebsite: http://superduperkyle.comFollow the SuperDuperCrew:https://twitter.com/SuperDuperCrew_https://instagram.com/superdupercrew/https://youtube.com/user/SuperDuperCrewTVKYLE - Ikuyo feat. 2 Chainz & Sophia Black\"],\n",
       "      dtype=object)"
      ]
     },
     "execution_count": 171,
     "metadata": {},
     "output_type": "execute_result"
    }
   ],
   "source": [
    "files_csv[Country]['description'].unique()"
   ]
  },
  {
   "cell_type": "code",
   "execution_count": null,
   "metadata": {},
   "outputs": [],
   "source": []
  },
  {
   "cell_type": "markdown",
   "metadata": {},
   "source": [
    "#  Transform activities"
   ]
  },
  {
   "cell_type": "markdown",
   "metadata": {},
   "source": [
    "Transforming extracted data to get the following DataFrames:\n",
    "\n",
    "* Tag catalog\n",
    "* YouTube Video category catalog\n",
    "* YouTube Video description (video id, category id, video name, link)\n",
    "* YouTube Video insights (likes, dislikes, # of views, category id)\n",
    "* Tag - video id normalization relationship table: containing all video ids and their corresponding tag ids"
   ]
  },
  {
   "cell_type": "markdown",
   "metadata": {},
   "source": [
    "## Tag catalog & Tag normalization table"
   ]
  },
  {
   "cell_type": "markdown",
   "metadata": {},
   "source": [
    "## Tag Normalization table"
   ]
  },
  {
   "cell_type": "code",
   "execution_count": 209,
   "metadata": {},
   "outputs": [
    {
     "data": {
      "text/html": [
       "<div>\n",
       "<style scoped>\n",
       "    .dataframe tbody tr th:only-of-type {\n",
       "        vertical-align: middle;\n",
       "    }\n",
       "\n",
       "    .dataframe tbody tr th {\n",
       "        vertical-align: top;\n",
       "    }\n",
       "\n",
       "    .dataframe thead th {\n",
       "        text-align: right;\n",
       "    }\n",
       "</style>\n",
       "<table border=\"1\" class=\"dataframe\">\n",
       "  <thead>\n",
       "    <tr style=\"text-align: right;\">\n",
       "      <th></th>\n",
       "      <th>video_id</th>\n",
       "      <th>tags</th>\n",
       "    </tr>\n",
       "  </thead>\n",
       "  <tbody>\n",
       "    <tr>\n",
       "      <th>8522</th>\n",
       "      <td>--uXQQ0h-yQ</td>\n",
       "      <td>ww1|\"great\"|\"war\"|\"trenches\"|\"tommies\"</td>\n",
       "    </tr>\n",
       "    <tr>\n",
       "      <th>9984</th>\n",
       "      <td>--uXQQ0h-yQ</td>\n",
       "      <td>ww1|\"great\"|\"war\"|\"trenches\"|\"tommies\"</td>\n",
       "    </tr>\n",
       "    <tr>\n",
       "      <th>8327</th>\n",
       "      <td>--uXQQ0h-yQ</td>\n",
       "      <td>ww1|\"great\"|\"war\"|\"trenches\"|\"tommies\"</td>\n",
       "    </tr>\n",
       "    <tr>\n",
       "      <th>9145</th>\n",
       "      <td>--uXQQ0h-yQ</td>\n",
       "      <td>ww1|\"great\"|\"war\"|\"trenches\"|\"tommies\"</td>\n",
       "    </tr>\n",
       "    <tr>\n",
       "      <th>8938</th>\n",
       "      <td>--uXQQ0h-yQ</td>\n",
       "      <td>ww1|\"great\"|\"war\"|\"trenches\"|\"tommies\"</td>\n",
       "    </tr>\n",
       "    <tr>\n",
       "      <th>...</th>\n",
       "      <td>...</td>\n",
       "      <td>...</td>\n",
       "    </tr>\n",
       "    <tr>\n",
       "      <th>37050</th>\n",
       "      <td>zxwfDlhJIpw</td>\n",
       "      <td>Kanye West|\"YEEZY\"|\"Kanye\"|\"Charlamagne\"|\"The ...</td>\n",
       "    </tr>\n",
       "    <tr>\n",
       "      <th>35864</th>\n",
       "      <td>zxwfDlhJIpw</td>\n",
       "      <td>Kanye West|\"YEEZY\"|\"Kanye\"|\"Charlamagne\"|\"The ...</td>\n",
       "    </tr>\n",
       "    <tr>\n",
       "      <th>36035</th>\n",
       "      <td>zxwfDlhJIpw</td>\n",
       "      <td>Kanye West|\"YEEZY\"|\"Kanye\"|\"Charlamagne\"|\"The ...</td>\n",
       "    </tr>\n",
       "    <tr>\n",
       "      <th>37215</th>\n",
       "      <td>zxwfDlhJIpw</td>\n",
       "      <td>Kanye West|\"YEEZY\"|\"Kanye\"|\"Charlamagne\"|\"The ...</td>\n",
       "    </tr>\n",
       "    <tr>\n",
       "      <th>34034</th>\n",
       "      <td>zxwfDlhJIpw</td>\n",
       "      <td>Kanye West|\"YEEZY\"|\"Kanye\"|\"Charlamagne\"|\"The ...</td>\n",
       "    </tr>\n",
       "  </tbody>\n",
       "</table>\n",
       "<p>38916 rows × 2 columns</p>\n",
       "</div>"
      ],
      "text/plain": [
       "          video_id                                               tags\n",
       "8522   --uXQQ0h-yQ             ww1|\"great\"|\"war\"|\"trenches\"|\"tommies\"\n",
       "9984   --uXQQ0h-yQ             ww1|\"great\"|\"war\"|\"trenches\"|\"tommies\"\n",
       "8327   --uXQQ0h-yQ             ww1|\"great\"|\"war\"|\"trenches\"|\"tommies\"\n",
       "9145   --uXQQ0h-yQ             ww1|\"great\"|\"war\"|\"trenches\"|\"tommies\"\n",
       "8938   --uXQQ0h-yQ             ww1|\"great\"|\"war\"|\"trenches\"|\"tommies\"\n",
       "...            ...                                                ...\n",
       "37050  zxwfDlhJIpw  Kanye West|\"YEEZY\"|\"Kanye\"|\"Charlamagne\"|\"The ...\n",
       "35864  zxwfDlhJIpw  Kanye West|\"YEEZY\"|\"Kanye\"|\"Charlamagne\"|\"The ...\n",
       "36035  zxwfDlhJIpw  Kanye West|\"YEEZY\"|\"Kanye\"|\"Charlamagne\"|\"The ...\n",
       "37215  zxwfDlhJIpw  Kanye West|\"YEEZY\"|\"Kanye\"|\"Charlamagne\"|\"The ...\n",
       "34034  zxwfDlhJIpw  Kanye West|\"YEEZY\"|\"Kanye\"|\"Charlamagne\"|\"The ...\n",
       "\n",
       "[38916 rows x 2 columns]"
      ]
     },
     "execution_count": 209,
     "metadata": {},
     "output_type": "execute_result"
    }
   ],
   "source": [
    "#We create a df with video ID and tag reference\n",
    "video_tag_df = files_csv[Country][['video_id','tags']]\n",
    "video_tag_df.sort_values(by='video_id')\n"
   ]
  },
  {
   "cell_type": "markdown",
   "metadata": {},
   "source": [
    "Data cleaning: removing duplicates, NaN records and '[none]' value"
   ]
  },
  {
   "cell_type": "code",
   "execution_count": 216,
   "metadata": {},
   "outputs": [
    {
     "data": {
      "text/html": [
       "<div>\n",
       "<style scoped>\n",
       "    .dataframe tbody tr th:only-of-type {\n",
       "        vertical-align: middle;\n",
       "    }\n",
       "\n",
       "    .dataframe tbody tr th {\n",
       "        vertical-align: top;\n",
       "    }\n",
       "\n",
       "    .dataframe thead th {\n",
       "        text-align: right;\n",
       "    }\n",
       "</style>\n",
       "<table border=\"1\" class=\"dataframe\">\n",
       "  <thead>\n",
       "    <tr style=\"text-align: right;\">\n",
       "      <th></th>\n",
       "      <th>video_id</th>\n",
       "      <th>tags</th>\n",
       "    </tr>\n",
       "  </thead>\n",
       "  <tbody>\n",
       "    <tr>\n",
       "      <th>8327</th>\n",
       "      <td>--uXQQ0h-yQ</td>\n",
       "      <td>ww1|\"great\"|\"war\"|\"trenches\"|\"tommies\"</td>\n",
       "    </tr>\n",
       "    <tr>\n",
       "      <th>9396</th>\n",
       "      <td>-3VBPAZPTQI</td>\n",
       "      <td>jamie genevieve|\"bblogger\"|\"youtuber\"|\"makeup\"...</td>\n",
       "    </tr>\n",
       "    <tr>\n",
       "      <th>17986</th>\n",
       "      <td>-43MBOJnVks</td>\n",
       "      <td>Rampage|\"Rampage Movie\"|\"Rampage Trailer\"|\"War...</td>\n",
       "    </tr>\n",
       "    <tr>\n",
       "      <th>3019</th>\n",
       "      <td>-5WBCrazSfg</td>\n",
       "      <td>Soccer AM|\"Football\"|\"Soccer\"|\"Premier League\"...</td>\n",
       "    </tr>\n",
       "    <tr>\n",
       "      <th>19998</th>\n",
       "      <td>-5aaJJQFvOg</td>\n",
       "      <td>havana|\"cover\"|\"a capella\"|\"swing\"|\"dodie\"|\"fl...</td>\n",
       "    </tr>\n",
       "    <tr>\n",
       "      <th>...</th>\n",
       "      <td>...</td>\n",
       "      <td>...</td>\n",
       "    </tr>\n",
       "    <tr>\n",
       "      <th>25561</th>\n",
       "      <td>zwEn-ambXLw</td>\n",
       "      <td>travis wall|\"shoshana bean\"|\"greatest showman\"...</td>\n",
       "    </tr>\n",
       "    <tr>\n",
       "      <th>8131</th>\n",
       "      <td>zwrlJwed2mQ</td>\n",
       "      <td>BigCityBeats|\"Zero Gravity\"|\"Flugzeug\"|\"Airpla...</td>\n",
       "    </tr>\n",
       "    <tr>\n",
       "      <th>6132</th>\n",
       "      <td>zxGg8QqWrRQ</td>\n",
       "      <td>Essence|\"essence live\"|\"Essence Now\"|\"Dr. Kast...</td>\n",
       "    </tr>\n",
       "    <tr>\n",
       "      <th>35293</th>\n",
       "      <td>zxjv0lo8bU8</td>\n",
       "      <td>Real Madrid C.F.|\"Real Madrid\"|\"Real madrid ci...</td>\n",
       "    </tr>\n",
       "    <tr>\n",
       "      <th>31667</th>\n",
       "      <td>zxwfDlhJIpw</td>\n",
       "      <td>Kanye West|\"YEEZY\"|\"Kanye\"|\"Charlamagne\"|\"The ...</td>\n",
       "    </tr>\n",
       "  </tbody>\n",
       "</table>\n",
       "<p>3257 rows × 2 columns</p>\n",
       "</div>"
      ],
      "text/plain": [
       "          video_id                                               tags\n",
       "8327   --uXQQ0h-yQ             ww1|\"great\"|\"war\"|\"trenches\"|\"tommies\"\n",
       "9396   -3VBPAZPTQI  jamie genevieve|\"bblogger\"|\"youtuber\"|\"makeup\"...\n",
       "17986  -43MBOJnVks  Rampage|\"Rampage Movie\"|\"Rampage Trailer\"|\"War...\n",
       "3019   -5WBCrazSfg  Soccer AM|\"Football\"|\"Soccer\"|\"Premier League\"...\n",
       "19998  -5aaJJQFvOg  havana|\"cover\"|\"a capella\"|\"swing\"|\"dodie\"|\"fl...\n",
       "...            ...                                                ...\n",
       "25561  zwEn-ambXLw  travis wall|\"shoshana bean\"|\"greatest showman\"...\n",
       "8131   zwrlJwed2mQ  BigCityBeats|\"Zero Gravity\"|\"Flugzeug\"|\"Airpla...\n",
       "6132   zxGg8QqWrRQ  Essence|\"essence live\"|\"Essence Now\"|\"Dr. Kast...\n",
       "35293  zxjv0lo8bU8  Real Madrid C.F.|\"Real Madrid\"|\"Real madrid ci...\n",
       "31667  zxwfDlhJIpw  Kanye West|\"YEEZY\"|\"Kanye\"|\"Charlamagne\"|\"The ...\n",
       "\n",
       "[3257 rows x 2 columns]"
      ]
     },
     "execution_count": 216,
     "metadata": {},
     "output_type": "execute_result"
    }
   ],
   "source": [
    "#Removing duplicates\n",
    "video_tag_df = video_tag_df.drop_duplicates(keep='first', subset=['video_id', 'tags'])\n",
    "video_tag_df.sort_values(by='video_id')"
   ]
  },
  {
   "cell_type": "code",
   "execution_count": 217,
   "metadata": {},
   "outputs": [
    {
     "data": {
      "text/html": [
       "<div>\n",
       "<style scoped>\n",
       "    .dataframe tbody tr th:only-of-type {\n",
       "        vertical-align: middle;\n",
       "    }\n",
       "\n",
       "    .dataframe tbody tr th {\n",
       "        vertical-align: top;\n",
       "    }\n",
       "\n",
       "    .dataframe thead th {\n",
       "        text-align: right;\n",
       "    }\n",
       "</style>\n",
       "<table border=\"1\" class=\"dataframe\">\n",
       "  <thead>\n",
       "    <tr style=\"text-align: right;\">\n",
       "      <th></th>\n",
       "      <th>video_id</th>\n",
       "      <th>tags</th>\n",
       "    </tr>\n",
       "  </thead>\n",
       "  <tbody>\n",
       "    <tr>\n",
       "      <th>0</th>\n",
       "      <td>Jw1Y-zhQURU</td>\n",
       "      <td>christmas|\"john lewis christmas\"|\"john lewis\"|...</td>\n",
       "    </tr>\n",
       "    <tr>\n",
       "      <th>1</th>\n",
       "      <td>3s1rvMFUweQ</td>\n",
       "      <td>SNL|\"Saturday Night Live\"|\"SNL Season 43\"|\"Epi...</td>\n",
       "    </tr>\n",
       "    <tr>\n",
       "      <th>2</th>\n",
       "      <td>n1WpP7iowLc</td>\n",
       "      <td>Eminem|\"Walk\"|\"On\"|\"Water\"|\"Aftermath/Shady/In...</td>\n",
       "    </tr>\n",
       "    <tr>\n",
       "      <th>3</th>\n",
       "      <td>PUTEiSjKwJU</td>\n",
       "      <td>Salford City FC|\"Salford City\"|\"Salford\"|\"Clas...</td>\n",
       "    </tr>\n",
       "    <tr>\n",
       "      <th>5</th>\n",
       "      <td>AumaWl0TNBo</td>\n",
       "      <td>pointlessblog|\"pointlessblogtv\"|\"pointlessblog...</td>\n",
       "    </tr>\n",
       "    <tr>\n",
       "      <th>...</th>\n",
       "      <td>...</td>\n",
       "      <td>...</td>\n",
       "    </tr>\n",
       "    <tr>\n",
       "      <th>38767</th>\n",
       "      <td>i63jWjoAWHE</td>\n",
       "      <td>Семен Слепаков|\"гитара\"|\"бард-десятник\"|\"Comed...</td>\n",
       "    </tr>\n",
       "    <tr>\n",
       "      <th>38776</th>\n",
       "      <td>7uzjz51S--M</td>\n",
       "      <td>capitalfmofficial|\"capital\"|\"capital fm\"|\"capi...</td>\n",
       "    </tr>\n",
       "    <tr>\n",
       "      <th>38782</th>\n",
       "      <td>V15BYnSr0P8</td>\n",
       "      <td>Nicky Jam|\"NickyJamPR\"|\"latin\"|\"will smith\"|\"E...</td>\n",
       "    </tr>\n",
       "    <tr>\n",
       "      <th>38793</th>\n",
       "      <td>BOhylL90UVQ</td>\n",
       "      <td>The Chainsmokers Somebody|\"Chainsmokers Somebo...</td>\n",
       "    </tr>\n",
       "    <tr>\n",
       "      <th>38887</th>\n",
       "      <td>14G7Qw5DC9M</td>\n",
       "      <td>5-Minute Crafts|\"DIY\"|\"Do it yourself\"|\"crafts...</td>\n",
       "    </tr>\n",
       "  </tbody>\n",
       "</table>\n",
       "<p>3257 rows × 2 columns</p>\n",
       "</div>"
      ],
      "text/plain": [
       "          video_id                                               tags\n",
       "0      Jw1Y-zhQURU  christmas|\"john lewis christmas\"|\"john lewis\"|...\n",
       "1      3s1rvMFUweQ  SNL|\"Saturday Night Live\"|\"SNL Season 43\"|\"Epi...\n",
       "2      n1WpP7iowLc  Eminem|\"Walk\"|\"On\"|\"Water\"|\"Aftermath/Shady/In...\n",
       "3      PUTEiSjKwJU  Salford City FC|\"Salford City\"|\"Salford\"|\"Clas...\n",
       "5      AumaWl0TNBo  pointlessblog|\"pointlessblogtv\"|\"pointlessblog...\n",
       "...            ...                                                ...\n",
       "38767  i63jWjoAWHE  Семен Слепаков|\"гитара\"|\"бард-десятник\"|\"Comed...\n",
       "38776  7uzjz51S--M  capitalfmofficial|\"capital\"|\"capital fm\"|\"capi...\n",
       "38782  V15BYnSr0P8  Nicky Jam|\"NickyJamPR\"|\"latin\"|\"will smith\"|\"E...\n",
       "38793  BOhylL90UVQ  The Chainsmokers Somebody|\"Chainsmokers Somebo...\n",
       "38887  14G7Qw5DC9M  5-Minute Crafts|\"DIY\"|\"Do it yourself\"|\"crafts...\n",
       "\n",
       "[3257 rows x 2 columns]"
      ]
     },
     "execution_count": 217,
     "metadata": {},
     "output_type": "execute_result"
    }
   ],
   "source": [
    "#Removing rows with NaN in tags \n",
    "video_tag_df.dropna()\n",
    "video_tag_df"
   ]
  },
  {
   "cell_type": "code",
   "execution_count": 218,
   "metadata": {},
   "outputs": [
    {
     "data": {
      "text/html": [
       "<div>\n",
       "<style scoped>\n",
       "    .dataframe tbody tr th:only-of-type {\n",
       "        vertical-align: middle;\n",
       "    }\n",
       "\n",
       "    .dataframe tbody tr th {\n",
       "        vertical-align: top;\n",
       "    }\n",
       "\n",
       "    .dataframe thead th {\n",
       "        text-align: right;\n",
       "    }\n",
       "</style>\n",
       "<table border=\"1\" class=\"dataframe\">\n",
       "  <thead>\n",
       "    <tr style=\"text-align: right;\">\n",
       "      <th></th>\n",
       "      <th>video_id</th>\n",
       "      <th>tags</th>\n",
       "    </tr>\n",
       "  </thead>\n",
       "  <tbody>\n",
       "    <tr>\n",
       "      <th>0</th>\n",
       "      <td>Jw1Y-zhQURU</td>\n",
       "      <td>christmas|\"john lewis christmas\"|\"john lewis\"|...</td>\n",
       "    </tr>\n",
       "    <tr>\n",
       "      <th>1</th>\n",
       "      <td>3s1rvMFUweQ</td>\n",
       "      <td>SNL|\"Saturday Night Live\"|\"SNL Season 43\"|\"Epi...</td>\n",
       "    </tr>\n",
       "    <tr>\n",
       "      <th>2</th>\n",
       "      <td>n1WpP7iowLc</td>\n",
       "      <td>Eminem|\"Walk\"|\"On\"|\"Water\"|\"Aftermath/Shady/In...</td>\n",
       "    </tr>\n",
       "    <tr>\n",
       "      <th>3</th>\n",
       "      <td>PUTEiSjKwJU</td>\n",
       "      <td>Salford City FC|\"Salford City\"|\"Salford\"|\"Clas...</td>\n",
       "    </tr>\n",
       "    <tr>\n",
       "      <th>5</th>\n",
       "      <td>AumaWl0TNBo</td>\n",
       "      <td>pointlessblog|\"pointlessblogtv\"|\"pointlessblog...</td>\n",
       "    </tr>\n",
       "    <tr>\n",
       "      <th>...</th>\n",
       "      <td>...</td>\n",
       "      <td>...</td>\n",
       "    </tr>\n",
       "    <tr>\n",
       "      <th>38767</th>\n",
       "      <td>i63jWjoAWHE</td>\n",
       "      <td>Семен Слепаков|\"гитара\"|\"бард-десятник\"|\"Comed...</td>\n",
       "    </tr>\n",
       "    <tr>\n",
       "      <th>38776</th>\n",
       "      <td>7uzjz51S--M</td>\n",
       "      <td>capitalfmofficial|\"capital\"|\"capital fm\"|\"capi...</td>\n",
       "    </tr>\n",
       "    <tr>\n",
       "      <th>38782</th>\n",
       "      <td>V15BYnSr0P8</td>\n",
       "      <td>Nicky Jam|\"NickyJamPR\"|\"latin\"|\"will smith\"|\"E...</td>\n",
       "    </tr>\n",
       "    <tr>\n",
       "      <th>38793</th>\n",
       "      <td>BOhylL90UVQ</td>\n",
       "      <td>The Chainsmokers Somebody|\"Chainsmokers Somebo...</td>\n",
       "    </tr>\n",
       "    <tr>\n",
       "      <th>38887</th>\n",
       "      <td>14G7Qw5DC9M</td>\n",
       "      <td>5-Minute Crafts|\"DIY\"|\"Do it yourself\"|\"crafts...</td>\n",
       "    </tr>\n",
       "  </tbody>\n",
       "</table>\n",
       "<p>3257 rows × 2 columns</p>\n",
       "</div>"
      ],
      "text/plain": [
       "          video_id                                               tags\n",
       "0      Jw1Y-zhQURU  christmas|\"john lewis christmas\"|\"john lewis\"|...\n",
       "1      3s1rvMFUweQ  SNL|\"Saturday Night Live\"|\"SNL Season 43\"|\"Epi...\n",
       "2      n1WpP7iowLc  Eminem|\"Walk\"|\"On\"|\"Water\"|\"Aftermath/Shady/In...\n",
       "3      PUTEiSjKwJU  Salford City FC|\"Salford City\"|\"Salford\"|\"Clas...\n",
       "5      AumaWl0TNBo  pointlessblog|\"pointlessblogtv\"|\"pointlessblog...\n",
       "...            ...                                                ...\n",
       "38767  i63jWjoAWHE  Семен Слепаков|\"гитара\"|\"бард-десятник\"|\"Comed...\n",
       "38776  7uzjz51S--M  capitalfmofficial|\"capital\"|\"capital fm\"|\"capi...\n",
       "38782  V15BYnSr0P8  Nicky Jam|\"NickyJamPR\"|\"latin\"|\"will smith\"|\"E...\n",
       "38793  BOhylL90UVQ  The Chainsmokers Somebody|\"Chainsmokers Somebo...\n",
       "38887  14G7Qw5DC9M  5-Minute Crafts|\"DIY\"|\"Do it yourself\"|\"crafts...\n",
       "\n",
       "[3257 rows x 2 columns]"
      ]
     },
     "execution_count": 218,
     "metadata": {},
     "output_type": "execute_result"
    }
   ],
   "source": [
    "#Removing association from videos not being tagged\n",
    "video_tag_df = video_tag_df[video_tag_df['tags'] != '[none]']"
   ]
  },
  {
   "cell_type": "code",
   "execution_count": 242,
   "metadata": {},
   "outputs": [],
   "source": [
    "#Removing the '|' character, and create a list of tags in each record\n",
    "tags_list_of_lists = video_tag_df['tags'].str.split('|', expand = False)"
   ]
  },
  {
   "cell_type": "code",
   "execution_count": 243,
   "metadata": {},
   "outputs": [
    {
     "data": {
      "text/html": [
       "<div>\n",
       "<style scoped>\n",
       "    .dataframe tbody tr th:only-of-type {\n",
       "        vertical-align: middle;\n",
       "    }\n",
       "\n",
       "    .dataframe tbody tr th {\n",
       "        vertical-align: top;\n",
       "    }\n",
       "\n",
       "    .dataframe thead th {\n",
       "        text-align: right;\n",
       "    }\n",
       "</style>\n",
       "<table border=\"1\" class=\"dataframe\">\n",
       "  <thead>\n",
       "    <tr style=\"text-align: right;\">\n",
       "      <th></th>\n",
       "      <th>video_id</th>\n",
       "      <th>tags</th>\n",
       "    </tr>\n",
       "  </thead>\n",
       "  <tbody>\n",
       "    <tr>\n",
       "      <th>0</th>\n",
       "      <td>Jw1Y-zhQURU</td>\n",
       "      <td>[christmas, \"john lewis christmas\", \"john lewi...</td>\n",
       "    </tr>\n",
       "    <tr>\n",
       "      <th>1</th>\n",
       "      <td>3s1rvMFUweQ</td>\n",
       "      <td>[SNL, \"Saturday Night Live\", \"SNL Season 43\", ...</td>\n",
       "    </tr>\n",
       "    <tr>\n",
       "      <th>2</th>\n",
       "      <td>n1WpP7iowLc</td>\n",
       "      <td>[Eminem, \"Walk\", \"On\", \"Water\", \"Aftermath/Sha...</td>\n",
       "    </tr>\n",
       "    <tr>\n",
       "      <th>3</th>\n",
       "      <td>PUTEiSjKwJU</td>\n",
       "      <td>[Salford City FC, \"Salford City\", \"Salford\", \"...</td>\n",
       "    </tr>\n",
       "    <tr>\n",
       "      <th>5</th>\n",
       "      <td>AumaWl0TNBo</td>\n",
       "      <td>[pointlessblog, \"pointlessblogtv\", \"pointlessb...</td>\n",
       "    </tr>\n",
       "    <tr>\n",
       "      <th>...</th>\n",
       "      <td>...</td>\n",
       "      <td>...</td>\n",
       "    </tr>\n",
       "    <tr>\n",
       "      <th>38767</th>\n",
       "      <td>i63jWjoAWHE</td>\n",
       "      <td>[Семен Слепаков, \"гитара\", \"бард-десятник\", \"C...</td>\n",
       "    </tr>\n",
       "    <tr>\n",
       "      <th>38776</th>\n",
       "      <td>7uzjz51S--M</td>\n",
       "      <td>[capitalfmofficial, \"capital\", \"capital fm\", \"...</td>\n",
       "    </tr>\n",
       "    <tr>\n",
       "      <th>38782</th>\n",
       "      <td>V15BYnSr0P8</td>\n",
       "      <td>[Nicky Jam, \"NickyJamPR\", \"latin\", \"will smith...</td>\n",
       "    </tr>\n",
       "    <tr>\n",
       "      <th>38793</th>\n",
       "      <td>BOhylL90UVQ</td>\n",
       "      <td>[The Chainsmokers Somebody, \"Chainsmokers Some...</td>\n",
       "    </tr>\n",
       "    <tr>\n",
       "      <th>38887</th>\n",
       "      <td>14G7Qw5DC9M</td>\n",
       "      <td>[5-Minute Crafts, \"DIY\", \"Do it yourself\", \"cr...</td>\n",
       "    </tr>\n",
       "  </tbody>\n",
       "</table>\n",
       "<p>3257 rows × 2 columns</p>\n",
       "</div>"
      ],
      "text/plain": [
       "          video_id                                               tags\n",
       "0      Jw1Y-zhQURU  [christmas, \"john lewis christmas\", \"john lewi...\n",
       "1      3s1rvMFUweQ  [SNL, \"Saturday Night Live\", \"SNL Season 43\", ...\n",
       "2      n1WpP7iowLc  [Eminem, \"Walk\", \"On\", \"Water\", \"Aftermath/Sha...\n",
       "3      PUTEiSjKwJU  [Salford City FC, \"Salford City\", \"Salford\", \"...\n",
       "5      AumaWl0TNBo  [pointlessblog, \"pointlessblogtv\", \"pointlessb...\n",
       "...            ...                                                ...\n",
       "38767  i63jWjoAWHE  [Семен Слепаков, \"гитара\", \"бард-десятник\", \"C...\n",
       "38776  7uzjz51S--M  [capitalfmofficial, \"capital\", \"capital fm\", \"...\n",
       "38782  V15BYnSr0P8  [Nicky Jam, \"NickyJamPR\", \"latin\", \"will smith...\n",
       "38793  BOhylL90UVQ  [The Chainsmokers Somebody, \"Chainsmokers Some...\n",
       "38887  14G7Qw5DC9M  [5-Minute Crafts, \"DIY\", \"Do it yourself\", \"cr...\n",
       "\n",
       "[3257 rows x 2 columns]"
      ]
     },
     "execution_count": 243,
     "metadata": {},
     "output_type": "execute_result"
    }
   ],
   "source": [
    "#Creating an intermediate dataframe with lists of lists to create clean data frame\n",
    "video_tag_bridge_df = pd.DataFrame({\n",
    "        \"video_id\": video_tag_df['video_id'],\n",
    "        \"tags\": tags_list_of_lists\n",
    "}\n",
    ")\n",
    "\n",
    "#Removing nan numbers\n",
    "video_tag_bridge_df = video_tag_bridge_df.dropna()\n",
    "video_tag_bridge_df"
   ]
  },
  {
   "cell_type": "code",
   "execution_count": 244,
   "metadata": {},
   "outputs": [],
   "source": [
    "#Empty DataFrame where tags will be allocated\n",
    "tags = []\n",
    "video_ids = []\n",
    "\n",
    "#Iterating on list of lists to get a unique tag\n",
    "for index, video_tag_row in video_tag_bridge_df.iterrows():\n",
    "    video_id = video_tag_row['video_id']\n",
    "    tag_list = video_tag_row['tags']\n",
    "    #print(video_id)\n",
    "    #print(tag_list)\n",
    "   \n",
    "    \n",
    "    for tag in tag_list:\n",
    "     #Removing '\"' from tags\n",
    "        video_ids.append(video_id)\n",
    "        tags.append(tag.replace('\"', ''))\n"
   ]
  },
  {
   "cell_type": "code",
   "execution_count": 245,
   "metadata": {},
   "outputs": [],
   "source": [
    "#Creating video-tag relationship dataframe using arrays filled in previous procedure\n",
    "video_tag_clean_df = pd.DataFrame({\n",
    "    \"video_id\": video_ids,\n",
    "    \"tag_name\":tags\n",
    "})\n"
   ]
  },
  {
   "cell_type": "code",
   "execution_count": 247,
   "metadata": {},
   "outputs": [
    {
     "data": {
      "text/html": [
       "<div>\n",
       "<style scoped>\n",
       "    .dataframe tbody tr th:only-of-type {\n",
       "        vertical-align: middle;\n",
       "    }\n",
       "\n",
       "    .dataframe tbody tr th {\n",
       "        vertical-align: top;\n",
       "    }\n",
       "\n",
       "    .dataframe thead th {\n",
       "        text-align: right;\n",
       "    }\n",
       "</style>\n",
       "<table border=\"1\" class=\"dataframe\">\n",
       "  <thead>\n",
       "    <tr style=\"text-align: right;\">\n",
       "      <th></th>\n",
       "      <th>video_id</th>\n",
       "      <th>tag_name</th>\n",
       "    </tr>\n",
       "  </thead>\n",
       "  <tbody>\n",
       "    <tr>\n",
       "      <th>0</th>\n",
       "      <td>Jw1Y-zhQURU</td>\n",
       "      <td>christmas</td>\n",
       "    </tr>\n",
       "    <tr>\n",
       "      <th>1</th>\n",
       "      <td>Jw1Y-zhQURU</td>\n",
       "      <td>john lewis christmas</td>\n",
       "    </tr>\n",
       "    <tr>\n",
       "      <th>2</th>\n",
       "      <td>Jw1Y-zhQURU</td>\n",
       "      <td>john lewis</td>\n",
       "    </tr>\n",
       "    <tr>\n",
       "      <th>3</th>\n",
       "      <td>Jw1Y-zhQURU</td>\n",
       "      <td>christmas ad</td>\n",
       "    </tr>\n",
       "    <tr>\n",
       "      <th>4</th>\n",
       "      <td>Jw1Y-zhQURU</td>\n",
       "      <td>mozthemonster</td>\n",
       "    </tr>\n",
       "    <tr>\n",
       "      <th>...</th>\n",
       "      <td>...</td>\n",
       "      <td>...</td>\n",
       "    </tr>\n",
       "    <tr>\n",
       "      <th>64762</th>\n",
       "      <td>14G7Qw5DC9M</td>\n",
       "      <td>drawing</td>\n",
       "    </tr>\n",
       "    <tr>\n",
       "      <th>64763</th>\n",
       "      <td>14G7Qw5DC9M</td>\n",
       "      <td>painting</td>\n",
       "    </tr>\n",
       "    <tr>\n",
       "      <th>64764</th>\n",
       "      <td>14G7Qw5DC9M</td>\n",
       "      <td>pull tab</td>\n",
       "    </tr>\n",
       "    <tr>\n",
       "      <th>64765</th>\n",
       "      <td>14G7Qw5DC9M</td>\n",
       "      <td>rubber band</td>\n",
       "    </tr>\n",
       "    <tr>\n",
       "      <th>64766</th>\n",
       "      <td>14G7Qw5DC9M</td>\n",
       "      <td>straw hand</td>\n",
       "    </tr>\n",
       "  </tbody>\n",
       "</table>\n",
       "<p>61633 rows × 2 columns</p>\n",
       "</div>"
      ],
      "text/plain": [
       "          video_id              tag_name\n",
       "0      Jw1Y-zhQURU             christmas\n",
       "1      Jw1Y-zhQURU  john lewis christmas\n",
       "2      Jw1Y-zhQURU            john lewis\n",
       "3      Jw1Y-zhQURU          christmas ad\n",
       "4      Jw1Y-zhQURU         mozthemonster\n",
       "...            ...                   ...\n",
       "64762  14G7Qw5DC9M               drawing\n",
       "64763  14G7Qw5DC9M              painting\n",
       "64764  14G7Qw5DC9M              pull tab\n",
       "64765  14G7Qw5DC9M           rubber band\n",
       "64766  14G7Qw5DC9M            straw hand\n",
       "\n",
       "[61633 rows x 2 columns]"
      ]
     },
     "execution_count": 247,
     "metadata": {},
     "output_type": "execute_result"
    }
   ],
   "source": [
    "#Dropping duplicated columns\n",
    "video_tag_clean_df.drop_duplicates(keep='first', inplace=True)\n",
    "video_tag_clean_df"
   ]
  },
  {
   "cell_type": "markdown",
   "metadata": {},
   "source": [
    "## Tag catalog"
   ]
  },
  {
   "cell_type": "code",
   "execution_count": 248,
   "metadata": {},
   "outputs": [
    {
     "data": {
      "text/html": [
       "<div>\n",
       "<style scoped>\n",
       "    .dataframe tbody tr th:only-of-type {\n",
       "        vertical-align: middle;\n",
       "    }\n",
       "\n",
       "    .dataframe tbody tr th {\n",
       "        vertical-align: top;\n",
       "    }\n",
       "\n",
       "    .dataframe thead th {\n",
       "        text-align: right;\n",
       "    }\n",
       "</style>\n",
       "<table border=\"1\" class=\"dataframe\">\n",
       "  <thead>\n",
       "    <tr style=\"text-align: right;\">\n",
       "      <th></th>\n",
       "      <th>tag_name</th>\n",
       "    </tr>\n",
       "  </thead>\n",
       "  <tbody>\n",
       "    <tr>\n",
       "      <th>0</th>\n",
       "      <td>christmas</td>\n",
       "    </tr>\n",
       "    <tr>\n",
       "      <th>1</th>\n",
       "      <td>john lewis christmas</td>\n",
       "    </tr>\n",
       "    <tr>\n",
       "      <th>2</th>\n",
       "      <td>john lewis</td>\n",
       "    </tr>\n",
       "    <tr>\n",
       "      <th>3</th>\n",
       "      <td>christmas ad</td>\n",
       "    </tr>\n",
       "    <tr>\n",
       "      <th>4</th>\n",
       "      <td>mozthemonster</td>\n",
       "    </tr>\n",
       "    <tr>\n",
       "      <th>...</th>\n",
       "      <td>...</td>\n",
       "    </tr>\n",
       "    <tr>\n",
       "      <th>64760</th>\n",
       "      <td>gift wrapping</td>\n",
       "    </tr>\n",
       "    <tr>\n",
       "      <th>64761</th>\n",
       "      <td>toothy pictures</td>\n",
       "    </tr>\n",
       "    <tr>\n",
       "      <th>64764</th>\n",
       "      <td>pull tab</td>\n",
       "    </tr>\n",
       "    <tr>\n",
       "      <th>64765</th>\n",
       "      <td>rubber band</td>\n",
       "    </tr>\n",
       "    <tr>\n",
       "      <th>64766</th>\n",
       "      <td>straw hand</td>\n",
       "    </tr>\n",
       "  </tbody>\n",
       "</table>\n",
       "<p>31881 rows × 1 columns</p>\n",
       "</div>"
      ],
      "text/plain": [
       "                   tag_name\n",
       "0                 christmas\n",
       "1      john lewis christmas\n",
       "2                john lewis\n",
       "3              christmas ad\n",
       "4             mozthemonster\n",
       "...                     ...\n",
       "64760         gift wrapping\n",
       "64761       toothy pictures\n",
       "64764              pull tab\n",
       "64765           rubber band\n",
       "64766            straw hand\n",
       "\n",
       "[31881 rows x 1 columns]"
      ]
     },
     "execution_count": 248,
     "metadata": {},
     "output_type": "execute_result"
    }
   ],
   "source": [
    "#Creating Tag catalog using tags list\n",
    "tags_df = pd.DataFrame({\n",
    "    'tag_name': tags\n",
    "})\n",
    "\n",
    "#Removing duplicated records\n",
    "tags_df.drop_duplicates(keep='first', inplace=True)\n",
    "#Removing nan records\n",
    "tags_df = tags_df.dropna()\n",
    "tags_df"
   ]
  },
  {
   "cell_type": "markdown",
   "metadata": {},
   "source": [
    "## YouTube video category catalog"
   ]
  },
  {
   "cell_type": "code",
   "execution_count": 249,
   "metadata": {},
   "outputs": [
    {
     "data": {
      "text/html": [
       "<div>\n",
       "<style scoped>\n",
       "    .dataframe tbody tr th:only-of-type {\n",
       "        vertical-align: middle;\n",
       "    }\n",
       "\n",
       "    .dataframe tbody tr th {\n",
       "        vertical-align: top;\n",
       "    }\n",
       "\n",
       "    .dataframe thead th {\n",
       "        text-align: right;\n",
       "    }\n",
       "</style>\n",
       "<table border=\"1\" class=\"dataframe\">\n",
       "  <thead>\n",
       "    <tr style=\"text-align: right;\">\n",
       "      <th></th>\n",
       "      <th>category_id</th>\n",
       "      <th>category_name</th>\n",
       "    </tr>\n",
       "  </thead>\n",
       "  <tbody>\n",
       "    <tr>\n",
       "      <th>0</th>\n",
       "      <td>1</td>\n",
       "      <td>Film &amp; Animation</td>\n",
       "    </tr>\n",
       "    <tr>\n",
       "      <th>1</th>\n",
       "      <td>2</td>\n",
       "      <td>Autos &amp; Vehicles</td>\n",
       "    </tr>\n",
       "    <tr>\n",
       "      <th>2</th>\n",
       "      <td>10</td>\n",
       "      <td>Music</td>\n",
       "    </tr>\n",
       "    <tr>\n",
       "      <th>3</th>\n",
       "      <td>15</td>\n",
       "      <td>Pets &amp; Animals</td>\n",
       "    </tr>\n",
       "    <tr>\n",
       "      <th>4</th>\n",
       "      <td>17</td>\n",
       "      <td>Sports</td>\n",
       "    </tr>\n",
       "    <tr>\n",
       "      <th>5</th>\n",
       "      <td>18</td>\n",
       "      <td>Short Movies</td>\n",
       "    </tr>\n",
       "    <tr>\n",
       "      <th>6</th>\n",
       "      <td>19</td>\n",
       "      <td>Travel &amp; Events</td>\n",
       "    </tr>\n",
       "    <tr>\n",
       "      <th>7</th>\n",
       "      <td>20</td>\n",
       "      <td>Gaming</td>\n",
       "    </tr>\n",
       "    <tr>\n",
       "      <th>8</th>\n",
       "      <td>21</td>\n",
       "      <td>Videoblogging</td>\n",
       "    </tr>\n",
       "    <tr>\n",
       "      <th>9</th>\n",
       "      <td>22</td>\n",
       "      <td>People &amp; Blogs</td>\n",
       "    </tr>\n",
       "    <tr>\n",
       "      <th>10</th>\n",
       "      <td>23</td>\n",
       "      <td>Comedy</td>\n",
       "    </tr>\n",
       "    <tr>\n",
       "      <th>11</th>\n",
       "      <td>24</td>\n",
       "      <td>Entertainment</td>\n",
       "    </tr>\n",
       "    <tr>\n",
       "      <th>12</th>\n",
       "      <td>25</td>\n",
       "      <td>News &amp; Politics</td>\n",
       "    </tr>\n",
       "    <tr>\n",
       "      <th>13</th>\n",
       "      <td>26</td>\n",
       "      <td>Howto &amp; Style</td>\n",
       "    </tr>\n",
       "    <tr>\n",
       "      <th>14</th>\n",
       "      <td>27</td>\n",
       "      <td>Education</td>\n",
       "    </tr>\n",
       "    <tr>\n",
       "      <th>15</th>\n",
       "      <td>28</td>\n",
       "      <td>Science &amp; Technology</td>\n",
       "    </tr>\n",
       "    <tr>\n",
       "      <th>16</th>\n",
       "      <td>30</td>\n",
       "      <td>Movies</td>\n",
       "    </tr>\n",
       "    <tr>\n",
       "      <th>17</th>\n",
       "      <td>31</td>\n",
       "      <td>Anime/Animation</td>\n",
       "    </tr>\n",
       "    <tr>\n",
       "      <th>18</th>\n",
       "      <td>32</td>\n",
       "      <td>Action/Adventure</td>\n",
       "    </tr>\n",
       "    <tr>\n",
       "      <th>19</th>\n",
       "      <td>33</td>\n",
       "      <td>Classics</td>\n",
       "    </tr>\n",
       "    <tr>\n",
       "      <th>20</th>\n",
       "      <td>34</td>\n",
       "      <td>Comedy</td>\n",
       "    </tr>\n",
       "    <tr>\n",
       "      <th>21</th>\n",
       "      <td>35</td>\n",
       "      <td>Documentary</td>\n",
       "    </tr>\n",
       "    <tr>\n",
       "      <th>22</th>\n",
       "      <td>36</td>\n",
       "      <td>Drama</td>\n",
       "    </tr>\n",
       "    <tr>\n",
       "      <th>23</th>\n",
       "      <td>37</td>\n",
       "      <td>Family</td>\n",
       "    </tr>\n",
       "    <tr>\n",
       "      <th>24</th>\n",
       "      <td>38</td>\n",
       "      <td>Foreign</td>\n",
       "    </tr>\n",
       "    <tr>\n",
       "      <th>25</th>\n",
       "      <td>39</td>\n",
       "      <td>Horror</td>\n",
       "    </tr>\n",
       "    <tr>\n",
       "      <th>26</th>\n",
       "      <td>40</td>\n",
       "      <td>Sci-Fi/Fantasy</td>\n",
       "    </tr>\n",
       "    <tr>\n",
       "      <th>27</th>\n",
       "      <td>41</td>\n",
       "      <td>Thriller</td>\n",
       "    </tr>\n",
       "    <tr>\n",
       "      <th>28</th>\n",
       "      <td>42</td>\n",
       "      <td>Shorts</td>\n",
       "    </tr>\n",
       "    <tr>\n",
       "      <th>29</th>\n",
       "      <td>43</td>\n",
       "      <td>Shows</td>\n",
       "    </tr>\n",
       "    <tr>\n",
       "      <th>30</th>\n",
       "      <td>44</td>\n",
       "      <td>Trailers</td>\n",
       "    </tr>\n",
       "  </tbody>\n",
       "</table>\n",
       "</div>"
      ],
      "text/plain": [
       "   category_id         category_name\n",
       "0            1      Film & Animation\n",
       "1            2      Autos & Vehicles\n",
       "2           10                 Music\n",
       "3           15        Pets & Animals\n",
       "4           17                Sports\n",
       "5           18          Short Movies\n",
       "6           19       Travel & Events\n",
       "7           20                Gaming\n",
       "8           21         Videoblogging\n",
       "9           22        People & Blogs\n",
       "10          23                Comedy\n",
       "11          24         Entertainment\n",
       "12          25       News & Politics\n",
       "13          26         Howto & Style\n",
       "14          27             Education\n",
       "15          28  Science & Technology\n",
       "16          30                Movies\n",
       "17          31       Anime/Animation\n",
       "18          32      Action/Adventure\n",
       "19          33              Classics\n",
       "20          34                Comedy\n",
       "21          35           Documentary\n",
       "22          36                 Drama\n",
       "23          37                Family\n",
       "24          38               Foreign\n",
       "25          39                Horror\n",
       "26          40        Sci-Fi/Fantasy\n",
       "27          41              Thriller\n",
       "28          42                Shorts\n",
       "29          43                 Shows\n",
       "30          44              Trailers"
      ]
     },
     "execution_count": 249,
     "metadata": {},
     "output_type": "execute_result"
    }
   ],
   "source": [
    "#To create YouTube video category, we need to iterate on items value from JSON file\n",
    "#Categories are stored in array, which will be used to create YouTube video category DataFrame\n",
    "categories_ids = []\n",
    "categories = []\n",
    "\n",
    "\n",
    "for category in files_json[Country]['items']:\n",
    "    #print(category['snippet']['title'])\n",
    "    categories_ids.append(category['id'])\n",
    "    categories.append(category['snippet']['title'])\n",
    "\n",
    "categories_df = pd.DataFrame( {\n",
    "    'category_id': categories_ids,\n",
    "    'category_name': categories\n",
    "})\n",
    "\n",
    "categories_df"
   ]
  },
  {
   "cell_type": "markdown",
   "metadata": {},
   "source": [
    "## YouTube video description table"
   ]
  },
  {
   "cell_type": "code",
   "execution_count": 250,
   "metadata": {},
   "outputs": [
    {
     "data": {
      "text/html": [
       "<div>\n",
       "<style scoped>\n",
       "    .dataframe tbody tr th:only-of-type {\n",
       "        vertical-align: middle;\n",
       "    }\n",
       "\n",
       "    .dataframe tbody tr th {\n",
       "        vertical-align: top;\n",
       "    }\n",
       "\n",
       "    .dataframe thead th {\n",
       "        text-align: right;\n",
       "    }\n",
       "</style>\n",
       "<table border=\"1\" class=\"dataframe\">\n",
       "  <thead>\n",
       "    <tr style=\"text-align: right;\">\n",
       "      <th></th>\n",
       "      <th>video_id</th>\n",
       "      <th>category_id</th>\n",
       "      <th>title</th>\n",
       "    </tr>\n",
       "  </thead>\n",
       "  <tbody>\n",
       "    <tr>\n",
       "      <th>8522</th>\n",
       "      <td>--uXQQ0h-yQ</td>\n",
       "      <td>24</td>\n",
       "      <td>Paul McCartney - Pipes of Peace</td>\n",
       "    </tr>\n",
       "    <tr>\n",
       "      <th>9984</th>\n",
       "      <td>--uXQQ0h-yQ</td>\n",
       "      <td>24</td>\n",
       "      <td>Paul McCartney - Pipes of Peace</td>\n",
       "    </tr>\n",
       "    <tr>\n",
       "      <th>8327</th>\n",
       "      <td>--uXQQ0h-yQ</td>\n",
       "      <td>24</td>\n",
       "      <td>Paul McCartney - Pipes of Peace</td>\n",
       "    </tr>\n",
       "    <tr>\n",
       "      <th>9145</th>\n",
       "      <td>--uXQQ0h-yQ</td>\n",
       "      <td>24</td>\n",
       "      <td>Paul McCartney - Pipes of Peace</td>\n",
       "    </tr>\n",
       "    <tr>\n",
       "      <th>8938</th>\n",
       "      <td>--uXQQ0h-yQ</td>\n",
       "      <td>24</td>\n",
       "      <td>Paul McCartney - Pipes of Peace</td>\n",
       "    </tr>\n",
       "    <tr>\n",
       "      <th>...</th>\n",
       "      <td>...</td>\n",
       "      <td>...</td>\n",
       "      <td>...</td>\n",
       "    </tr>\n",
       "    <tr>\n",
       "      <th>37050</th>\n",
       "      <td>zxwfDlhJIpw</td>\n",
       "      <td>22</td>\n",
       "      <td>kanye west / charlamagne interview</td>\n",
       "    </tr>\n",
       "    <tr>\n",
       "      <th>35864</th>\n",
       "      <td>zxwfDlhJIpw</td>\n",
       "      <td>22</td>\n",
       "      <td>kanye west / charlamagne interview</td>\n",
       "    </tr>\n",
       "    <tr>\n",
       "      <th>36035</th>\n",
       "      <td>zxwfDlhJIpw</td>\n",
       "      <td>22</td>\n",
       "      <td>kanye west / charlamagne interview</td>\n",
       "    </tr>\n",
       "    <tr>\n",
       "      <th>37215</th>\n",
       "      <td>zxwfDlhJIpw</td>\n",
       "      <td>22</td>\n",
       "      <td>kanye west / charlamagne interview</td>\n",
       "    </tr>\n",
       "    <tr>\n",
       "      <th>34034</th>\n",
       "      <td>zxwfDlhJIpw</td>\n",
       "      <td>22</td>\n",
       "      <td>kanye west / charlamagne interview</td>\n",
       "    </tr>\n",
       "  </tbody>\n",
       "</table>\n",
       "<p>38916 rows × 3 columns</p>\n",
       "</div>"
      ],
      "text/plain": [
       "          video_id  category_id                               title\n",
       "8522   --uXQQ0h-yQ           24     Paul McCartney - Pipes of Peace\n",
       "9984   --uXQQ0h-yQ           24     Paul McCartney - Pipes of Peace\n",
       "8327   --uXQQ0h-yQ           24     Paul McCartney - Pipes of Peace\n",
       "9145   --uXQQ0h-yQ           24     Paul McCartney - Pipes of Peace\n",
       "8938   --uXQQ0h-yQ           24     Paul McCartney - Pipes of Peace\n",
       "...            ...          ...                                 ...\n",
       "37050  zxwfDlhJIpw           22  kanye west / charlamagne interview\n",
       "35864  zxwfDlhJIpw           22  kanye west / charlamagne interview\n",
       "36035  zxwfDlhJIpw           22  kanye west / charlamagne interview\n",
       "37215  zxwfDlhJIpw           22  kanye west / charlamagne interview\n",
       "34034  zxwfDlhJIpw           22  kanye west / charlamagne interview\n",
       "\n",
       "[38916 rows x 3 columns]"
      ]
     },
     "execution_count": 250,
     "metadata": {},
     "output_type": "execute_result"
    }
   ],
   "source": [
    "#YouTube Video description (video id, category id, video name, link)\n",
    "#files_csv[3] = UK videos\n",
    "video_description_df = files_csv[Country][['video_id','category_id','title']]\n",
    "video_description_df.dropna()\n",
    "video_description_df.sort_values(by='video_id')"
   ]
  },
  {
   "cell_type": "code",
   "execution_count": 266,
   "metadata": {
    "scrolled": true
   },
   "outputs": [],
   "source": [
    "#Deleting duplicate rowsb\n",
    "video_description_df = video_description_df.drop_duplicates(subset='video_id')"
   ]
  },
  {
   "cell_type": "code",
   "execution_count": 267,
   "metadata": {},
   "outputs": [
    {
     "data": {
      "text/html": [
       "<div>\n",
       "<style scoped>\n",
       "    .dataframe tbody tr th:only-of-type {\n",
       "        vertical-align: middle;\n",
       "    }\n",
       "\n",
       "    .dataframe tbody tr th {\n",
       "        vertical-align: top;\n",
       "    }\n",
       "\n",
       "    .dataframe thead th {\n",
       "        text-align: right;\n",
       "    }\n",
       "</style>\n",
       "<table border=\"1\" class=\"dataframe\">\n",
       "  <thead>\n",
       "    <tr style=\"text-align: right;\">\n",
       "      <th></th>\n",
       "      <th>video_id</th>\n",
       "      <th>category_id</th>\n",
       "      <th>title</th>\n",
       "    </tr>\n",
       "  </thead>\n",
       "  <tbody>\n",
       "    <tr>\n",
       "      <th>8327</th>\n",
       "      <td>--uXQQ0h-yQ</td>\n",
       "      <td>24</td>\n",
       "      <td>Paul McCartney - Pipes of Peace</td>\n",
       "    </tr>\n",
       "    <tr>\n",
       "      <th>9396</th>\n",
       "      <td>-3VBPAZPTQI</td>\n",
       "      <td>22</td>\n",
       "      <td>NEW YEAR'S EVE MAKEUP TUTORIAL | JAMIE GENEVIEVE</td>\n",
       "    </tr>\n",
       "    <tr>\n",
       "      <th>17986</th>\n",
       "      <td>-43MBOJnVks</td>\n",
       "      <td>24</td>\n",
       "      <td>RAMPAGE - OFFICIAL TRAILER 2 [HD]</td>\n",
       "    </tr>\n",
       "    <tr>\n",
       "      <th>3019</th>\n",
       "      <td>-5WBCrazSfg</td>\n",
       "      <td>17</td>\n",
       "      <td>Neymar will win the Ballon d'Or | Philippe Cou...</td>\n",
       "    </tr>\n",
       "    <tr>\n",
       "      <th>19998</th>\n",
       "      <td>-5aaJJQFvOg</td>\n",
       "      <td>10</td>\n",
       "      <td>Havana - swing cover | dodie feat. FLASHBACK</td>\n",
       "    </tr>\n",
       "    <tr>\n",
       "      <th>...</th>\n",
       "      <td>...</td>\n",
       "      <td>...</td>\n",
       "      <td>...</td>\n",
       "    </tr>\n",
       "    <tr>\n",
       "      <th>25561</th>\n",
       "      <td>zwEn-ambXLw</td>\n",
       "      <td>10</td>\n",
       "      <td>This Is Me - Cover by Shoshana Bean Featuring ...</td>\n",
       "    </tr>\n",
       "    <tr>\n",
       "      <th>8131</th>\n",
       "      <td>zwrlJwed2mQ</td>\n",
       "      <td>24</td>\n",
       "      <td>BigCityBeats WORLD CLUB DOME Zero Gravity (Off...</td>\n",
       "    </tr>\n",
       "    <tr>\n",
       "      <th>6132</th>\n",
       "      <td>zxGg8QqWrRQ</td>\n",
       "      <td>24</td>\n",
       "      <td>K  Michelle on Boyfriend Kastan Sims, Having T...</td>\n",
       "    </tr>\n",
       "    <tr>\n",
       "      <th>35293</th>\n",
       "      <td>zxjv0lo8bU8</td>\n",
       "      <td>17</td>\n",
       "      <td>MARCELO's son ENZO shows off his skills in the...</td>\n",
       "    </tr>\n",
       "    <tr>\n",
       "      <th>31667</th>\n",
       "      <td>zxwfDlhJIpw</td>\n",
       "      <td>22</td>\n",
       "      <td>kanye west / charlamagne interview</td>\n",
       "    </tr>\n",
       "  </tbody>\n",
       "</table>\n",
       "<p>3272 rows × 3 columns</p>\n",
       "</div>"
      ],
      "text/plain": [
       "          video_id  category_id  \\\n",
       "8327   --uXQQ0h-yQ           24   \n",
       "9396   -3VBPAZPTQI           22   \n",
       "17986  -43MBOJnVks           24   \n",
       "3019   -5WBCrazSfg           17   \n",
       "19998  -5aaJJQFvOg           10   \n",
       "...            ...          ...   \n",
       "25561  zwEn-ambXLw           10   \n",
       "8131   zwrlJwed2mQ           24   \n",
       "6132   zxGg8QqWrRQ           24   \n",
       "35293  zxjv0lo8bU8           17   \n",
       "31667  zxwfDlhJIpw           22   \n",
       "\n",
       "                                                   title  \n",
       "8327                     Paul McCartney - Pipes of Peace  \n",
       "9396    NEW YEAR'S EVE MAKEUP TUTORIAL | JAMIE GENEVIEVE  \n",
       "17986                  RAMPAGE - OFFICIAL TRAILER 2 [HD]  \n",
       "3019   Neymar will win the Ballon d'Or | Philippe Cou...  \n",
       "19998       Havana - swing cover | dodie feat. FLASHBACK  \n",
       "...                                                  ...  \n",
       "25561  This Is Me - Cover by Shoshana Bean Featuring ...  \n",
       "8131   BigCityBeats WORLD CLUB DOME Zero Gravity (Off...  \n",
       "6132   K  Michelle on Boyfriend Kastan Sims, Having T...  \n",
       "35293  MARCELO's son ENZO shows off his skills in the...  \n",
       "31667                 kanye west / charlamagne interview  \n",
       "\n",
       "[3272 rows x 3 columns]"
      ]
     },
     "execution_count": 267,
     "metadata": {},
     "output_type": "execute_result"
    }
   ],
   "source": [
    "video_description_df.sort_values(by='video_id')"
   ]
  },
  {
   "cell_type": "markdown",
   "metadata": {},
   "source": [
    "## YouTube video Insights"
   ]
  },
  {
   "cell_type": "code",
   "execution_count": 259,
   "metadata": {},
   "outputs": [
    {
     "data": {
      "text/html": [
       "<div>\n",
       "<style scoped>\n",
       "    .dataframe tbody tr th:only-of-type {\n",
       "        vertical-align: middle;\n",
       "    }\n",
       "\n",
       "    .dataframe tbody tr th {\n",
       "        vertical-align: top;\n",
       "    }\n",
       "\n",
       "    .dataframe thead th {\n",
       "        text-align: right;\n",
       "    }\n",
       "</style>\n",
       "<table border=\"1\" class=\"dataframe\">\n",
       "  <thead>\n",
       "    <tr style=\"text-align: right;\">\n",
       "      <th></th>\n",
       "      <th>video_id</th>\n",
       "      <th>views</th>\n",
       "      <th>likes</th>\n",
       "      <th>dislikes</th>\n",
       "      <th>comment_count</th>\n",
       "    </tr>\n",
       "  </thead>\n",
       "  <tbody>\n",
       "    <tr>\n",
       "      <th>8522</th>\n",
       "      <td>--uXQQ0h-yQ</td>\n",
       "      <td>26299</td>\n",
       "      <td>234</td>\n",
       "      <td>3</td>\n",
       "      <td>11</td>\n",
       "    </tr>\n",
       "    <tr>\n",
       "      <th>9984</th>\n",
       "      <td>--uXQQ0h-yQ</td>\n",
       "      <td>28725</td>\n",
       "      <td>253</td>\n",
       "      <td>3</td>\n",
       "      <td>12</td>\n",
       "    </tr>\n",
       "    <tr>\n",
       "      <th>8327</th>\n",
       "      <td>--uXQQ0h-yQ</td>\n",
       "      <td>24723</td>\n",
       "      <td>216</td>\n",
       "      <td>3</td>\n",
       "      <td>10</td>\n",
       "    </tr>\n",
       "    <tr>\n",
       "      <th>9145</th>\n",
       "      <td>--uXQQ0h-yQ</td>\n",
       "      <td>27689</td>\n",
       "      <td>243</td>\n",
       "      <td>3</td>\n",
       "      <td>11</td>\n",
       "    </tr>\n",
       "    <tr>\n",
       "      <th>8938</th>\n",
       "      <td>--uXQQ0h-yQ</td>\n",
       "      <td>27413</td>\n",
       "      <td>241</td>\n",
       "      <td>3</td>\n",
       "      <td>11</td>\n",
       "    </tr>\n",
       "    <tr>\n",
       "      <th>...</th>\n",
       "      <td>...</td>\n",
       "      <td>...</td>\n",
       "      <td>...</td>\n",
       "      <td>...</td>\n",
       "      <td>...</td>\n",
       "    </tr>\n",
       "    <tr>\n",
       "      <th>37050</th>\n",
       "      <td>zxwfDlhJIpw</td>\n",
       "      <td>8579665</td>\n",
       "      <td>167841</td>\n",
       "      <td>19615</td>\n",
       "      <td>48621</td>\n",
       "    </tr>\n",
       "    <tr>\n",
       "      <th>35864</th>\n",
       "      <td>zxwfDlhJIpw</td>\n",
       "      <td>8473031</td>\n",
       "      <td>166781</td>\n",
       "      <td>19493</td>\n",
       "      <td>48494</td>\n",
       "    </tr>\n",
       "    <tr>\n",
       "      <th>36035</th>\n",
       "      <td>zxwfDlhJIpw</td>\n",
       "      <td>8486581</td>\n",
       "      <td>166889</td>\n",
       "      <td>19506</td>\n",
       "      <td>48506</td>\n",
       "    </tr>\n",
       "    <tr>\n",
       "      <th>37215</th>\n",
       "      <td>zxwfDlhJIpw</td>\n",
       "      <td>8596449</td>\n",
       "      <td>168026</td>\n",
       "      <td>19640</td>\n",
       "      <td>48633</td>\n",
       "    </tr>\n",
       "    <tr>\n",
       "      <th>34034</th>\n",
       "      <td>zxwfDlhJIpw</td>\n",
       "      <td>8295147</td>\n",
       "      <td>165136</td>\n",
       "      <td>19295</td>\n",
       "      <td>48115</td>\n",
       "    </tr>\n",
       "  </tbody>\n",
       "</table>\n",
       "<p>38916 rows × 5 columns</p>\n",
       "</div>"
      ],
      "text/plain": [
       "          video_id    views   likes  dislikes  comment_count\n",
       "8522   --uXQQ0h-yQ    26299     234         3             11\n",
       "9984   --uXQQ0h-yQ    28725     253         3             12\n",
       "8327   --uXQQ0h-yQ    24723     216         3             10\n",
       "9145   --uXQQ0h-yQ    27689     243         3             11\n",
       "8938   --uXQQ0h-yQ    27413     241         3             11\n",
       "...            ...      ...     ...       ...            ...\n",
       "37050  zxwfDlhJIpw  8579665  167841     19615          48621\n",
       "35864  zxwfDlhJIpw  8473031  166781     19493          48494\n",
       "36035  zxwfDlhJIpw  8486581  166889     19506          48506\n",
       "37215  zxwfDlhJIpw  8596449  168026     19640          48633\n",
       "34034  zxwfDlhJIpw  8295147  165136     19295          48115\n",
       "\n",
       "[38916 rows x 5 columns]"
      ]
     },
     "execution_count": 259,
     "metadata": {},
     "output_type": "execute_result"
    }
   ],
   "source": [
    "#YouTube Insights (video_id','views','likes', 'dislikes', 'comment_count')\n",
    "video_insights_df = files_csv[Country][['video_id','views','likes', 'dislikes', 'comment_count']]\n",
    "video_insights_df.dropna()\n",
    "video_insights_df.sort_values(by='video_id')"
   ]
  },
  {
   "cell_type": "code",
   "execution_count": 262,
   "metadata": {},
   "outputs": [],
   "source": [
    "#Grouping By video id to get total # of views, likes, dislikes and comments\n",
    "video_insights_df=video_insights_df.groupby('video_id').sum()"
   ]
  },
  {
   "cell_type": "code",
   "execution_count": 263,
   "metadata": {},
   "outputs": [
    {
     "data": {
      "text/html": [
       "<div>\n",
       "<style scoped>\n",
       "    .dataframe tbody tr th:only-of-type {\n",
       "        vertical-align: middle;\n",
       "    }\n",
       "\n",
       "    .dataframe tbody tr th {\n",
       "        vertical-align: top;\n",
       "    }\n",
       "\n",
       "    .dataframe thead th {\n",
       "        text-align: right;\n",
       "    }\n",
       "</style>\n",
       "<table border=\"1\" class=\"dataframe\">\n",
       "  <thead>\n",
       "    <tr style=\"text-align: right;\">\n",
       "      <th></th>\n",
       "      <th>views</th>\n",
       "      <th>likes</th>\n",
       "      <th>dislikes</th>\n",
       "      <th>comment_count</th>\n",
       "    </tr>\n",
       "    <tr>\n",
       "      <th>video_id</th>\n",
       "      <th></th>\n",
       "      <th></th>\n",
       "      <th></th>\n",
       "      <th></th>\n",
       "    </tr>\n",
       "  </thead>\n",
       "  <tbody>\n",
       "    <tr>\n",
       "      <th>--uXQQ0h-yQ</th>\n",
       "      <td>246618</td>\n",
       "      <td>2173</td>\n",
       "      <td>27</td>\n",
       "      <td>102</td>\n",
       "    </tr>\n",
       "    <tr>\n",
       "      <th>-3VBPAZPTQI</th>\n",
       "      <td>4926085</td>\n",
       "      <td>205249</td>\n",
       "      <td>3918</td>\n",
       "      <td>11513</td>\n",
       "    </tr>\n",
       "    <tr>\n",
       "      <th>-43MBOJnVks</th>\n",
       "      <td>2303237</td>\n",
       "      <td>24173</td>\n",
       "      <td>1162</td>\n",
       "      <td>3220</td>\n",
       "    </tr>\n",
       "    <tr>\n",
       "      <th>-5WBCrazSfg</th>\n",
       "      <td>2861411</td>\n",
       "      <td>60839</td>\n",
       "      <td>983</td>\n",
       "      <td>6294</td>\n",
       "    </tr>\n",
       "    <tr>\n",
       "      <th>-5aaJJQFvOg</th>\n",
       "      <td>45754128</td>\n",
       "      <td>4856486</td>\n",
       "      <td>73795</td>\n",
       "      <td>222385</td>\n",
       "    </tr>\n",
       "    <tr>\n",
       "      <th>...</th>\n",
       "      <td>...</td>\n",
       "      <td>...</td>\n",
       "      <td>...</td>\n",
       "      <td>...</td>\n",
       "    </tr>\n",
       "    <tr>\n",
       "      <th>zwEn-ambXLw</th>\n",
       "      <td>2659300</td>\n",
       "      <td>98136</td>\n",
       "      <td>1567</td>\n",
       "      <td>4054</td>\n",
       "    </tr>\n",
       "    <tr>\n",
       "      <th>zwrlJwed2mQ</th>\n",
       "      <td>496415</td>\n",
       "      <td>4806</td>\n",
       "      <td>13</td>\n",
       "      <td>152</td>\n",
       "    </tr>\n",
       "    <tr>\n",
       "      <th>zxGg8QqWrRQ</th>\n",
       "      <td>572491</td>\n",
       "      <td>9516</td>\n",
       "      <td>471</td>\n",
       "      <td>1715</td>\n",
       "    </tr>\n",
       "    <tr>\n",
       "      <th>zxjv0lo8bU8</th>\n",
       "      <td>4293505</td>\n",
       "      <td>161636</td>\n",
       "      <td>1614</td>\n",
       "      <td>9531</td>\n",
       "    </tr>\n",
       "    <tr>\n",
       "      <th>zxwfDlhJIpw</th>\n",
       "      <td>288382131</td>\n",
       "      <td>5811436</td>\n",
       "      <td>674972</td>\n",
       "      <td>1694655</td>\n",
       "    </tr>\n",
       "  </tbody>\n",
       "</table>\n",
       "<p>3272 rows × 4 columns</p>\n",
       "</div>"
      ],
      "text/plain": [
       "                 views    likes  dislikes  comment_count\n",
       "video_id                                                \n",
       "--uXQQ0h-yQ     246618     2173        27            102\n",
       "-3VBPAZPTQI    4926085   205249      3918          11513\n",
       "-43MBOJnVks    2303237    24173      1162           3220\n",
       "-5WBCrazSfg    2861411    60839       983           6294\n",
       "-5aaJJQFvOg   45754128  4856486     73795         222385\n",
       "...                ...      ...       ...            ...\n",
       "zwEn-ambXLw    2659300    98136      1567           4054\n",
       "zwrlJwed2mQ     496415     4806        13            152\n",
       "zxGg8QqWrRQ     572491     9516       471           1715\n",
       "zxjv0lo8bU8    4293505   161636      1614           9531\n",
       "zxwfDlhJIpw  288382131  5811436    674972        1694655\n",
       "\n",
       "[3272 rows x 4 columns]"
      ]
     },
     "execution_count": 263,
     "metadata": {},
     "output_type": "execute_result"
    }
   ],
   "source": [
    "video_insights_df"
   ]
  },
  {
   "cell_type": "markdown",
   "metadata": {},
   "source": [
    "## Use Pandas to load the Dataframes into Database"
   ]
  },
  {
   "cell_type": "code",
   "execution_count": 271,
   "metadata": {},
   "outputs": [],
   "source": [
    "#Connect to local database\n",
    "rds_connection_string = \"postgres:postgres@localhost:5432/youtube_db\"\n",
    "engine = create_engine(f'postgresql://{rds_connection_string}')"
   ]
  },
  {
   "cell_type": "code",
   "execution_count": 272,
   "metadata": {},
   "outputs": [],
   "source": [
    "#Load DataFrames into PostgreSQL tables\n",
    "#As video_insight table is comming from a group_by instruction, the index (video_id) needs to be added as column\n",
    "video_insights_df.to_sql(name='video_insight', con=engine, if_exists='replace', index=True)\n",
    "video_description_df.to_sql(name='video_description', con=engine, if_exists='replace', index=False)\n",
    "categories_df.to_sql(name='categories', con=engine, if_exists='replace', index=False)\n",
    "tags_df.to_sql(name='tag_catalogue', con=engine, if_exists='replace', index=False)\n",
    "video_tag_clean_df.to_sql(name='video_tag', con=engine, if_exists='replace', index=False)\n"
   ]
  },
  {
   "cell_type": "code",
   "execution_count": 270,
   "metadata": {},
   "outputs": [
    {
     "ename": "ProgrammingError",
     "evalue": "(psycopg2.errors.UndefinedColumn) column \"video_id\" named in key does not exist\n\n[SQL: alter table video_insight add primary key (video_id)]\n(Background on this error at: http://sqlalche.me/e/13/f405)",
     "output_type": "error",
     "traceback": [
      "\u001b[0;31m---------------------------------------------------------------------------\u001b[0m",
      "\u001b[0;31mUndefinedColumn\u001b[0m                           Traceback (most recent call last)",
      "\u001b[0;32m~/opt/anaconda3/lib/python3.8/site-packages/sqlalchemy/engine/base.py\u001b[0m in \u001b[0;36m_execute_context\u001b[0;34m(self, dialect, constructor, statement, parameters, *args)\u001b[0m\n\u001b[1;32m   1276\u001b[0m                 \u001b[0;32mif\u001b[0m \u001b[0;32mnot\u001b[0m \u001b[0mevt_handled\u001b[0m\u001b[0;34m:\u001b[0m\u001b[0;34m\u001b[0m\u001b[0;34m\u001b[0m\u001b[0m\n\u001b[0;32m-> 1277\u001b[0;31m                     self.dialect.do_execute(\n\u001b[0m\u001b[1;32m   1278\u001b[0m                         \u001b[0mcursor\u001b[0m\u001b[0;34m,\u001b[0m \u001b[0mstatement\u001b[0m\u001b[0;34m,\u001b[0m \u001b[0mparameters\u001b[0m\u001b[0;34m,\u001b[0m \u001b[0mcontext\u001b[0m\u001b[0;34m\u001b[0m\u001b[0;34m\u001b[0m\u001b[0m\n",
      "\u001b[0;32m~/opt/anaconda3/lib/python3.8/site-packages/sqlalchemy/engine/default.py\u001b[0m in \u001b[0;36mdo_execute\u001b[0;34m(self, cursor, statement, parameters, context)\u001b[0m\n\u001b[1;32m    592\u001b[0m     \u001b[0;32mdef\u001b[0m \u001b[0mdo_execute\u001b[0m\u001b[0;34m(\u001b[0m\u001b[0mself\u001b[0m\u001b[0;34m,\u001b[0m \u001b[0mcursor\u001b[0m\u001b[0;34m,\u001b[0m \u001b[0mstatement\u001b[0m\u001b[0;34m,\u001b[0m \u001b[0mparameters\u001b[0m\u001b[0;34m,\u001b[0m \u001b[0mcontext\u001b[0m\u001b[0;34m=\u001b[0m\u001b[0;32mNone\u001b[0m\u001b[0;34m)\u001b[0m\u001b[0;34m:\u001b[0m\u001b[0;34m\u001b[0m\u001b[0;34m\u001b[0m\u001b[0m\n\u001b[0;32m--> 593\u001b[0;31m         \u001b[0mcursor\u001b[0m\u001b[0;34m.\u001b[0m\u001b[0mexecute\u001b[0m\u001b[0;34m(\u001b[0m\u001b[0mstatement\u001b[0m\u001b[0;34m,\u001b[0m \u001b[0mparameters\u001b[0m\u001b[0;34m)\u001b[0m\u001b[0;34m\u001b[0m\u001b[0;34m\u001b[0m\u001b[0m\n\u001b[0m\u001b[1;32m    594\u001b[0m \u001b[0;34m\u001b[0m\u001b[0m\n",
      "\u001b[0;31mUndefinedColumn\u001b[0m: column \"video_id\" named in key does not exist\n",
      "\nThe above exception was the direct cause of the following exception:\n",
      "\u001b[0;31mProgrammingError\u001b[0m                          Traceback (most recent call last)",
      "\u001b[0;32m<ipython-input-270-ff54eef9ceca>\u001b[0m in \u001b[0;36m<module>\u001b[0;34m\u001b[0m\n\u001b[1;32m      1\u001b[0m \u001b[0;31m#Adding keys to each one of the tables\u001b[0m\u001b[0;34m\u001b[0m\u001b[0;34m\u001b[0m\u001b[0;34m\u001b[0m\u001b[0m\n\u001b[0;32m----> 2\u001b[0;31m \u001b[0mengine\u001b[0m\u001b[0;34m.\u001b[0m\u001b[0mexecute\u001b[0m\u001b[0;34m(\u001b[0m\u001b[0;34m\"alter table video_insight add primary key (video_id)\"\u001b[0m\u001b[0;34m)\u001b[0m\u001b[0;34m\u001b[0m\u001b[0;34m\u001b[0m\u001b[0m\n\u001b[0m",
      "\u001b[0;32m~/opt/anaconda3/lib/python3.8/site-packages/sqlalchemy/engine/base.py\u001b[0m in \u001b[0;36mexecute\u001b[0;34m(self, statement, *multiparams, **params)\u001b[0m\n\u001b[1;32m   2236\u001b[0m \u001b[0;34m\u001b[0m\u001b[0m\n\u001b[1;32m   2237\u001b[0m         \u001b[0mconnection\u001b[0m \u001b[0;34m=\u001b[0m \u001b[0mself\u001b[0m\u001b[0;34m.\u001b[0m\u001b[0m_contextual_connect\u001b[0m\u001b[0;34m(\u001b[0m\u001b[0mclose_with_result\u001b[0m\u001b[0;34m=\u001b[0m\u001b[0;32mTrue\u001b[0m\u001b[0;34m)\u001b[0m\u001b[0;34m\u001b[0m\u001b[0;34m\u001b[0m\u001b[0m\n\u001b[0;32m-> 2238\u001b[0;31m         \u001b[0;32mreturn\u001b[0m \u001b[0mconnection\u001b[0m\u001b[0;34m.\u001b[0m\u001b[0mexecute\u001b[0m\u001b[0;34m(\u001b[0m\u001b[0mstatement\u001b[0m\u001b[0;34m,\u001b[0m \u001b[0;34m*\u001b[0m\u001b[0mmultiparams\u001b[0m\u001b[0;34m,\u001b[0m \u001b[0;34m**\u001b[0m\u001b[0mparams\u001b[0m\u001b[0;34m)\u001b[0m\u001b[0;34m\u001b[0m\u001b[0;34m\u001b[0m\u001b[0m\n\u001b[0m\u001b[1;32m   2239\u001b[0m \u001b[0;34m\u001b[0m\u001b[0m\n\u001b[1;32m   2240\u001b[0m     \u001b[0;32mdef\u001b[0m \u001b[0mscalar\u001b[0m\u001b[0;34m(\u001b[0m\u001b[0mself\u001b[0m\u001b[0;34m,\u001b[0m \u001b[0mstatement\u001b[0m\u001b[0;34m,\u001b[0m \u001b[0;34m*\u001b[0m\u001b[0mmultiparams\u001b[0m\u001b[0;34m,\u001b[0m \u001b[0;34m**\u001b[0m\u001b[0mparams\u001b[0m\u001b[0;34m)\u001b[0m\u001b[0;34m:\u001b[0m\u001b[0;34m\u001b[0m\u001b[0;34m\u001b[0m\u001b[0m\n",
      "\u001b[0;32m~/opt/anaconda3/lib/python3.8/site-packages/sqlalchemy/engine/base.py\u001b[0m in \u001b[0;36mexecute\u001b[0;34m(self, object_, *multiparams, **params)\u001b[0m\n\u001b[1;32m   1004\u001b[0m         \"\"\"\n\u001b[1;32m   1005\u001b[0m         \u001b[0;32mif\u001b[0m \u001b[0misinstance\u001b[0m\u001b[0;34m(\u001b[0m\u001b[0mobject_\u001b[0m\u001b[0;34m,\u001b[0m \u001b[0mutil\u001b[0m\u001b[0;34m.\u001b[0m\u001b[0mstring_types\u001b[0m\u001b[0;34m[\u001b[0m\u001b[0;36m0\u001b[0m\u001b[0;34m]\u001b[0m\u001b[0;34m)\u001b[0m\u001b[0;34m:\u001b[0m\u001b[0;34m\u001b[0m\u001b[0;34m\u001b[0m\u001b[0m\n\u001b[0;32m-> 1006\u001b[0;31m             \u001b[0;32mreturn\u001b[0m \u001b[0mself\u001b[0m\u001b[0;34m.\u001b[0m\u001b[0m_execute_text\u001b[0m\u001b[0;34m(\u001b[0m\u001b[0mobject_\u001b[0m\u001b[0;34m,\u001b[0m \u001b[0mmultiparams\u001b[0m\u001b[0;34m,\u001b[0m \u001b[0mparams\u001b[0m\u001b[0;34m)\u001b[0m\u001b[0;34m\u001b[0m\u001b[0;34m\u001b[0m\u001b[0m\n\u001b[0m\u001b[1;32m   1007\u001b[0m         \u001b[0;32mtry\u001b[0m\u001b[0;34m:\u001b[0m\u001b[0;34m\u001b[0m\u001b[0;34m\u001b[0m\u001b[0m\n\u001b[1;32m   1008\u001b[0m             \u001b[0mmeth\u001b[0m \u001b[0;34m=\u001b[0m \u001b[0mobject_\u001b[0m\u001b[0;34m.\u001b[0m\u001b[0m_execute_on_connection\u001b[0m\u001b[0;34m\u001b[0m\u001b[0;34m\u001b[0m\u001b[0m\n",
      "\u001b[0;32m~/opt/anaconda3/lib/python3.8/site-packages/sqlalchemy/engine/base.py\u001b[0m in \u001b[0;36m_execute_text\u001b[0;34m(self, statement, multiparams, params)\u001b[0m\n\u001b[1;32m   1173\u001b[0m         \u001b[0mdialect\u001b[0m \u001b[0;34m=\u001b[0m \u001b[0mself\u001b[0m\u001b[0;34m.\u001b[0m\u001b[0mdialect\u001b[0m\u001b[0;34m\u001b[0m\u001b[0;34m\u001b[0m\u001b[0m\n\u001b[1;32m   1174\u001b[0m         \u001b[0mparameters\u001b[0m \u001b[0;34m=\u001b[0m \u001b[0m_distill_params\u001b[0m\u001b[0;34m(\u001b[0m\u001b[0mmultiparams\u001b[0m\u001b[0;34m,\u001b[0m \u001b[0mparams\u001b[0m\u001b[0;34m)\u001b[0m\u001b[0;34m\u001b[0m\u001b[0;34m\u001b[0m\u001b[0m\n\u001b[0;32m-> 1175\u001b[0;31m         ret = self._execute_context(\n\u001b[0m\u001b[1;32m   1176\u001b[0m             \u001b[0mdialect\u001b[0m\u001b[0;34m,\u001b[0m\u001b[0;34m\u001b[0m\u001b[0;34m\u001b[0m\u001b[0m\n\u001b[1;32m   1177\u001b[0m             \u001b[0mdialect\u001b[0m\u001b[0;34m.\u001b[0m\u001b[0mexecution_ctx_cls\u001b[0m\u001b[0;34m.\u001b[0m\u001b[0m_init_statement\u001b[0m\u001b[0;34m,\u001b[0m\u001b[0;34m\u001b[0m\u001b[0;34m\u001b[0m\u001b[0m\n",
      "\u001b[0;32m~/opt/anaconda3/lib/python3.8/site-packages/sqlalchemy/engine/base.py\u001b[0m in \u001b[0;36m_execute_context\u001b[0;34m(self, dialect, constructor, statement, parameters, *args)\u001b[0m\n\u001b[1;32m   1315\u001b[0m \u001b[0;34m\u001b[0m\u001b[0m\n\u001b[1;32m   1316\u001b[0m         \u001b[0;32mexcept\u001b[0m \u001b[0mBaseException\u001b[0m \u001b[0;32mas\u001b[0m \u001b[0me\u001b[0m\u001b[0;34m:\u001b[0m\u001b[0;34m\u001b[0m\u001b[0;34m\u001b[0m\u001b[0m\n\u001b[0;32m-> 1317\u001b[0;31m             self._handle_dbapi_exception(\n\u001b[0m\u001b[1;32m   1318\u001b[0m                 \u001b[0me\u001b[0m\u001b[0;34m,\u001b[0m \u001b[0mstatement\u001b[0m\u001b[0;34m,\u001b[0m \u001b[0mparameters\u001b[0m\u001b[0;34m,\u001b[0m \u001b[0mcursor\u001b[0m\u001b[0;34m,\u001b[0m \u001b[0mcontext\u001b[0m\u001b[0;34m\u001b[0m\u001b[0;34m\u001b[0m\u001b[0m\n\u001b[1;32m   1319\u001b[0m             )\n",
      "\u001b[0;32m~/opt/anaconda3/lib/python3.8/site-packages/sqlalchemy/engine/base.py\u001b[0m in \u001b[0;36m_handle_dbapi_exception\u001b[0;34m(self, e, statement, parameters, cursor, context)\u001b[0m\n\u001b[1;32m   1509\u001b[0m                 \u001b[0mutil\u001b[0m\u001b[0;34m.\u001b[0m\u001b[0mraise_\u001b[0m\u001b[0;34m(\u001b[0m\u001b[0mnewraise\u001b[0m\u001b[0;34m,\u001b[0m \u001b[0mwith_traceback\u001b[0m\u001b[0;34m=\u001b[0m\u001b[0mexc_info\u001b[0m\u001b[0;34m[\u001b[0m\u001b[0;36m2\u001b[0m\u001b[0;34m]\u001b[0m\u001b[0;34m,\u001b[0m \u001b[0mfrom_\u001b[0m\u001b[0;34m=\u001b[0m\u001b[0me\u001b[0m\u001b[0;34m)\u001b[0m\u001b[0;34m\u001b[0m\u001b[0;34m\u001b[0m\u001b[0m\n\u001b[1;32m   1510\u001b[0m             \u001b[0;32melif\u001b[0m \u001b[0mshould_wrap\u001b[0m\u001b[0;34m:\u001b[0m\u001b[0;34m\u001b[0m\u001b[0;34m\u001b[0m\u001b[0m\n\u001b[0;32m-> 1511\u001b[0;31m                 util.raise_(\n\u001b[0m\u001b[1;32m   1512\u001b[0m                     \u001b[0msqlalchemy_exception\u001b[0m\u001b[0;34m,\u001b[0m \u001b[0mwith_traceback\u001b[0m\u001b[0;34m=\u001b[0m\u001b[0mexc_info\u001b[0m\u001b[0;34m[\u001b[0m\u001b[0;36m2\u001b[0m\u001b[0;34m]\u001b[0m\u001b[0;34m,\u001b[0m \u001b[0mfrom_\u001b[0m\u001b[0;34m=\u001b[0m\u001b[0me\u001b[0m\u001b[0;34m\u001b[0m\u001b[0;34m\u001b[0m\u001b[0m\n\u001b[1;32m   1513\u001b[0m                 )\n",
      "\u001b[0;32m~/opt/anaconda3/lib/python3.8/site-packages/sqlalchemy/util/compat.py\u001b[0m in \u001b[0;36mraise_\u001b[0;34m(***failed resolving arguments***)\u001b[0m\n\u001b[1;32m    176\u001b[0m \u001b[0;34m\u001b[0m\u001b[0m\n\u001b[1;32m    177\u001b[0m         \u001b[0;32mtry\u001b[0m\u001b[0;34m:\u001b[0m\u001b[0;34m\u001b[0m\u001b[0;34m\u001b[0m\u001b[0m\n\u001b[0;32m--> 178\u001b[0;31m             \u001b[0;32mraise\u001b[0m \u001b[0mexception\u001b[0m\u001b[0;34m\u001b[0m\u001b[0;34m\u001b[0m\u001b[0m\n\u001b[0m\u001b[1;32m    179\u001b[0m         \u001b[0;32mfinally\u001b[0m\u001b[0;34m:\u001b[0m\u001b[0;34m\u001b[0m\u001b[0;34m\u001b[0m\u001b[0m\n\u001b[1;32m    180\u001b[0m             \u001b[0;31m# credit to\u001b[0m\u001b[0;34m\u001b[0m\u001b[0;34m\u001b[0m\u001b[0;34m\u001b[0m\u001b[0m\n",
      "\u001b[0;32m~/opt/anaconda3/lib/python3.8/site-packages/sqlalchemy/engine/base.py\u001b[0m in \u001b[0;36m_execute_context\u001b[0;34m(self, dialect, constructor, statement, parameters, *args)\u001b[0m\n\u001b[1;32m   1275\u001b[0m                             \u001b[0;32mbreak\u001b[0m\u001b[0;34m\u001b[0m\u001b[0;34m\u001b[0m\u001b[0m\n\u001b[1;32m   1276\u001b[0m                 \u001b[0;32mif\u001b[0m \u001b[0;32mnot\u001b[0m \u001b[0mevt_handled\u001b[0m\u001b[0;34m:\u001b[0m\u001b[0;34m\u001b[0m\u001b[0;34m\u001b[0m\u001b[0m\n\u001b[0;32m-> 1277\u001b[0;31m                     self.dialect.do_execute(\n\u001b[0m\u001b[1;32m   1278\u001b[0m                         \u001b[0mcursor\u001b[0m\u001b[0;34m,\u001b[0m \u001b[0mstatement\u001b[0m\u001b[0;34m,\u001b[0m \u001b[0mparameters\u001b[0m\u001b[0;34m,\u001b[0m \u001b[0mcontext\u001b[0m\u001b[0;34m\u001b[0m\u001b[0;34m\u001b[0m\u001b[0m\n\u001b[1;32m   1279\u001b[0m                     )\n",
      "\u001b[0;32m~/opt/anaconda3/lib/python3.8/site-packages/sqlalchemy/engine/default.py\u001b[0m in \u001b[0;36mdo_execute\u001b[0;34m(self, cursor, statement, parameters, context)\u001b[0m\n\u001b[1;32m    591\u001b[0m \u001b[0;34m\u001b[0m\u001b[0m\n\u001b[1;32m    592\u001b[0m     \u001b[0;32mdef\u001b[0m \u001b[0mdo_execute\u001b[0m\u001b[0;34m(\u001b[0m\u001b[0mself\u001b[0m\u001b[0;34m,\u001b[0m \u001b[0mcursor\u001b[0m\u001b[0;34m,\u001b[0m \u001b[0mstatement\u001b[0m\u001b[0;34m,\u001b[0m \u001b[0mparameters\u001b[0m\u001b[0;34m,\u001b[0m \u001b[0mcontext\u001b[0m\u001b[0;34m=\u001b[0m\u001b[0;32mNone\u001b[0m\u001b[0;34m)\u001b[0m\u001b[0;34m:\u001b[0m\u001b[0;34m\u001b[0m\u001b[0;34m\u001b[0m\u001b[0m\n\u001b[0;32m--> 593\u001b[0;31m         \u001b[0mcursor\u001b[0m\u001b[0;34m.\u001b[0m\u001b[0mexecute\u001b[0m\u001b[0;34m(\u001b[0m\u001b[0mstatement\u001b[0m\u001b[0;34m,\u001b[0m \u001b[0mparameters\u001b[0m\u001b[0;34m)\u001b[0m\u001b[0;34m\u001b[0m\u001b[0;34m\u001b[0m\u001b[0m\n\u001b[0m\u001b[1;32m    594\u001b[0m \u001b[0;34m\u001b[0m\u001b[0m\n\u001b[1;32m    595\u001b[0m     \u001b[0;32mdef\u001b[0m \u001b[0mdo_execute_no_params\u001b[0m\u001b[0;34m(\u001b[0m\u001b[0mself\u001b[0m\u001b[0;34m,\u001b[0m \u001b[0mcursor\u001b[0m\u001b[0;34m,\u001b[0m \u001b[0mstatement\u001b[0m\u001b[0;34m,\u001b[0m \u001b[0mcontext\u001b[0m\u001b[0;34m=\u001b[0m\u001b[0;32mNone\u001b[0m\u001b[0;34m)\u001b[0m\u001b[0;34m:\u001b[0m\u001b[0;34m\u001b[0m\u001b[0;34m\u001b[0m\u001b[0m\n",
      "\u001b[0;31mProgrammingError\u001b[0m: (psycopg2.errors.UndefinedColumn) column \"video_id\" named in key does not exist\n\n[SQL: alter table video_insight add primary key (video_id)]\n(Background on this error at: http://sqlalche.me/e/13/f405)"
     ]
    }
   ],
   "source": [
    "#Adding keys to each one of the tables\n",
    "engine.execute(\"alter table video_insight add primary key (video_id)\")\n"
   ]
  },
  {
   "cell_type": "code",
   "execution_count": null,
   "metadata": {},
   "outputs": [],
   "source": [
    "engine.execute(\"alter table video_description add primary key (video_id)\")\n",
    "engine.execute(\"alter table categories add primary key (category_id)\")"
   ]
  },
  {
   "cell_type": "markdown",
   "metadata": {},
   "source": [
    "# Queries"
   ]
  },
  {
   "cell_type": "markdown",
   "metadata": {},
   "source": [
    "Using SQLAlchemy to explore data"
   ]
  },
  {
   "cell_type": "code",
   "execution_count": 188,
   "metadata": {},
   "outputs": [],
   "source": [
    "import sqlalchemy\n",
    "from sqlalchemy.ext.automap import automap_base\n",
    "from sqlalchemy.orm import Session\n",
    "from sqlalchemy import create_engine, func, Column, Integer, String, Float, Table"
   ]
  },
  {
   "cell_type": "code",
   "execution_count": 195,
   "metadata": {},
   "outputs": [],
   "source": [
    "engine = create_engine(f'postgresql://{rds_connection_string}')"
   ]
  },
  {
   "cell_type": "code",
   "execution_count": 196,
   "metadata": {},
   "outputs": [],
   "source": [
    "Base = automap_base()\n",
    "Base.prepare(engine, reflect=True)"
   ]
  },
  {
   "cell_type": "code",
   "execution_count": 198,
   "metadata": {},
   "outputs": [
    {
     "data": {
      "text/plain": [
       "[]"
      ]
     },
     "execution_count": 198,
     "metadata": {},
     "output_type": "execute_result"
    }
   ],
   "source": [
    "# We can view all of the classes that automap found\n",
    "Base.classes.keys()"
   ]
  },
  {
   "cell_type": "code",
   "execution_count": 192,
   "metadata": {},
   "outputs": [
    {
     "ename": "AttributeError",
     "evalue": "video_insight",
     "output_type": "error",
     "traceback": [
      "\u001b[0;31m---------------------------------------------------------------------------\u001b[0m",
      "\u001b[0;31mKeyError\u001b[0m                                  Traceback (most recent call last)",
      "\u001b[0;32m~/opt/anaconda3/lib/python3.8/site-packages/sqlalchemy/util/_collections.py\u001b[0m in \u001b[0;36m__getattr__\u001b[0;34m(self, key)\u001b[0m\n\u001b[1;32m    209\u001b[0m         \u001b[0;32mtry\u001b[0m\u001b[0;34m:\u001b[0m\u001b[0;34m\u001b[0m\u001b[0;34m\u001b[0m\u001b[0m\n\u001b[0;32m--> 210\u001b[0;31m             \u001b[0;32mreturn\u001b[0m \u001b[0mself\u001b[0m\u001b[0;34m.\u001b[0m\u001b[0m_data\u001b[0m\u001b[0;34m[\u001b[0m\u001b[0mkey\u001b[0m\u001b[0;34m]\u001b[0m\u001b[0;34m\u001b[0m\u001b[0;34m\u001b[0m\u001b[0m\n\u001b[0m\u001b[1;32m    211\u001b[0m         \u001b[0;32mexcept\u001b[0m \u001b[0mKeyError\u001b[0m\u001b[0;34m:\u001b[0m\u001b[0;34m\u001b[0m\u001b[0;34m\u001b[0m\u001b[0m\n",
      "\u001b[0;31mKeyError\u001b[0m: 'video_insight'",
      "\nDuring handling of the above exception, another exception occurred:\n",
      "\u001b[0;31mAttributeError\u001b[0m                            Traceback (most recent call last)",
      "\u001b[0;32m<ipython-input-192-425473877975>\u001b[0m in \u001b[0;36m<module>\u001b[0;34m\u001b[0m\n\u001b[1;32m      1\u001b[0m \u001b[0;31m#References to each one of the tables\u001b[0m\u001b[0;34m\u001b[0m\u001b[0;34m\u001b[0m\u001b[0;34m\u001b[0m\u001b[0m\n\u001b[0;32m----> 2\u001b[0;31m \u001b[0mVideo_Insight\u001b[0m \u001b[0;34m=\u001b[0m  \u001b[0mBase\u001b[0m\u001b[0;34m.\u001b[0m\u001b[0mclasses\u001b[0m\u001b[0;34m.\u001b[0m\u001b[0mvideo_insight\u001b[0m\u001b[0;34m\u001b[0m\u001b[0;34m\u001b[0m\u001b[0m\n\u001b[0m\u001b[1;32m      3\u001b[0m \u001b[0mVideo_Description\u001b[0m \u001b[0;34m=\u001b[0m  \u001b[0mBase\u001b[0m\u001b[0;34m.\u001b[0m\u001b[0mclasses\u001b[0m\u001b[0;34m.\u001b[0m\u001b[0mvideo_description\u001b[0m\u001b[0;34m\u001b[0m\u001b[0;34m\u001b[0m\u001b[0m\n\u001b[1;32m      4\u001b[0m \u001b[0mCategories\u001b[0m \u001b[0;34m=\u001b[0m \u001b[0mBase\u001b[0m\u001b[0;34m.\u001b[0m\u001b[0mclasses\u001b[0m\u001b[0;34m.\u001b[0m\u001b[0mcategories\u001b[0m\u001b[0;34m\u001b[0m\u001b[0;34m\u001b[0m\u001b[0m\n\u001b[1;32m      5\u001b[0m \u001b[0mTag_Catalogue\u001b[0m \u001b[0;34m=\u001b[0m \u001b[0mBase\u001b[0m\u001b[0;34m.\u001b[0m\u001b[0mclasses\u001b[0m\u001b[0;34m.\u001b[0m\u001b[0mtag_catalogue\u001b[0m\u001b[0;34m\u001b[0m\u001b[0;34m\u001b[0m\u001b[0m\n",
      "\u001b[0;32m~/opt/anaconda3/lib/python3.8/site-packages/sqlalchemy/util/_collections.py\u001b[0m in \u001b[0;36m__getattr__\u001b[0;34m(self, key)\u001b[0m\n\u001b[1;32m    210\u001b[0m             \u001b[0;32mreturn\u001b[0m \u001b[0mself\u001b[0m\u001b[0;34m.\u001b[0m\u001b[0m_data\u001b[0m\u001b[0;34m[\u001b[0m\u001b[0mkey\u001b[0m\u001b[0;34m]\u001b[0m\u001b[0;34m\u001b[0m\u001b[0;34m\u001b[0m\u001b[0m\n\u001b[1;32m    211\u001b[0m         \u001b[0;32mexcept\u001b[0m \u001b[0mKeyError\u001b[0m\u001b[0;34m:\u001b[0m\u001b[0;34m\u001b[0m\u001b[0;34m\u001b[0m\u001b[0m\n\u001b[0;32m--> 212\u001b[0;31m             \u001b[0;32mraise\u001b[0m \u001b[0mAttributeError\u001b[0m\u001b[0;34m(\u001b[0m\u001b[0mkey\u001b[0m\u001b[0;34m)\u001b[0m\u001b[0;34m\u001b[0m\u001b[0;34m\u001b[0m\u001b[0m\n\u001b[0m\u001b[1;32m    213\u001b[0m \u001b[0;34m\u001b[0m\u001b[0m\n\u001b[1;32m    214\u001b[0m     \u001b[0;32mdef\u001b[0m \u001b[0m__contains__\u001b[0m\u001b[0;34m(\u001b[0m\u001b[0mself\u001b[0m\u001b[0;34m,\u001b[0m \u001b[0mkey\u001b[0m\u001b[0;34m)\u001b[0m\u001b[0;34m:\u001b[0m\u001b[0;34m\u001b[0m\u001b[0;34m\u001b[0m\u001b[0m\n",
      "\u001b[0;31mAttributeError\u001b[0m: video_insight"
     ]
    }
   ],
   "source": [
    "#References to each one of the tables\n",
    "Video_Insight =  Base.classes.video_insight\n",
    "Video_Description =  Base.classes.video_description\n",
    "Categories = Base.classes.categories\n",
    "Tag_Catalogue = Base.classes.tag_catalogue\n",
    "Video_Tag = Base.classes.video_tag"
   ]
  },
  {
   "cell_type": "code",
   "execution_count": null,
   "metadata": {},
   "outputs": [],
   "source": []
  },
  {
   "cell_type": "markdown",
   "metadata": {},
   "source": [
    "## Top 10 videos (more views)"
   ]
  },
  {
   "cell_type": "markdown",
   "metadata": {},
   "source": [
    "\n",
    "## Most Liked Videos"
   ]
  },
  {
   "cell_type": "code",
   "execution_count": null,
   "metadata": {},
   "outputs": [],
   "source": []
  },
  {
   "cell_type": "markdown",
   "metadata": {},
   "source": [
    "## Most Disliked videos\n"
   ]
  },
  {
   "cell_type": "code",
   "execution_count": null,
   "metadata": {},
   "outputs": [],
   "source": []
  },
  {
   "cell_type": "markdown",
   "metadata": {},
   "source": [
    "## Search by Tag"
   ]
  },
  {
   "cell_type": "code",
   "execution_count": null,
   "metadata": {},
   "outputs": [],
   "source": []
  },
  {
   "cell_type": "markdown",
   "metadata": {},
   "source": [
    "## Most used tags"
   ]
  },
  {
   "cell_type": "code",
   "execution_count": null,
   "metadata": {},
   "outputs": [],
   "source": []
  }
 ],
 "metadata": {
  "kernelspec": {
   "display_name": "Python 3",
   "language": "python",
   "name": "python3"
  },
  "language_info": {
   "codemirror_mode": {
    "name": "ipython",
    "version": 3
   },
   "file_extension": ".py",
   "mimetype": "text/x-python",
   "name": "python",
   "nbconvert_exporter": "python",
   "pygments_lexer": "ipython3",
   "version": "3.8.3"
  }
 },
 "nbformat": 4,
 "nbformat_minor": 4
}
