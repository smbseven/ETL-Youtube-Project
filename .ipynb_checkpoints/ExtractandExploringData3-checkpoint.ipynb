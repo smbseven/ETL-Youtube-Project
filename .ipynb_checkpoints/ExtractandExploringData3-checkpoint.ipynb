{
 "cells": [
  {
   "cell_type": "markdown",
   "metadata": {},
   "source": [
    "# Trending YouTubes Statistics"
   ]
  },
  {
   "cell_type": "markdown",
   "metadata": {},
   "source": [
    "## Extracting Data"
   ]
  },
  {
   "cell_type": "markdown",
   "metadata": {},
   "source": [
    "### Set up dependecies"
   ]
  },
  {
   "cell_type": "markdown",
   "metadata": {},
   "source": [
    "#### Using command for Kaggle using terminal"
   ]
  },
  {
   "cell_type": "markdown",
   "metadata": {},
   "source": [
    "For more information check documentation of Public API for How to Use Kaggle in this [link](https://www.kaggle.com/docs/api)"
   ]
  },
  {
   "cell_type": "code",
   "execution_count": 1,
   "metadata": {},
   "outputs": [
    {
     "name": "stdout",
     "output_type": "stream",
     "text": [
      "Requirement already satisfied: kaggle in /Users/luzvazgal/opt/anaconda3/lib/python3.8/site-packages (1.5.10)\n",
      "Requirement already satisfied: python-slugify in /Users/luzvazgal/opt/anaconda3/lib/python3.8/site-packages (from kaggle) (4.0.1)\n",
      "Requirement already satisfied: six>=1.10 in /Users/luzvazgal/opt/anaconda3/lib/python3.8/site-packages (from kaggle) (1.15.0)\n",
      "Requirement already satisfied: certifi in /Users/luzvazgal/opt/anaconda3/lib/python3.8/site-packages (from kaggle) (2020.6.20)\n",
      "Requirement already satisfied: urllib3 in /Users/luzvazgal/opt/anaconda3/lib/python3.8/site-packages (from kaggle) (1.25.9)\n",
      "Requirement already satisfied: python-dateutil in /Users/luzvazgal/opt/anaconda3/lib/python3.8/site-packages (from kaggle) (2.8.1)\n",
      "Requirement already satisfied: tqdm in /Users/luzvazgal/opt/anaconda3/lib/python3.8/site-packages (from kaggle) (4.47.0)\n",
      "Requirement already satisfied: requests in /Users/luzvazgal/opt/anaconda3/lib/python3.8/site-packages (from kaggle) (2.24.0)\n",
      "Requirement already satisfied: text-unidecode>=1.3 in /Users/luzvazgal/opt/anaconda3/lib/python3.8/site-packages (from python-slugify->kaggle) (1.3)\n",
      "Requirement already satisfied: chardet<4,>=3.0.2 in /Users/luzvazgal/opt/anaconda3/lib/python3.8/site-packages (from requests->kaggle) (3.0.4)\n",
      "Requirement already satisfied: idna<3,>=2.5 in /Users/luzvazgal/opt/anaconda3/lib/python3.8/site-packages (from requests->kaggle) (2.10)\n"
     ]
    }
   ],
   "source": [
    "#Set up command lines with terminal tool\n",
    "# This project need data set in Kaggle for this is necesary to install kaggle\n",
    "!pip install kaggle\n",
    "#Also refrence in:\n",
    "#https://github.com/Kaggle/kaggle-api documents and\n",
    "#and https://www.youtube.com/watch?v=gkEbaMgvLs8\n"
   ]
  },
  {
   "cell_type": "code",
   "execution_count": 2,
   "metadata": {},
   "outputs": [
    {
     "name": "stdout",
     "output_type": "stream",
     "text": [
      "cp: illegal option -- y\r\n",
      "usage: cp [-R [-H | -L | -P]] [-fi | -n] [-apvXc] source_file target_file\r\n",
      "       cp [-R [-H | -L | -P]] [-fi | -n] [-apvXc] source_file ... target_directory\r\n"
     ]
    }
   ],
   "source": [
    "# Kaggle requaries to ensure kaggle.json (API token file) is in the location ~./kaggle/kaggle.json to use the API\n",
    "#You have to create an account or and API token in your account. This will download a fresh authentication token onto you machine (kaggle.json)\n",
    "#Copy you token to downloads to the folder of kaggle (~./kaggle)\n",
    "!cp -'your path downald file kaggle.json' -'new path ~./kaggle'"
   ]
  },
  {
   "cell_type": "code",
   "execution_count": 3,
   "metadata": {},
   "outputs": [
    {
     "name": "stdout",
     "output_type": "stream",
     "text": [
      "/bin/bash: line 0: cd: new: No such file or directory\r\n"
     ]
    }
   ],
   "source": [
    "#Check file kaggle is the ~./kaggle path\n",
    "!cd {'new path ~./kaggle'} && ls"
   ]
  },
  {
   "cell_type": "markdown",
   "metadata": {},
   "source": [
    "#### Dependecies"
   ]
  },
  {
   "cell_type": "code",
   "execution_count": 4,
   "metadata": {},
   "outputs": [],
   "source": [
    "#Other dependecies\n",
    "import pandas as pd\n",
    "import os\n",
    "from os import walk\n",
    "from sqlalchemy import create_engine\n"
   ]
  },
  {
   "cell_type": "code",
   "execution_count": 5,
   "metadata": {},
   "outputs": [],
   "source": [
    "#path to  download\n",
    "path_download=os.path.join('Resources')"
   ]
  },
  {
   "cell_type": "markdown",
   "metadata": {},
   "source": [
    "### Import dataset from Kaggle.com"
   ]
  },
  {
   "cell_type": "code",
   "execution_count": 6,
   "metadata": {},
   "outputs": [],
   "source": [
    "#this line use the kaggle.json of your account and aunthenticate\n",
    "from kaggle.api.kaggle_api_extended import KaggleApi\n",
    "api=KaggleApi()\n",
    "api.authenticate()"
   ]
  },
  {
   "cell_type": "code",
   "execution_count": 7,
   "metadata": {},
   "outputs": [],
   "source": [
    "# Download all files of a dataset\n",
    "# Signature: dataset_download_files(dataset, path=None, force=False, quiet=True, unzip=False)\n",
    "api.dataset_download_files('datasnaek/youtube-new', path=path_download, force=False, quiet=True, unzip=True)\n",
    "#A simple file:#Signature: dataset_download_file(dataset, file_name, path=None, force=False, quiet=True) "
   ]
  },
  {
   "cell_type": "markdown",
   "metadata": {},
   "source": [
    "### Forming Data Frames in Pandas"
   ]
  },
  {
   "cell_type": "code",
   "execution_count": 8,
   "metadata": {
    "scrolled": false
   },
   "outputs": [
    {
     "name": "stdout",
     "output_type": "stream",
     "text": [
      "['IN_category_id.json', 'MXvideos.csv', 'RU_category_id.json', 'JP_category_id.json', 'FR_category_id.json', 'INvideos.csv', 'GB_category_id.json', 'DEvideos.csv', 'JPvideos.csv', 'KR_category_id.json', 'KRvideos.csv', 'CAvideos.csv', 'MX_category_id.json', 'RUvideos.csv', 'FRvideos.csv', 'CA_category_id.json', 'US_category_id.json', 'DE_category_id.json', 'USvideos.csv', 'GBvideos.csv']\n"
     ]
    }
   ],
   "source": [
    "#files in the data set:\n",
    "files=[]\n",
    "for (dirpath, dirnames, filenames) in walk(path_download):\n",
    "    files.append(filenames)\n",
    "    print(filenames)\n",
    "\n"
   ]
  },
  {
   "cell_type": "code",
   "execution_count": 9,
   "metadata": {
    "scrolled": true
   },
   "outputs": [
    {
     "data": {
      "text/plain": [
       "20"
      ]
     },
     "execution_count": 9,
     "metadata": {},
     "output_type": "execute_result"
    }
   ],
   "source": [
    "#Number of files of data base in kaggle\n",
    "len(files[0])"
   ]
  },
  {
   "cell_type": "code",
   "execution_count": 10,
   "metadata": {
    "scrolled": false
   },
   "outputs": [
    {
     "data": {
      "text/plain": [
       "'IN_category_id.json'"
      ]
     },
     "execution_count": 10,
     "metadata": {},
     "output_type": "execute_result"
    }
   ],
   "source": [
    "#Show the first file\n",
    "files[0][0]"
   ]
  },
  {
   "cell_type": "code",
   "execution_count": 11,
   "metadata": {},
   "outputs": [
    {
     "name": "stdout",
     "output_type": "stream",
     "text": [
      "[['IN_category_id.json', 'MXvideos.csv', 'RU_category_id.json', 'JP_category_id.json', 'FR_category_id.json', 'INvideos.csv', 'GB_category_id.json', 'DEvideos.csv', 'JPvideos.csv', 'KR_category_id.json', 'KRvideos.csv', 'CAvideos.csv', 'MX_category_id.json', 'RUvideos.csv', 'FRvideos.csv', 'CA_category_id.json', 'US_category_id.json', 'DE_category_id.json', 'USvideos.csv', 'GBvideos.csv']]\n",
      "[['IN_category_id.json', 'MXvideos.csv', 'RU_category_id.json', 'JP_category_id.json', 'FR_category_id.json', 'INvideos.csv', 'GB_category_id.json', 'DEvideos.csv', 'JPvideos.csv', 'KR_category_id.json', 'KRvideos.csv', 'CAvideos.csv', 'MX_category_id.json', 'RUvideos.csv', 'FRvideos.csv', 'CA_category_id.json', 'US_category_id.json', 'DE_category_id.json', 'USvideos.csv', 'GBvideos.csv']]\n",
      "[['IN_category_id.json', 'MXvideos.csv', 'RU_category_id.json', 'JP_category_id.json', 'FR_category_id.json', 'INvideos.csv', 'GB_category_id.json', 'DEvideos.csv', 'JPvideos.csv', 'KR_category_id.json', 'KRvideos.csv', 'CAvideos.csv', 'MX_category_id.json', 'RUvideos.csv', 'FRvideos.csv', 'CA_category_id.json', 'US_category_id.json', 'DE_category_id.json', 'USvideos.csv', 'GBvideos.csv']]\n",
      "[['IN_category_id.json', 'MXvideos.csv', 'RU_category_id.json', 'JP_category_id.json', 'FR_category_id.json', 'INvideos.csv', 'GB_category_id.json', 'DEvideos.csv', 'JPvideos.csv', 'KR_category_id.json', 'KRvideos.csv', 'CAvideos.csv', 'MX_category_id.json', 'RUvideos.csv', 'FRvideos.csv', 'CA_category_id.json', 'US_category_id.json', 'DE_category_id.json', 'USvideos.csv', 'GBvideos.csv']]\n",
      "[['IN_category_id.json', 'MXvideos.csv', 'RU_category_id.json', 'JP_category_id.json', 'FR_category_id.json', 'INvideos.csv', 'GB_category_id.json', 'DEvideos.csv', 'JPvideos.csv', 'KR_category_id.json', 'KRvideos.csv', 'CAvideos.csv', 'MX_category_id.json', 'RUvideos.csv', 'FRvideos.csv', 'CA_category_id.json', 'US_category_id.json', 'DE_category_id.json', 'USvideos.csv', 'GBvideos.csv']]\n",
      "[['IN_category_id.json', 'MXvideos.csv', 'RU_category_id.json', 'JP_category_id.json', 'FR_category_id.json', 'INvideos.csv', 'GB_category_id.json', 'DEvideos.csv', 'JPvideos.csv', 'KR_category_id.json', 'KRvideos.csv', 'CAvideos.csv', 'MX_category_id.json', 'RUvideos.csv', 'FRvideos.csv', 'CA_category_id.json', 'US_category_id.json', 'DE_category_id.json', 'USvideos.csv', 'GBvideos.csv']]\n",
      "[['IN_category_id.json', 'MXvideos.csv', 'RU_category_id.json', 'JP_category_id.json', 'FR_category_id.json', 'INvideos.csv', 'GB_category_id.json', 'DEvideos.csv', 'JPvideos.csv', 'KR_category_id.json', 'KRvideos.csv', 'CAvideos.csv', 'MX_category_id.json', 'RUvideos.csv', 'FRvideos.csv', 'CA_category_id.json', 'US_category_id.json', 'DE_category_id.json', 'USvideos.csv', 'GBvideos.csv']]\n",
      "[['IN_category_id.json', 'MXvideos.csv', 'RU_category_id.json', 'JP_category_id.json', 'FR_category_id.json', 'INvideos.csv', 'GB_category_id.json', 'DEvideos.csv', 'JPvideos.csv', 'KR_category_id.json', 'KRvideos.csv', 'CAvideos.csv', 'MX_category_id.json', 'RUvideos.csv', 'FRvideos.csv', 'CA_category_id.json', 'US_category_id.json', 'DE_category_id.json', 'USvideos.csv', 'GBvideos.csv']]\n",
      "[['IN_category_id.json', 'MXvideos.csv', 'RU_category_id.json', 'JP_category_id.json', 'FR_category_id.json', 'INvideos.csv', 'GB_category_id.json', 'DEvideos.csv', 'JPvideos.csv', 'KR_category_id.json', 'KRvideos.csv', 'CAvideos.csv', 'MX_category_id.json', 'RUvideos.csv', 'FRvideos.csv', 'CA_category_id.json', 'US_category_id.json', 'DE_category_id.json', 'USvideos.csv', 'GBvideos.csv']]\n",
      "[['IN_category_id.json', 'MXvideos.csv', 'RU_category_id.json', 'JP_category_id.json', 'FR_category_id.json', 'INvideos.csv', 'GB_category_id.json', 'DEvideos.csv', 'JPvideos.csv', 'KR_category_id.json', 'KRvideos.csv', 'CAvideos.csv', 'MX_category_id.json', 'RUvideos.csv', 'FRvideos.csv', 'CA_category_id.json', 'US_category_id.json', 'DE_category_id.json', 'USvideos.csv', 'GBvideos.csv']]\n",
      "[['IN_category_id.json', 'MXvideos.csv', 'RU_category_id.json', 'JP_category_id.json', 'FR_category_id.json', 'INvideos.csv', 'GB_category_id.json', 'DEvideos.csv', 'JPvideos.csv', 'KR_category_id.json', 'KRvideos.csv', 'CAvideos.csv', 'MX_category_id.json', 'RUvideos.csv', 'FRvideos.csv', 'CA_category_id.json', 'US_category_id.json', 'DE_category_id.json', 'USvideos.csv', 'GBvideos.csv']]\n",
      "[['IN_category_id.json', 'MXvideos.csv', 'RU_category_id.json', 'JP_category_id.json', 'FR_category_id.json', 'INvideos.csv', 'GB_category_id.json', 'DEvideos.csv', 'JPvideos.csv', 'KR_category_id.json', 'KRvideos.csv', 'CAvideos.csv', 'MX_category_id.json', 'RUvideos.csv', 'FRvideos.csv', 'CA_category_id.json', 'US_category_id.json', 'DE_category_id.json', 'USvideos.csv', 'GBvideos.csv']]\n",
      "[['IN_category_id.json', 'MXvideos.csv', 'RU_category_id.json', 'JP_category_id.json', 'FR_category_id.json', 'INvideos.csv', 'GB_category_id.json', 'DEvideos.csv', 'JPvideos.csv', 'KR_category_id.json', 'KRvideos.csv', 'CAvideos.csv', 'MX_category_id.json', 'RUvideos.csv', 'FRvideos.csv', 'CA_category_id.json', 'US_category_id.json', 'DE_category_id.json', 'USvideos.csv', 'GBvideos.csv']]\n",
      "[['IN_category_id.json', 'MXvideos.csv', 'RU_category_id.json', 'JP_category_id.json', 'FR_category_id.json', 'INvideos.csv', 'GB_category_id.json', 'DEvideos.csv', 'JPvideos.csv', 'KR_category_id.json', 'KRvideos.csv', 'CAvideos.csv', 'MX_category_id.json', 'RUvideos.csv', 'FRvideos.csv', 'CA_category_id.json', 'US_category_id.json', 'DE_category_id.json', 'USvideos.csv', 'GBvideos.csv']]\n",
      "[['IN_category_id.json', 'MXvideos.csv', 'RU_category_id.json', 'JP_category_id.json', 'FR_category_id.json', 'INvideos.csv', 'GB_category_id.json', 'DEvideos.csv', 'JPvideos.csv', 'KR_category_id.json', 'KRvideos.csv', 'CAvideos.csv', 'MX_category_id.json', 'RUvideos.csv', 'FRvideos.csv', 'CA_category_id.json', 'US_category_id.json', 'DE_category_id.json', 'USvideos.csv', 'GBvideos.csv']]\n",
      "[['IN_category_id.json', 'MXvideos.csv', 'RU_category_id.json', 'JP_category_id.json', 'FR_category_id.json', 'INvideos.csv', 'GB_category_id.json', 'DEvideos.csv', 'JPvideos.csv', 'KR_category_id.json', 'KRvideos.csv', 'CAvideos.csv', 'MX_category_id.json', 'RUvideos.csv', 'FRvideos.csv', 'CA_category_id.json', 'US_category_id.json', 'DE_category_id.json', 'USvideos.csv', 'GBvideos.csv']]\n",
      "[['IN_category_id.json', 'MXvideos.csv', 'RU_category_id.json', 'JP_category_id.json', 'FR_category_id.json', 'INvideos.csv', 'GB_category_id.json', 'DEvideos.csv', 'JPvideos.csv', 'KR_category_id.json', 'KRvideos.csv', 'CAvideos.csv', 'MX_category_id.json', 'RUvideos.csv', 'FRvideos.csv', 'CA_category_id.json', 'US_category_id.json', 'DE_category_id.json', 'USvideos.csv', 'GBvideos.csv']]\n",
      "[['IN_category_id.json', 'MXvideos.csv', 'RU_category_id.json', 'JP_category_id.json', 'FR_category_id.json', 'INvideos.csv', 'GB_category_id.json', 'DEvideos.csv', 'JPvideos.csv', 'KR_category_id.json', 'KRvideos.csv', 'CAvideos.csv', 'MX_category_id.json', 'RUvideos.csv', 'FRvideos.csv', 'CA_category_id.json', 'US_category_id.json', 'DE_category_id.json', 'USvideos.csv', 'GBvideos.csv']]\n",
      "[['IN_category_id.json', 'MXvideos.csv', 'RU_category_id.json', 'JP_category_id.json', 'FR_category_id.json', 'INvideos.csv', 'GB_category_id.json', 'DEvideos.csv', 'JPvideos.csv', 'KR_category_id.json', 'KRvideos.csv', 'CAvideos.csv', 'MX_category_id.json', 'RUvideos.csv', 'FRvideos.csv', 'CA_category_id.json', 'US_category_id.json', 'DE_category_id.json', 'USvideos.csv', 'GBvideos.csv']]\n",
      "[['IN_category_id.json', 'MXvideos.csv', 'RU_category_id.json', 'JP_category_id.json', 'FR_category_id.json', 'INvideos.csv', 'GB_category_id.json', 'DEvideos.csv', 'JPvideos.csv', 'KR_category_id.json', 'KRvideos.csv', 'CAvideos.csv', 'MX_category_id.json', 'RUvideos.csv', 'FRvideos.csv', 'CA_category_id.json', 'US_category_id.json', 'DE_category_id.json', 'USvideos.csv', 'GBvideos.csv']]\n"
     ]
    }
   ],
   "source": [
    "#Print all name files\n",
    "for file in range(len(files[0])):\n",
    "    print(files)\n",
    "    \n"
   ]
  },
  {
   "cell_type": "code",
   "execution_count": 12,
   "metadata": {},
   "outputs": [],
   "source": [
    "#Creating Country value, to know the position of GB videos csv file in array result from Kaggle results\n",
    "#Setting Country as zero by default\n",
    "Country = 0"
   ]
  },
  {
   "cell_type": "code",
   "execution_count": 13,
   "metadata": {},
   "outputs": [
    {
     "name": "stdout",
     "output_type": "stream",
     "text": [
      "IN_category_id.json with json\n",
      "MXvideos.csv with encoding latin\n",
      "RU_category_id.json with json\n",
      "JP_category_id.json with json\n",
      "FR_category_id.json with json\n",
      "INvideos.csv with encoding utf-8\n",
      "GB_category_id.json with json\n",
      "DEvideos.csv with encoding utf-8\n",
      "JPvideos.csv with encoding latin\n",
      "KR_category_id.json with json\n",
      "KRvideos.csv with encoding latin\n",
      "CAvideos.csv with encoding utf-8\n",
      "MX_category_id.json with json\n",
      "RUvideos.csv with encoding latin\n",
      "FRvideos.csv with encoding utf-8\n",
      "CA_category_id.json with json\n",
      "US_category_id.json with json\n",
      "DE_category_id.json with json\n",
      "USvideos.csv with encoding utf-8\n",
      "GBvideos.csv with encoding utf-8\n"
     ]
    }
   ],
   "source": [
    "# read files in pandas\n",
    "files_csv=[] #Create frame for csv files\n",
    "files_json=[] #Create frame fo json files\n",
    "\n",
    "\n",
    "\n",
    "for file in range(len(files[0])):\n",
    "    file_path=f'{path_download}/{files[0][file]}'\n",
    "    try:\n",
    "        files_json.append(pd.read_json(file_path))\n",
    "        print(f'{files[0][file]} with json')\n",
    "    except:\n",
    "        try:\n",
    "            files_csv.append(pd.read_csv(file_path, encoding='utf-8-sig'))\n",
    "            print(f'{files[0][file]} with encoding utf-8')\n",
    "            \n",
    "        except:\n",
    "            files_csv.append(pd.read_csv(file_path, encoding='latin1'))\n",
    "            print(f'{files[0][file]} with encoding latin')\n",
    "       \n",
    "    #Assigning length of files_csv if GB csv file found\n",
    "        if files[0][file].find('GBvideos.csv')>-1:\n",
    "            Country = len(files_csv)-1"
   ]
  },
  {
   "cell_type": "code",
   "execution_count": 14,
   "metadata": {
    "scrolled": true
   },
   "outputs": [
    {
     "name": "stdout",
     "output_type": "stream",
     "text": [
      "10\n"
     ]
    }
   ],
   "source": [
    "print(len(files_json))"
   ]
  },
  {
   "cell_type": "code",
   "execution_count": 15,
   "metadata": {
    "scrolled": false
   },
   "outputs": [
    {
     "data": {
      "text/html": [
       "<div>\n",
       "<style scoped>\n",
       "    .dataframe tbody tr th:only-of-type {\n",
       "        vertical-align: middle;\n",
       "    }\n",
       "\n",
       "    .dataframe tbody tr th {\n",
       "        vertical-align: top;\n",
       "    }\n",
       "\n",
       "    .dataframe thead th {\n",
       "        text-align: right;\n",
       "    }\n",
       "</style>\n",
       "<table border=\"1\" class=\"dataframe\">\n",
       "  <thead>\n",
       "    <tr style=\"text-align: right;\">\n",
       "      <th></th>\n",
       "      <th>kind</th>\n",
       "      <th>etag</th>\n",
       "      <th>items</th>\n",
       "    </tr>\n",
       "  </thead>\n",
       "  <tbody>\n",
       "    <tr>\n",
       "      <th>0</th>\n",
       "      <td>youtube#videoCategoryListResponse</td>\n",
       "      <td>\"XI7nbFXulYBIpL0ayR_gDh3eu1k/1v2mrzYSYG6onNLt2...</td>\n",
       "      <td>{'kind': 'youtube#videoCategory', 'etag': '\"XI...</td>\n",
       "    </tr>\n",
       "  </tbody>\n",
       "</table>\n",
       "</div>"
      ],
      "text/plain": [
       "                                kind  \\\n",
       "0  youtube#videoCategoryListResponse   \n",
       "\n",
       "                                                etag  \\\n",
       "0  \"XI7nbFXulYBIpL0ayR_gDh3eu1k/1v2mrzYSYG6onNLt2...   \n",
       "\n",
       "                                               items  \n",
       "0  {'kind': 'youtube#videoCategory', 'etag': '\"XI...  "
      ]
     },
     "execution_count": 15,
     "metadata": {},
     "output_type": "execute_result"
    }
   ],
   "source": [
    "files_json[0].head(1)"
   ]
  },
  {
   "cell_type": "code",
   "execution_count": 16,
   "metadata": {},
   "outputs": [
    {
     "name": "stdout",
     "output_type": "stream",
     "text": [
      "10\n"
     ]
    }
   ],
   "source": [
    "print(len(files_csv))"
   ]
  },
  {
   "cell_type": "code",
   "execution_count": 17,
   "metadata": {
    "scrolled": true
   },
   "outputs": [
    {
     "data": {
      "text/html": [
       "<div>\n",
       "<style scoped>\n",
       "    .dataframe tbody tr th:only-of-type {\n",
       "        vertical-align: middle;\n",
       "    }\n",
       "\n",
       "    .dataframe tbody tr th {\n",
       "        vertical-align: top;\n",
       "    }\n",
       "\n",
       "    .dataframe thead th {\n",
       "        text-align: right;\n",
       "    }\n",
       "</style>\n",
       "<table border=\"1\" class=\"dataframe\">\n",
       "  <thead>\n",
       "    <tr style=\"text-align: right;\">\n",
       "      <th></th>\n",
       "      <th>video_id</th>\n",
       "      <th>trending_date</th>\n",
       "      <th>title</th>\n",
       "      <th>channel_title</th>\n",
       "      <th>category_id</th>\n",
       "      <th>publish_time</th>\n",
       "      <th>tags</th>\n",
       "      <th>views</th>\n",
       "      <th>likes</th>\n",
       "      <th>dislikes</th>\n",
       "      <th>comment_count</th>\n",
       "      <th>thumbnail_link</th>\n",
       "      <th>comments_disabled</th>\n",
       "      <th>ratings_disabled</th>\n",
       "      <th>video_error_or_removed</th>\n",
       "      <th>description</th>\n",
       "    </tr>\n",
       "  </thead>\n",
       "  <tbody>\n",
       "    <tr>\n",
       "      <th>0</th>\n",
       "      <td>SbOwzAl9ZfQ</td>\n",
       "      <td>17.14.11</td>\n",
       "      <td>CapÃ­tulo 12 | MasterChef 2017</td>\n",
       "      <td>MasterChef 2017</td>\n",
       "      <td>24</td>\n",
       "      <td>2017-11-13T06:06:22.000Z</td>\n",
       "      <td>MasterChef Junior 2017|\"TV Azteca\"|\"recetas\"|\"...</td>\n",
       "      <td>310130</td>\n",
       "      <td>4182</td>\n",
       "      <td>361</td>\n",
       "      <td>1836</td>\n",
       "      <td>https://i.ytimg.com/vi/SbOwzAl9ZfQ/default.jpg</td>\n",
       "      <td>False</td>\n",
       "      <td>False</td>\n",
       "      <td>False</td>\n",
       "      <td>Disfruta la presencia del Chef Torreblanca en ...</td>\n",
       "    </tr>\n",
       "  </tbody>\n",
       "</table>\n",
       "</div>"
      ],
      "text/plain": [
       "      video_id trending_date                           title    channel_title  \\\n",
       "0  SbOwzAl9ZfQ      17.14.11  CapÃ­tulo 12 | MasterChef 2017  MasterChef 2017   \n",
       "\n",
       "   category_id              publish_time  \\\n",
       "0           24  2017-11-13T06:06:22.000Z   \n",
       "\n",
       "                                                tags   views  likes  dislikes  \\\n",
       "0  MasterChef Junior 2017|\"TV Azteca\"|\"recetas\"|\"...  310130   4182       361   \n",
       "\n",
       "   comment_count                                  thumbnail_link  \\\n",
       "0           1836  https://i.ytimg.com/vi/SbOwzAl9ZfQ/default.jpg   \n",
       "\n",
       "   comments_disabled  ratings_disabled  video_error_or_removed  \\\n",
       "0              False             False                   False   \n",
       "\n",
       "                                         description  \n",
       "0  Disfruta la presencia del Chef Torreblanca en ...  "
      ]
     },
     "execution_count": 17,
     "metadata": {},
     "output_type": "execute_result"
    }
   ],
   "source": [
    "files_csv[0].head(1)"
   ]
  },
  {
   "cell_type": "code",
   "execution_count": 18,
   "metadata": {
    "scrolled": false
   },
   "outputs": [
    {
     "data": {
      "text/html": [
       "<div>\n",
       "<style scoped>\n",
       "    .dataframe tbody tr th:only-of-type {\n",
       "        vertical-align: middle;\n",
       "    }\n",
       "\n",
       "    .dataframe tbody tr th {\n",
       "        vertical-align: top;\n",
       "    }\n",
       "\n",
       "    .dataframe thead th {\n",
       "        text-align: right;\n",
       "    }\n",
       "</style>\n",
       "<table border=\"1\" class=\"dataframe\">\n",
       "  <thead>\n",
       "    <tr style=\"text-align: right;\">\n",
       "      <th></th>\n",
       "      <th>video_id</th>\n",
       "      <th>trending_date</th>\n",
       "      <th>title</th>\n",
       "      <th>channel_title</th>\n",
       "      <th>category_id</th>\n",
       "      <th>publish_time</th>\n",
       "      <th>tags</th>\n",
       "      <th>views</th>\n",
       "      <th>likes</th>\n",
       "      <th>dislikes</th>\n",
       "      <th>comment_count</th>\n",
       "      <th>thumbnail_link</th>\n",
       "      <th>comments_disabled</th>\n",
       "      <th>ratings_disabled</th>\n",
       "      <th>video_error_or_removed</th>\n",
       "      <th>description</th>\n",
       "    </tr>\n",
       "  </thead>\n",
       "  <tbody>\n",
       "    <tr>\n",
       "      <th>0</th>\n",
       "      <td>Ro6eob0LrCY</td>\n",
       "      <td>17.14.11</td>\n",
       "      <td>Malika LePen : Femme de Gauche - Trailer</td>\n",
       "      <td>Le Raptor Dissident</td>\n",
       "      <td>24</td>\n",
       "      <td>2017-11-13T17:32:55.000Z</td>\n",
       "      <td>Raptor\"|\"Dissident\"|\"Expliquez\"|\"moi\"|\"cette\"|...</td>\n",
       "      <td>212702</td>\n",
       "      <td>29282</td>\n",
       "      <td>1108</td>\n",
       "      <td>3817</td>\n",
       "      <td>https://i.ytimg.com/vi/Ro6eob0LrCY/default.jpg</td>\n",
       "      <td>False</td>\n",
       "      <td>False</td>\n",
       "      <td>False</td>\n",
       "      <td>Dimanche.\\n18h30.\\nSoyez présents pour la vidé...</td>\n",
       "    </tr>\n",
       "  </tbody>\n",
       "</table>\n",
       "</div>"
      ],
      "text/plain": [
       "      video_id trending_date                                     title  \\\n",
       "0  Ro6eob0LrCY      17.14.11  Malika LePen : Femme de Gauche - Trailer   \n",
       "\n",
       "         channel_title  category_id              publish_time  \\\n",
       "0  Le Raptor Dissident           24  2017-11-13T17:32:55.000Z   \n",
       "\n",
       "                                                tags   views  likes  dislikes  \\\n",
       "0  Raptor\"|\"Dissident\"|\"Expliquez\"|\"moi\"|\"cette\"|...  212702  29282      1108   \n",
       "\n",
       "   comment_count                                  thumbnail_link  \\\n",
       "0           3817  https://i.ytimg.com/vi/Ro6eob0LrCY/default.jpg   \n",
       "\n",
       "   comments_disabled  ratings_disabled  video_error_or_removed  \\\n",
       "0              False             False                   False   \n",
       "\n",
       "                                         description  \n",
       "0  Dimanche.\\n18h30.\\nSoyez présents pour la vidé...  "
      ]
     },
     "execution_count": 18,
     "metadata": {},
     "output_type": "execute_result"
    }
   ],
   "source": [
    "#Data frame for Mexico\n",
    "files_csv[7].head(1)"
   ]
  },
  {
   "cell_type": "code",
   "execution_count": 19,
   "metadata": {},
   "outputs": [
    {
     "data": {
      "text/html": [
       "<div>\n",
       "<style scoped>\n",
       "    .dataframe tbody tr th:only-of-type {\n",
       "        vertical-align: middle;\n",
       "    }\n",
       "\n",
       "    .dataframe tbody tr th {\n",
       "        vertical-align: top;\n",
       "    }\n",
       "\n",
       "    .dataframe thead th {\n",
       "        text-align: right;\n",
       "    }\n",
       "</style>\n",
       "<table border=\"1\" class=\"dataframe\">\n",
       "  <thead>\n",
       "    <tr style=\"text-align: right;\">\n",
       "      <th></th>\n",
       "      <th>video_id</th>\n",
       "      <th>trending_date</th>\n",
       "      <th>title</th>\n",
       "      <th>channel_title</th>\n",
       "      <th>category_id</th>\n",
       "      <th>publish_time</th>\n",
       "      <th>tags</th>\n",
       "      <th>views</th>\n",
       "      <th>likes</th>\n",
       "      <th>dislikes</th>\n",
       "      <th>comment_count</th>\n",
       "      <th>thumbnail_link</th>\n",
       "      <th>comments_disabled</th>\n",
       "      <th>ratings_disabled</th>\n",
       "      <th>video_error_or_removed</th>\n",
       "      <th>description</th>\n",
       "    </tr>\n",
       "  </thead>\n",
       "  <tbody>\n",
       "    <tr>\n",
       "      <th>0</th>\n",
       "      <td>n1WpP7iowLc</td>\n",
       "      <td>17.14.11</td>\n",
       "      <td>Eminem - Walk On Water (Audio) ft. Beyoncé</td>\n",
       "      <td>EminemVEVO</td>\n",
       "      <td>10</td>\n",
       "      <td>2017-11-10T17:00:03.000Z</td>\n",
       "      <td>Eminem|\"Walk\"|\"On\"|\"Water\"|\"Aftermath/Shady/In...</td>\n",
       "      <td>17158579</td>\n",
       "      <td>787425</td>\n",
       "      <td>43420</td>\n",
       "      <td>125882</td>\n",
       "      <td>https://i.ytimg.com/vi/n1WpP7iowLc/default.jpg</td>\n",
       "      <td>False</td>\n",
       "      <td>False</td>\n",
       "      <td>False</td>\n",
       "      <td>Eminem's new track Walk on Water ft. Beyoncé i...</td>\n",
       "    </tr>\n",
       "  </tbody>\n",
       "</table>\n",
       "</div>"
      ],
      "text/plain": [
       "      video_id trending_date                                       title  \\\n",
       "0  n1WpP7iowLc      17.14.11  Eminem - Walk On Water (Audio) ft. Beyoncé   \n",
       "\n",
       "  channel_title  category_id              publish_time  \\\n",
       "0    EminemVEVO           10  2017-11-10T17:00:03.000Z   \n",
       "\n",
       "                                                tags     views   likes  \\\n",
       "0  Eminem|\"Walk\"|\"On\"|\"Water\"|\"Aftermath/Shady/In...  17158579  787425   \n",
       "\n",
       "   dislikes  comment_count                                  thumbnail_link  \\\n",
       "0     43420         125882  https://i.ytimg.com/vi/n1WpP7iowLc/default.jpg   \n",
       "\n",
       "   comments_disabled  ratings_disabled  video_error_or_removed  \\\n",
       "0              False             False                   False   \n",
       "\n",
       "                                         description  \n",
       "0  Eminem's new track Walk on Water ft. Beyoncé i...  "
      ]
     },
     "execution_count": 19,
     "metadata": {},
     "output_type": "execute_result"
    }
   ],
   "source": [
    "#Data frame for Japan\n",
    "files_csv[5].head(1)"
   ]
  },
  {
   "cell_type": "code",
   "execution_count": 20,
   "metadata": {},
   "outputs": [
    {
     "data": {
      "text/html": [
       "<div>\n",
       "<style scoped>\n",
       "    .dataframe tbody tr th:only-of-type {\n",
       "        vertical-align: middle;\n",
       "    }\n",
       "\n",
       "    .dataframe tbody tr th {\n",
       "        vertical-align: top;\n",
       "    }\n",
       "\n",
       "    .dataframe thead th {\n",
       "        text-align: right;\n",
       "    }\n",
       "</style>\n",
       "<table border=\"1\" class=\"dataframe\">\n",
       "  <thead>\n",
       "    <tr style=\"text-align: right;\">\n",
       "      <th></th>\n",
       "      <th>video_id</th>\n",
       "      <th>trending_date</th>\n",
       "      <th>title</th>\n",
       "      <th>channel_title</th>\n",
       "      <th>category_id</th>\n",
       "      <th>publish_time</th>\n",
       "      <th>tags</th>\n",
       "      <th>views</th>\n",
       "      <th>likes</th>\n",
       "      <th>dislikes</th>\n",
       "      <th>comment_count</th>\n",
       "      <th>thumbnail_link</th>\n",
       "      <th>comments_disabled</th>\n",
       "      <th>ratings_disabled</th>\n",
       "      <th>video_error_or_removed</th>\n",
       "      <th>description</th>\n",
       "    </tr>\n",
       "  </thead>\n",
       "  <tbody>\n",
       "    <tr>\n",
       "      <th>0</th>\n",
       "      <td>5ugKfHgsmYw</td>\n",
       "      <td>18.07.02</td>\n",
       "      <td>é¸èªããªãåç´ã«è½ä¸ï¼è·¯ä¸ã®è»ã...</td>\n",
       "      <td>æäºéä¿¡æ åã»ã³ã¿ã¼</td>\n",
       "      <td>25</td>\n",
       "      <td>2018-02-06T03:04:37.000Z</td>\n",
       "      <td>äºæ",
       "|\"ä½è³\"|\"ä½è³ç\"|\"ããªã³ãã¿ã...</td>\n",
       "      <td>188085</td>\n",
       "      <td>591</td>\n",
       "      <td>189</td>\n",
       "      <td>0</td>\n",
       "      <td>https://i.ytimg.com/vi/5ugKfHgsmYw/default.jpg</td>\n",
       "      <td>True</td>\n",
       "      <td>False</td>\n",
       "      <td>False</td>\n",
       "      <td>ä½è³çç¥å¼å¸ã®æ°å®¶ã«å¢è½ããé¸ä...</td>\n",
       "    </tr>\n",
       "  </tbody>\n",
       "</table>\n",
       "</div>"
      ],
      "text/plain": [
       "      video_id trending_date  \\\n",
       "0  5ugKfHgsmYw      18.07.02   \n",
       "\n",
       "                                               title  \\\n",
       "0  é¸èªããªãåç´ã«è½ä¸ï¼è·¯ä¸ã®è»ã...   \n",
       "\n",
       "                    channel_title  category_id              publish_time  \\\n",
       "0  æäºéä¿¡æ åã»ã³ã¿ã¼           25  2018-02-06T03:04:37.000Z   \n",
       "\n",
       "                                                tags   views  likes  dislikes  \\\n",
       "0  äºæ\n",
       "|\"ä½è³\"|\"ä½è³ç\"|\"ããªã³ãã¿ã...  188085    591       189   \n",
       "\n",
       "   comment_count                                  thumbnail_link  \\\n",
       "0              0  https://i.ytimg.com/vi/5ugKfHgsmYw/default.jpg   \n",
       "\n",
       "   comments_disabled  ratings_disabled  video_error_or_removed  \\\n",
       "0               True             False                   False   \n",
       "\n",
       "                                         description  \n",
       "0  ä½è³çç¥å¼å¸ã®æ°å®¶ã«å¢è½ããé¸ä...  "
      ]
     },
     "execution_count": 20,
     "metadata": {},
     "output_type": "execute_result"
    }
   ],
   "source": [
    "#Data frame for Great Britain\n",
    "files_csv[3].head(1)"
   ]
  },
  {
   "cell_type": "markdown",
   "metadata": {},
   "source": [
    "## Exploring Data"
   ]
  },
  {
   "cell_type": "markdown",
   "metadata": {},
   "source": [
    "### Kind of info in json files"
   ]
  },
  {
   "cell_type": "code",
   "execution_count": 21,
   "metadata": {},
   "outputs": [
    {
     "name": "stdout",
     "output_type": "stream",
     "text": [
      "9\n"
     ]
    }
   ],
   "source": [
    "#Country work with\n",
    "#Country=3 #Working with Data of Great Great Britain\n",
    "print(Country)"
   ]
  },
  {
   "cell_type": "code",
   "execution_count": 22,
   "metadata": {
    "scrolled": true
   },
   "outputs": [
    {
     "data": {
      "text/html": [
       "<div>\n",
       "<style scoped>\n",
       "    .dataframe tbody tr th:only-of-type {\n",
       "        vertical-align: middle;\n",
       "    }\n",
       "\n",
       "    .dataframe tbody tr th {\n",
       "        vertical-align: top;\n",
       "    }\n",
       "\n",
       "    .dataframe thead th {\n",
       "        text-align: right;\n",
       "    }\n",
       "</style>\n",
       "<table border=\"1\" class=\"dataframe\">\n",
       "  <thead>\n",
       "    <tr style=\"text-align: right;\">\n",
       "      <th></th>\n",
       "      <th>kind</th>\n",
       "      <th>etag</th>\n",
       "      <th>items</th>\n",
       "    </tr>\n",
       "  </thead>\n",
       "  <tbody>\n",
       "    <tr>\n",
       "      <th>count</th>\n",
       "      <td>31</td>\n",
       "      <td>31</td>\n",
       "      <td>31</td>\n",
       "    </tr>\n",
       "    <tr>\n",
       "      <th>unique</th>\n",
       "      <td>1</td>\n",
       "      <td>1</td>\n",
       "      <td>31</td>\n",
       "    </tr>\n",
       "    <tr>\n",
       "      <th>top</th>\n",
       "      <td>youtube#videoCategoryListResponse</td>\n",
       "      <td>\"ld9biNPKjAjgjV7EZ4EKeEGrhao/1v2mrzYSYG6onNLt2...</td>\n",
       "      <td>{'kind': 'youtube#videoCategory', 'etag': '\"ld...</td>\n",
       "    </tr>\n",
       "    <tr>\n",
       "      <th>freq</th>\n",
       "      <td>31</td>\n",
       "      <td>31</td>\n",
       "      <td>1</td>\n",
       "    </tr>\n",
       "  </tbody>\n",
       "</table>\n",
       "</div>"
      ],
      "text/plain": [
       "                                     kind  \\\n",
       "count                                  31   \n",
       "unique                                  1   \n",
       "top     youtube#videoCategoryListResponse   \n",
       "freq                                   31   \n",
       "\n",
       "                                                     etag  \\\n",
       "count                                                  31   \n",
       "unique                                                  1   \n",
       "top     \"ld9biNPKjAjgjV7EZ4EKeEGrhao/1v2mrzYSYG6onNLt2...   \n",
       "freq                                                   31   \n",
       "\n",
       "                                                    items  \n",
       "count                                                  31  \n",
       "unique                                                 31  \n",
       "top     {'kind': 'youtube#videoCategory', 'etag': '\"ld...  \n",
       "freq                                                    1  "
      ]
     },
     "execution_count": 22,
     "metadata": {},
     "output_type": "execute_result"
    }
   ],
   "source": [
    "# Kind of info in json files\n",
    "files_json[Country].describe()\n"
   ]
  },
  {
   "cell_type": "code",
   "execution_count": 23,
   "metadata": {},
   "outputs": [
    {
     "data": {
      "text/html": [
       "<div>\n",
       "<style scoped>\n",
       "    .dataframe tbody tr th:only-of-type {\n",
       "        vertical-align: middle;\n",
       "    }\n",
       "\n",
       "    .dataframe tbody tr th {\n",
       "        vertical-align: top;\n",
       "    }\n",
       "\n",
       "    .dataframe thead th {\n",
       "        text-align: right;\n",
       "    }\n",
       "</style>\n",
       "<table border=\"1\" class=\"dataframe\">\n",
       "  <thead>\n",
       "    <tr style=\"text-align: right;\">\n",
       "      <th></th>\n",
       "      <th>kind</th>\n",
       "      <th>etag</th>\n",
       "      <th>items</th>\n",
       "    </tr>\n",
       "  </thead>\n",
       "  <tbody>\n",
       "    <tr>\n",
       "      <th>0</th>\n",
       "      <td>youtube#videoCategoryListResponse</td>\n",
       "      <td>\"ld9biNPKjAjgjV7EZ4EKeEGrhao/1v2mrzYSYG6onNLt2...</td>\n",
       "      <td>{'kind': 'youtube#videoCategory', 'etag': '\"ld...</td>\n",
       "    </tr>\n",
       "    <tr>\n",
       "      <th>1</th>\n",
       "      <td>youtube#videoCategoryListResponse</td>\n",
       "      <td>\"ld9biNPKjAjgjV7EZ4EKeEGrhao/1v2mrzYSYG6onNLt2...</td>\n",
       "      <td>{'kind': 'youtube#videoCategory', 'etag': '\"ld...</td>\n",
       "    </tr>\n",
       "    <tr>\n",
       "      <th>2</th>\n",
       "      <td>youtube#videoCategoryListResponse</td>\n",
       "      <td>\"ld9biNPKjAjgjV7EZ4EKeEGrhao/1v2mrzYSYG6onNLt2...</td>\n",
       "      <td>{'kind': 'youtube#videoCategory', 'etag': '\"ld...</td>\n",
       "    </tr>\n",
       "    <tr>\n",
       "      <th>3</th>\n",
       "      <td>youtube#videoCategoryListResponse</td>\n",
       "      <td>\"ld9biNPKjAjgjV7EZ4EKeEGrhao/1v2mrzYSYG6onNLt2...</td>\n",
       "      <td>{'kind': 'youtube#videoCategory', 'etag': '\"ld...</td>\n",
       "    </tr>\n",
       "    <tr>\n",
       "      <th>4</th>\n",
       "      <td>youtube#videoCategoryListResponse</td>\n",
       "      <td>\"ld9biNPKjAjgjV7EZ4EKeEGrhao/1v2mrzYSYG6onNLt2...</td>\n",
       "      <td>{'kind': 'youtube#videoCategory', 'etag': '\"ld...</td>\n",
       "    </tr>\n",
       "    <tr>\n",
       "      <th>5</th>\n",
       "      <td>youtube#videoCategoryListResponse</td>\n",
       "      <td>\"ld9biNPKjAjgjV7EZ4EKeEGrhao/1v2mrzYSYG6onNLt2...</td>\n",
       "      <td>{'kind': 'youtube#videoCategory', 'etag': '\"ld...</td>\n",
       "    </tr>\n",
       "    <tr>\n",
       "      <th>6</th>\n",
       "      <td>youtube#videoCategoryListResponse</td>\n",
       "      <td>\"ld9biNPKjAjgjV7EZ4EKeEGrhao/1v2mrzYSYG6onNLt2...</td>\n",
       "      <td>{'kind': 'youtube#videoCategory', 'etag': '\"ld...</td>\n",
       "    </tr>\n",
       "    <tr>\n",
       "      <th>7</th>\n",
       "      <td>youtube#videoCategoryListResponse</td>\n",
       "      <td>\"ld9biNPKjAjgjV7EZ4EKeEGrhao/1v2mrzYSYG6onNLt2...</td>\n",
       "      <td>{'kind': 'youtube#videoCategory', 'etag': '\"ld...</td>\n",
       "    </tr>\n",
       "    <tr>\n",
       "      <th>8</th>\n",
       "      <td>youtube#videoCategoryListResponse</td>\n",
       "      <td>\"ld9biNPKjAjgjV7EZ4EKeEGrhao/1v2mrzYSYG6onNLt2...</td>\n",
       "      <td>{'kind': 'youtube#videoCategory', 'etag': '\"ld...</td>\n",
       "    </tr>\n",
       "    <tr>\n",
       "      <th>9</th>\n",
       "      <td>youtube#videoCategoryListResponse</td>\n",
       "      <td>\"ld9biNPKjAjgjV7EZ4EKeEGrhao/1v2mrzYSYG6onNLt2...</td>\n",
       "      <td>{'kind': 'youtube#videoCategory', 'etag': '\"ld...</td>\n",
       "    </tr>\n",
       "    <tr>\n",
       "      <th>10</th>\n",
       "      <td>youtube#videoCategoryListResponse</td>\n",
       "      <td>\"ld9biNPKjAjgjV7EZ4EKeEGrhao/1v2mrzYSYG6onNLt2...</td>\n",
       "      <td>{'kind': 'youtube#videoCategory', 'etag': '\"ld...</td>\n",
       "    </tr>\n",
       "    <tr>\n",
       "      <th>11</th>\n",
       "      <td>youtube#videoCategoryListResponse</td>\n",
       "      <td>\"ld9biNPKjAjgjV7EZ4EKeEGrhao/1v2mrzYSYG6onNLt2...</td>\n",
       "      <td>{'kind': 'youtube#videoCategory', 'etag': '\"ld...</td>\n",
       "    </tr>\n",
       "    <tr>\n",
       "      <th>12</th>\n",
       "      <td>youtube#videoCategoryListResponse</td>\n",
       "      <td>\"ld9biNPKjAjgjV7EZ4EKeEGrhao/1v2mrzYSYG6onNLt2...</td>\n",
       "      <td>{'kind': 'youtube#videoCategory', 'etag': '\"ld...</td>\n",
       "    </tr>\n",
       "    <tr>\n",
       "      <th>13</th>\n",
       "      <td>youtube#videoCategoryListResponse</td>\n",
       "      <td>\"ld9biNPKjAjgjV7EZ4EKeEGrhao/1v2mrzYSYG6onNLt2...</td>\n",
       "      <td>{'kind': 'youtube#videoCategory', 'etag': '\"ld...</td>\n",
       "    </tr>\n",
       "    <tr>\n",
       "      <th>14</th>\n",
       "      <td>youtube#videoCategoryListResponse</td>\n",
       "      <td>\"ld9biNPKjAjgjV7EZ4EKeEGrhao/1v2mrzYSYG6onNLt2...</td>\n",
       "      <td>{'kind': 'youtube#videoCategory', 'etag': '\"ld...</td>\n",
       "    </tr>\n",
       "    <tr>\n",
       "      <th>15</th>\n",
       "      <td>youtube#videoCategoryListResponse</td>\n",
       "      <td>\"ld9biNPKjAjgjV7EZ4EKeEGrhao/1v2mrzYSYG6onNLt2...</td>\n",
       "      <td>{'kind': 'youtube#videoCategory', 'etag': '\"ld...</td>\n",
       "    </tr>\n",
       "    <tr>\n",
       "      <th>16</th>\n",
       "      <td>youtube#videoCategoryListResponse</td>\n",
       "      <td>\"ld9biNPKjAjgjV7EZ4EKeEGrhao/1v2mrzYSYG6onNLt2...</td>\n",
       "      <td>{'kind': 'youtube#videoCategory', 'etag': '\"ld...</td>\n",
       "    </tr>\n",
       "    <tr>\n",
       "      <th>17</th>\n",
       "      <td>youtube#videoCategoryListResponse</td>\n",
       "      <td>\"ld9biNPKjAjgjV7EZ4EKeEGrhao/1v2mrzYSYG6onNLt2...</td>\n",
       "      <td>{'kind': 'youtube#videoCategory', 'etag': '\"ld...</td>\n",
       "    </tr>\n",
       "    <tr>\n",
       "      <th>18</th>\n",
       "      <td>youtube#videoCategoryListResponse</td>\n",
       "      <td>\"ld9biNPKjAjgjV7EZ4EKeEGrhao/1v2mrzYSYG6onNLt2...</td>\n",
       "      <td>{'kind': 'youtube#videoCategory', 'etag': '\"ld...</td>\n",
       "    </tr>\n",
       "    <tr>\n",
       "      <th>19</th>\n",
       "      <td>youtube#videoCategoryListResponse</td>\n",
       "      <td>\"ld9biNPKjAjgjV7EZ4EKeEGrhao/1v2mrzYSYG6onNLt2...</td>\n",
       "      <td>{'kind': 'youtube#videoCategory', 'etag': '\"ld...</td>\n",
       "    </tr>\n",
       "    <tr>\n",
       "      <th>20</th>\n",
       "      <td>youtube#videoCategoryListResponse</td>\n",
       "      <td>\"ld9biNPKjAjgjV7EZ4EKeEGrhao/1v2mrzYSYG6onNLt2...</td>\n",
       "      <td>{'kind': 'youtube#videoCategory', 'etag': '\"ld...</td>\n",
       "    </tr>\n",
       "    <tr>\n",
       "      <th>21</th>\n",
       "      <td>youtube#videoCategoryListResponse</td>\n",
       "      <td>\"ld9biNPKjAjgjV7EZ4EKeEGrhao/1v2mrzYSYG6onNLt2...</td>\n",
       "      <td>{'kind': 'youtube#videoCategory', 'etag': '\"ld...</td>\n",
       "    </tr>\n",
       "    <tr>\n",
       "      <th>22</th>\n",
       "      <td>youtube#videoCategoryListResponse</td>\n",
       "      <td>\"ld9biNPKjAjgjV7EZ4EKeEGrhao/1v2mrzYSYG6onNLt2...</td>\n",
       "      <td>{'kind': 'youtube#videoCategory', 'etag': '\"ld...</td>\n",
       "    </tr>\n",
       "    <tr>\n",
       "      <th>23</th>\n",
       "      <td>youtube#videoCategoryListResponse</td>\n",
       "      <td>\"ld9biNPKjAjgjV7EZ4EKeEGrhao/1v2mrzYSYG6onNLt2...</td>\n",
       "      <td>{'kind': 'youtube#videoCategory', 'etag': '\"ld...</td>\n",
       "    </tr>\n",
       "    <tr>\n",
       "      <th>24</th>\n",
       "      <td>youtube#videoCategoryListResponse</td>\n",
       "      <td>\"ld9biNPKjAjgjV7EZ4EKeEGrhao/1v2mrzYSYG6onNLt2...</td>\n",
       "      <td>{'kind': 'youtube#videoCategory', 'etag': '\"ld...</td>\n",
       "    </tr>\n",
       "    <tr>\n",
       "      <th>25</th>\n",
       "      <td>youtube#videoCategoryListResponse</td>\n",
       "      <td>\"ld9biNPKjAjgjV7EZ4EKeEGrhao/1v2mrzYSYG6onNLt2...</td>\n",
       "      <td>{'kind': 'youtube#videoCategory', 'etag': '\"ld...</td>\n",
       "    </tr>\n",
       "    <tr>\n",
       "      <th>26</th>\n",
       "      <td>youtube#videoCategoryListResponse</td>\n",
       "      <td>\"ld9biNPKjAjgjV7EZ4EKeEGrhao/1v2mrzYSYG6onNLt2...</td>\n",
       "      <td>{'kind': 'youtube#videoCategory', 'etag': '\"ld...</td>\n",
       "    </tr>\n",
       "    <tr>\n",
       "      <th>27</th>\n",
       "      <td>youtube#videoCategoryListResponse</td>\n",
       "      <td>\"ld9biNPKjAjgjV7EZ4EKeEGrhao/1v2mrzYSYG6onNLt2...</td>\n",
       "      <td>{'kind': 'youtube#videoCategory', 'etag': '\"ld...</td>\n",
       "    </tr>\n",
       "    <tr>\n",
       "      <th>28</th>\n",
       "      <td>youtube#videoCategoryListResponse</td>\n",
       "      <td>\"ld9biNPKjAjgjV7EZ4EKeEGrhao/1v2mrzYSYG6onNLt2...</td>\n",
       "      <td>{'kind': 'youtube#videoCategory', 'etag': '\"ld...</td>\n",
       "    </tr>\n",
       "    <tr>\n",
       "      <th>29</th>\n",
       "      <td>youtube#videoCategoryListResponse</td>\n",
       "      <td>\"ld9biNPKjAjgjV7EZ4EKeEGrhao/1v2mrzYSYG6onNLt2...</td>\n",
       "      <td>{'kind': 'youtube#videoCategory', 'etag': '\"ld...</td>\n",
       "    </tr>\n",
       "    <tr>\n",
       "      <th>30</th>\n",
       "      <td>youtube#videoCategoryListResponse</td>\n",
       "      <td>\"ld9biNPKjAjgjV7EZ4EKeEGrhao/1v2mrzYSYG6onNLt2...</td>\n",
       "      <td>{'kind': 'youtube#videoCategory', 'etag': '\"ld...</td>\n",
       "    </tr>\n",
       "  </tbody>\n",
       "</table>\n",
       "</div>"
      ],
      "text/plain": [
       "                                 kind  \\\n",
       "0   youtube#videoCategoryListResponse   \n",
       "1   youtube#videoCategoryListResponse   \n",
       "2   youtube#videoCategoryListResponse   \n",
       "3   youtube#videoCategoryListResponse   \n",
       "4   youtube#videoCategoryListResponse   \n",
       "5   youtube#videoCategoryListResponse   \n",
       "6   youtube#videoCategoryListResponse   \n",
       "7   youtube#videoCategoryListResponse   \n",
       "8   youtube#videoCategoryListResponse   \n",
       "9   youtube#videoCategoryListResponse   \n",
       "10  youtube#videoCategoryListResponse   \n",
       "11  youtube#videoCategoryListResponse   \n",
       "12  youtube#videoCategoryListResponse   \n",
       "13  youtube#videoCategoryListResponse   \n",
       "14  youtube#videoCategoryListResponse   \n",
       "15  youtube#videoCategoryListResponse   \n",
       "16  youtube#videoCategoryListResponse   \n",
       "17  youtube#videoCategoryListResponse   \n",
       "18  youtube#videoCategoryListResponse   \n",
       "19  youtube#videoCategoryListResponse   \n",
       "20  youtube#videoCategoryListResponse   \n",
       "21  youtube#videoCategoryListResponse   \n",
       "22  youtube#videoCategoryListResponse   \n",
       "23  youtube#videoCategoryListResponse   \n",
       "24  youtube#videoCategoryListResponse   \n",
       "25  youtube#videoCategoryListResponse   \n",
       "26  youtube#videoCategoryListResponse   \n",
       "27  youtube#videoCategoryListResponse   \n",
       "28  youtube#videoCategoryListResponse   \n",
       "29  youtube#videoCategoryListResponse   \n",
       "30  youtube#videoCategoryListResponse   \n",
       "\n",
       "                                                 etag  \\\n",
       "0   \"ld9biNPKjAjgjV7EZ4EKeEGrhao/1v2mrzYSYG6onNLt2...   \n",
       "1   \"ld9biNPKjAjgjV7EZ4EKeEGrhao/1v2mrzYSYG6onNLt2...   \n",
       "2   \"ld9biNPKjAjgjV7EZ4EKeEGrhao/1v2mrzYSYG6onNLt2...   \n",
       "3   \"ld9biNPKjAjgjV7EZ4EKeEGrhao/1v2mrzYSYG6onNLt2...   \n",
       "4   \"ld9biNPKjAjgjV7EZ4EKeEGrhao/1v2mrzYSYG6onNLt2...   \n",
       "5   \"ld9biNPKjAjgjV7EZ4EKeEGrhao/1v2mrzYSYG6onNLt2...   \n",
       "6   \"ld9biNPKjAjgjV7EZ4EKeEGrhao/1v2mrzYSYG6onNLt2...   \n",
       "7   \"ld9biNPKjAjgjV7EZ4EKeEGrhao/1v2mrzYSYG6onNLt2...   \n",
       "8   \"ld9biNPKjAjgjV7EZ4EKeEGrhao/1v2mrzYSYG6onNLt2...   \n",
       "9   \"ld9biNPKjAjgjV7EZ4EKeEGrhao/1v2mrzYSYG6onNLt2...   \n",
       "10  \"ld9biNPKjAjgjV7EZ4EKeEGrhao/1v2mrzYSYG6onNLt2...   \n",
       "11  \"ld9biNPKjAjgjV7EZ4EKeEGrhao/1v2mrzYSYG6onNLt2...   \n",
       "12  \"ld9biNPKjAjgjV7EZ4EKeEGrhao/1v2mrzYSYG6onNLt2...   \n",
       "13  \"ld9biNPKjAjgjV7EZ4EKeEGrhao/1v2mrzYSYG6onNLt2...   \n",
       "14  \"ld9biNPKjAjgjV7EZ4EKeEGrhao/1v2mrzYSYG6onNLt2...   \n",
       "15  \"ld9biNPKjAjgjV7EZ4EKeEGrhao/1v2mrzYSYG6onNLt2...   \n",
       "16  \"ld9biNPKjAjgjV7EZ4EKeEGrhao/1v2mrzYSYG6onNLt2...   \n",
       "17  \"ld9biNPKjAjgjV7EZ4EKeEGrhao/1v2mrzYSYG6onNLt2...   \n",
       "18  \"ld9biNPKjAjgjV7EZ4EKeEGrhao/1v2mrzYSYG6onNLt2...   \n",
       "19  \"ld9biNPKjAjgjV7EZ4EKeEGrhao/1v2mrzYSYG6onNLt2...   \n",
       "20  \"ld9biNPKjAjgjV7EZ4EKeEGrhao/1v2mrzYSYG6onNLt2...   \n",
       "21  \"ld9biNPKjAjgjV7EZ4EKeEGrhao/1v2mrzYSYG6onNLt2...   \n",
       "22  \"ld9biNPKjAjgjV7EZ4EKeEGrhao/1v2mrzYSYG6onNLt2...   \n",
       "23  \"ld9biNPKjAjgjV7EZ4EKeEGrhao/1v2mrzYSYG6onNLt2...   \n",
       "24  \"ld9biNPKjAjgjV7EZ4EKeEGrhao/1v2mrzYSYG6onNLt2...   \n",
       "25  \"ld9biNPKjAjgjV7EZ4EKeEGrhao/1v2mrzYSYG6onNLt2...   \n",
       "26  \"ld9biNPKjAjgjV7EZ4EKeEGrhao/1v2mrzYSYG6onNLt2...   \n",
       "27  \"ld9biNPKjAjgjV7EZ4EKeEGrhao/1v2mrzYSYG6onNLt2...   \n",
       "28  \"ld9biNPKjAjgjV7EZ4EKeEGrhao/1v2mrzYSYG6onNLt2...   \n",
       "29  \"ld9biNPKjAjgjV7EZ4EKeEGrhao/1v2mrzYSYG6onNLt2...   \n",
       "30  \"ld9biNPKjAjgjV7EZ4EKeEGrhao/1v2mrzYSYG6onNLt2...   \n",
       "\n",
       "                                                items  \n",
       "0   {'kind': 'youtube#videoCategory', 'etag': '\"ld...  \n",
       "1   {'kind': 'youtube#videoCategory', 'etag': '\"ld...  \n",
       "2   {'kind': 'youtube#videoCategory', 'etag': '\"ld...  \n",
       "3   {'kind': 'youtube#videoCategory', 'etag': '\"ld...  \n",
       "4   {'kind': 'youtube#videoCategory', 'etag': '\"ld...  \n",
       "5   {'kind': 'youtube#videoCategory', 'etag': '\"ld...  \n",
       "6   {'kind': 'youtube#videoCategory', 'etag': '\"ld...  \n",
       "7   {'kind': 'youtube#videoCategory', 'etag': '\"ld...  \n",
       "8   {'kind': 'youtube#videoCategory', 'etag': '\"ld...  \n",
       "9   {'kind': 'youtube#videoCategory', 'etag': '\"ld...  \n",
       "10  {'kind': 'youtube#videoCategory', 'etag': '\"ld...  \n",
       "11  {'kind': 'youtube#videoCategory', 'etag': '\"ld...  \n",
       "12  {'kind': 'youtube#videoCategory', 'etag': '\"ld...  \n",
       "13  {'kind': 'youtube#videoCategory', 'etag': '\"ld...  \n",
       "14  {'kind': 'youtube#videoCategory', 'etag': '\"ld...  \n",
       "15  {'kind': 'youtube#videoCategory', 'etag': '\"ld...  \n",
       "16  {'kind': 'youtube#videoCategory', 'etag': '\"ld...  \n",
       "17  {'kind': 'youtube#videoCategory', 'etag': '\"ld...  \n",
       "18  {'kind': 'youtube#videoCategory', 'etag': '\"ld...  \n",
       "19  {'kind': 'youtube#videoCategory', 'etag': '\"ld...  \n",
       "20  {'kind': 'youtube#videoCategory', 'etag': '\"ld...  \n",
       "21  {'kind': 'youtube#videoCategory', 'etag': '\"ld...  \n",
       "22  {'kind': 'youtube#videoCategory', 'etag': '\"ld...  \n",
       "23  {'kind': 'youtube#videoCategory', 'etag': '\"ld...  \n",
       "24  {'kind': 'youtube#videoCategory', 'etag': '\"ld...  \n",
       "25  {'kind': 'youtube#videoCategory', 'etag': '\"ld...  \n",
       "26  {'kind': 'youtube#videoCategory', 'etag': '\"ld...  \n",
       "27  {'kind': 'youtube#videoCategory', 'etag': '\"ld...  \n",
       "28  {'kind': 'youtube#videoCategory', 'etag': '\"ld...  \n",
       "29  {'kind': 'youtube#videoCategory', 'etag': '\"ld...  \n",
       "30  {'kind': 'youtube#videoCategory', 'etag': '\"ld...  "
      ]
     },
     "execution_count": 23,
     "metadata": {},
     "output_type": "execute_result"
    }
   ],
   "source": [
    "files_json[Country]"
   ]
  },
  {
   "cell_type": "code",
   "execution_count": 24,
   "metadata": {},
   "outputs": [
    {
     "data": {
      "text/plain": [
       "Index(['kind', 'etag', 'items'], dtype='object')"
      ]
     },
     "execution_count": 24,
     "metadata": {},
     "output_type": "execute_result"
    }
   ],
   "source": [
    "files_json[Country].columns"
   ]
  },
  {
   "cell_type": "code",
   "execution_count": 25,
   "metadata": {},
   "outputs": [
    {
     "data": {
      "text/plain": [
       "'etag'"
      ]
     },
     "execution_count": 25,
     "metadata": {},
     "output_type": "execute_result"
    }
   ],
   "source": [
    "files_json[Country].columns[1]"
   ]
  },
  {
   "cell_type": "code",
   "execution_count": 26,
   "metadata": {
    "scrolled": true
   },
   "outputs": [
    {
     "data": {
      "text/plain": [
       "array(['\"ld9biNPKjAjgjV7EZ4EKeEGrhao/1v2mrzYSYG6onNLt2qTj13hkQZk\"'],\n",
       "      dtype=object)"
      ]
     },
     "execution_count": 26,
     "metadata": {},
     "output_type": "execute_result"
    }
   ],
   "source": [
    "files_json[Country]['etag'].unique()"
   ]
  },
  {
   "cell_type": "code",
   "execution_count": 27,
   "metadata": {
    "scrolled": true
   },
   "outputs": [
    {
     "data": {
      "text/plain": [
       "array(['youtube#videoCategoryListResponse'], dtype=object)"
      ]
     },
     "execution_count": 27,
     "metadata": {},
     "output_type": "execute_result"
    }
   ],
   "source": [
    "files_json[Country]['kind'].unique()"
   ]
  },
  {
   "cell_type": "code",
   "execution_count": 28,
   "metadata": {
    "scrolled": true
   },
   "outputs": [
    {
     "data": {
      "text/plain": [
       "{'kind': 'youtube#videoCategory',\n",
       " 'etag': '\"ld9biNPKjAjgjV7EZ4EKeEGrhao/Xy1mB4_yLrHy_BmKmPBggty2mZQ\"',\n",
       " 'id': '1',\n",
       " 'snippet': {'channelId': 'UCBR8-60-B28hp2BmDPdntcQ',\n",
       "  'title': 'Film & Animation',\n",
       "  'assignable': True}}"
      ]
     },
     "execution_count": 28,
     "metadata": {},
     "output_type": "execute_result"
    }
   ],
   "source": [
    "files_json[Country]['items'][0]"
   ]
  },
  {
   "cell_type": "code",
   "execution_count": 29,
   "metadata": {},
   "outputs": [
    {
     "data": {
      "text/plain": [
       "'youtube#videoCategory'"
      ]
     },
     "execution_count": 29,
     "metadata": {},
     "output_type": "execute_result"
    }
   ],
   "source": [
    "files_json[Country]['items'][0]['kind']"
   ]
  },
  {
   "cell_type": "code",
   "execution_count": 30,
   "metadata": {
    "scrolled": true
   },
   "outputs": [
    {
     "data": {
      "text/plain": [
       "'\"ld9biNPKjAjgjV7EZ4EKeEGrhao/Xy1mB4_yLrHy_BmKmPBggty2mZQ\"'"
      ]
     },
     "execution_count": 30,
     "metadata": {},
     "output_type": "execute_result"
    }
   ],
   "source": [
    "files_json[Country]['items'][0]['etag']"
   ]
  },
  {
   "cell_type": "code",
   "execution_count": 31,
   "metadata": {},
   "outputs": [
    {
     "data": {
      "text/plain": [
       "'1'"
      ]
     },
     "execution_count": 31,
     "metadata": {},
     "output_type": "execute_result"
    }
   ],
   "source": [
    "files_json[Country]['items'][0]['id']"
   ]
  },
  {
   "cell_type": "code",
   "execution_count": 32,
   "metadata": {
    "scrolled": true
   },
   "outputs": [
    {
     "data": {
      "text/plain": [
       "{'channelId': 'UCBR8-60-B28hp2BmDPdntcQ',\n",
       " 'title': 'Film & Animation',\n",
       " 'assignable': True}"
      ]
     },
     "execution_count": 32,
     "metadata": {},
     "output_type": "execute_result"
    }
   ],
   "source": [
    "files_json[Country]['items'][0]['snippet']"
   ]
  },
  {
   "cell_type": "code",
   "execution_count": 33,
   "metadata": {},
   "outputs": [
    {
     "data": {
      "text/plain": [
       "'UCBR8-60-B28hp2BmDPdntcQ'"
      ]
     },
     "execution_count": 33,
     "metadata": {},
     "output_type": "execute_result"
    }
   ],
   "source": [
    "files_json[Country]['items'][0]['snippet']['channelId']"
   ]
  },
  {
   "cell_type": "code",
   "execution_count": 34,
   "metadata": {},
   "outputs": [
    {
     "data": {
      "text/plain": [
       "'Film & Animation'"
      ]
     },
     "execution_count": 34,
     "metadata": {},
     "output_type": "execute_result"
    }
   ],
   "source": [
    "files_json[Country]['items'][0]['snippet']['title']"
   ]
  },
  {
   "cell_type": "code",
   "execution_count": 35,
   "metadata": {},
   "outputs": [
    {
     "data": {
      "text/plain": [
       "True"
      ]
     },
     "execution_count": 35,
     "metadata": {},
     "output_type": "execute_result"
    }
   ],
   "source": [
    "files_json[Country]['items'][0]['snippet']['assignable']"
   ]
  },
  {
   "cell_type": "markdown",
   "metadata": {},
   "source": [
    "### Kind of info in csv files"
   ]
  },
  {
   "cell_type": "code",
   "execution_count": 36,
   "metadata": {},
   "outputs": [],
   "source": [
    "#Kind of info in csv files"
   ]
  },
  {
   "cell_type": "code",
   "execution_count": 37,
   "metadata": {},
   "outputs": [
    {
     "data": {
      "text/html": [
       "<div>\n",
       "<style scoped>\n",
       "    .dataframe tbody tr th:only-of-type {\n",
       "        vertical-align: middle;\n",
       "    }\n",
       "\n",
       "    .dataframe tbody tr th {\n",
       "        vertical-align: top;\n",
       "    }\n",
       "\n",
       "    .dataframe thead th {\n",
       "        text-align: right;\n",
       "    }\n",
       "</style>\n",
       "<table border=\"1\" class=\"dataframe\">\n",
       "  <thead>\n",
       "    <tr style=\"text-align: right;\">\n",
       "      <th></th>\n",
       "      <th>category_id</th>\n",
       "      <th>views</th>\n",
       "      <th>likes</th>\n",
       "      <th>dislikes</th>\n",
       "      <th>comment_count</th>\n",
       "    </tr>\n",
       "  </thead>\n",
       "  <tbody>\n",
       "    <tr>\n",
       "      <th>count</th>\n",
       "      <td>38916.000000</td>\n",
       "      <td>3.891600e+04</td>\n",
       "      <td>3.891600e+04</td>\n",
       "      <td>3.891600e+04</td>\n",
       "      <td>3.891600e+04</td>\n",
       "    </tr>\n",
       "    <tr>\n",
       "      <th>mean</th>\n",
       "      <td>16.827937</td>\n",
       "      <td>5.911944e+06</td>\n",
       "      <td>1.345196e+05</td>\n",
       "      <td>7.612560e+03</td>\n",
       "      <td>1.308835e+04</td>\n",
       "    </tr>\n",
       "    <tr>\n",
       "      <th>std</th>\n",
       "      <td>7.752728</td>\n",
       "      <td>1.900121e+07</td>\n",
       "      <td>3.499893e+05</td>\n",
       "      <td>5.095683e+04</td>\n",
       "      <td>5.066740e+04</td>\n",
       "    </tr>\n",
       "    <tr>\n",
       "      <th>min</th>\n",
       "      <td>1.000000</td>\n",
       "      <td>8.510000e+02</td>\n",
       "      <td>0.000000e+00</td>\n",
       "      <td>0.000000e+00</td>\n",
       "      <td>0.000000e+00</td>\n",
       "    </tr>\n",
       "    <tr>\n",
       "      <th>25%</th>\n",
       "      <td>10.000000</td>\n",
       "      <td>2.515272e+05</td>\n",
       "      <td>5.897000e+03</td>\n",
       "      <td>2.000000e+02</td>\n",
       "      <td>6.790000e+02</td>\n",
       "    </tr>\n",
       "    <tr>\n",
       "      <th>50%</th>\n",
       "      <td>20.000000</td>\n",
       "      <td>9.818890e+05</td>\n",
       "      <td>2.518250e+04</td>\n",
       "      <td>8.210000e+02</td>\n",
       "      <td>2.478000e+03</td>\n",
       "    </tr>\n",
       "    <tr>\n",
       "      <th>75%</th>\n",
       "      <td>24.000000</td>\n",
       "      <td>3.683628e+06</td>\n",
       "      <td>1.140892e+05</td>\n",
       "      <td>3.357500e+03</td>\n",
       "      <td>9.241500e+03</td>\n",
       "    </tr>\n",
       "    <tr>\n",
       "      <th>max</th>\n",
       "      <td>43.000000</td>\n",
       "      <td>4.245389e+08</td>\n",
       "      <td>5.613827e+06</td>\n",
       "      <td>1.944971e+06</td>\n",
       "      <td>1.626501e+06</td>\n",
       "    </tr>\n",
       "  </tbody>\n",
       "</table>\n",
       "</div>"
      ],
      "text/plain": [
       "        category_id         views         likes      dislikes  comment_count\n",
       "count  38916.000000  3.891600e+04  3.891600e+04  3.891600e+04   3.891600e+04\n",
       "mean      16.827937  5.911944e+06  1.345196e+05  7.612560e+03   1.308835e+04\n",
       "std        7.752728  1.900121e+07  3.499893e+05  5.095683e+04   5.066740e+04\n",
       "min        1.000000  8.510000e+02  0.000000e+00  0.000000e+00   0.000000e+00\n",
       "25%       10.000000  2.515272e+05  5.897000e+03  2.000000e+02   6.790000e+02\n",
       "50%       20.000000  9.818890e+05  2.518250e+04  8.210000e+02   2.478000e+03\n",
       "75%       24.000000  3.683628e+06  1.140892e+05  3.357500e+03   9.241500e+03\n",
       "max       43.000000  4.245389e+08  5.613827e+06  1.944971e+06   1.626501e+06"
      ]
     },
     "execution_count": 37,
     "metadata": {},
     "output_type": "execute_result"
    }
   ],
   "source": [
    "files_csv[Country].describe()"
   ]
  },
  {
   "cell_type": "code",
   "execution_count": 38,
   "metadata": {},
   "outputs": [
    {
     "data": {
      "text/html": [
       "<div>\n",
       "<style scoped>\n",
       "    .dataframe tbody tr th:only-of-type {\n",
       "        vertical-align: middle;\n",
       "    }\n",
       "\n",
       "    .dataframe tbody tr th {\n",
       "        vertical-align: top;\n",
       "    }\n",
       "\n",
       "    .dataframe thead th {\n",
       "        text-align: right;\n",
       "    }\n",
       "</style>\n",
       "<table border=\"1\" class=\"dataframe\">\n",
       "  <thead>\n",
       "    <tr style=\"text-align: right;\">\n",
       "      <th></th>\n",
       "      <th>video_id</th>\n",
       "      <th>trending_date</th>\n",
       "      <th>title</th>\n",
       "      <th>channel_title</th>\n",
       "      <th>category_id</th>\n",
       "      <th>publish_time</th>\n",
       "      <th>tags</th>\n",
       "      <th>views</th>\n",
       "      <th>likes</th>\n",
       "      <th>dislikes</th>\n",
       "      <th>comment_count</th>\n",
       "      <th>thumbnail_link</th>\n",
       "      <th>comments_disabled</th>\n",
       "      <th>ratings_disabled</th>\n",
       "      <th>video_error_or_removed</th>\n",
       "      <th>description</th>\n",
       "    </tr>\n",
       "  </thead>\n",
       "  <tbody>\n",
       "    <tr>\n",
       "      <th>8522</th>\n",
       "      <td>--uXQQ0h-yQ</td>\n",
       "      <td>17.26.12</td>\n",
       "      <td>Paul McCartney - Pipes of Peace</td>\n",
       "      <td>PonteFractus</td>\n",
       "      <td>24</td>\n",
       "      <td>2008-11-24T17:59:52.000Z</td>\n",
       "      <td>ww1|\"great\"|\"war\"|\"trenches\"|\"tommies\"</td>\n",
       "      <td>26299</td>\n",
       "      <td>234</td>\n",
       "      <td>3</td>\n",
       "      <td>11</td>\n",
       "      <td>https://i.ytimg.com/vi/--uXQQ0h-yQ/default.jpg</td>\n",
       "      <td>False</td>\n",
       "      <td>False</td>\n",
       "      <td>False</td>\n",
       "      <td>Paul McCartney - Pipes of Peace</td>\n",
       "    </tr>\n",
       "    <tr>\n",
       "      <th>9984</th>\n",
       "      <td>--uXQQ0h-yQ</td>\n",
       "      <td>18.02.01</td>\n",
       "      <td>Paul McCartney - Pipes of Peace</td>\n",
       "      <td>PonteFractus</td>\n",
       "      <td>24</td>\n",
       "      <td>2008-11-24T17:59:52.000Z</td>\n",
       "      <td>ww1|\"great\"|\"war\"|\"trenches\"|\"tommies\"</td>\n",
       "      <td>28725</td>\n",
       "      <td>253</td>\n",
       "      <td>3</td>\n",
       "      <td>12</td>\n",
       "      <td>https://i.ytimg.com/vi/--uXQQ0h-yQ/default.jpg</td>\n",
       "      <td>False</td>\n",
       "      <td>False</td>\n",
       "      <td>False</td>\n",
       "      <td>Paul McCartney - Pipes of Peace</td>\n",
       "    </tr>\n",
       "    <tr>\n",
       "      <th>8327</th>\n",
       "      <td>--uXQQ0h-yQ</td>\n",
       "      <td>17.25.12</td>\n",
       "      <td>Paul McCartney - Pipes of Peace</td>\n",
       "      <td>PonteFractus</td>\n",
       "      <td>24</td>\n",
       "      <td>2008-11-24T17:59:52.000Z</td>\n",
       "      <td>ww1|\"great\"|\"war\"|\"trenches\"|\"tommies\"</td>\n",
       "      <td>24723</td>\n",
       "      <td>216</td>\n",
       "      <td>3</td>\n",
       "      <td>10</td>\n",
       "      <td>https://i.ytimg.com/vi/--uXQQ0h-yQ/default.jpg</td>\n",
       "      <td>False</td>\n",
       "      <td>False</td>\n",
       "      <td>False</td>\n",
       "      <td>Paul McCartney - Pipes of Peace</td>\n",
       "    </tr>\n",
       "    <tr>\n",
       "      <th>9145</th>\n",
       "      <td>--uXQQ0h-yQ</td>\n",
       "      <td>17.29.12</td>\n",
       "      <td>Paul McCartney - Pipes of Peace</td>\n",
       "      <td>PonteFractus</td>\n",
       "      <td>24</td>\n",
       "      <td>2008-11-24T17:59:52.000Z</td>\n",
       "      <td>ww1|\"great\"|\"war\"|\"trenches\"|\"tommies\"</td>\n",
       "      <td>27689</td>\n",
       "      <td>243</td>\n",
       "      <td>3</td>\n",
       "      <td>11</td>\n",
       "      <td>https://i.ytimg.com/vi/--uXQQ0h-yQ/default.jpg</td>\n",
       "      <td>False</td>\n",
       "      <td>False</td>\n",
       "      <td>False</td>\n",
       "      <td>Paul McCartney - Pipes of Peace</td>\n",
       "    </tr>\n",
       "    <tr>\n",
       "      <th>8938</th>\n",
       "      <td>--uXQQ0h-yQ</td>\n",
       "      <td>17.28.12</td>\n",
       "      <td>Paul McCartney - Pipes of Peace</td>\n",
       "      <td>PonteFractus</td>\n",
       "      <td>24</td>\n",
       "      <td>2008-11-24T17:59:52.000Z</td>\n",
       "      <td>ww1|\"great\"|\"war\"|\"trenches\"|\"tommies\"</td>\n",
       "      <td>27413</td>\n",
       "      <td>241</td>\n",
       "      <td>3</td>\n",
       "      <td>11</td>\n",
       "      <td>https://i.ytimg.com/vi/--uXQQ0h-yQ/default.jpg</td>\n",
       "      <td>False</td>\n",
       "      <td>False</td>\n",
       "      <td>False</td>\n",
       "      <td>Paul McCartney - Pipes of Peace</td>\n",
       "    </tr>\n",
       "    <tr>\n",
       "      <th>...</th>\n",
       "      <td>...</td>\n",
       "      <td>...</td>\n",
       "      <td>...</td>\n",
       "      <td>...</td>\n",
       "      <td>...</td>\n",
       "      <td>...</td>\n",
       "      <td>...</td>\n",
       "      <td>...</td>\n",
       "      <td>...</td>\n",
       "      <td>...</td>\n",
       "      <td>...</td>\n",
       "      <td>...</td>\n",
       "      <td>...</td>\n",
       "      <td>...</td>\n",
       "      <td>...</td>\n",
       "      <td>...</td>\n",
       "    </tr>\n",
       "    <tr>\n",
       "      <th>37050</th>\n",
       "      <td>zxwfDlhJIpw</td>\n",
       "      <td>18.03.06</td>\n",
       "      <td>kanye west / charlamagne interview</td>\n",
       "      <td>Kanye West</td>\n",
       "      <td>22</td>\n",
       "      <td>2018-05-01T15:57:06.000Z</td>\n",
       "      <td>Kanye West|\"YEEZY\"|\"Kanye\"|\"Charlamagne\"|\"The ...</td>\n",
       "      <td>8579665</td>\n",
       "      <td>167841</td>\n",
       "      <td>19615</td>\n",
       "      <td>48621</td>\n",
       "      <td>https://i.ytimg.com/vi/zxwfDlhJIpw/default.jpg</td>\n",
       "      <td>False</td>\n",
       "      <td>False</td>\n",
       "      <td>False</td>\n",
       "      <td>NaN</td>\n",
       "    </tr>\n",
       "    <tr>\n",
       "      <th>35864</th>\n",
       "      <td>zxwfDlhJIpw</td>\n",
       "      <td>18.27.05</td>\n",
       "      <td>kanye west / charlamagne interview</td>\n",
       "      <td>Kanye West</td>\n",
       "      <td>22</td>\n",
       "      <td>2018-05-01T15:57:06.000Z</td>\n",
       "      <td>Kanye West|\"YEEZY\"|\"Kanye\"|\"Charlamagne\"|\"The ...</td>\n",
       "      <td>8473031</td>\n",
       "      <td>166781</td>\n",
       "      <td>19493</td>\n",
       "      <td>48494</td>\n",
       "      <td>https://i.ytimg.com/vi/zxwfDlhJIpw/default.jpg</td>\n",
       "      <td>False</td>\n",
       "      <td>False</td>\n",
       "      <td>False</td>\n",
       "      <td>NaN</td>\n",
       "    </tr>\n",
       "    <tr>\n",
       "      <th>36035</th>\n",
       "      <td>zxwfDlhJIpw</td>\n",
       "      <td>18.28.05</td>\n",
       "      <td>kanye west / charlamagne interview</td>\n",
       "      <td>Kanye West</td>\n",
       "      <td>22</td>\n",
       "      <td>2018-05-01T15:57:06.000Z</td>\n",
       "      <td>Kanye West|\"YEEZY\"|\"Kanye\"|\"Charlamagne\"|\"The ...</td>\n",
       "      <td>8486581</td>\n",
       "      <td>166889</td>\n",
       "      <td>19506</td>\n",
       "      <td>48506</td>\n",
       "      <td>https://i.ytimg.com/vi/zxwfDlhJIpw/default.jpg</td>\n",
       "      <td>False</td>\n",
       "      <td>False</td>\n",
       "      <td>False</td>\n",
       "      <td>NaN</td>\n",
       "    </tr>\n",
       "    <tr>\n",
       "      <th>37215</th>\n",
       "      <td>zxwfDlhJIpw</td>\n",
       "      <td>18.04.06</td>\n",
       "      <td>kanye west / charlamagne interview</td>\n",
       "      <td>Kanye West</td>\n",
       "      <td>22</td>\n",
       "      <td>2018-05-01T15:57:06.000Z</td>\n",
       "      <td>Kanye West|\"YEEZY\"|\"Kanye\"|\"Charlamagne\"|\"The ...</td>\n",
       "      <td>8596449</td>\n",
       "      <td>168026</td>\n",
       "      <td>19640</td>\n",
       "      <td>48633</td>\n",
       "      <td>https://i.ytimg.com/vi/zxwfDlhJIpw/default.jpg</td>\n",
       "      <td>False</td>\n",
       "      <td>False</td>\n",
       "      <td>False</td>\n",
       "      <td>NaN</td>\n",
       "    </tr>\n",
       "    <tr>\n",
       "      <th>34034</th>\n",
       "      <td>zxwfDlhJIpw</td>\n",
       "      <td>18.16.05</td>\n",
       "      <td>kanye west / charlamagne interview</td>\n",
       "      <td>Kanye West</td>\n",
       "      <td>22</td>\n",
       "      <td>2018-05-01T15:57:06.000Z</td>\n",
       "      <td>Kanye West|\"YEEZY\"|\"Kanye\"|\"Charlamagne\"|\"The ...</td>\n",
       "      <td>8295147</td>\n",
       "      <td>165136</td>\n",
       "      <td>19295</td>\n",
       "      <td>48115</td>\n",
       "      <td>https://i.ytimg.com/vi/zxwfDlhJIpw/default.jpg</td>\n",
       "      <td>False</td>\n",
       "      <td>False</td>\n",
       "      <td>False</td>\n",
       "      <td>NaN</td>\n",
       "    </tr>\n",
       "  </tbody>\n",
       "</table>\n",
       "<p>38916 rows × 16 columns</p>\n",
       "</div>"
      ],
      "text/plain": [
       "          video_id trending_date                               title  \\\n",
       "8522   --uXQQ0h-yQ      17.26.12     Paul McCartney - Pipes of Peace   \n",
       "9984   --uXQQ0h-yQ      18.02.01     Paul McCartney - Pipes of Peace   \n",
       "8327   --uXQQ0h-yQ      17.25.12     Paul McCartney - Pipes of Peace   \n",
       "9145   --uXQQ0h-yQ      17.29.12     Paul McCartney - Pipes of Peace   \n",
       "8938   --uXQQ0h-yQ      17.28.12     Paul McCartney - Pipes of Peace   \n",
       "...            ...           ...                                 ...   \n",
       "37050  zxwfDlhJIpw      18.03.06  kanye west / charlamagne interview   \n",
       "35864  zxwfDlhJIpw      18.27.05  kanye west / charlamagne interview   \n",
       "36035  zxwfDlhJIpw      18.28.05  kanye west / charlamagne interview   \n",
       "37215  zxwfDlhJIpw      18.04.06  kanye west / charlamagne interview   \n",
       "34034  zxwfDlhJIpw      18.16.05  kanye west / charlamagne interview   \n",
       "\n",
       "      channel_title  category_id              publish_time  \\\n",
       "8522   PonteFractus           24  2008-11-24T17:59:52.000Z   \n",
       "9984   PonteFractus           24  2008-11-24T17:59:52.000Z   \n",
       "8327   PonteFractus           24  2008-11-24T17:59:52.000Z   \n",
       "9145   PonteFractus           24  2008-11-24T17:59:52.000Z   \n",
       "8938   PonteFractus           24  2008-11-24T17:59:52.000Z   \n",
       "...             ...          ...                       ...   \n",
       "37050    Kanye West           22  2018-05-01T15:57:06.000Z   \n",
       "35864    Kanye West           22  2018-05-01T15:57:06.000Z   \n",
       "36035    Kanye West           22  2018-05-01T15:57:06.000Z   \n",
       "37215    Kanye West           22  2018-05-01T15:57:06.000Z   \n",
       "34034    Kanye West           22  2018-05-01T15:57:06.000Z   \n",
       "\n",
       "                                                    tags    views   likes  \\\n",
       "8522              ww1|\"great\"|\"war\"|\"trenches\"|\"tommies\"    26299     234   \n",
       "9984              ww1|\"great\"|\"war\"|\"trenches\"|\"tommies\"    28725     253   \n",
       "8327              ww1|\"great\"|\"war\"|\"trenches\"|\"tommies\"    24723     216   \n",
       "9145              ww1|\"great\"|\"war\"|\"trenches\"|\"tommies\"    27689     243   \n",
       "8938              ww1|\"great\"|\"war\"|\"trenches\"|\"tommies\"    27413     241   \n",
       "...                                                  ...      ...     ...   \n",
       "37050  Kanye West|\"YEEZY\"|\"Kanye\"|\"Charlamagne\"|\"The ...  8579665  167841   \n",
       "35864  Kanye West|\"YEEZY\"|\"Kanye\"|\"Charlamagne\"|\"The ...  8473031  166781   \n",
       "36035  Kanye West|\"YEEZY\"|\"Kanye\"|\"Charlamagne\"|\"The ...  8486581  166889   \n",
       "37215  Kanye West|\"YEEZY\"|\"Kanye\"|\"Charlamagne\"|\"The ...  8596449  168026   \n",
       "34034  Kanye West|\"YEEZY\"|\"Kanye\"|\"Charlamagne\"|\"The ...  8295147  165136   \n",
       "\n",
       "       dislikes  comment_count  \\\n",
       "8522          3             11   \n",
       "9984          3             12   \n",
       "8327          3             10   \n",
       "9145          3             11   \n",
       "8938          3             11   \n",
       "...         ...            ...   \n",
       "37050     19615          48621   \n",
       "35864     19493          48494   \n",
       "36035     19506          48506   \n",
       "37215     19640          48633   \n",
       "34034     19295          48115   \n",
       "\n",
       "                                       thumbnail_link  comments_disabled  \\\n",
       "8522   https://i.ytimg.com/vi/--uXQQ0h-yQ/default.jpg              False   \n",
       "9984   https://i.ytimg.com/vi/--uXQQ0h-yQ/default.jpg              False   \n",
       "8327   https://i.ytimg.com/vi/--uXQQ0h-yQ/default.jpg              False   \n",
       "9145   https://i.ytimg.com/vi/--uXQQ0h-yQ/default.jpg              False   \n",
       "8938   https://i.ytimg.com/vi/--uXQQ0h-yQ/default.jpg              False   \n",
       "...                                               ...                ...   \n",
       "37050  https://i.ytimg.com/vi/zxwfDlhJIpw/default.jpg              False   \n",
       "35864  https://i.ytimg.com/vi/zxwfDlhJIpw/default.jpg              False   \n",
       "36035  https://i.ytimg.com/vi/zxwfDlhJIpw/default.jpg              False   \n",
       "37215  https://i.ytimg.com/vi/zxwfDlhJIpw/default.jpg              False   \n",
       "34034  https://i.ytimg.com/vi/zxwfDlhJIpw/default.jpg              False   \n",
       "\n",
       "       ratings_disabled  video_error_or_removed  \\\n",
       "8522              False                   False   \n",
       "9984              False                   False   \n",
       "8327              False                   False   \n",
       "9145              False                   False   \n",
       "8938              False                   False   \n",
       "...                 ...                     ...   \n",
       "37050             False                   False   \n",
       "35864             False                   False   \n",
       "36035             False                   False   \n",
       "37215             False                   False   \n",
       "34034             False                   False   \n",
       "\n",
       "                           description  \n",
       "8522   Paul McCartney - Pipes of Peace  \n",
       "9984   Paul McCartney - Pipes of Peace  \n",
       "8327   Paul McCartney - Pipes of Peace  \n",
       "9145   Paul McCartney - Pipes of Peace  \n",
       "8938   Paul McCartney - Pipes of Peace  \n",
       "...                                ...  \n",
       "37050                              NaN  \n",
       "35864                              NaN  \n",
       "36035                              NaN  \n",
       "37215                              NaN  \n",
       "34034                              NaN  \n",
       "\n",
       "[38916 rows x 16 columns]"
      ]
     },
     "execution_count": 38,
     "metadata": {},
     "output_type": "execute_result"
    }
   ],
   "source": [
    "files_csv[Country].sort_values(by='video_id')"
   ]
  },
  {
   "cell_type": "code",
   "execution_count": 39,
   "metadata": {},
   "outputs": [
    {
     "data": {
      "text/plain": [
       "Index(['video_id', 'trending_date', 'title', 'channel_title', 'category_id',\n",
       "       'publish_time', 'tags', 'views', 'likes', 'dislikes', 'comment_count',\n",
       "       'thumbnail_link', 'comments_disabled', 'ratings_disabled',\n",
       "       'video_error_or_removed', 'description'],\n",
       "      dtype='object')"
      ]
     },
     "execution_count": 39,
     "metadata": {},
     "output_type": "execute_result"
    }
   ],
   "source": [
    "files_csv[Country].columns"
   ]
  },
  {
   "cell_type": "code",
   "execution_count": 40,
   "metadata": {},
   "outputs": [
    {
     "data": {
      "text/plain": [
       "array(['Jw1Y-zhQURU', '3s1rvMFUweQ', 'n1WpP7iowLc', ..., 'V15BYnSr0P8',\n",
       "       'BOhylL90UVQ', '14G7Qw5DC9M'], dtype=object)"
      ]
     },
     "execution_count": 40,
     "metadata": {},
     "output_type": "execute_result"
    }
   ],
   "source": [
    "files_csv[Country]['video_id'].unique()"
   ]
  },
  {
   "cell_type": "code",
   "execution_count": 41,
   "metadata": {},
   "outputs": [
    {
     "data": {
      "text/plain": [
       "array(['17.14.11', '17.15.11', '17.16.11', '17.17.11', '17.18.11',\n",
       "       '17.19.11', '17.20.11', '17.21.11', '17.22.11', '17.23.11',\n",
       "       '17.24.11', '17.25.11', '17.26.11', '17.27.11', '17.28.11',\n",
       "       '17.29.11', '17.30.11', '17.01.12', '17.02.12', '17.03.12',\n",
       "       '17.04.12', '17.05.12', '17.06.12', '17.07.12', '17.08.12',\n",
       "       '17.09.12', '17.10.12', '17.11.12', '17.12.12', '17.13.12',\n",
       "       '17.14.12', '17.15.12', '17.16.12', '17.17.12', '17.18.12',\n",
       "       '17.19.12', '17.20.12', '17.21.12', '17.22.12', '17.23.12',\n",
       "       '17.24.12', '17.25.12', '17.26.12', '17.27.12', '17.28.12',\n",
       "       '17.29.12', '17.30.12', '17.31.12', '18.01.01', '18.02.01',\n",
       "       '18.03.01', '18.04.01', '18.05.01', '18.06.01', '18.07.01',\n",
       "       '18.08.01', '18.09.01', '18.12.01', '18.13.01', '18.14.01',\n",
       "       '18.15.01', '18.16.01', '18.17.01', '18.18.01', '18.19.01',\n",
       "       '18.20.01', '18.21.01', '18.22.01', '18.23.01', '18.24.01',\n",
       "       '18.25.01', '18.26.01', '18.27.01', '18.28.01', '18.29.01',\n",
       "       '18.30.01', '18.31.01', '18.01.02', '18.02.02', '18.03.02',\n",
       "       '18.04.02', '18.05.02', '18.06.02', '18.07.02', '18.08.02',\n",
       "       '18.09.02', '18.10.02', '18.11.02', '18.12.02', '18.13.02',\n",
       "       '18.14.02', '18.15.02', '18.16.02', '18.17.02', '18.18.02',\n",
       "       '18.19.02', '18.20.02', '18.21.02', '18.22.02', '18.23.02',\n",
       "       '18.24.02', '18.25.02', '18.26.02', '18.27.02', '18.28.02',\n",
       "       '18.01.03', '18.02.03', '18.03.03', '18.04.03', '18.05.03',\n",
       "       '18.06.03', '18.07.03', '18.08.03', '18.09.03', '18.10.03',\n",
       "       '18.11.03', '18.12.03', '18.13.03', '18.14.03', '18.15.03',\n",
       "       '18.16.03', '18.17.03', '18.18.03', '18.19.03', '18.20.03',\n",
       "       '18.21.03', '18.22.03', '18.23.03', '18.24.03', '18.25.03',\n",
       "       '18.26.03', '18.27.03', '18.28.03', '18.29.03', '18.30.03',\n",
       "       '18.31.03', '18.01.04', '18.02.04', '18.03.04', '18.04.04',\n",
       "       '18.05.04', '18.06.04', '18.07.04', '18.14.04', '18.15.04',\n",
       "       '18.16.04', '18.17.04', '18.18.04', '18.19.04', '18.20.04',\n",
       "       '18.21.04', '18.22.04', '18.23.04', '18.24.04', '18.25.04',\n",
       "       '18.26.04', '18.27.04', '18.28.04', '18.29.04', '18.30.04',\n",
       "       '18.01.05', '18.02.05', '18.03.05', '18.04.05', '18.05.05',\n",
       "       '18.06.05', '18.07.05', '18.08.05', '18.09.05', '18.10.05',\n",
       "       '18.11.05', '18.12.05', '18.13.05', '18.14.05', '18.15.05',\n",
       "       '18.16.05', '18.17.05', '18.18.05', '18.19.05', '18.20.05',\n",
       "       '18.21.05', '18.22.05', '18.23.05', '18.24.05', '18.25.05',\n",
       "       '18.26.05', '18.27.05', '18.28.05', '18.29.05', '18.30.05',\n",
       "       '18.31.05', '18.01.06', '18.02.06', '18.03.06', '18.04.06',\n",
       "       '18.05.06', '18.06.06', '18.07.06', '18.08.06', '18.09.06',\n",
       "       '18.10.06', '18.11.06', '18.12.06', '18.13.06', '18.14.06'],\n",
       "      dtype=object)"
      ]
     },
     "execution_count": 41,
     "metadata": {},
     "output_type": "execute_result"
    }
   ],
   "source": [
    "files_csv[Country]['trending_date'].unique()"
   ]
  },
  {
   "cell_type": "code",
   "execution_count": 42,
   "metadata": {},
   "outputs": [
    {
     "data": {
      "text/plain": [
       "array(['John Lewis Christmas Ad 2017 - #MozTheMonster',\n",
       "       'Taylor Swift: …Ready for It? (Live) - SNL',\n",
       "       'Eminem - Walk On Water (Audio) ft. Beyoncé', ...,\n",
       "       'Live It Up (Official Video) - Nicky Jam feat. Will Smith & Era Istrefi (2018 FIFA World Cup Russia)',\n",
       "       'The Chainsmokers - Somebody ft. Drew Love (Rory Kramer Vision)',\n",
       "       '17 FUN LIFE HACKS YOU WILL WANT TO TRY YOURSELF'], dtype=object)"
      ]
     },
     "execution_count": 42,
     "metadata": {},
     "output_type": "execute_result"
    }
   ],
   "source": [
    "files_csv[Country]['title'].unique()"
   ]
  },
  {
   "cell_type": "code",
   "execution_count": 43,
   "metadata": {},
   "outputs": [
    {
     "data": {
      "text/plain": [
       "array(['John Lewis', 'Saturday Night Live', 'EminemVEVO', ...,\n",
       "       'Семен Слепаков', 'The Chainsmokers', '5-Minute Crafts'],\n",
       "      dtype=object)"
      ]
     },
     "execution_count": 43,
     "metadata": {},
     "output_type": "execute_result"
    }
   ],
   "source": [
    "files_csv[Country]['channel_title'].unique()"
   ]
  },
  {
   "cell_type": "code",
   "execution_count": 44,
   "metadata": {},
   "outputs": [
    {
     "data": {
      "text/plain": [
       "array(['2017-11-10T07:38:29.000Z', '2017-11-12T06:24:44.000Z',\n",
       "       '2017-11-10T17:00:03.000Z', ..., '2018-06-08T11:58:38.000Z',\n",
       "       '2018-06-09T16:00:00.000Z', '2018-05-18T07:30:00.000Z'],\n",
       "      dtype=object)"
      ]
     },
     "execution_count": 44,
     "metadata": {},
     "output_type": "execute_result"
    }
   ],
   "source": [
    "files_csv[Country]['publish_time'].unique()"
   ]
  },
  {
   "cell_type": "code",
   "execution_count": 45,
   "metadata": {},
   "outputs": [
    {
     "data": {
      "text/plain": [
       "array(['christmas|\"john lewis christmas\"|\"john lewis\"|\"christmas ad\"|\"mozthemonster\"|\"christmas 2017\"|\"christmas ad 2017\"|\"john lewis christmas advert\"|\"moz\"',\n",
       "       'SNL|\"Saturday Night Live\"|\"SNL Season 43\"|\"Episode 1730\"|\"Tiffany Haddish\"|\"Taylor Swift\"|\"Taylor Swift Ready for It\"|\"s43\"|\"s43e5\"|\"episode 5\"|\"live\"|\"new york\"|\"comedy\"|\"sketch\"|\"funny\"|\"hilarious\"|\"late night\"|\"host\"|\"music\"|\"guest\"|\"laugh\"|\"impersonation\"|\"actor\"|\"improv\"|\"musician\"|\"comedian\"|\"actress\"|\"If Loving You Is Wrong\"|\"Oprah Winfrey\"|\"OWN\"|\"Girls Trip\"|\"The Carmichael Show\"|\"Keanu\"|\"Reputation\"|\"Look What You Made Me Do\"|\"ready for it?\"',\n",
       "       'Eminem|\"Walk\"|\"On\"|\"Water\"|\"Aftermath/Shady/Interscope\"|\"Rap\"',\n",
       "       ...,\n",
       "       'capitalfmofficial|\"capital\"|\"capital fm\"|\"capital radio\"|\"radio\"|\"official\"|\"remix\"|\"lyrics\"|\"official video\"|\"live\"|\"capital tv\"|\"interview\"|\"summertime ball\"|\"stb\"|\"capital summertime ball 2018\"|\"capital stb\"|\"camila cabello live\"|\"camila summertime ball\"|\"camila cabello summertime ball\"|\"fifth harmony\"|\"fifth harmony live\"|\"camila fifth harmony\"|\"harmonisers\"|\"harmonizers\"',\n",
       "       'The Chainsmokers Somebody|\"Chainsmokers Somebody\"|\"Somedy Drew Love\"|\"The Chainsmokers Somebody Drew Love\"|\"The Chainsmokers\"|\"Rory Kramer\"|\"Rory Kramer Vision\"|\"Somebody Rory Kramer\"|\"Rory Kramer Somebody\"|\"The Chainsmokers Rory Kramer\"|\"Somebody Chainsmokers Rory\"|\"The Chainsmokers Somebody official video\"|\"official video\"|\"Lil Dicky\"|\"G-Eazy\"|\"Halsey\"|\"Andrew Watt\"',\n",
       "       '5-Minute Crafts|\"DIY\"|\"Do it yourself\"|\"crafts\"|\"trucos\"|\"trucos de belliza\"|\"proyectos faciles\"|\"useful things\"|\"lifehacks\"|\"tricks\"|\"tips\"|\"DIY projects\"|\"DIY activities\"|\"Handcraft\"|\"Tutorial\"|\"balloon\"|\"balloons\"|\"confettis\"|\"how to\"|\"make\"|\"create\"|\"design\"|\"invent\"|\"festive event\"|\"birthday party\"|\"gifts\"|\"presents\"|\"gift\"|\"present\"|\"gift wrapping\"|\"toothy pictures\"|\"drawing\"|\"painting\"|\"pull tab\"|\"rubber band\"|\"straw hand\"'],\n",
       "      dtype=object)"
      ]
     },
     "execution_count": 45,
     "metadata": {},
     "output_type": "execute_result"
    }
   ],
   "source": [
    "files_csv[Country]['tags'].unique()"
   ]
  },
  {
   "cell_type": "code",
   "execution_count": 46,
   "metadata": {},
   "outputs": [
    {
     "data": {
      "text/html": [
       "<div>\n",
       "<style scoped>\n",
       "    .dataframe tbody tr th:only-of-type {\n",
       "        vertical-align: middle;\n",
       "    }\n",
       "\n",
       "    .dataframe tbody tr th {\n",
       "        vertical-align: top;\n",
       "    }\n",
       "\n",
       "    .dataframe thead th {\n",
       "        text-align: right;\n",
       "    }\n",
       "</style>\n",
       "<table border=\"1\" class=\"dataframe\">\n",
       "  <thead>\n",
       "    <tr style=\"text-align: right;\">\n",
       "      <th></th>\n",
       "      <th>tags</th>\n",
       "    </tr>\n",
       "  </thead>\n",
       "  <tbody>\n",
       "    <tr>\n",
       "      <th>[none]</th>\n",
       "      <td>2010</td>\n",
       "    </tr>\n",
       "    <tr>\n",
       "      <th>James Corden|\"The Late Late Show\"|\"Colbert\"|\"late night\"|\"late night show\"|\"Stephen Colbert\"|\"Comedy\"|\"monologue\"|\"comedian\"|\"impressions\"|\"celebrities\"|\"carpool\"|\"karaoke\"|\"CBS\"|\"Late Late Show\"|\"Corden\"|\"joke\"|\"jokes\"|\"funny\"|\"funny video\"|\"funny videos\"|\"humor\"|\"celebrity\"|\"celeb\"|\"hollywood\"|\"famous\"</th>\n",
       "      <td>100</td>\n",
       "    </tr>\n",
       "    <tr>\n",
       "      <th>BIGHIT|\"빅히트\"|\"방탄소년단\"|\"BTS\"|\"BANGTAN\"|\"방탄\"</th>\n",
       "      <td>94</td>\n",
       "    </tr>\n",
       "    <tr>\n",
       "      <th>ABC|\"americanidol\"|\"idol\"|\"american idol\"|\"ryan\"|\"seacrest\"|\"ryan seacrest\"|\"katy\"|\"perry\"|\"katy perry\"|\"luke\"|\"bryan\"|\"luke bryan\"|\"lionel\"|\"richie\"|\"lionel richie\"|\"season 16\"|\"american idol XVI\"|\"television\"|\"ad\"|\"spring\"|\"2018\"|\"music\"|\"reality\"|\"competition\"|\"song\"|\"sing\"|\"audition\"|\"auditions\"|\"performance\"|\"live\"|\"fox\"|\"AI\"|\"hollywood\"|\"contestant\"|\"official\"|\"american\"|\"official american idol\"|\"hollywood week\"|\"hometown audition\"</th>\n",
       "      <td>89</td>\n",
       "    </tr>\n",
       "    <tr>\n",
       "      <th>The Late Show|\"Stephen Colbert\"|\"Colbert\"|\"Late Show\"|\"celebrities\"|\"late night\"|\"talk show\"|\"skits\"|\"bit\"|\"monologue\"|\"The Late Late Show\"|\"Late Late Show\"|\"letterman\"|\"david letterman\"|\"comedian\"|\"impressions\"|\"CBS\"|\"joke\"|\"jokes\"|\"funny\"|\"funny video\"|\"funny videos\"|\"humor\"|\"celebrity\"|\"celeb\"|\"hollywood\"|\"famous\"|\"James Corden\"|\"Corden\"|\"Comedy\"</th>\n",
       "      <td>77</td>\n",
       "    </tr>\n",
       "    <tr>\n",
       "      <th>...</th>\n",
       "      <td>...</td>\n",
       "    </tr>\n",
       "    <tr>\n",
       "      <th>Demi|\"Lovato\"|\"addiction\"|\"live\"|\"interview\"|\"memoir\"|\"mental\"|\"health\"|\"Dianna\"|\"de\"|\"la\"|\"Garza\"</th>\n",
       "      <td>1</td>\n",
       "    </tr>\n",
       "    <tr>\n",
       "      <th>jimmy|\"kimmel\"|\"live\"|\"late\"|\"night\"|\"talk\"|\"show\"|\"funny\"|\"comedic\"|\"comedy\"|\"clip\"|\"comedian\"|\"charles\"|\"barkely\"|\"philadelphia\"|\"eagles\"|\"super\"|\"bowl\"|\"los\"|\"angeles\"|\"lakers\"|\"basketball\"|\"nba\"|\"marijuana\"|\"charles barkley\"|\"philadelphia eagles\"|\"super bowl\"</th>\n",
       "      <td>1</td>\n",
       "    </tr>\n",
       "    <tr>\n",
       "      <th>avengers infinity war best scenes|\"thor gets his hammer scene\"|\"avengers infinity scenes\"|\"avengers infinity war\"|\"thor scenes\"|\"Thor get its axe\"</th>\n",
       "      <td>1</td>\n",
       "    </tr>\n",
       "    <tr>\n",
       "      <th>rudy mancuso maia mitchell magic official music video|\"rudy\"|\"mancuso\"|\"maia\"|\"mitchell\"|\"magic\"|\"official\"|\"music\"|\"video\"|\"racist superman\"|\"domino\"|\"new year new me\"|\"Racist Superman | Rudy Mancuso\"|\"Justin Bieber\"|\"Alesso\"|\"King Bach\"|\"lelepons\"|\"hannahstocking\"|\"rudymancuso\"|\"inanna\"|\"anwar\"|\"sarkis\"|\"shots\"|\"shotsstudios\"|\"alesso\"|\"anitta\"|\"brazil\"</th>\n",
       "      <td>1</td>\n",
       "    </tr>\n",
       "    <tr>\n",
       "      <th>tim|\"westwood\"|\"tv\"|\"freestyle\"|\"crib\"|\"sessions\"|\"capital\"|\"xtra\"|\"rap\"|\"hip\"|\"hop\"|\"grime\"|\"throwback\"|\"tbt\"|\"bryson tiller\"|\"R&amp;B\"|\"trapsoul\"|\"God Tiller\"|\"dont\"|\"exchange\"|\"run me dry\"|\"wild thoughts\"|\"rihanna\"|\"dj khaled\"|\"true to self\"|\"set it off\"|\"sza\"</th>\n",
       "      <td>1</td>\n",
       "    </tr>\n",
       "  </tbody>\n",
       "</table>\n",
       "<p>3122 rows × 1 columns</p>\n",
       "</div>"
      ],
      "text/plain": [
       "                                                    tags\n",
       "[none]                                              2010\n",
       "James Corden|\"The Late Late Show\"|\"Colbert\"|\"la...   100\n",
       "BIGHIT|\"빅히트\"|\"방탄소년단\"|\"BTS\"|\"BANGTAN\"|\"방탄\"             94\n",
       "ABC|\"americanidol\"|\"idol\"|\"american idol\"|\"ryan...    89\n",
       "The Late Show|\"Stephen Colbert\"|\"Colbert\"|\"Late...    77\n",
       "...                                                  ...\n",
       "Demi|\"Lovato\"|\"addiction\"|\"live\"|\"interview\"|\"m...     1\n",
       "jimmy|\"kimmel\"|\"live\"|\"late\"|\"night\"|\"talk\"|\"sh...     1\n",
       "avengers infinity war best scenes|\"thor gets hi...     1\n",
       "rudy mancuso maia mitchell magic official music...     1\n",
       "tim|\"westwood\"|\"tv\"|\"freestyle\"|\"crib\"|\"session...     1\n",
       "\n",
       "[3122 rows x 1 columns]"
      ]
     },
     "execution_count": 46,
     "metadata": {},
     "output_type": "execute_result"
    }
   ],
   "source": [
    "pd.DataFrame(files_csv[Country]['tags'].value_counts())"
   ]
  },
  {
   "cell_type": "code",
   "execution_count": 47,
   "metadata": {},
   "outputs": [
    {
     "data": {
      "text/plain": [
       "array([ 7224515,  1053632, 17158579, ..., 29641412, 14317515,   607552])"
      ]
     },
     "execution_count": 47,
     "metadata": {},
     "output_type": "execute_result"
    }
   ],
   "source": [
    "files_csv[Country]['views'].unique()"
   ]
  },
  {
   "cell_type": "code",
   "execution_count": 48,
   "metadata": {},
   "outputs": [
    {
     "data": {
      "text/plain": [
       "array([ 55681,  25561, 787420, ...,  61998, 394830, 151870])"
      ]
     },
     "execution_count": 48,
     "metadata": {},
     "output_type": "execute_result"
    }
   ],
   "source": [
    "files_csv[Country]['likes'].unique()"
   ]
  },
  {
   "cell_type": "code",
   "execution_count": 49,
   "metadata": {},
   "outputs": [
    {
     "data": {
      "text/plain": [
       "array([10247,  2294, 43420, ..., 13781,  8892, 45875])"
      ]
     },
     "execution_count": 49,
     "metadata": {},
     "output_type": "execute_result"
    }
   ],
   "source": [
    "files_csv[Country]['dislikes'].unique()"
   ]
  },
  {
   "cell_type": "code",
   "execution_count": 50,
   "metadata": {},
   "outputs": [
    {
     "data": {
      "text/plain": [
       "array([  9479,   2757, 125882, ...,  24330,  19988,  26766])"
      ]
     },
     "execution_count": 50,
     "metadata": {},
     "output_type": "execute_result"
    }
   ],
   "source": [
    "files_csv[Country]['comment_count'].unique()"
   ]
  },
  {
   "cell_type": "code",
   "execution_count": 51,
   "metadata": {},
   "outputs": [
    {
     "data": {
      "text/plain": [
       "array(['https://i.ytimg.com/vi/Jw1Y-zhQURU/default.jpg',\n",
       "       'https://i.ytimg.com/vi/3s1rvMFUweQ/default.jpg',\n",
       "       'https://i.ytimg.com/vi/n1WpP7iowLc/default.jpg', ...,\n",
       "       'https://i.ytimg.com/vi/V15BYnSr0P8/default.jpg',\n",
       "       'https://i.ytimg.com/vi/BOhylL90UVQ/default.jpg',\n",
       "       'https://i.ytimg.com/vi/14G7Qw5DC9M/default.jpg'], dtype=object)"
      ]
     },
     "execution_count": 51,
     "metadata": {},
     "output_type": "execute_result"
    }
   ],
   "source": [
    "files_csv[Country]['thumbnail_link'].unique()"
   ]
  },
  {
   "cell_type": "code",
   "execution_count": 52,
   "metadata": {},
   "outputs": [
    {
     "data": {
      "text/plain": [
       "https://i.ytimg.com/vi/NooW_RbfdWI/default.jpg    38\n",
       "https://i.ytimg.com/vi/u_C4onVrr8U/default.jpg    38\n",
       "https://i.ytimg.com/vi/Il-an3K9pjg/default.jpg    38\n",
       "https://i.ytimg.com/vi/2z3EUY1aXdY/default.jpg    38\n",
       "https://i.ytimg.com/vi/BhIEIO0vaBE/default.jpg    38\n",
       "                                                  ..\n",
       "https://i.ytimg.com/vi/jrfsschAssI/default.jpg     1\n",
       "https://i.ytimg.com/vi/rHwDegptbI4/default.jpg     1\n",
       "https://i.ytimg.com/vi/-mNlASb89Wo/default.jpg     1\n",
       "https://i.ytimg.com/vi/FUMpp2Rqpnw/default.jpg     1\n",
       "https://i.ytimg.com/vi/dypSszf0d3I/default.jpg     1\n",
       "Name: thumbnail_link, Length: 3272, dtype: int64"
      ]
     },
     "execution_count": 52,
     "metadata": {},
     "output_type": "execute_result"
    }
   ],
   "source": [
    "files_csv[Country]['thumbnail_link'].value_counts()"
   ]
  },
  {
   "cell_type": "code",
   "execution_count": 53,
   "metadata": {},
   "outputs": [
    {
     "data": {
      "text/plain": [
       "array([False,  True])"
      ]
     },
     "execution_count": 53,
     "metadata": {},
     "output_type": "execute_result"
    }
   ],
   "source": [
    "files_csv[Country]['ratings_disabled'].unique()"
   ]
  },
  {
   "cell_type": "code",
   "execution_count": 54,
   "metadata": {},
   "outputs": [
    {
     "data": {
      "text/plain": [
       "array([False,  True])"
      ]
     },
     "execution_count": 54,
     "metadata": {},
     "output_type": "execute_result"
    }
   ],
   "source": [
    "files_csv[Country]['video_error_or_removed'].unique()"
   ]
  },
  {
   "cell_type": "code",
   "execution_count": 55,
   "metadata": {},
   "outputs": [
    {
     "data": {
      "text/plain": [
       "array([\"Click here to continue the story and make your own monster:\\\\nhttp://bit.ly/2mboXgj\\\\n\\\\nJoe befriends a noisy Monster under his bed but the two have so much fun together that he can't get to sleep, leaving him tired by day. For Christmas Joe receives a gift to help him finally get a good night’s sleep.\\\\n\\\\nShop the ad\\\\nhttp://bit.ly/2hg04Lc\\\\n\\\\nThe music is Golden Slumbers performed by elbow, the original song was by The Beatles. \\\\nFind the track:\\\\nhttps://Elbow.lnk.to/GoldenSlumbersXS\\\\n\\\\nSubscribe to this channel for regular video updates\\\\nhttp://bit.ly/2eU8MvW\\\\n\\\\nIf you want to hear more from John Lewis:\\\\n\\\\nLike John Lewis on Facebook\\\\nhttp://www.facebook.com/johnlewisretail\\\\n\\\\nFollow John Lewis on Twitter\\\\nhttp://twitter.com/johnlewisretail\\\\n\\\\nFollow John Lewis on Instagram\\\\nhttp://instagram.com/johnlewisretail\",\n",
       "       'Musical guest Taylor Swift performs …Ready for It? on Saturday Night Live.\\\\n\\\\n#SNL #SNL43\\\\n\\\\nGet more SNL: http://www.nbc.com/saturday-night-live\\\\nFull Episodes: http://www.nbc.com/saturday-night-liv...\\\\n\\\\nLike SNL: https://www.facebook.com/snl\\\\nFollow SNL: https://twitter.com/nbcsnl\\\\nSNL Tumblr: http://nbcsnl.tumblr.com/\\\\nSNL Instagram: http://instagram.com/nbcsnl \\\\nSNL Pinterest: http://www.pinterest.com/nbcsnl/',\n",
       "       \"Eminem's new track Walk on Water ft. Beyoncé is available everywhere: http://shady.sr/WOWEminem \\\\nPlaylist Best of Eminem: https://goo.gl/AquNpo\\\\nSubscribe for more: https://goo.gl/DxCrDV\\\\n\\\\nFor more visit: \\\\nhttp://eminem.com\\\\nhttp://facebook.com/eminem\\\\nhttp://twitter.com/eminem\\\\nhttp://instagram.com/eminem\\\\nhttp://eminem.tumblr.com\\\\nhttp://shadyrecords.com\\\\nhttp://facebook.com/shadyrecords\\\\nhttp://twitter.com/shadyrecords\\\\nhttp://instagram.com/shadyrecords\\\\nhttp://trustshady.tumblr.com\\\\n\\\\nMusic video by Eminem performing Walk On Water. (C) 2017 Aftermath Records\\\\nhttp://vevo.ly/gA7xKt\",\n",
       "       ...,\n",
       "       'The Chainsmokers - Somebody ft. Drew Love (A Rory Kramer Vision)Somebody ft. Drew Love Out Now: http://smarturl.it/TCSsomebody Video by Rory KramerFollow The Chainsmokers: http://www.youtube.com/thechainsmokers http://www.twitter.com/thechainsmokers http://www.facebook.com/thechainsmokers http://www.instagram.com/thechainsmokers http://www.soundcloud.com/thechainsmokers',\n",
       "       \"So here are some incredibly fun life hacks you will want to try yourself!You should totally check out these great ideas for the best party ever!Learn 7 sick dance moves for beginners, find out how to make incredible confetti balloons, floral numbers and letters for room decoration, phone speakers and your own disco ball!It's a perfect chance to spend some quality time with your friends or family and have fun together! Learn how to make soda machine right at home and inflate balloons correctly in a very creative way!Let the fun begin! :)----------------------------------------------------------------------------------------Our Social Media:Facebook: https://www.facebook.com/5min.crafts/Instagram: https://www.instagram.com/5.min.crafts/Twitter: https://twitter.com/5m_craftsSubscribe to 5-Minute Crafts GIRLY: https://goo.gl/fWbJqzSubscribe to 5-Minute Workouts: https://goo.gl/67owiQSubscribe 5-Minute Crafts KIDS: https://goo.gl/PEuLVtThe Bright Side of Youtube: https://goo.gl/rQTJZz----------------------------------------------------------------------------------------For more videos and articles visit:http://www.brightside.me/\",\n",
       "       \"Debut album 'Light of Mine' out now: http://kyle.lnk.to/LightofMineIDFollow SuperDuperKyle:Facebook: https://facebook.com/superduperkylemusicTwitter: https://twitter.com/superduperkyleInstagram: https://instagram.com/superduperkyleSoundCloud: https://soundcloud.com/superduperkylemusicWebsite: http://superduperkyle.comFollow the SuperDuperCrew:https://twitter.com/SuperDuperCrew_https://instagram.com/superdupercrew/https://youtube.com/user/SuperDuperCrewTVKYLE - Ikuyo feat. 2 Chainz & Sophia Black\"],\n",
       "      dtype=object)"
      ]
     },
     "execution_count": 55,
     "metadata": {},
     "output_type": "execute_result"
    }
   ],
   "source": [
    "files_csv[Country]['description'].unique()"
   ]
  },
  {
   "cell_type": "code",
   "execution_count": null,
   "metadata": {},
   "outputs": [],
   "source": []
  },
  {
   "cell_type": "markdown",
   "metadata": {},
   "source": [
    "#  Transform activities"
   ]
  },
  {
   "cell_type": "markdown",
   "metadata": {},
   "source": [
    "Transforming extracted data to get the following DataFrames:\n",
    "\n",
    "* Tag catalog\n",
    "* YouTube Video category catalog\n",
    "* YouTube Video description (video id, category id, video name, link)\n",
    "* YouTube Video insights (likes, dislikes, # of views, category id)\n",
    "* Tag - video id normalization relationship table: containing all video ids and their corresponding tag ids"
   ]
  },
  {
   "cell_type": "markdown",
   "metadata": {},
   "source": [
    "## Tag catalog & Tag normalization table"
   ]
  },
  {
   "cell_type": "markdown",
   "metadata": {},
   "source": [
    "## Tag Normalization table"
   ]
  },
  {
   "cell_type": "code",
   "execution_count": 56,
   "metadata": {},
   "outputs": [
    {
     "data": {
      "text/html": [
       "<div>\n",
       "<style scoped>\n",
       "    .dataframe tbody tr th:only-of-type {\n",
       "        vertical-align: middle;\n",
       "    }\n",
       "\n",
       "    .dataframe tbody tr th {\n",
       "        vertical-align: top;\n",
       "    }\n",
       "\n",
       "    .dataframe thead th {\n",
       "        text-align: right;\n",
       "    }\n",
       "</style>\n",
       "<table border=\"1\" class=\"dataframe\">\n",
       "  <thead>\n",
       "    <tr style=\"text-align: right;\">\n",
       "      <th></th>\n",
       "      <th>video_id</th>\n",
       "      <th>tags</th>\n",
       "    </tr>\n",
       "  </thead>\n",
       "  <tbody>\n",
       "    <tr>\n",
       "      <th>8522</th>\n",
       "      <td>--uXQQ0h-yQ</td>\n",
       "      <td>ww1|\"great\"|\"war\"|\"trenches\"|\"tommies\"</td>\n",
       "    </tr>\n",
       "    <tr>\n",
       "      <th>9984</th>\n",
       "      <td>--uXQQ0h-yQ</td>\n",
       "      <td>ww1|\"great\"|\"war\"|\"trenches\"|\"tommies\"</td>\n",
       "    </tr>\n",
       "    <tr>\n",
       "      <th>8327</th>\n",
       "      <td>--uXQQ0h-yQ</td>\n",
       "      <td>ww1|\"great\"|\"war\"|\"trenches\"|\"tommies\"</td>\n",
       "    </tr>\n",
       "    <tr>\n",
       "      <th>9145</th>\n",
       "      <td>--uXQQ0h-yQ</td>\n",
       "      <td>ww1|\"great\"|\"war\"|\"trenches\"|\"tommies\"</td>\n",
       "    </tr>\n",
       "    <tr>\n",
       "      <th>8938</th>\n",
       "      <td>--uXQQ0h-yQ</td>\n",
       "      <td>ww1|\"great\"|\"war\"|\"trenches\"|\"tommies\"</td>\n",
       "    </tr>\n",
       "    <tr>\n",
       "      <th>...</th>\n",
       "      <td>...</td>\n",
       "      <td>...</td>\n",
       "    </tr>\n",
       "    <tr>\n",
       "      <th>37050</th>\n",
       "      <td>zxwfDlhJIpw</td>\n",
       "      <td>Kanye West|\"YEEZY\"|\"Kanye\"|\"Charlamagne\"|\"The ...</td>\n",
       "    </tr>\n",
       "    <tr>\n",
       "      <th>35864</th>\n",
       "      <td>zxwfDlhJIpw</td>\n",
       "      <td>Kanye West|\"YEEZY\"|\"Kanye\"|\"Charlamagne\"|\"The ...</td>\n",
       "    </tr>\n",
       "    <tr>\n",
       "      <th>36035</th>\n",
       "      <td>zxwfDlhJIpw</td>\n",
       "      <td>Kanye West|\"YEEZY\"|\"Kanye\"|\"Charlamagne\"|\"The ...</td>\n",
       "    </tr>\n",
       "    <tr>\n",
       "      <th>37215</th>\n",
       "      <td>zxwfDlhJIpw</td>\n",
       "      <td>Kanye West|\"YEEZY\"|\"Kanye\"|\"Charlamagne\"|\"The ...</td>\n",
       "    </tr>\n",
       "    <tr>\n",
       "      <th>34034</th>\n",
       "      <td>zxwfDlhJIpw</td>\n",
       "      <td>Kanye West|\"YEEZY\"|\"Kanye\"|\"Charlamagne\"|\"The ...</td>\n",
       "    </tr>\n",
       "  </tbody>\n",
       "</table>\n",
       "<p>38916 rows × 2 columns</p>\n",
       "</div>"
      ],
      "text/plain": [
       "          video_id                                               tags\n",
       "8522   --uXQQ0h-yQ             ww1|\"great\"|\"war\"|\"trenches\"|\"tommies\"\n",
       "9984   --uXQQ0h-yQ             ww1|\"great\"|\"war\"|\"trenches\"|\"tommies\"\n",
       "8327   --uXQQ0h-yQ             ww1|\"great\"|\"war\"|\"trenches\"|\"tommies\"\n",
       "9145   --uXQQ0h-yQ             ww1|\"great\"|\"war\"|\"trenches\"|\"tommies\"\n",
       "8938   --uXQQ0h-yQ             ww1|\"great\"|\"war\"|\"trenches\"|\"tommies\"\n",
       "...            ...                                                ...\n",
       "37050  zxwfDlhJIpw  Kanye West|\"YEEZY\"|\"Kanye\"|\"Charlamagne\"|\"The ...\n",
       "35864  zxwfDlhJIpw  Kanye West|\"YEEZY\"|\"Kanye\"|\"Charlamagne\"|\"The ...\n",
       "36035  zxwfDlhJIpw  Kanye West|\"YEEZY\"|\"Kanye\"|\"Charlamagne\"|\"The ...\n",
       "37215  zxwfDlhJIpw  Kanye West|\"YEEZY\"|\"Kanye\"|\"Charlamagne\"|\"The ...\n",
       "34034  zxwfDlhJIpw  Kanye West|\"YEEZY\"|\"Kanye\"|\"Charlamagne\"|\"The ...\n",
       "\n",
       "[38916 rows x 2 columns]"
      ]
     },
     "execution_count": 56,
     "metadata": {},
     "output_type": "execute_result"
    }
   ],
   "source": [
    "#We create a df with video ID and tag reference\n",
    "video_tag_df = files_csv[Country][['video_id','tags']]\n",
    "video_tag_df.sort_values(by='video_id')\n"
   ]
  },
  {
   "cell_type": "markdown",
   "metadata": {},
   "source": [
    "Data cleaning: removing duplicates, NaN records and '[none]' value"
   ]
  },
  {
   "cell_type": "code",
   "execution_count": 57,
   "metadata": {},
   "outputs": [
    {
     "data": {
      "text/html": [
       "<div>\n",
       "<style scoped>\n",
       "    .dataframe tbody tr th:only-of-type {\n",
       "        vertical-align: middle;\n",
       "    }\n",
       "\n",
       "    .dataframe tbody tr th {\n",
       "        vertical-align: top;\n",
       "    }\n",
       "\n",
       "    .dataframe thead th {\n",
       "        text-align: right;\n",
       "    }\n",
       "</style>\n",
       "<table border=\"1\" class=\"dataframe\">\n",
       "  <thead>\n",
       "    <tr style=\"text-align: right;\">\n",
       "      <th></th>\n",
       "      <th>video_id</th>\n",
       "      <th>tags</th>\n",
       "    </tr>\n",
       "  </thead>\n",
       "  <tbody>\n",
       "    <tr>\n",
       "      <th>8327</th>\n",
       "      <td>--uXQQ0h-yQ</td>\n",
       "      <td>ww1|\"great\"|\"war\"|\"trenches\"|\"tommies\"</td>\n",
       "    </tr>\n",
       "    <tr>\n",
       "      <th>9396</th>\n",
       "      <td>-3VBPAZPTQI</td>\n",
       "      <td>jamie genevieve|\"bblogger\"|\"youtuber\"|\"makeup\"...</td>\n",
       "    </tr>\n",
       "    <tr>\n",
       "      <th>17986</th>\n",
       "      <td>-43MBOJnVks</td>\n",
       "      <td>Rampage|\"Rampage Movie\"|\"Rampage Trailer\"|\"War...</td>\n",
       "    </tr>\n",
       "    <tr>\n",
       "      <th>3019</th>\n",
       "      <td>-5WBCrazSfg</td>\n",
       "      <td>Soccer AM|\"Football\"|\"Soccer\"|\"Premier League\"...</td>\n",
       "    </tr>\n",
       "    <tr>\n",
       "      <th>19998</th>\n",
       "      <td>-5aaJJQFvOg</td>\n",
       "      <td>havana|\"cover\"|\"a capella\"|\"swing\"|\"dodie\"|\"fl...</td>\n",
       "    </tr>\n",
       "    <tr>\n",
       "      <th>...</th>\n",
       "      <td>...</td>\n",
       "      <td>...</td>\n",
       "    </tr>\n",
       "    <tr>\n",
       "      <th>25561</th>\n",
       "      <td>zwEn-ambXLw</td>\n",
       "      <td>travis wall|\"shoshana bean\"|\"greatest showman\"...</td>\n",
       "    </tr>\n",
       "    <tr>\n",
       "      <th>8131</th>\n",
       "      <td>zwrlJwed2mQ</td>\n",
       "      <td>BigCityBeats|\"Zero Gravity\"|\"Flugzeug\"|\"Airpla...</td>\n",
       "    </tr>\n",
       "    <tr>\n",
       "      <th>6132</th>\n",
       "      <td>zxGg8QqWrRQ</td>\n",
       "      <td>Essence|\"essence live\"|\"Essence Now\"|\"Dr. Kast...</td>\n",
       "    </tr>\n",
       "    <tr>\n",
       "      <th>35293</th>\n",
       "      <td>zxjv0lo8bU8</td>\n",
       "      <td>Real Madrid C.F.|\"Real Madrid\"|\"Real madrid ci...</td>\n",
       "    </tr>\n",
       "    <tr>\n",
       "      <th>31667</th>\n",
       "      <td>zxwfDlhJIpw</td>\n",
       "      <td>Kanye West|\"YEEZY\"|\"Kanye\"|\"Charlamagne\"|\"The ...</td>\n",
       "    </tr>\n",
       "  </tbody>\n",
       "</table>\n",
       "<p>3436 rows × 2 columns</p>\n",
       "</div>"
      ],
      "text/plain": [
       "          video_id                                               tags\n",
       "8327   --uXQQ0h-yQ             ww1|\"great\"|\"war\"|\"trenches\"|\"tommies\"\n",
       "9396   -3VBPAZPTQI  jamie genevieve|\"bblogger\"|\"youtuber\"|\"makeup\"...\n",
       "17986  -43MBOJnVks  Rampage|\"Rampage Movie\"|\"Rampage Trailer\"|\"War...\n",
       "3019   -5WBCrazSfg  Soccer AM|\"Football\"|\"Soccer\"|\"Premier League\"...\n",
       "19998  -5aaJJQFvOg  havana|\"cover\"|\"a capella\"|\"swing\"|\"dodie\"|\"fl...\n",
       "...            ...                                                ...\n",
       "25561  zwEn-ambXLw  travis wall|\"shoshana bean\"|\"greatest showman\"...\n",
       "8131   zwrlJwed2mQ  BigCityBeats|\"Zero Gravity\"|\"Flugzeug\"|\"Airpla...\n",
       "6132   zxGg8QqWrRQ  Essence|\"essence live\"|\"Essence Now\"|\"Dr. Kast...\n",
       "35293  zxjv0lo8bU8  Real Madrid C.F.|\"Real Madrid\"|\"Real madrid ci...\n",
       "31667  zxwfDlhJIpw  Kanye West|\"YEEZY\"|\"Kanye\"|\"Charlamagne\"|\"The ...\n",
       "\n",
       "[3436 rows x 2 columns]"
      ]
     },
     "execution_count": 57,
     "metadata": {},
     "output_type": "execute_result"
    }
   ],
   "source": [
    "#Removing duplicates\n",
    "video_tag_df = video_tag_df.drop_duplicates(keep='first', subset=['video_id', 'tags'])\n",
    "video_tag_df.sort_values(by='video_id')"
   ]
  },
  {
   "cell_type": "code",
   "execution_count": 58,
   "metadata": {},
   "outputs": [
    {
     "data": {
      "text/html": [
       "<div>\n",
       "<style scoped>\n",
       "    .dataframe tbody tr th:only-of-type {\n",
       "        vertical-align: middle;\n",
       "    }\n",
       "\n",
       "    .dataframe tbody tr th {\n",
       "        vertical-align: top;\n",
       "    }\n",
       "\n",
       "    .dataframe thead th {\n",
       "        text-align: right;\n",
       "    }\n",
       "</style>\n",
       "<table border=\"1\" class=\"dataframe\">\n",
       "  <thead>\n",
       "    <tr style=\"text-align: right;\">\n",
       "      <th></th>\n",
       "      <th>video_id</th>\n",
       "      <th>tags</th>\n",
       "    </tr>\n",
       "  </thead>\n",
       "  <tbody>\n",
       "    <tr>\n",
       "      <th>0</th>\n",
       "      <td>Jw1Y-zhQURU</td>\n",
       "      <td>christmas|\"john lewis christmas\"|\"john lewis\"|...</td>\n",
       "    </tr>\n",
       "    <tr>\n",
       "      <th>1</th>\n",
       "      <td>3s1rvMFUweQ</td>\n",
       "      <td>SNL|\"Saturday Night Live\"|\"SNL Season 43\"|\"Epi...</td>\n",
       "    </tr>\n",
       "    <tr>\n",
       "      <th>2</th>\n",
       "      <td>n1WpP7iowLc</td>\n",
       "      <td>Eminem|\"Walk\"|\"On\"|\"Water\"|\"Aftermath/Shady/In...</td>\n",
       "    </tr>\n",
       "    <tr>\n",
       "      <th>3</th>\n",
       "      <td>PUTEiSjKwJU</td>\n",
       "      <td>Salford City FC|\"Salford City\"|\"Salford\"|\"Clas...</td>\n",
       "    </tr>\n",
       "    <tr>\n",
       "      <th>4</th>\n",
       "      <td>rHwDegptbI4</td>\n",
       "      <td>[none]</td>\n",
       "    </tr>\n",
       "    <tr>\n",
       "      <th>...</th>\n",
       "      <td>...</td>\n",
       "      <td>...</td>\n",
       "    </tr>\n",
       "    <tr>\n",
       "      <th>38767</th>\n",
       "      <td>i63jWjoAWHE</td>\n",
       "      <td>Семен Слепаков|\"гитара\"|\"бард-десятник\"|\"Comed...</td>\n",
       "    </tr>\n",
       "    <tr>\n",
       "      <th>38776</th>\n",
       "      <td>7uzjz51S--M</td>\n",
       "      <td>capitalfmofficial|\"capital\"|\"capital fm\"|\"capi...</td>\n",
       "    </tr>\n",
       "    <tr>\n",
       "      <th>38782</th>\n",
       "      <td>V15BYnSr0P8</td>\n",
       "      <td>Nicky Jam|\"NickyJamPR\"|\"latin\"|\"will smith\"|\"E...</td>\n",
       "    </tr>\n",
       "    <tr>\n",
       "      <th>38793</th>\n",
       "      <td>BOhylL90UVQ</td>\n",
       "      <td>The Chainsmokers Somebody|\"Chainsmokers Somebo...</td>\n",
       "    </tr>\n",
       "    <tr>\n",
       "      <th>38887</th>\n",
       "      <td>14G7Qw5DC9M</td>\n",
       "      <td>5-Minute Crafts|\"DIY\"|\"Do it yourself\"|\"crafts...</td>\n",
       "    </tr>\n",
       "  </tbody>\n",
       "</table>\n",
       "<p>3436 rows × 2 columns</p>\n",
       "</div>"
      ],
      "text/plain": [
       "          video_id                                               tags\n",
       "0      Jw1Y-zhQURU  christmas|\"john lewis christmas\"|\"john lewis\"|...\n",
       "1      3s1rvMFUweQ  SNL|\"Saturday Night Live\"|\"SNL Season 43\"|\"Epi...\n",
       "2      n1WpP7iowLc  Eminem|\"Walk\"|\"On\"|\"Water\"|\"Aftermath/Shady/In...\n",
       "3      PUTEiSjKwJU  Salford City FC|\"Salford City\"|\"Salford\"|\"Clas...\n",
       "4      rHwDegptbI4                                             [none]\n",
       "...            ...                                                ...\n",
       "38767  i63jWjoAWHE  Семен Слепаков|\"гитара\"|\"бард-десятник\"|\"Comed...\n",
       "38776  7uzjz51S--M  capitalfmofficial|\"capital\"|\"capital fm\"|\"capi...\n",
       "38782  V15BYnSr0P8  Nicky Jam|\"NickyJamPR\"|\"latin\"|\"will smith\"|\"E...\n",
       "38793  BOhylL90UVQ  The Chainsmokers Somebody|\"Chainsmokers Somebo...\n",
       "38887  14G7Qw5DC9M  5-Minute Crafts|\"DIY\"|\"Do it yourself\"|\"crafts...\n",
       "\n",
       "[3436 rows x 2 columns]"
      ]
     },
     "execution_count": 58,
     "metadata": {},
     "output_type": "execute_result"
    }
   ],
   "source": [
    "#Removing rows with NaN in tags \n",
    "video_tag_df.dropna()\n",
    "video_tag_df"
   ]
  },
  {
   "cell_type": "code",
   "execution_count": 59,
   "metadata": {},
   "outputs": [],
   "source": [
    "#Removing association from videos not being tagged\n",
    "video_tag_df = video_tag_df[video_tag_df['tags'] != '[none]']"
   ]
  },
  {
   "cell_type": "code",
   "execution_count": 60,
   "metadata": {},
   "outputs": [],
   "source": [
    "#Removing the '|' character, and create a list of tags in each record\n",
    "tags_list_of_lists = video_tag_df['tags'].str.split('|', expand = False)"
   ]
  },
  {
   "cell_type": "code",
   "execution_count": 61,
   "metadata": {},
   "outputs": [
    {
     "data": {
      "text/html": [
       "<div>\n",
       "<style scoped>\n",
       "    .dataframe tbody tr th:only-of-type {\n",
       "        vertical-align: middle;\n",
       "    }\n",
       "\n",
       "    .dataframe tbody tr th {\n",
       "        vertical-align: top;\n",
       "    }\n",
       "\n",
       "    .dataframe thead th {\n",
       "        text-align: right;\n",
       "    }\n",
       "</style>\n",
       "<table border=\"1\" class=\"dataframe\">\n",
       "  <thead>\n",
       "    <tr style=\"text-align: right;\">\n",
       "      <th></th>\n",
       "      <th>video_id</th>\n",
       "      <th>tags</th>\n",
       "    </tr>\n",
       "  </thead>\n",
       "  <tbody>\n",
       "    <tr>\n",
       "      <th>0</th>\n",
       "      <td>Jw1Y-zhQURU</td>\n",
       "      <td>[christmas, \"john lewis christmas\", \"john lewi...</td>\n",
       "    </tr>\n",
       "    <tr>\n",
       "      <th>1</th>\n",
       "      <td>3s1rvMFUweQ</td>\n",
       "      <td>[SNL, \"Saturday Night Live\", \"SNL Season 43\", ...</td>\n",
       "    </tr>\n",
       "    <tr>\n",
       "      <th>2</th>\n",
       "      <td>n1WpP7iowLc</td>\n",
       "      <td>[Eminem, \"Walk\", \"On\", \"Water\", \"Aftermath/Sha...</td>\n",
       "    </tr>\n",
       "    <tr>\n",
       "      <th>3</th>\n",
       "      <td>PUTEiSjKwJU</td>\n",
       "      <td>[Salford City FC, \"Salford City\", \"Salford\", \"...</td>\n",
       "    </tr>\n",
       "    <tr>\n",
       "      <th>5</th>\n",
       "      <td>AumaWl0TNBo</td>\n",
       "      <td>[pointlessblog, \"pointlessblogtv\", \"pointlessb...</td>\n",
       "    </tr>\n",
       "    <tr>\n",
       "      <th>...</th>\n",
       "      <td>...</td>\n",
       "      <td>...</td>\n",
       "    </tr>\n",
       "    <tr>\n",
       "      <th>38767</th>\n",
       "      <td>i63jWjoAWHE</td>\n",
       "      <td>[Семен Слепаков, \"гитара\", \"бард-десятник\", \"C...</td>\n",
       "    </tr>\n",
       "    <tr>\n",
       "      <th>38776</th>\n",
       "      <td>7uzjz51S--M</td>\n",
       "      <td>[capitalfmofficial, \"capital\", \"capital fm\", \"...</td>\n",
       "    </tr>\n",
       "    <tr>\n",
       "      <th>38782</th>\n",
       "      <td>V15BYnSr0P8</td>\n",
       "      <td>[Nicky Jam, \"NickyJamPR\", \"latin\", \"will smith...</td>\n",
       "    </tr>\n",
       "    <tr>\n",
       "      <th>38793</th>\n",
       "      <td>BOhylL90UVQ</td>\n",
       "      <td>[The Chainsmokers Somebody, \"Chainsmokers Some...</td>\n",
       "    </tr>\n",
       "    <tr>\n",
       "      <th>38887</th>\n",
       "      <td>14G7Qw5DC9M</td>\n",
       "      <td>[5-Minute Crafts, \"DIY\", \"Do it yourself\", \"cr...</td>\n",
       "    </tr>\n",
       "  </tbody>\n",
       "</table>\n",
       "<p>3257 rows × 2 columns</p>\n",
       "</div>"
      ],
      "text/plain": [
       "          video_id                                               tags\n",
       "0      Jw1Y-zhQURU  [christmas, \"john lewis christmas\", \"john lewi...\n",
       "1      3s1rvMFUweQ  [SNL, \"Saturday Night Live\", \"SNL Season 43\", ...\n",
       "2      n1WpP7iowLc  [Eminem, \"Walk\", \"On\", \"Water\", \"Aftermath/Sha...\n",
       "3      PUTEiSjKwJU  [Salford City FC, \"Salford City\", \"Salford\", \"...\n",
       "5      AumaWl0TNBo  [pointlessblog, \"pointlessblogtv\", \"pointlessb...\n",
       "...            ...                                                ...\n",
       "38767  i63jWjoAWHE  [Семен Слепаков, \"гитара\", \"бард-десятник\", \"C...\n",
       "38776  7uzjz51S--M  [capitalfmofficial, \"capital\", \"capital fm\", \"...\n",
       "38782  V15BYnSr0P8  [Nicky Jam, \"NickyJamPR\", \"latin\", \"will smith...\n",
       "38793  BOhylL90UVQ  [The Chainsmokers Somebody, \"Chainsmokers Some...\n",
       "38887  14G7Qw5DC9M  [5-Minute Crafts, \"DIY\", \"Do it yourself\", \"cr...\n",
       "\n",
       "[3257 rows x 2 columns]"
      ]
     },
     "execution_count": 61,
     "metadata": {},
     "output_type": "execute_result"
    }
   ],
   "source": [
    "#Creating an intermediate dataframe with lists of lists to create clean data frame\n",
    "video_tag_bridge_df = pd.DataFrame({\n",
    "        \"video_id\": video_tag_df['video_id'],\n",
    "        \"tags\": tags_list_of_lists\n",
    "}\n",
    ")\n",
    "\n",
    "#Removing nan numbers\n",
    "video_tag_bridge_df = video_tag_bridge_df.dropna()\n",
    "video_tag_bridge_df"
   ]
  },
  {
   "cell_type": "code",
   "execution_count": 62,
   "metadata": {},
   "outputs": [],
   "source": [
    "#Empty DataFrame where tags will be allocated\n",
    "tags = []\n",
    "video_ids = []\n",
    "\n",
    "#Iterating on list of lists to get a unique tag\n",
    "for index, video_tag_row in video_tag_bridge_df.iterrows():\n",
    "    video_id = video_tag_row['video_id']\n",
    "    tag_list = video_tag_row['tags']\n",
    "    #print(video_id)\n",
    "    #print(tag_list)\n",
    "   \n",
    "    \n",
    "    for tag in tag_list:\n",
    "     #Removing '\"' from tags\n",
    "        video_ids.append(video_id)\n",
    "        tags.append(tag.replace('\"', ''))\n"
   ]
  },
  {
   "cell_type": "code",
   "execution_count": 63,
   "metadata": {},
   "outputs": [],
   "source": [
    "#Creating video-tag relationship dataframe using arrays filled in previous procedure\n",
    "video_tag_clean_df = pd.DataFrame({\n",
    "    \"video_id\": video_ids,\n",
    "    \"tag_name\":tags\n",
    "})\n"
   ]
  },
  {
   "cell_type": "code",
   "execution_count": 64,
   "metadata": {},
   "outputs": [
    {
     "data": {
      "text/html": [
       "<div>\n",
       "<style scoped>\n",
       "    .dataframe tbody tr th:only-of-type {\n",
       "        vertical-align: middle;\n",
       "    }\n",
       "\n",
       "    .dataframe tbody tr th {\n",
       "        vertical-align: top;\n",
       "    }\n",
       "\n",
       "    .dataframe thead th {\n",
       "        text-align: right;\n",
       "    }\n",
       "</style>\n",
       "<table border=\"1\" class=\"dataframe\">\n",
       "  <thead>\n",
       "    <tr style=\"text-align: right;\">\n",
       "      <th></th>\n",
       "      <th>video_id</th>\n",
       "      <th>tag_name</th>\n",
       "    </tr>\n",
       "  </thead>\n",
       "  <tbody>\n",
       "    <tr>\n",
       "      <th>0</th>\n",
       "      <td>Jw1Y-zhQURU</td>\n",
       "      <td>christmas</td>\n",
       "    </tr>\n",
       "    <tr>\n",
       "      <th>1</th>\n",
       "      <td>Jw1Y-zhQURU</td>\n",
       "      <td>john lewis christmas</td>\n",
       "    </tr>\n",
       "    <tr>\n",
       "      <th>2</th>\n",
       "      <td>Jw1Y-zhQURU</td>\n",
       "      <td>john lewis</td>\n",
       "    </tr>\n",
       "    <tr>\n",
       "      <th>3</th>\n",
       "      <td>Jw1Y-zhQURU</td>\n",
       "      <td>christmas ad</td>\n",
       "    </tr>\n",
       "    <tr>\n",
       "      <th>4</th>\n",
       "      <td>Jw1Y-zhQURU</td>\n",
       "      <td>mozthemonster</td>\n",
       "    </tr>\n",
       "    <tr>\n",
       "      <th>...</th>\n",
       "      <td>...</td>\n",
       "      <td>...</td>\n",
       "    </tr>\n",
       "    <tr>\n",
       "      <th>64762</th>\n",
       "      <td>14G7Qw5DC9M</td>\n",
       "      <td>drawing</td>\n",
       "    </tr>\n",
       "    <tr>\n",
       "      <th>64763</th>\n",
       "      <td>14G7Qw5DC9M</td>\n",
       "      <td>painting</td>\n",
       "    </tr>\n",
       "    <tr>\n",
       "      <th>64764</th>\n",
       "      <td>14G7Qw5DC9M</td>\n",
       "      <td>pull tab</td>\n",
       "    </tr>\n",
       "    <tr>\n",
       "      <th>64765</th>\n",
       "      <td>14G7Qw5DC9M</td>\n",
       "      <td>rubber band</td>\n",
       "    </tr>\n",
       "    <tr>\n",
       "      <th>64766</th>\n",
       "      <td>14G7Qw5DC9M</td>\n",
       "      <td>straw hand</td>\n",
       "    </tr>\n",
       "  </tbody>\n",
       "</table>\n",
       "<p>61633 rows × 2 columns</p>\n",
       "</div>"
      ],
      "text/plain": [
       "          video_id              tag_name\n",
       "0      Jw1Y-zhQURU             christmas\n",
       "1      Jw1Y-zhQURU  john lewis christmas\n",
       "2      Jw1Y-zhQURU            john lewis\n",
       "3      Jw1Y-zhQURU          christmas ad\n",
       "4      Jw1Y-zhQURU         mozthemonster\n",
       "...            ...                   ...\n",
       "64762  14G7Qw5DC9M               drawing\n",
       "64763  14G7Qw5DC9M              painting\n",
       "64764  14G7Qw5DC9M              pull tab\n",
       "64765  14G7Qw5DC9M           rubber band\n",
       "64766  14G7Qw5DC9M            straw hand\n",
       "\n",
       "[61633 rows x 2 columns]"
      ]
     },
     "execution_count": 64,
     "metadata": {},
     "output_type": "execute_result"
    }
   ],
   "source": [
    "#Dropping duplicated columns\n",
    "video_tag_clean_df.drop_duplicates(keep='first', inplace=True)\n",
    "video_tag_clean_df"
   ]
  },
  {
   "cell_type": "markdown",
   "metadata": {},
   "source": [
    "## Tag catalog"
   ]
  },
  {
   "cell_type": "code",
   "execution_count": 65,
   "metadata": {},
   "outputs": [
    {
     "data": {
      "text/html": [
       "<div>\n",
       "<style scoped>\n",
       "    .dataframe tbody tr th:only-of-type {\n",
       "        vertical-align: middle;\n",
       "    }\n",
       "\n",
       "    .dataframe tbody tr th {\n",
       "        vertical-align: top;\n",
       "    }\n",
       "\n",
       "    .dataframe thead th {\n",
       "        text-align: right;\n",
       "    }\n",
       "</style>\n",
       "<table border=\"1\" class=\"dataframe\">\n",
       "  <thead>\n",
       "    <tr style=\"text-align: right;\">\n",
       "      <th></th>\n",
       "      <th>tag_name</th>\n",
       "    </tr>\n",
       "  </thead>\n",
       "  <tbody>\n",
       "    <tr>\n",
       "      <th>0</th>\n",
       "      <td>christmas</td>\n",
       "    </tr>\n",
       "    <tr>\n",
       "      <th>1</th>\n",
       "      <td>john lewis christmas</td>\n",
       "    </tr>\n",
       "    <tr>\n",
       "      <th>2</th>\n",
       "      <td>john lewis</td>\n",
       "    </tr>\n",
       "    <tr>\n",
       "      <th>3</th>\n",
       "      <td>christmas ad</td>\n",
       "    </tr>\n",
       "    <tr>\n",
       "      <th>4</th>\n",
       "      <td>mozthemonster</td>\n",
       "    </tr>\n",
       "    <tr>\n",
       "      <th>...</th>\n",
       "      <td>...</td>\n",
       "    </tr>\n",
       "    <tr>\n",
       "      <th>64760</th>\n",
       "      <td>gift wrapping</td>\n",
       "    </tr>\n",
       "    <tr>\n",
       "      <th>64761</th>\n",
       "      <td>toothy pictures</td>\n",
       "    </tr>\n",
       "    <tr>\n",
       "      <th>64764</th>\n",
       "      <td>pull tab</td>\n",
       "    </tr>\n",
       "    <tr>\n",
       "      <th>64765</th>\n",
       "      <td>rubber band</td>\n",
       "    </tr>\n",
       "    <tr>\n",
       "      <th>64766</th>\n",
       "      <td>straw hand</td>\n",
       "    </tr>\n",
       "  </tbody>\n",
       "</table>\n",
       "<p>31881 rows × 1 columns</p>\n",
       "</div>"
      ],
      "text/plain": [
       "                   tag_name\n",
       "0                 christmas\n",
       "1      john lewis christmas\n",
       "2                john lewis\n",
       "3              christmas ad\n",
       "4             mozthemonster\n",
       "...                     ...\n",
       "64760         gift wrapping\n",
       "64761       toothy pictures\n",
       "64764              pull tab\n",
       "64765           rubber band\n",
       "64766            straw hand\n",
       "\n",
       "[31881 rows x 1 columns]"
      ]
     },
     "execution_count": 65,
     "metadata": {},
     "output_type": "execute_result"
    }
   ],
   "source": [
    "#Creating Tag catalog using tags list\n",
    "tags_df = pd.DataFrame({\n",
    "    'tag_name': tags\n",
    "})\n",
    "\n",
    "#Removing duplicated records\n",
    "tags_df.drop_duplicates(keep='first', inplace=True)\n",
    "#Removing nan records\n",
    "tags_df = tags_df.dropna()\n",
    "tags_df"
   ]
  },
  {
   "cell_type": "markdown",
   "metadata": {},
   "source": [
    "## YouTube video category catalog"
   ]
  },
  {
   "cell_type": "code",
   "execution_count": 66,
   "metadata": {},
   "outputs": [
    {
     "data": {
      "text/html": [
       "<div>\n",
       "<style scoped>\n",
       "    .dataframe tbody tr th:only-of-type {\n",
       "        vertical-align: middle;\n",
       "    }\n",
       "\n",
       "    .dataframe tbody tr th {\n",
       "        vertical-align: top;\n",
       "    }\n",
       "\n",
       "    .dataframe thead th {\n",
       "        text-align: right;\n",
       "    }\n",
       "</style>\n",
       "<table border=\"1\" class=\"dataframe\">\n",
       "  <thead>\n",
       "    <tr style=\"text-align: right;\">\n",
       "      <th></th>\n",
       "      <th>category_id</th>\n",
       "      <th>category_name</th>\n",
       "    </tr>\n",
       "  </thead>\n",
       "  <tbody>\n",
       "    <tr>\n",
       "      <th>0</th>\n",
       "      <td>1</td>\n",
       "      <td>Film &amp; Animation</td>\n",
       "    </tr>\n",
       "    <tr>\n",
       "      <th>1</th>\n",
       "      <td>2</td>\n",
       "      <td>Autos &amp; Vehicles</td>\n",
       "    </tr>\n",
       "    <tr>\n",
       "      <th>2</th>\n",
       "      <td>10</td>\n",
       "      <td>Music</td>\n",
       "    </tr>\n",
       "    <tr>\n",
       "      <th>3</th>\n",
       "      <td>15</td>\n",
       "      <td>Pets &amp; Animals</td>\n",
       "    </tr>\n",
       "    <tr>\n",
       "      <th>4</th>\n",
       "      <td>17</td>\n",
       "      <td>Sports</td>\n",
       "    </tr>\n",
       "    <tr>\n",
       "      <th>5</th>\n",
       "      <td>18</td>\n",
       "      <td>Short Movies</td>\n",
       "    </tr>\n",
       "    <tr>\n",
       "      <th>6</th>\n",
       "      <td>19</td>\n",
       "      <td>Travel &amp; Events</td>\n",
       "    </tr>\n",
       "    <tr>\n",
       "      <th>7</th>\n",
       "      <td>20</td>\n",
       "      <td>Gaming</td>\n",
       "    </tr>\n",
       "    <tr>\n",
       "      <th>8</th>\n",
       "      <td>21</td>\n",
       "      <td>Videoblogging</td>\n",
       "    </tr>\n",
       "    <tr>\n",
       "      <th>9</th>\n",
       "      <td>22</td>\n",
       "      <td>People &amp; Blogs</td>\n",
       "    </tr>\n",
       "    <tr>\n",
       "      <th>10</th>\n",
       "      <td>23</td>\n",
       "      <td>Comedy</td>\n",
       "    </tr>\n",
       "    <tr>\n",
       "      <th>11</th>\n",
       "      <td>24</td>\n",
       "      <td>Entertainment</td>\n",
       "    </tr>\n",
       "    <tr>\n",
       "      <th>12</th>\n",
       "      <td>25</td>\n",
       "      <td>News &amp; Politics</td>\n",
       "    </tr>\n",
       "    <tr>\n",
       "      <th>13</th>\n",
       "      <td>26</td>\n",
       "      <td>Howto &amp; Style</td>\n",
       "    </tr>\n",
       "    <tr>\n",
       "      <th>14</th>\n",
       "      <td>27</td>\n",
       "      <td>Education</td>\n",
       "    </tr>\n",
       "    <tr>\n",
       "      <th>15</th>\n",
       "      <td>28</td>\n",
       "      <td>Science &amp; Technology</td>\n",
       "    </tr>\n",
       "    <tr>\n",
       "      <th>16</th>\n",
       "      <td>30</td>\n",
       "      <td>Movies</td>\n",
       "    </tr>\n",
       "    <tr>\n",
       "      <th>17</th>\n",
       "      <td>31</td>\n",
       "      <td>Anime/Animation</td>\n",
       "    </tr>\n",
       "    <tr>\n",
       "      <th>18</th>\n",
       "      <td>32</td>\n",
       "      <td>Action/Adventure</td>\n",
       "    </tr>\n",
       "    <tr>\n",
       "      <th>19</th>\n",
       "      <td>33</td>\n",
       "      <td>Classics</td>\n",
       "    </tr>\n",
       "    <tr>\n",
       "      <th>20</th>\n",
       "      <td>34</td>\n",
       "      <td>Comedy</td>\n",
       "    </tr>\n",
       "    <tr>\n",
       "      <th>21</th>\n",
       "      <td>35</td>\n",
       "      <td>Documentary</td>\n",
       "    </tr>\n",
       "    <tr>\n",
       "      <th>22</th>\n",
       "      <td>36</td>\n",
       "      <td>Drama</td>\n",
       "    </tr>\n",
       "    <tr>\n",
       "      <th>23</th>\n",
       "      <td>37</td>\n",
       "      <td>Family</td>\n",
       "    </tr>\n",
       "    <tr>\n",
       "      <th>24</th>\n",
       "      <td>38</td>\n",
       "      <td>Foreign</td>\n",
       "    </tr>\n",
       "    <tr>\n",
       "      <th>25</th>\n",
       "      <td>39</td>\n",
       "      <td>Horror</td>\n",
       "    </tr>\n",
       "    <tr>\n",
       "      <th>26</th>\n",
       "      <td>40</td>\n",
       "      <td>Sci-Fi/Fantasy</td>\n",
       "    </tr>\n",
       "    <tr>\n",
       "      <th>27</th>\n",
       "      <td>41</td>\n",
       "      <td>Thriller</td>\n",
       "    </tr>\n",
       "    <tr>\n",
       "      <th>28</th>\n",
       "      <td>42</td>\n",
       "      <td>Shorts</td>\n",
       "    </tr>\n",
       "    <tr>\n",
       "      <th>29</th>\n",
       "      <td>43</td>\n",
       "      <td>Shows</td>\n",
       "    </tr>\n",
       "    <tr>\n",
       "      <th>30</th>\n",
       "      <td>44</td>\n",
       "      <td>Trailers</td>\n",
       "    </tr>\n",
       "  </tbody>\n",
       "</table>\n",
       "</div>"
      ],
      "text/plain": [
       "   category_id         category_name\n",
       "0            1      Film & Animation\n",
       "1            2      Autos & Vehicles\n",
       "2           10                 Music\n",
       "3           15        Pets & Animals\n",
       "4           17                Sports\n",
       "5           18          Short Movies\n",
       "6           19       Travel & Events\n",
       "7           20                Gaming\n",
       "8           21         Videoblogging\n",
       "9           22        People & Blogs\n",
       "10          23                Comedy\n",
       "11          24         Entertainment\n",
       "12          25       News & Politics\n",
       "13          26         Howto & Style\n",
       "14          27             Education\n",
       "15          28  Science & Technology\n",
       "16          30                Movies\n",
       "17          31       Anime/Animation\n",
       "18          32      Action/Adventure\n",
       "19          33              Classics\n",
       "20          34                Comedy\n",
       "21          35           Documentary\n",
       "22          36                 Drama\n",
       "23          37                Family\n",
       "24          38               Foreign\n",
       "25          39                Horror\n",
       "26          40        Sci-Fi/Fantasy\n",
       "27          41              Thriller\n",
       "28          42                Shorts\n",
       "29          43                 Shows\n",
       "30          44              Trailers"
      ]
     },
     "execution_count": 66,
     "metadata": {},
     "output_type": "execute_result"
    }
   ],
   "source": [
    "#To create YouTube video category, we need to iterate on items value from JSON file\n",
    "#Categories are stored in array, which will be used to create YouTube video category DataFrame\n",
    "categories_ids = []\n",
    "categories = []\n",
    "\n",
    "\n",
    "for category in files_json[Country]['items']:\n",
    "    #print(category['snippet']['title'])\n",
    "    categories_ids.append(category['id'])\n",
    "    categories.append(category['snippet']['title'])\n",
    "\n",
    "categories_df = pd.DataFrame( {\n",
    "    'category_id': categories_ids,\n",
    "    'category_name': categories\n",
    "})\n",
    "\n",
    "categories_df"
   ]
  },
  {
   "cell_type": "markdown",
   "metadata": {},
   "source": [
    "## YouTube video description table"
   ]
  },
  {
   "cell_type": "code",
   "execution_count": 67,
   "metadata": {},
   "outputs": [
    {
     "data": {
      "text/html": [
       "<div>\n",
       "<style scoped>\n",
       "    .dataframe tbody tr th:only-of-type {\n",
       "        vertical-align: middle;\n",
       "    }\n",
       "\n",
       "    .dataframe tbody tr th {\n",
       "        vertical-align: top;\n",
       "    }\n",
       "\n",
       "    .dataframe thead th {\n",
       "        text-align: right;\n",
       "    }\n",
       "</style>\n",
       "<table border=\"1\" class=\"dataframe\">\n",
       "  <thead>\n",
       "    <tr style=\"text-align: right;\">\n",
       "      <th></th>\n",
       "      <th>video_id</th>\n",
       "      <th>category_id</th>\n",
       "      <th>title</th>\n",
       "    </tr>\n",
       "  </thead>\n",
       "  <tbody>\n",
       "    <tr>\n",
       "      <th>8522</th>\n",
       "      <td>--uXQQ0h-yQ</td>\n",
       "      <td>24</td>\n",
       "      <td>Paul McCartney - Pipes of Peace</td>\n",
       "    </tr>\n",
       "    <tr>\n",
       "      <th>9984</th>\n",
       "      <td>--uXQQ0h-yQ</td>\n",
       "      <td>24</td>\n",
       "      <td>Paul McCartney - Pipes of Peace</td>\n",
       "    </tr>\n",
       "    <tr>\n",
       "      <th>8327</th>\n",
       "      <td>--uXQQ0h-yQ</td>\n",
       "      <td>24</td>\n",
       "      <td>Paul McCartney - Pipes of Peace</td>\n",
       "    </tr>\n",
       "    <tr>\n",
       "      <th>9145</th>\n",
       "      <td>--uXQQ0h-yQ</td>\n",
       "      <td>24</td>\n",
       "      <td>Paul McCartney - Pipes of Peace</td>\n",
       "    </tr>\n",
       "    <tr>\n",
       "      <th>8938</th>\n",
       "      <td>--uXQQ0h-yQ</td>\n",
       "      <td>24</td>\n",
       "      <td>Paul McCartney - Pipes of Peace</td>\n",
       "    </tr>\n",
       "    <tr>\n",
       "      <th>...</th>\n",
       "      <td>...</td>\n",
       "      <td>...</td>\n",
       "      <td>...</td>\n",
       "    </tr>\n",
       "    <tr>\n",
       "      <th>37050</th>\n",
       "      <td>zxwfDlhJIpw</td>\n",
       "      <td>22</td>\n",
       "      <td>kanye west / charlamagne interview</td>\n",
       "    </tr>\n",
       "    <tr>\n",
       "      <th>35864</th>\n",
       "      <td>zxwfDlhJIpw</td>\n",
       "      <td>22</td>\n",
       "      <td>kanye west / charlamagne interview</td>\n",
       "    </tr>\n",
       "    <tr>\n",
       "      <th>36035</th>\n",
       "      <td>zxwfDlhJIpw</td>\n",
       "      <td>22</td>\n",
       "      <td>kanye west / charlamagne interview</td>\n",
       "    </tr>\n",
       "    <tr>\n",
       "      <th>37215</th>\n",
       "      <td>zxwfDlhJIpw</td>\n",
       "      <td>22</td>\n",
       "      <td>kanye west / charlamagne interview</td>\n",
       "    </tr>\n",
       "    <tr>\n",
       "      <th>34034</th>\n",
       "      <td>zxwfDlhJIpw</td>\n",
       "      <td>22</td>\n",
       "      <td>kanye west / charlamagne interview</td>\n",
       "    </tr>\n",
       "  </tbody>\n",
       "</table>\n",
       "<p>38916 rows × 3 columns</p>\n",
       "</div>"
      ],
      "text/plain": [
       "          video_id  category_id                               title\n",
       "8522   --uXQQ0h-yQ           24     Paul McCartney - Pipes of Peace\n",
       "9984   --uXQQ0h-yQ           24     Paul McCartney - Pipes of Peace\n",
       "8327   --uXQQ0h-yQ           24     Paul McCartney - Pipes of Peace\n",
       "9145   --uXQQ0h-yQ           24     Paul McCartney - Pipes of Peace\n",
       "8938   --uXQQ0h-yQ           24     Paul McCartney - Pipes of Peace\n",
       "...            ...          ...                                 ...\n",
       "37050  zxwfDlhJIpw           22  kanye west / charlamagne interview\n",
       "35864  zxwfDlhJIpw           22  kanye west / charlamagne interview\n",
       "36035  zxwfDlhJIpw           22  kanye west / charlamagne interview\n",
       "37215  zxwfDlhJIpw           22  kanye west / charlamagne interview\n",
       "34034  zxwfDlhJIpw           22  kanye west / charlamagne interview\n",
       "\n",
       "[38916 rows x 3 columns]"
      ]
     },
     "execution_count": 67,
     "metadata": {},
     "output_type": "execute_result"
    }
   ],
   "source": [
    "#YouTube Video description (video id, category id, video name, link)\n",
    "#files_csv[3] = UK videos\n",
    "video_description_df = files_csv[Country][['video_id','category_id','title']]\n",
    "video_description_df.dropna()\n",
    "video_description_df.sort_values(by='video_id')"
   ]
  },
  {
   "cell_type": "code",
   "execution_count": 68,
   "metadata": {
    "scrolled": true
   },
   "outputs": [],
   "source": [
    "#Deleting duplicate rowsb\n",
    "video_description_df = video_description_df.drop_duplicates(subset='video_id')"
   ]
  },
  {
   "cell_type": "code",
   "execution_count": 69,
   "metadata": {},
   "outputs": [
    {
     "data": {
      "text/html": [
       "<div>\n",
       "<style scoped>\n",
       "    .dataframe tbody tr th:only-of-type {\n",
       "        vertical-align: middle;\n",
       "    }\n",
       "\n",
       "    .dataframe tbody tr th {\n",
       "        vertical-align: top;\n",
       "    }\n",
       "\n",
       "    .dataframe thead th {\n",
       "        text-align: right;\n",
       "    }\n",
       "</style>\n",
       "<table border=\"1\" class=\"dataframe\">\n",
       "  <thead>\n",
       "    <tr style=\"text-align: right;\">\n",
       "      <th></th>\n",
       "      <th>video_id</th>\n",
       "      <th>category_id</th>\n",
       "      <th>title</th>\n",
       "    </tr>\n",
       "  </thead>\n",
       "  <tbody>\n",
       "    <tr>\n",
       "      <th>8327</th>\n",
       "      <td>--uXQQ0h-yQ</td>\n",
       "      <td>24</td>\n",
       "      <td>Paul McCartney - Pipes of Peace</td>\n",
       "    </tr>\n",
       "    <tr>\n",
       "      <th>9396</th>\n",
       "      <td>-3VBPAZPTQI</td>\n",
       "      <td>22</td>\n",
       "      <td>NEW YEAR'S EVE MAKEUP TUTORIAL | JAMIE GENEVIEVE</td>\n",
       "    </tr>\n",
       "    <tr>\n",
       "      <th>17986</th>\n",
       "      <td>-43MBOJnVks</td>\n",
       "      <td>24</td>\n",
       "      <td>RAMPAGE - OFFICIAL TRAILER 2 [HD]</td>\n",
       "    </tr>\n",
       "    <tr>\n",
       "      <th>3019</th>\n",
       "      <td>-5WBCrazSfg</td>\n",
       "      <td>17</td>\n",
       "      <td>Neymar will win the Ballon d'Or | Philippe Cou...</td>\n",
       "    </tr>\n",
       "    <tr>\n",
       "      <th>19998</th>\n",
       "      <td>-5aaJJQFvOg</td>\n",
       "      <td>10</td>\n",
       "      <td>Havana - swing cover | dodie feat. FLASHBACK</td>\n",
       "    </tr>\n",
       "    <tr>\n",
       "      <th>...</th>\n",
       "      <td>...</td>\n",
       "      <td>...</td>\n",
       "      <td>...</td>\n",
       "    </tr>\n",
       "    <tr>\n",
       "      <th>25561</th>\n",
       "      <td>zwEn-ambXLw</td>\n",
       "      <td>10</td>\n",
       "      <td>This Is Me - Cover by Shoshana Bean Featuring ...</td>\n",
       "    </tr>\n",
       "    <tr>\n",
       "      <th>8131</th>\n",
       "      <td>zwrlJwed2mQ</td>\n",
       "      <td>24</td>\n",
       "      <td>BigCityBeats WORLD CLUB DOME Zero Gravity (Off...</td>\n",
       "    </tr>\n",
       "    <tr>\n",
       "      <th>6132</th>\n",
       "      <td>zxGg8QqWrRQ</td>\n",
       "      <td>24</td>\n",
       "      <td>K  Michelle on Boyfriend Kastan Sims, Having T...</td>\n",
       "    </tr>\n",
       "    <tr>\n",
       "      <th>35293</th>\n",
       "      <td>zxjv0lo8bU8</td>\n",
       "      <td>17</td>\n",
       "      <td>MARCELO's son ENZO shows off his skills in the...</td>\n",
       "    </tr>\n",
       "    <tr>\n",
       "      <th>31667</th>\n",
       "      <td>zxwfDlhJIpw</td>\n",
       "      <td>22</td>\n",
       "      <td>kanye west / charlamagne interview</td>\n",
       "    </tr>\n",
       "  </tbody>\n",
       "</table>\n",
       "<p>3272 rows × 3 columns</p>\n",
       "</div>"
      ],
      "text/plain": [
       "          video_id  category_id  \\\n",
       "8327   --uXQQ0h-yQ           24   \n",
       "9396   -3VBPAZPTQI           22   \n",
       "17986  -43MBOJnVks           24   \n",
       "3019   -5WBCrazSfg           17   \n",
       "19998  -5aaJJQFvOg           10   \n",
       "...            ...          ...   \n",
       "25561  zwEn-ambXLw           10   \n",
       "8131   zwrlJwed2mQ           24   \n",
       "6132   zxGg8QqWrRQ           24   \n",
       "35293  zxjv0lo8bU8           17   \n",
       "31667  zxwfDlhJIpw           22   \n",
       "\n",
       "                                                   title  \n",
       "8327                     Paul McCartney - Pipes of Peace  \n",
       "9396    NEW YEAR'S EVE MAKEUP TUTORIAL | JAMIE GENEVIEVE  \n",
       "17986                  RAMPAGE - OFFICIAL TRAILER 2 [HD]  \n",
       "3019   Neymar will win the Ballon d'Or | Philippe Cou...  \n",
       "19998       Havana - swing cover | dodie feat. FLASHBACK  \n",
       "...                                                  ...  \n",
       "25561  This Is Me - Cover by Shoshana Bean Featuring ...  \n",
       "8131   BigCityBeats WORLD CLUB DOME Zero Gravity (Off...  \n",
       "6132   K  Michelle on Boyfriend Kastan Sims, Having T...  \n",
       "35293  MARCELO's son ENZO shows off his skills in the...  \n",
       "31667                 kanye west / charlamagne interview  \n",
       "\n",
       "[3272 rows x 3 columns]"
      ]
     },
     "execution_count": 69,
     "metadata": {},
     "output_type": "execute_result"
    }
   ],
   "source": [
    "video_description_df.sort_values(by='video_id')"
   ]
  },
  {
   "cell_type": "markdown",
   "metadata": {},
   "source": [
    "## YouTube video Insights"
   ]
  },
  {
   "cell_type": "code",
   "execution_count": 70,
   "metadata": {},
   "outputs": [
    {
     "data": {
      "text/html": [
       "<div>\n",
       "<style scoped>\n",
       "    .dataframe tbody tr th:only-of-type {\n",
       "        vertical-align: middle;\n",
       "    }\n",
       "\n",
       "    .dataframe tbody tr th {\n",
       "        vertical-align: top;\n",
       "    }\n",
       "\n",
       "    .dataframe thead th {\n",
       "        text-align: right;\n",
       "    }\n",
       "</style>\n",
       "<table border=\"1\" class=\"dataframe\">\n",
       "  <thead>\n",
       "    <tr style=\"text-align: right;\">\n",
       "      <th></th>\n",
       "      <th>video_id</th>\n",
       "      <th>views</th>\n",
       "      <th>likes</th>\n",
       "      <th>dislikes</th>\n",
       "      <th>comment_count</th>\n",
       "    </tr>\n",
       "  </thead>\n",
       "  <tbody>\n",
       "    <tr>\n",
       "      <th>8522</th>\n",
       "      <td>--uXQQ0h-yQ</td>\n",
       "      <td>26299</td>\n",
       "      <td>234</td>\n",
       "      <td>3</td>\n",
       "      <td>11</td>\n",
       "    </tr>\n",
       "    <tr>\n",
       "      <th>9984</th>\n",
       "      <td>--uXQQ0h-yQ</td>\n",
       "      <td>28725</td>\n",
       "      <td>253</td>\n",
       "      <td>3</td>\n",
       "      <td>12</td>\n",
       "    </tr>\n",
       "    <tr>\n",
       "      <th>8327</th>\n",
       "      <td>--uXQQ0h-yQ</td>\n",
       "      <td>24723</td>\n",
       "      <td>216</td>\n",
       "      <td>3</td>\n",
       "      <td>10</td>\n",
       "    </tr>\n",
       "    <tr>\n",
       "      <th>9145</th>\n",
       "      <td>--uXQQ0h-yQ</td>\n",
       "      <td>27689</td>\n",
       "      <td>243</td>\n",
       "      <td>3</td>\n",
       "      <td>11</td>\n",
       "    </tr>\n",
       "    <tr>\n",
       "      <th>8938</th>\n",
       "      <td>--uXQQ0h-yQ</td>\n",
       "      <td>27413</td>\n",
       "      <td>241</td>\n",
       "      <td>3</td>\n",
       "      <td>11</td>\n",
       "    </tr>\n",
       "    <tr>\n",
       "      <th>...</th>\n",
       "      <td>...</td>\n",
       "      <td>...</td>\n",
       "      <td>...</td>\n",
       "      <td>...</td>\n",
       "      <td>...</td>\n",
       "    </tr>\n",
       "    <tr>\n",
       "      <th>37050</th>\n",
       "      <td>zxwfDlhJIpw</td>\n",
       "      <td>8579665</td>\n",
       "      <td>167841</td>\n",
       "      <td>19615</td>\n",
       "      <td>48621</td>\n",
       "    </tr>\n",
       "    <tr>\n",
       "      <th>35864</th>\n",
       "      <td>zxwfDlhJIpw</td>\n",
       "      <td>8473031</td>\n",
       "      <td>166781</td>\n",
       "      <td>19493</td>\n",
       "      <td>48494</td>\n",
       "    </tr>\n",
       "    <tr>\n",
       "      <th>36035</th>\n",
       "      <td>zxwfDlhJIpw</td>\n",
       "      <td>8486581</td>\n",
       "      <td>166889</td>\n",
       "      <td>19506</td>\n",
       "      <td>48506</td>\n",
       "    </tr>\n",
       "    <tr>\n",
       "      <th>37215</th>\n",
       "      <td>zxwfDlhJIpw</td>\n",
       "      <td>8596449</td>\n",
       "      <td>168026</td>\n",
       "      <td>19640</td>\n",
       "      <td>48633</td>\n",
       "    </tr>\n",
       "    <tr>\n",
       "      <th>34034</th>\n",
       "      <td>zxwfDlhJIpw</td>\n",
       "      <td>8295147</td>\n",
       "      <td>165136</td>\n",
       "      <td>19295</td>\n",
       "      <td>48115</td>\n",
       "    </tr>\n",
       "  </tbody>\n",
       "</table>\n",
       "<p>38916 rows × 5 columns</p>\n",
       "</div>"
      ],
      "text/plain": [
       "          video_id    views   likes  dislikes  comment_count\n",
       "8522   --uXQQ0h-yQ    26299     234         3             11\n",
       "9984   --uXQQ0h-yQ    28725     253         3             12\n",
       "8327   --uXQQ0h-yQ    24723     216         3             10\n",
       "9145   --uXQQ0h-yQ    27689     243         3             11\n",
       "8938   --uXQQ0h-yQ    27413     241         3             11\n",
       "...            ...      ...     ...       ...            ...\n",
       "37050  zxwfDlhJIpw  8579665  167841     19615          48621\n",
       "35864  zxwfDlhJIpw  8473031  166781     19493          48494\n",
       "36035  zxwfDlhJIpw  8486581  166889     19506          48506\n",
       "37215  zxwfDlhJIpw  8596449  168026     19640          48633\n",
       "34034  zxwfDlhJIpw  8295147  165136     19295          48115\n",
       "\n",
       "[38916 rows x 5 columns]"
      ]
     },
     "execution_count": 70,
     "metadata": {},
     "output_type": "execute_result"
    }
   ],
   "source": [
    "#YouTube Insights (video_id','views','likes', 'dislikes', 'comment_count')\n",
    "video_insights_df = files_csv[Country][['video_id','views','likes', 'dislikes', 'comment_count']]\n",
    "video_insights_df.dropna()\n",
    "video_insights_df.sort_values(by='video_id')"
   ]
  },
  {
   "cell_type": "code",
   "execution_count": 71,
   "metadata": {},
   "outputs": [],
   "source": [
    "#Grouping By video id to get total # of views, likes, dislikes and comments\n",
    "video_insights_df=video_insights_df.groupby('video_id').sum()"
   ]
  },
  {
   "cell_type": "code",
   "execution_count": 72,
   "metadata": {},
   "outputs": [
    {
     "data": {
      "text/html": [
       "<div>\n",
       "<style scoped>\n",
       "    .dataframe tbody tr th:only-of-type {\n",
       "        vertical-align: middle;\n",
       "    }\n",
       "\n",
       "    .dataframe tbody tr th {\n",
       "        vertical-align: top;\n",
       "    }\n",
       "\n",
       "    .dataframe thead th {\n",
       "        text-align: right;\n",
       "    }\n",
       "</style>\n",
       "<table border=\"1\" class=\"dataframe\">\n",
       "  <thead>\n",
       "    <tr style=\"text-align: right;\">\n",
       "      <th></th>\n",
       "      <th>views</th>\n",
       "      <th>likes</th>\n",
       "      <th>dislikes</th>\n",
       "      <th>comment_count</th>\n",
       "    </tr>\n",
       "    <tr>\n",
       "      <th>video_id</th>\n",
       "      <th></th>\n",
       "      <th></th>\n",
       "      <th></th>\n",
       "      <th></th>\n",
       "    </tr>\n",
       "  </thead>\n",
       "  <tbody>\n",
       "    <tr>\n",
       "      <th>--uXQQ0h-yQ</th>\n",
       "      <td>246618</td>\n",
       "      <td>2173</td>\n",
       "      <td>27</td>\n",
       "      <td>102</td>\n",
       "    </tr>\n",
       "    <tr>\n",
       "      <th>-3VBPAZPTQI</th>\n",
       "      <td>4926085</td>\n",
       "      <td>205249</td>\n",
       "      <td>3918</td>\n",
       "      <td>11513</td>\n",
       "    </tr>\n",
       "    <tr>\n",
       "      <th>-43MBOJnVks</th>\n",
       "      <td>2303237</td>\n",
       "      <td>24173</td>\n",
       "      <td>1162</td>\n",
       "      <td>3220</td>\n",
       "    </tr>\n",
       "    <tr>\n",
       "      <th>-5WBCrazSfg</th>\n",
       "      <td>2861411</td>\n",
       "      <td>60839</td>\n",
       "      <td>983</td>\n",
       "      <td>6294</td>\n",
       "    </tr>\n",
       "    <tr>\n",
       "      <th>-5aaJJQFvOg</th>\n",
       "      <td>45754128</td>\n",
       "      <td>4856486</td>\n",
       "      <td>73795</td>\n",
       "      <td>222385</td>\n",
       "    </tr>\n",
       "    <tr>\n",
       "      <th>...</th>\n",
       "      <td>...</td>\n",
       "      <td>...</td>\n",
       "      <td>...</td>\n",
       "      <td>...</td>\n",
       "    </tr>\n",
       "    <tr>\n",
       "      <th>zwEn-ambXLw</th>\n",
       "      <td>2659300</td>\n",
       "      <td>98136</td>\n",
       "      <td>1567</td>\n",
       "      <td>4054</td>\n",
       "    </tr>\n",
       "    <tr>\n",
       "      <th>zwrlJwed2mQ</th>\n",
       "      <td>496415</td>\n",
       "      <td>4806</td>\n",
       "      <td>13</td>\n",
       "      <td>152</td>\n",
       "    </tr>\n",
       "    <tr>\n",
       "      <th>zxGg8QqWrRQ</th>\n",
       "      <td>572491</td>\n",
       "      <td>9516</td>\n",
       "      <td>471</td>\n",
       "      <td>1715</td>\n",
       "    </tr>\n",
       "    <tr>\n",
       "      <th>zxjv0lo8bU8</th>\n",
       "      <td>4293505</td>\n",
       "      <td>161636</td>\n",
       "      <td>1614</td>\n",
       "      <td>9531</td>\n",
       "    </tr>\n",
       "    <tr>\n",
       "      <th>zxwfDlhJIpw</th>\n",
       "      <td>288382131</td>\n",
       "      <td>5811436</td>\n",
       "      <td>674972</td>\n",
       "      <td>1694655</td>\n",
       "    </tr>\n",
       "  </tbody>\n",
       "</table>\n",
       "<p>3272 rows × 4 columns</p>\n",
       "</div>"
      ],
      "text/plain": [
       "                 views    likes  dislikes  comment_count\n",
       "video_id                                                \n",
       "--uXQQ0h-yQ     246618     2173        27            102\n",
       "-3VBPAZPTQI    4926085   205249      3918          11513\n",
       "-43MBOJnVks    2303237    24173      1162           3220\n",
       "-5WBCrazSfg    2861411    60839       983           6294\n",
       "-5aaJJQFvOg   45754128  4856486     73795         222385\n",
       "...                ...      ...       ...            ...\n",
       "zwEn-ambXLw    2659300    98136      1567           4054\n",
       "zwrlJwed2mQ     496415     4806        13            152\n",
       "zxGg8QqWrRQ     572491     9516       471           1715\n",
       "zxjv0lo8bU8    4293505   161636      1614           9531\n",
       "zxwfDlhJIpw  288382131  5811436    674972        1694655\n",
       "\n",
       "[3272 rows x 4 columns]"
      ]
     },
     "execution_count": 72,
     "metadata": {},
     "output_type": "execute_result"
    }
   ],
   "source": [
    "video_insights_df"
   ]
  },
  {
   "cell_type": "markdown",
   "metadata": {},
   "source": [
    "## Use Pandas to load the Dataframes into Database"
   ]
  },
  {
   "cell_type": "code",
   "execution_count": 73,
   "metadata": {},
   "outputs": [],
   "source": [
    "#Connect to local database\n",
    "rds_connection_string = \"postgres:***@localhost:5432/youtube_db\"\n",
    "engine = create_engine(f'postgresql://{rds_connection_string}')"
   ]
  },
  {
   "cell_type": "code",
   "execution_count": 74,
   "metadata": {},
   "outputs": [],
   "source": [
    "#Load DataFrames into PostgreSQL tables\n",
    "#As video_insight table is comming from a group_by instruction, the index (video_id) needs to be added as column\n",
    "video_insights_df.to_sql(name='video_insight', con=engine, if_exists='replace', index=True)\n",
    "video_description_df.to_sql(name='video_description', con=engine, if_exists='replace', index=False)\n",
    "categories_df.to_sql(name='categories', con=engine, if_exists='replace', index=False)\n",
    "tags_df.to_sql(name='tag_catalogue', con=engine, if_exists='replace', index=False)\n",
    "video_tag_clean_df.to_sql(name='video_tag', con=engine, if_exists='replace', index=False)\n"
   ]
  },
  {
   "cell_type": "markdown",
   "metadata": {},
   "source": [
    "Adding Keys to each one of the tables"
   ]
  },
  {
   "cell_type": "code",
   "execution_count": 75,
   "metadata": {},
   "outputs": [
    {
     "data": {
      "text/plain": [
       "<sqlalchemy.engine.result.ResultProxy at 0x7f9f25524190>"
      ]
     },
     "execution_count": 75,
     "metadata": {},
     "output_type": "execute_result"
    }
   ],
   "source": [
    "#video_insight\n",
    "engine.execute(\"alter table video_insight add primary key (video_id)\")"
   ]
  },
  {
   "cell_type": "code",
   "execution_count": 76,
   "metadata": {},
   "outputs": [
    {
     "data": {
      "text/plain": [
       "<sqlalchemy.engine.result.ResultProxy at 0x7f9f25524370>"
      ]
     },
     "execution_count": 76,
     "metadata": {},
     "output_type": "execute_result"
    }
   ],
   "source": [
    "#video_description\n",
    "engine.execute(\"alter table video_description add primary key (video_id)\")"
   ]
  },
  {
   "cell_type": "code",
   "execution_count": 77,
   "metadata": {},
   "outputs": [
    {
     "data": {
      "text/plain": [
       "<sqlalchemy.engine.result.ResultProxy at 0x7f9f24a967c0>"
      ]
     },
     "execution_count": 77,
     "metadata": {},
     "output_type": "execute_result"
    }
   ],
   "source": [
    "#categories\n",
    "engine.execute(\"alter table categories add primary key (category_id)\")"
   ]
  },
  {
   "cell_type": "code",
   "execution_count": 78,
   "metadata": {},
   "outputs": [
    {
     "data": {
      "text/plain": [
       "<sqlalchemy.engine.result.ResultProxy at 0x7f9f24a966a0>"
      ]
     },
     "execution_count": 78,
     "metadata": {},
     "output_type": "execute_result"
    }
   ],
   "source": [
    "#tag_catalogue\n",
    "engine.execute(\"alter table tag_catalogue add primary key (tag_name)\")"
   ]
  },
  {
   "cell_type": "code",
   "execution_count": 79,
   "metadata": {},
   "outputs": [
    {
     "data": {
      "text/plain": [
       "<sqlalchemy.engine.result.ResultProxy at 0x7f9f24a96bb0>"
      ]
     },
     "execution_count": 79,
     "metadata": {},
     "output_type": "execute_result"
    }
   ],
   "source": [
    "#video_tag\n",
    "engine.execute(\"alter table video_tag add primary key (video_id,tag_name)\")"
   ]
  },
  {
   "cell_type": "markdown",
   "metadata": {},
   "source": [
    "# Queries"
   ]
  },
  {
   "cell_type": "markdown",
   "metadata": {},
   "source": [
    "Using SQLAlchemy to explore data"
   ]
  },
  {
   "cell_type": "code",
   "execution_count": 80,
   "metadata": {},
   "outputs": [],
   "source": [
    "import sqlalchemy\n",
    "from sqlalchemy.ext.automap import automap_base\n",
    "from sqlalchemy.orm import Session\n",
    "from sqlalchemy import create_engine, func, Column, Integer, String, Float, Table\n",
    "from sqlalchemy.sql.expression import cast"
   ]
  },
  {
   "cell_type": "code",
   "execution_count": 81,
   "metadata": {},
   "outputs": [],
   "source": [
    "Base = automap_base()\n",
    "Base.prepare(engine, reflect=True)"
   ]
  },
  {
   "cell_type": "code",
   "execution_count": 82,
   "metadata": {},
   "outputs": [
    {
     "data": {
      "text/plain": [
       "['video_tag',\n",
       " 'video_insight',\n",
       " 'video_description',\n",
       " 'categories',\n",
       " 'tag_catalogue']"
      ]
     },
     "execution_count": 82,
     "metadata": {},
     "output_type": "execute_result"
    }
   ],
   "source": [
    "# We can view all of the classes that automap found\n",
    "Base.classes.keys()"
   ]
  },
  {
   "cell_type": "code",
   "execution_count": 83,
   "metadata": {},
   "outputs": [],
   "source": [
    "#References to each one of the tables\n",
    "Video_Insight =  Base.classes.video_insight\n",
    "Video_Description =  Base.classes.video_description\n",
    "Categories = Base.classes.categories\n",
    "Tag_Catalogue = Base.classes.tag_catalogue\n",
    "Video_Tag = Base.classes.video_tag"
   ]
  },
  {
   "cell_type": "code",
   "execution_count": 84,
   "metadata": {},
   "outputs": [],
   "source": [
    "# Create our session (link) from Python to the DB\n",
    "session = Session(bind=engine)"
   ]
  },
  {
   "cell_type": "markdown",
   "metadata": {},
   "source": [
    "## Top 10 videos (more views)"
   ]
  },
  {
   "cell_type": "markdown",
   "metadata": {},
   "source": [
    "It shows the top 10 videos in Great Britain"
   ]
  },
  {
   "cell_type": "code",
   "execution_count": 85,
   "metadata": {},
   "outputs": [
    {
     "data": {
      "text/html": [
       "<div>\n",
       "<style scoped>\n",
       "    .dataframe tbody tr th:only-of-type {\n",
       "        vertical-align: middle;\n",
       "    }\n",
       "\n",
       "    .dataframe tbody tr th {\n",
       "        vertical-align: top;\n",
       "    }\n",
       "\n",
       "    .dataframe thead th {\n",
       "        text-align: right;\n",
       "    }\n",
       "</style>\n",
       "<table border=\"1\" class=\"dataframe\">\n",
       "  <thead>\n",
       "    <tr style=\"text-align: right;\">\n",
       "      <th></th>\n",
       "      <th>title</th>\n",
       "      <th>views</th>\n",
       "    </tr>\n",
       "  </thead>\n",
       "  <tbody>\n",
       "    <tr>\n",
       "      <th>0</th>\n",
       "      <td>Nicky Jam x J. Balvin - X (EQUIS) | Video Oficial</td>\n",
       "      <td>8232584412</td>\n",
       "    </tr>\n",
       "    <tr>\n",
       "      <th>1</th>\n",
       "      <td>Bad Bunny - Amorfoda | Video Oficial</td>\n",
       "      <td>6891280759</td>\n",
       "    </tr>\n",
       "    <tr>\n",
       "      <th>2</th>\n",
       "      <td>Childish Gambino - This Is America (Official V...</td>\n",
       "      <td>6101309613</td>\n",
       "    </tr>\n",
       "    <tr>\n",
       "      <th>3</th>\n",
       "      <td>Te Bote Remix - Casper, Nio García, Darell, Ni...</td>\n",
       "      <td>5151438858</td>\n",
       "    </tr>\n",
       "    <tr>\n",
       "      <th>4</th>\n",
       "      <td>Drake - God’s Plan</td>\n",
       "      <td>4625496538</td>\n",
       "    </tr>\n",
       "    <tr>\n",
       "      <th>5</th>\n",
       "      <td>Ozuna x Romeo Santos - El Farsante Remix</td>\n",
       "      <td>4396004901</td>\n",
       "    </tr>\n",
       "    <tr>\n",
       "      <th>6</th>\n",
       "      <td>Ariana Grande - No Tears Left To Cry</td>\n",
       "      <td>4107436350</td>\n",
       "    </tr>\n",
       "    <tr>\n",
       "      <th>7</th>\n",
       "      <td>Ozuna - Única (Video Oficial) 🐻 A U R A</td>\n",
       "      <td>3167448536</td>\n",
       "    </tr>\n",
       "    <tr>\n",
       "      <th>8</th>\n",
       "      <td>Becky G, Natti Natasha - Sin Pijama (Official ...</td>\n",
       "      <td>3044516667</td>\n",
       "    </tr>\n",
       "    <tr>\n",
       "      <th>9</th>\n",
       "      <td>YouTube Rewind: The Shape of 2017 | #YouTubeRe...</td>\n",
       "      <td>2403636485</td>\n",
       "    </tr>\n",
       "  </tbody>\n",
       "</table>\n",
       "</div>"
      ],
      "text/plain": [
       "                                               title       views\n",
       "0  Nicky Jam x J. Balvin - X (EQUIS) | Video Oficial  8232584412\n",
       "1               Bad Bunny - Amorfoda | Video Oficial  6891280759\n",
       "2  Childish Gambino - This Is America (Official V...  6101309613\n",
       "3  Te Bote Remix - Casper, Nio García, Darell, Ni...  5151438858\n",
       "4                                 Drake - God’s Plan  4625496538\n",
       "5           Ozuna x Romeo Santos - El Farsante Remix  4396004901\n",
       "6               Ariana Grande - No Tears Left To Cry  4107436350\n",
       "7           Ozuna - Única (Video Oficial) 🐻 A U R A  3167448536\n",
       "8  Becky G, Natti Natasha - Sin Pijama (Official ...  3044516667\n",
       "9  YouTube Rewind: The Shape of 2017 | #YouTubeRe...  2403636485"
      ]
     },
     "execution_count": 85,
     "metadata": {},
     "output_type": "execute_result"
    }
   ],
   "source": [
    "#Getting the order by desc of 'views' column\n",
    "top_videos = (session.query(Video_Description.title,Video_Insight.views ).join(Video_Description, \n",
    "                    Video_Insight.video_id == Video_Description.video_id)\n",
    "              .order_by(Video_Insight.views.desc()).limit(10))\n",
    "\n",
    "#Convert it to DataFrame to display results\n",
    "top_videos_df = pd.read_sql(top_videos.statement, engine )\n",
    "top_videos_df"
   ]
  },
  {
   "cell_type": "markdown",
   "metadata": {},
   "source": [
    "\n",
    "## Most Liked Videos"
   ]
  },
  {
   "cell_type": "markdown",
   "metadata": {},
   "source": [
    "It shows the 10 most liked videos in Great Britain"
   ]
  },
  {
   "cell_type": "code",
   "execution_count": 86,
   "metadata": {},
   "outputs": [
    {
     "data": {
      "text/html": [
       "<div>\n",
       "<style scoped>\n",
       "    .dataframe tbody tr th:only-of-type {\n",
       "        vertical-align: middle;\n",
       "    }\n",
       "\n",
       "    .dataframe tbody tr th {\n",
       "        vertical-align: top;\n",
       "    }\n",
       "\n",
       "    .dataframe thead th {\n",
       "        text-align: right;\n",
       "    }\n",
       "</style>\n",
       "<table border=\"1\" class=\"dataframe\">\n",
       "  <thead>\n",
       "    <tr style=\"text-align: right;\">\n",
       "      <th></th>\n",
       "      <th>title</th>\n",
       "      <th>likes</th>\n",
       "    </tr>\n",
       "  </thead>\n",
       "  <tbody>\n",
       "    <tr>\n",
       "      <th>0</th>\n",
       "      <td>Childish Gambino - This Is America (Official V...</td>\n",
       "      <td>148408057</td>\n",
       "    </tr>\n",
       "    <tr>\n",
       "      <th>1</th>\n",
       "      <td>Drake - God’s Plan</td>\n",
       "      <td>118068312</td>\n",
       "    </tr>\n",
       "    <tr>\n",
       "      <th>2</th>\n",
       "      <td>Bad Bunny - Amorfoda | Video Oficial</td>\n",
       "      <td>106452827</td>\n",
       "    </tr>\n",
       "    <tr>\n",
       "      <th>3</th>\n",
       "      <td>Ariana Grande - No Tears Left To Cry</td>\n",
       "      <td>97532165</td>\n",
       "    </tr>\n",
       "    <tr>\n",
       "      <th>4</th>\n",
       "      <td>BTS (방탄소년단) 'FAKE LOVE' Official MV</td>\n",
       "      <td>71835062</td>\n",
       "    </tr>\n",
       "    <tr>\n",
       "      <th>5</th>\n",
       "      <td>Nicky Jam x J. Balvin - X (EQUIS) | Video Oficial</td>\n",
       "      <td>60666562</td>\n",
       "    </tr>\n",
       "    <tr>\n",
       "      <th>6</th>\n",
       "      <td>Taylor Swift - Delicate</td>\n",
       "      <td>56134055</td>\n",
       "    </tr>\n",
       "    <tr>\n",
       "      <th>7</th>\n",
       "      <td>Te Bote Remix - Casper, Nio García, Darell, Ni...</td>\n",
       "      <td>53517444</td>\n",
       "    </tr>\n",
       "    <tr>\n",
       "      <th>8</th>\n",
       "      <td>BTS (방탄소년단) 'Euphoria : Theme of LOVE YOURSELF...</td>\n",
       "      <td>53451962</td>\n",
       "    </tr>\n",
       "    <tr>\n",
       "      <th>9</th>\n",
       "      <td>j-hope 'Airplane' MV</td>\n",
       "      <td>52907912</td>\n",
       "    </tr>\n",
       "  </tbody>\n",
       "</table>\n",
       "</div>"
      ],
      "text/plain": [
       "                                               title      likes\n",
       "0  Childish Gambino - This Is America (Official V...  148408057\n",
       "1                                 Drake - God’s Plan  118068312\n",
       "2               Bad Bunny - Amorfoda | Video Oficial  106452827\n",
       "3               Ariana Grande - No Tears Left To Cry   97532165\n",
       "4                BTS (방탄소년단) 'FAKE LOVE' Official MV   71835062\n",
       "5  Nicky Jam x J. Balvin - X (EQUIS) | Video Oficial   60666562\n",
       "6                            Taylor Swift - Delicate   56134055\n",
       "7  Te Bote Remix - Casper, Nio García, Darell, Ni...   53517444\n",
       "8  BTS (방탄소년단) 'Euphoria : Theme of LOVE YOURSELF...   53451962\n",
       "9                               j-hope 'Airplane' MV   52907912"
      ]
     },
     "execution_count": 86,
     "metadata": {},
     "output_type": "execute_result"
    }
   ],
   "source": [
    "#Getting the order by desc of 'likes' column\n",
    "liked_videos = (session.query(Video_Description.title,Video_Insight.likes ).join(Video_Description, \n",
    "                    Video_Insight.video_id == Video_Description.video_id)\n",
    "              .order_by(Video_Insight.likes.desc()).limit(10))\n",
    "\n",
    "#Convert it to DataFrame to display results\n",
    "liked_videos_df = pd.read_sql(liked_videos.statement, engine )\n",
    "liked_videos_df"
   ]
  },
  {
   "cell_type": "markdown",
   "metadata": {},
   "source": [
    "## Most Disliked videos\n"
   ]
  },
  {
   "cell_type": "code",
   "execution_count": 87,
   "metadata": {},
   "outputs": [
    {
     "data": {
      "text/html": [
       "<div>\n",
       "<style scoped>\n",
       "    .dataframe tbody tr th:only-of-type {\n",
       "        vertical-align: middle;\n",
       "    }\n",
       "\n",
       "    .dataframe tbody tr th {\n",
       "        vertical-align: top;\n",
       "    }\n",
       "\n",
       "    .dataframe thead th {\n",
       "        text-align: right;\n",
       "    }\n",
       "</style>\n",
       "<table border=\"1\" class=\"dataframe\">\n",
       "  <thead>\n",
       "    <tr style=\"text-align: right;\">\n",
       "      <th></th>\n",
       "      <th>title</th>\n",
       "      <th>dislikes</th>\n",
       "    </tr>\n",
       "  </thead>\n",
       "  <tbody>\n",
       "    <tr>\n",
       "      <th>0</th>\n",
       "      <td>YouTube Rewind: The Shape of 2017 | #YouTubeRe...</td>\n",
       "      <td>27250882</td>\n",
       "    </tr>\n",
       "    <tr>\n",
       "      <th>1</th>\n",
       "      <td>So Sorry.</td>\n",
       "      <td>22383271</td>\n",
       "    </tr>\n",
       "    <tr>\n",
       "      <th>2</th>\n",
       "      <td>Lucas Lucco e Pabllo Vittar - Paraíso</td>\n",
       "      <td>10006058</td>\n",
       "    </tr>\n",
       "    <tr>\n",
       "      <th>3</th>\n",
       "      <td>Childish Gambino - This Is America (Official V...</td>\n",
       "      <td>9558340</td>\n",
       "    </tr>\n",
       "    <tr>\n",
       "      <th>4</th>\n",
       "      <td>Fergie Performs The U.S. National Anthem / 201...</td>\n",
       "      <td>6427854</td>\n",
       "    </tr>\n",
       "    <tr>\n",
       "      <th>5</th>\n",
       "      <td>Suicide: Be Here Tomorrow.</td>\n",
       "      <td>5348765</td>\n",
       "    </tr>\n",
       "    <tr>\n",
       "      <th>6</th>\n",
       "      <td>Bad Bunny - Amorfoda | Video Oficial</td>\n",
       "      <td>5256551</td>\n",
       "    </tr>\n",
       "    <tr>\n",
       "      <th>7</th>\n",
       "      <td>PSA from Chairman of the FCC Ajit Pai</td>\n",
       "      <td>4359597</td>\n",
       "    </tr>\n",
       "    <tr>\n",
       "      <th>8</th>\n",
       "      <td>Ariana Grande - No Tears Left To Cry</td>\n",
       "      <td>3941157</td>\n",
       "    </tr>\n",
       "    <tr>\n",
       "      <th>9</th>\n",
       "      <td>Shakira - Trap (Official Video) ft. Maluma</td>\n",
       "      <td>3901027</td>\n",
       "    </tr>\n",
       "  </tbody>\n",
       "</table>\n",
       "</div>"
      ],
      "text/plain": [
       "                                               title  dislikes\n",
       "0  YouTube Rewind: The Shape of 2017 | #YouTubeRe...  27250882\n",
       "1                                          So Sorry.  22383271\n",
       "2              Lucas Lucco e Pabllo Vittar - Paraíso  10006058\n",
       "3  Childish Gambino - This Is America (Official V...   9558340\n",
       "4  Fergie Performs The U.S. National Anthem / 201...   6427854\n",
       "5                         Suicide: Be Here Tomorrow.   5348765\n",
       "6               Bad Bunny - Amorfoda | Video Oficial   5256551\n",
       "7              PSA from Chairman of the FCC Ajit Pai   4359597\n",
       "8               Ariana Grande - No Tears Left To Cry   3941157\n",
       "9         Shakira - Trap (Official Video) ft. Maluma   3901027"
      ]
     },
     "execution_count": 87,
     "metadata": {},
     "output_type": "execute_result"
    }
   ],
   "source": [
    "#Getting the order by desc of 'dislikes' column\n",
    "disliked_videos = (session.query(Video_Description.title,Video_Insight.dislikes ).join(Video_Description, \n",
    "                    Video_Insight.video_id == Video_Description.video_id)\n",
    "              .order_by(Video_Insight.dislikes.desc()).limit(10))\n",
    "\n",
    "#Convert it to DataFrame to display results\n",
    "disliked_videos_df = pd.read_sql(disliked_videos.statement, engine )\n",
    "disliked_videos_df"
   ]
  },
  {
   "cell_type": "markdown",
   "metadata": {},
   "source": [
    "## Most viewed Categories"
   ]
  },
  {
   "cell_type": "code",
   "execution_count": 88,
   "metadata": {},
   "outputs": [
    {
     "data": {
      "text/html": [
       "<div>\n",
       "<style scoped>\n",
       "    .dataframe tbody tr th:only-of-type {\n",
       "        vertical-align: middle;\n",
       "    }\n",
       "\n",
       "    .dataframe tbody tr th {\n",
       "        vertical-align: top;\n",
       "    }\n",
       "\n",
       "    .dataframe thead th {\n",
       "        text-align: right;\n",
       "    }\n",
       "</style>\n",
       "<table border=\"1\" class=\"dataframe\">\n",
       "  <thead>\n",
       "    <tr style=\"text-align: right;\">\n",
       "      <th></th>\n",
       "      <th>category_name</th>\n",
       "      <th>views</th>\n",
       "    </tr>\n",
       "  </thead>\n",
       "  <tbody>\n",
       "    <tr>\n",
       "      <th>0</th>\n",
       "      <td>Music</td>\n",
       "      <td>1.710913e+11</td>\n",
       "    </tr>\n",
       "    <tr>\n",
       "      <th>1</th>\n",
       "      <td>Entertainment</td>\n",
       "      <td>2.982207e+10</td>\n",
       "    </tr>\n",
       "    <tr>\n",
       "      <th>2</th>\n",
       "      <td>Film &amp; Animation</td>\n",
       "      <td>8.319385e+09</td>\n",
       "    </tr>\n",
       "    <tr>\n",
       "      <th>3</th>\n",
       "      <td>People &amp; Blogs</td>\n",
       "      <td>5.843342e+09</td>\n",
       "    </tr>\n",
       "    <tr>\n",
       "      <th>4</th>\n",
       "      <td>Comedy</td>\n",
       "      <td>3.960938e+09</td>\n",
       "    </tr>\n",
       "    <tr>\n",
       "      <th>5</th>\n",
       "      <td>Sports</td>\n",
       "      <td>3.370319e+09</td>\n",
       "    </tr>\n",
       "    <tr>\n",
       "      <th>6</th>\n",
       "      <td>Gaming</td>\n",
       "      <td>1.751768e+09</td>\n",
       "    </tr>\n",
       "    <tr>\n",
       "      <th>7</th>\n",
       "      <td>Science &amp; Technology</td>\n",
       "      <td>1.641388e+09</td>\n",
       "    </tr>\n",
       "    <tr>\n",
       "      <th>8</th>\n",
       "      <td>News &amp; Politics</td>\n",
       "      <td>1.409131e+09</td>\n",
       "    </tr>\n",
       "    <tr>\n",
       "      <th>9</th>\n",
       "      <td>Howto &amp; Style</td>\n",
       "      <td>1.174128e+09</td>\n",
       "    </tr>\n",
       "    <tr>\n",
       "      <th>10</th>\n",
       "      <td>Pets &amp; Animals</td>\n",
       "      <td>5.413206e+08</td>\n",
       "    </tr>\n",
       "    <tr>\n",
       "      <th>11</th>\n",
       "      <td>Education</td>\n",
       "      <td>4.442906e+08</td>\n",
       "    </tr>\n",
       "    <tr>\n",
       "      <th>12</th>\n",
       "      <td>Autos &amp; Vehicles</td>\n",
       "      <td>2.141845e+08</td>\n",
       "    </tr>\n",
       "    <tr>\n",
       "      <th>13</th>\n",
       "      <td>Travel &amp; Events</td>\n",
       "      <td>1.327850e+08</td>\n",
       "    </tr>\n",
       "  </tbody>\n",
       "</table>\n",
       "</div>"
      ],
      "text/plain": [
       "           category_name         views\n",
       "0                  Music  1.710913e+11\n",
       "1          Entertainment  2.982207e+10\n",
       "2       Film & Animation  8.319385e+09\n",
       "3         People & Blogs  5.843342e+09\n",
       "4                 Comedy  3.960938e+09\n",
       "5                 Sports  3.370319e+09\n",
       "6                 Gaming  1.751768e+09\n",
       "7   Science & Technology  1.641388e+09\n",
       "8        News & Politics  1.409131e+09\n",
       "9          Howto & Style  1.174128e+09\n",
       "10        Pets & Animals  5.413206e+08\n",
       "11             Education  4.442906e+08\n",
       "12      Autos & Vehicles  2.141845e+08\n",
       "13       Travel & Events  1.327850e+08"
      ]
     },
     "execution_count": 88,
     "metadata": {},
     "output_type": "execute_result"
    }
   ],
   "source": [
    "#Getting the order by desc of 'views' column\n",
    "views = func.sum(Video_Insight.views).label('views')\n",
    "\n",
    "categories_videos = (\n",
    "                    session.query(Categories.category_name, views)\n",
    "                   .join(Video_Description, Categories.category_id == cast(Video_Description.category_id,String))\n",
    "                    .join(Video_Insight, Video_Description.video_id == Video_Insight.video_id)\n",
    "                    .group_by(Categories.category_name)\n",
    "                    .order_by(views.desc())\n",
    "                    )\n",
    "                   \n",
    "#Convert it to DataFrame to display results\n",
    "categories_df = pd.read_sql(categories_videos.statement, engine )\n",
    "categories_df"
   ]
  },
  {
   "cell_type": "markdown",
   "metadata": {},
   "source": [
    "## Top 10 tags"
   ]
  },
  {
   "cell_type": "code",
   "execution_count": 91,
   "metadata": {},
   "outputs": [
    {
     "data": {
      "text/html": [
       "<div>\n",
       "<style scoped>\n",
       "    .dataframe tbody tr th:only-of-type {\n",
       "        vertical-align: middle;\n",
       "    }\n",
       "\n",
       "    .dataframe tbody tr th {\n",
       "        vertical-align: top;\n",
       "    }\n",
       "\n",
       "    .dataframe thead th {\n",
       "        text-align: right;\n",
       "    }\n",
       "</style>\n",
       "<table border=\"1\" class=\"dataframe\">\n",
       "  <thead>\n",
       "    <tr style=\"text-align: right;\">\n",
       "      <th></th>\n",
       "      <th>tag_name</th>\n",
       "      <th>num_videos</th>\n",
       "    </tr>\n",
       "  </thead>\n",
       "  <tbody>\n",
       "    <tr>\n",
       "      <th>0</th>\n",
       "      <td>funny</td>\n",
       "      <td>319</td>\n",
       "    </tr>\n",
       "    <tr>\n",
       "      <th>1</th>\n",
       "      <td>comedy</td>\n",
       "      <td>263</td>\n",
       "    </tr>\n",
       "    <tr>\n",
       "      <th>2</th>\n",
       "      <td>music</td>\n",
       "      <td>206</td>\n",
       "    </tr>\n",
       "    <tr>\n",
       "      <th>3</th>\n",
       "      <td>humor</td>\n",
       "      <td>161</td>\n",
       "    </tr>\n",
       "    <tr>\n",
       "      <th>4</th>\n",
       "      <td>interview</td>\n",
       "      <td>152</td>\n",
       "    </tr>\n",
       "    <tr>\n",
       "      <th>5</th>\n",
       "      <td>video</td>\n",
       "      <td>138</td>\n",
       "    </tr>\n",
       "    <tr>\n",
       "      <th>6</th>\n",
       "      <td>comedian</td>\n",
       "      <td>138</td>\n",
       "    </tr>\n",
       "    <tr>\n",
       "      <th>7</th>\n",
       "      <td>late night</td>\n",
       "      <td>131</td>\n",
       "    </tr>\n",
       "    <tr>\n",
       "      <th>8</th>\n",
       "      <td>celebrities</td>\n",
       "      <td>128</td>\n",
       "    </tr>\n",
       "    <tr>\n",
       "      <th>9</th>\n",
       "      <td>jokes</td>\n",
       "      <td>126</td>\n",
       "    </tr>\n",
       "  </tbody>\n",
       "</table>\n",
       "</div>"
      ],
      "text/plain": [
       "      tag_name  num_videos\n",
       "0        funny         319\n",
       "1       comedy         263\n",
       "2        music         206\n",
       "3        humor         161\n",
       "4    interview         152\n",
       "5        video         138\n",
       "6     comedian         138\n",
       "7   late night         131\n",
       "8  celebrities         128\n",
       "9        jokes         126"
      ]
     },
     "execution_count": 91,
     "metadata": {},
     "output_type": "execute_result"
    }
   ],
   "source": [
    "#Getting the order by desc of 'likes' column\n",
    "#Grouping by Tag and number of videos associated to that tag, narrowed to 5 videos\n",
    "num_videos = func.count(Video_Description.video_id).label(\"num_videos\")\n",
    "tags_videos = (\n",
    "                    session.query(Tag_Catalogue.tag_name, num_videos)\n",
    "                   .join(Video_Tag, Tag_Catalogue.tag_name == Video_Tag.tag_name)\n",
    "                    .join(Video_Description, Video_Tag.video_id == Video_Description.video_id)\n",
    "                    .group_by(Tag_Catalogue.tag_name)\n",
    "                    .order_by(num_videos.desc())\n",
    "                    .limit(10)\n",
    "                    )\n",
    "                   \n",
    "#Convert it to DataFrame to display results\n",
    "tags_videos_df = pd.read_sql(tags_videos.statement, engine )\n",
    "tags_videos_df"
   ]
  },
  {
   "cell_type": "markdown",
   "metadata": {},
   "source": [
    "### Showing videos with random chosen tags"
   ]
  },
  {
   "cell_type": "markdown",
   "metadata": {},
   "source": [
    "From the top 10 used tags, lets choose 3 of them randomly and see which videos are using them"
   ]
  },
  {
   "cell_type": "code",
   "execution_count": 94,
   "metadata": {},
   "outputs": [],
   "source": [
    "import random"
   ]
  },
  {
   "cell_type": "code",
   "execution_count": 92,
   "metadata": {},
   "outputs": [],
   "source": [
    "top_tags = tags_videos_df['tag_name']"
   ]
  },
  {
   "cell_type": "code",
   "execution_count": 118,
   "metadata": {},
   "outputs": [
    {
     "name": "stdout",
     "output_type": "stream",
     "text": [
      "Tag filter: ['late night', 'interview', 'comedian']\n"
     ]
    }
   ],
   "source": [
    "random_tags = []\n",
    "#Randomly assign how many tags are used to search videos\n",
    "num_tags = random.randint(1,4)\n",
    "\n",
    "#Iterating on random tag number\n",
    "for i in range(num_tags):\n",
    "    #Pick the tags randomly\n",
    "    tag_ranking = random.randint(0,len(top_tags)-1)\n",
    "    \n",
    "    #Validating if tag is not assigned to random tags list\n",
    "    if top_tags[tag_ranking] not in random_tags:\n",
    "        random_tags.append(top_tags[tag_ranking])\n",
    "\n",
    "print(f\"Tag filter: {random_tags}\")"
   ]
  },
  {
   "cell_type": "code",
   "execution_count": 135,
   "metadata": {},
   "outputs": [],
   "source": [
    "#Final random tag list is the condition to get videos\n",
    "\n",
    "videos_by_tag = (\n",
    "                session.query(Video_Description.title, Tag_Catalogue.tag_name )\n",
    "                .join(Video_Tag, Video_Description.video_id == Video_Tag.video_id)\n",
    "                .join(Tag_Catalogue, Video_Tag.tag_name == Tag_Catalogue.tag_name)\n",
    "                .filter(Tag_Catalogue.tag_name.in_(random_tags))\n",
    "                .order_by(Tag_Catalogue.tag_name)\n",
    ")\n"
   ]
  },
  {
   "cell_type": "code",
   "execution_count": 136,
   "metadata": {},
   "outputs": [
    {
     "data": {
      "text/html": [
       "<div>\n",
       "<style scoped>\n",
       "    .dataframe tbody tr th:only-of-type {\n",
       "        vertical-align: middle;\n",
       "    }\n",
       "\n",
       "    .dataframe tbody tr th {\n",
       "        vertical-align: top;\n",
       "    }\n",
       "\n",
       "    .dataframe thead th {\n",
       "        text-align: right;\n",
       "    }\n",
       "</style>\n",
       "<table border=\"1\" class=\"dataframe\">\n",
       "  <thead>\n",
       "    <tr style=\"text-align: right;\">\n",
       "      <th></th>\n",
       "      <th>title</th>\n",
       "      <th>tag_name</th>\n",
       "    </tr>\n",
       "  </thead>\n",
       "  <tbody>\n",
       "    <tr>\n",
       "      <th>0</th>\n",
       "      <td>JRE MMA Show #11 with John Danaher</td>\n",
       "      <td>comedian</td>\n",
       "    </tr>\n",
       "    <tr>\n",
       "      <th>1</th>\n",
       "      <td>Hawaii's Weekend Missile Mishap</td>\n",
       "      <td>comedian</td>\n",
       "    </tr>\n",
       "    <tr>\n",
       "      <th>2</th>\n",
       "      <td>Amy Schumer Is Ready to Host the Best SNL Yet</td>\n",
       "      <td>comedian</td>\n",
       "    </tr>\n",
       "    <tr>\n",
       "      <th>3</th>\n",
       "      <td>Christina Aguilera Carpool Karaoke - Extended Cut</td>\n",
       "      <td>comedian</td>\n",
       "    </tr>\n",
       "    <tr>\n",
       "      <th>4</th>\n",
       "      <td>New Hulu Show - SNL</td>\n",
       "      <td>comedian</td>\n",
       "    </tr>\n",
       "    <tr>\n",
       "      <th>...</th>\n",
       "      <td>...</td>\n",
       "      <td>...</td>\n",
       "    </tr>\n",
       "    <tr>\n",
       "      <th>416</th>\n",
       "      <td>Tony Awards The Musical Starring Sara Bareille...</td>\n",
       "      <td>late night</td>\n",
       "    </tr>\n",
       "    <tr>\n",
       "      <th>417</th>\n",
       "      <td>Niecy Nash Has A Prince Story</td>\n",
       "      <td>late night</td>\n",
       "    </tr>\n",
       "    <tr>\n",
       "      <th>418</th>\n",
       "      <td>Shawn Mendes: Perfectly Wrong #LateLateShow</td>\n",
       "      <td>late night</td>\n",
       "    </tr>\n",
       "    <tr>\n",
       "      <th>419</th>\n",
       "      <td>Hilary Duff Is Having a Baby Girl and Her Son ...</td>\n",
       "      <td>late night</td>\n",
       "    </tr>\n",
       "    <tr>\n",
       "      <th>420</th>\n",
       "      <td>Drop the Mic w/ Ashton Kutcher &amp; Sean Diddy Combs</td>\n",
       "      <td>late night</td>\n",
       "    </tr>\n",
       "  </tbody>\n",
       "</table>\n",
       "<p>421 rows × 2 columns</p>\n",
       "</div>"
      ],
      "text/plain": [
       "                                                 title    tag_name\n",
       "0                   JRE MMA Show #11 with John Danaher    comedian\n",
       "1                      Hawaii's Weekend Missile Mishap    comedian\n",
       "2        Amy Schumer Is Ready to Host the Best SNL Yet    comedian\n",
       "3    Christina Aguilera Carpool Karaoke - Extended Cut    comedian\n",
       "4                                  New Hulu Show - SNL    comedian\n",
       "..                                                 ...         ...\n",
       "416  Tony Awards The Musical Starring Sara Bareille...  late night\n",
       "417                      Niecy Nash Has A Prince Story  late night\n",
       "418        Shawn Mendes: Perfectly Wrong #LateLateShow  late night\n",
       "419  Hilary Duff Is Having a Baby Girl and Her Son ...  late night\n",
       "420  Drop the Mic w/ Ashton Kutcher & Sean Diddy Combs  late night\n",
       "\n",
       "[421 rows x 2 columns]"
      ]
     },
     "execution_count": 136,
     "metadata": {},
     "output_type": "execute_result"
    }
   ],
   "source": [
    "#Convert it to DataFrame to display results\n",
    "videos_by_tag_df = pd.read_sql(videos_by_tag.statement, engine )\n",
    "videos_by_tag_df"
   ]
  },
  {
   "cell_type": "code",
   "execution_count": null,
   "metadata": {},
   "outputs": [],
   "source": []
  }
 ],
 "metadata": {
  "kernelspec": {
   "display_name": "Python 3",
   "language": "python",
   "name": "python3"
  },
  "language_info": {
   "codemirror_mode": {
    "name": "ipython",
    "version": 3
   },
   "file_extension": ".py",
   "mimetype": "text/x-python",
   "name": "python",
   "nbconvert_exporter": "python",
   "pygments_lexer": "ipython3",
   "version": "3.8.3"
  }
 },
 "nbformat": 4,
 "nbformat_minor": 4
}
